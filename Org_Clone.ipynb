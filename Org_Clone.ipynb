from arcgis.gis import GIS
from IPython.display import display
from getpass import getpass

sourceOrg = GIS("https://ourcityc.maps.arcgis.com/", "ypotawsky_ourcityc", "Ypotawsky88!")
destOrg = GIS("https://government.maps.arcgis.com",  client_id="7Rk12oR3HAmUytxE")
print("Logged in as: " + sourceOrg.properties.user.username)
print("Logged in as: " + destOrg.properties.user.username)


orig_userid = "ypotawsky_ourcityc"
new_userid = "YPotawsky@esri.com_government"

#capture/print information about sourceOrg User
sourceUser = sourceOrg.users.get(orig_userid)
newUser = destOrg.users.get(new_userid)

usergroups = sourceUser['groups']

for group in usergroups:
    grp = sourceOrg.groups.get(group['id'])

itemId = sourceOrg.content.get("458e99556ee347198cc34116e7c1f829")
print(itemId)

#define a function to instantiate the list as the ContentManager class clone_items method requires an input list param.
def createList():
    lis = []
    lis.append(itemId)
createList()


#function that copies item id into the previously created list
def copyItem():
    destOrg.content.clone_items(lis, copy_data=True)
copyItem()

username = input("What is your username?")
print(username)

"""
usercontent = orig_userid.items()

folders = sourceUser.folders
for item in usercontent:
    try:
        item.reassign_to(new_userid)
    except Exception as e:
        print("Item may have been already assigned to the user.")

for folder in folders:
    destOrg.content.create_folder("Test", new_userid)
    folderitems = sourceUser.items()
    for item in folderitems:
        item.reassign_to(new_userid,"Test")
"""
        