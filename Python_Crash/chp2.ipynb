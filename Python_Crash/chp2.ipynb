{
 "cells": [
  {
   "cell_type": "code",
   "execution_count": 6,
   "metadata": {},
   "outputs": [
    {
     "name": "stdout",
     "output_type": "stream",
     "text": [
      "e\n"
     ]
    }
   ],
   "source": [
    "name = \"South Mountains State Park\"\n",
    "#print(name.title())\n",
    "print(name[20])"
   ]
  },
  {
   "cell_type": "code",
   "execution_count": 5,
   "metadata": {},
   "outputs": [
    {
     "name": "stdout",
     "output_type": "stream",
     "text": [
      "Hibriten & Timbered Ridge\n"
     ]
    }
   ],
   "source": [
    "peak1 = \"Hibriten   \"\n",
    "peak2 = \"Timbered Ridge\"\n",
    "print(f\"{peak1.rstrip()} & {peak2}\")\n"
   ]
  },
  {
   "cell_type": "code",
   "execution_count": 1,
   "metadata": {},
   "outputs": [
    {
     "data": {
      "text/plain": [
       "dict_values(['Phillips Branch', 2800])"
      ]
     },
     "execution_count": 1,
     "metadata": {},
     "output_type": "execute_result"
    }
   ],
   "source": [
    "dict = {\n",
    "    \"Stream\": \"Phillips Branch\",\n",
    "    \"Elevation\": 2800\n",
    "}\n",
    "\n",
    "dict.values()"
   ]
  },
  {
   "cell_type": "code",
   "execution_count": 1,
   "metadata": {},
   "outputs": [
    {
     "data": {
      "text/plain": [
       "{0: [2, 4, 6],\n",
       " 1: [2, 4, 6],\n",
       " 2: [2, 4, 6],\n",
       " 3: [2, 4, 6],\n",
       " 4: [2, 4, 6],\n",
       " 5: [2, 4, 6],\n",
       " 6: [2, 4, 6],\n",
       " 7: [2, 4, 6],\n",
       " 8: [2, 4, 6],\n",
       " 9: [2, 4, 6]}"
      ]
     },
     "execution_count": 1,
     "metadata": {},
     "output_type": "execute_result"
    }
   ],
   "source": [
    "lisItem = [2, 4, 6]\n",
    "\n",
    "comp = {x:lisItem for x  in range(10)}\n",
    "comp\n",
    "\n"
   ]
  },
  {
   "cell_type": "code",
   "execution_count": 1,
   "metadata": {},
   "outputs": [],
   "source": [
    "import netCDF4\n",
    "import os\n",
    "import datetime as dt\n",
    "import numpy as np\n",
    "import arcpy\n",
    "import csv\n",
    "\n",
    "# Data path\n",
    "data_path = r'C:\\GIS_Data\\Raster_Data\\NetCDF\\netcdf_blog'\n",
    "\n",
    "# Create NetCDF File\n",
    "output_nc = os.path.join(data_path, 'ETAmazon_20200406.nc')\n",
    "nc = netCDF4.Dataset(output_nc, 'w')"
   ]
  },
  {
   "cell_type": "code",
   "execution_count": 2,
   "metadata": {},
   "outputs": [],
   "source": [
    "# Global attributes\n",
    "nc.title = 'ET-Amazon'\n",
    "nc.summary = ('Actual monthly evapotranspiration in Rondonia, Brazil '\n",
    "              'for June 2005, 2009, and 2013')\n",
    "nc.keywords = 'Evapotranspiration, Amazon, Water cycle'\n",
    "nc.license = ('This work is licensed under a Creative Commons '\n",
    "              'Attribution 4.0 International License.')\n",
    "nc.references = ('Paca, V.H., Espinoza-Davalos, G.E., Hessels, T.M., '\n",
    "                 'Moreira, D., Comair, G.F., Bastiaanssen, W. (2019). '\n",
    "                 'The Spatial Variability of Actual Evapotranspiration '\n",
    "                 'Across the Amazon River Basin Based on Remote Sensing '\n",
    "                 'Models Validated with Flux-Towers. Ecological Processes. '\n",
    "                 '8(1), 6. https://doi.org/10.1186/s13717-019-0158-8')\n",
    "nc.source = 'https://www.hydroshare.org/resource/24792a48a6394dcba52da62fa324ae40/'\n",
    "nc.Conventions = 'CF-1.6'\n",
    "nc.institution = 'Esri'\n",
    "nc.history = '{0} creation of ET-Amazon netcdf file.'.format(\n",
    "              dt.datetime.now().strftime(\"%Y-%m-%d\")\n",
    "             )"
   ]
  },
  {
   "cell_type": "code",
   "execution_count": 3,
   "metadata": {},
   "outputs": [],
   "source": [
    "# Create dimensions\n",
    "lat_dim = nc.createDimension('latitude', 176)\n",
    "lon_dim = nc.createDimension('longitude', 244)\n",
    "tim_dim = nc.createDimension('time', 3)"
   ]
  },
  {
   "cell_type": "code",
   "execution_count": 4,
   "metadata": {},
   "outputs": [],
   "source": [
    "# Create variables\n",
    "lat_var = nc.createVariable('latitude', np.float64, ('latitude'))\n",
    "lat_var.units = 'degrees_north'\n",
    "lat_var.standard_name = 'latitude'\n",
    "lat_var.axis = 'Y'\n",
    "\n",
    "lon_var = nc.createVariable('longitude', np.float64, ('longitude'))\n",
    "lon_var.units = 'degrees_east'\n",
    "lon_var.standard_name = 'longitude'\n",
    "lon_var.axis = 'X'\n",
    "\n",
    "time_var = nc.createVariable('time', np.int32, ('time'))\n",
    "time_var.standard_name = 'time'\n",
    "time_var.calendar = 'gregorian'\n",
    "time_var.time_step = 'Monthly'\n",
    "time_var.units = 'Seconds since 1970-01-01 00:00:00'\n",
    "time_var.axis = 'T'\n",
    "\n",
    "crs_var = nc.createVariable('crs', np.int8, ())\n",
    "crs_var.standard_name = 'crs'\n",
    "crs_var.grid_mapping_name = 'latitude_longitude'\n",
    "crs_var.crs_wkt = (\"GEOGCS['GCS_WGS_1984',DATUM['D_WGS_1984',\"\n",
    "                   \"SPHEROID['WGS_1984',6378137.0,298.257223563]],\"\n",
    "                   \"PRIMEM['Greenwich',0.0],\"\n",
    "                   \"UNIT['Degree',0.0174532925199433]]\")\n",
    "\n",
    "et_var = nc.createVariable('ET', np.int16, ('time', 'latitude', 'longitude'),\n",
    "                           fill_value=9999)\n",
    "et_var.units = 'mm/month'\n",
    "et_var.long_name = 'Actual Evapotranspiration'\n",
    "et_var.short_name = 'ET'\n",
    "et_var.grid_mapping = 'crs'"
   ]
  },
  {
   "cell_type": "code",
   "execution_count": 5,
   "metadata": {},
   "outputs": [],
   "source": [
    "# Load values: time\n",
    "date_200506 = int((dt.datetime(2005,6,1) - dt.datetime(1970,1,1)).total_seconds())\n",
    "date_200906 = int((dt.datetime(2009,6,1) - dt.datetime(1970,1,1)).total_seconds())\n",
    "date_201306 = int((dt.datetime(2013,6,1) - dt.datetime(1970,1,1)).total_seconds())\n",
    "time_values = [date_200506, date_200906, date_201306]\n",
    "time_var[:] = time_values"
   ]
  },
  {
   "cell_type": "code",
   "execution_count": 6,
   "metadata": {},
   "outputs": [],
   "source": [
    "# Load values: latitude and longitude\n",
    "lat_values = np.arange(-9.6491667 - 0.0025/2, -10.0891667, -0.0025)\n",
    "lon_values = np.arange(-64.735 + 0.0025/2, -64.125, 0.0025)\n",
    "lat_var[:] = lat_values\n",
    "lon_var[:] = lon_values"
   ]
  },
  {
   "cell_type": "code",
   "execution_count": 7,
   "metadata": {},
   "outputs": [],
   "source": [
    "# Load ET values from raster\n",
    "ras_201306 = os.path.join(data_path, 'ETAmazon_201306.tif')\n",
    "raslyr_201306 = arcpy.Raster(ras_201306)\n",
    "array_201306 = raslyr_201306.read()\n",
    "et_var[2, :, :] = array_201306[:, :, 0]"
   ]
  },
  {
   "cell_type": "code",
   "execution_count": 8,
   "metadata": {},
   "outputs": [],
   "source": [
    "# Load ET values from raster\n",
    "ras_201306 = os.path.join(data_path, 'ETAmazon_201306.tif')\n",
    "array_201306 = arcpy.RasterToNumPyArray(ras_201306)\n",
    "et_var[2, :, :] = array_201306"
   ]
  },
  {
   "cell_type": "code",
   "execution_count": 9,
   "metadata": {},
   "outputs": [],
   "source": [
    "# Load ET values from point shapefile\n",
    "shp_200906 = os.path.join(data_path, 'ETAmazon_200906.shp')\n",
    "with arcpy.da.SearchCursor(shp_200906, ['SHAPE@X', 'SHAPE@Y', 'ET']) as cursor:\n",
    "    for row in cursor:\n",
    "        i = (np.abs(lon_values - row[0])).argmin()\n",
    "        j = (np.abs(lat_values - row[1])).argmin()\n",
    "        et_var[1, j, i] = row[2]"
   ]
  },
  {
   "cell_type": "code",
   "execution_count": 10,
   "metadata": {},
   "outputs": [],
   "source": [
    "# Load ET values from csv\n",
    "file_200806 = os.path.join(data_path, 'ETAmazon_200506.csv')\n",
    "with open(file_200806, 'r') as f:\n",
    "    reader = csv.DictReader(f)\n",
    "    for line in reader:\n",
    "        m = (np.abs(lon_values - float(line['longitude']))).argmin()\n",
    "        n = (np.abs(lat_values - float(line['latitude']))).argmin()\n",
    "        et_var[0, n, m] = line['ET']"
   ]
  },
  {
   "cell_type": "code",
   "execution_count": 11,
   "metadata": {},
   "outputs": [],
   "source": [
    "nc.close()"
   ]
  },
  {
   "cell_type": "code",
   "execution_count": null,
   "metadata": {},
   "outputs": [],
   "source": []
  }
 ],
 "metadata": {
  "interpreter": {
   "hash": "e3252ac928ff22536cc73b2b3d1cfa789159e7d22e22af305ee7240eeefa4626"
  },
  "kernelspec": {
   "display_name": "Python 3.8.5 64-bit ('GISAPI': conda)",
   "language": "python",
   "name": "python3"
  },
  "language_info": {
   "codemirror_mode": {
    "name": "ipython",
    "version": 3
   },
   "file_extension": ".py",
   "mimetype": "text/x-python",
   "name": "python",
   "nbconvert_exporter": "python",
   "pygments_lexer": "ipython3",
   "version": "3.7.9"
  },
  "orig_nbformat": 2
 },
 "nbformat": 4,
 "nbformat_minor": 2
}
