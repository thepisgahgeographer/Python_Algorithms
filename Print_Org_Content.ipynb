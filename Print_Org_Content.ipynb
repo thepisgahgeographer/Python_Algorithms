{
 "cells": [
  {
   "cell_type": "code",
   "execution_count": null,
   "metadata": {},
   "outputs": [],
   "source": [
    "from arcgis.gis import GIS\n",
    "from getpass import getpass\n",
    "\n",
    "uriS = input(\"What is the soure AGOL or Portal url: \")\n",
    "unS = input(\"What is the source GIS Username: \")\n",
    "\n",
    "def authSource():\n",
    "    global sourceOrg\n",
    "    sourceOrg = GIS(uriS, unS)\n",
    "    print(\"Logged in as: \" + sourceOrg.properties.user.username)\n",
    "authSource()"
   ]
  },
  {
   "cell_type": "code",
   "execution_count": null,
   "metadata": {},
   "outputs": [],
   "source": [
    "orig_userid = unS\n",
    "source_user = sourceOrg.users.search(orig_userid)\n",
    "\n",
    "source_items_by_id = {}\n",
    "for user in source_user:\n",
    "    num_items = 0\n",
    "    num_folders = 0\n",
    "    print(\"Collecting item ids for {}\".format(user.username) + '\\n')\n",
    "    user_content = user.items()\n",
    "    \n",
    "    # Get item ids from root folder first\n",
    "    for item in user_content:\n",
    "        num_items += 1\n",
    "        source_items_by_id[item.itemid] = item \n",
    "        print(\"Item ID: {} Item Name: {}\".format(item.id, item))"
   ]
  }
 ],
 "metadata": {
  "kernelspec": {
   "display_name": "Python 3",
   "language": "python",
   "name": "python3"
  },
  "language_info": {
   "codemirror_mode": {
    "name": "ipython",
    "version": 3
   },
   "file_extension": ".py",
   "mimetype": "text/x-python",
   "name": "python",
   "nbconvert_exporter": "python",
   "pygments_lexer": "ipython3",
   "version": "3.6.9"
  }
 },
 "nbformat": 4,
 "nbformat_minor": 2
}
