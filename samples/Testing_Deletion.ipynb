{
 "metadata": {
  "language_info": {
   "codemirror_mode": {
    "name": "ipython",
    "version": 3
   },
   "file_extension": ".py",
   "mimetype": "text/x-python",
   "name": "python",
   "nbconvert_exporter": "python",
   "pygments_lexer": "ipython3",
   "version": 3
  },
  "orig_nbformat": 2
 },
 "nbformat": 4,
 "nbformat_minor": 2,
 "cells": [
  {
   "cell_type": "code",
   "execution_count": null,
   "metadata": {},
   "outputs": [],
   "source": [
    "from arcgis.gis import GIS\n",
    "from IPython.display import display\n",
    "from getpass import getpass\n",
    "import IPython\n",
    "import datetime\n",
    "\n",
    "uriS = input(\"What is the soure AGOL or Portal url: \")\n",
    "unS = input(\"What is the source GIS Username: \")\n",
    "\n",
    "def authSource():\n",
    "    global sourceOrg\n",
    "    sourceOrg = GIS(uriS, unS)\n",
    "    print(\"Logged in as: \" + sourceOrg.properties.user.username)\n",
    "authSource()\n"
   ]
  },
  {
   "cell_type": "code",
   "execution_count": null,
   "metadata": {},
   "outputs": [],
   "source": [
    "orig_userid = unS\n",
    "sourceUser = sourceOrg.users.get(orig_userid)\n",
    "\n",
    "source_user = sourceOrg.users.search(orig_userid)\n"
   ]
  },
  {
   "cell_type": "code",
   "execution_count": null,
   "metadata": {},
   "outputs": [],
   "source": [
    "source_items_by_id = {}\n",
    "for user in source_user:\n",
    "    num_items = 0\n",
    "    num_folders = 0\n",
    "    print(\"Collecting item ids for {}\".format(user.username) + '\\n')\n",
    "    user_content = user.items()\n",
    "    \n",
    "    # Get item ids from root folder first\n",
    "    for item in user_content:\n",
    "        num_items += 1\n",
    "        source_items_by_id[item.itemid] = item \n",
    "        print(\"Item ID: {} Item Name: {}\".format(item.id, item))"
   ]
  },
  {
   "cell_type": "code",
   "execution_count": null,
   "metadata": {},
   "outputs": [],
   "source": [
    "item1 = gis.content.get('itemId12345')\n",
    "item1.delete()\n",
    "\n",
    "#sharing property\n",
    "\n",
    "itemlist = []\n",
    "\n",
    "#append all item ids into this list\n",
    "\n",
    "print(item1.shared_with)"
   ]
  }
 ]
}