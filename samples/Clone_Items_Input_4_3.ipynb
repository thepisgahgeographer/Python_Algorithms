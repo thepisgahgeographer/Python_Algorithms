{
 "cells": [
  {
   "cell_type": "markdown",
   "metadata": {},
   "source": [
    "# Copy Items From one Organization to Another\n",
    "### This Notebook contains samples for connecting to either ArcGIS Online or Portal for ArcGIS as the source GIS from which copied data will originate. A destination GIS will also be required as the location where the cloned items will be placed. Only run the code block that applies for your scenario.  "
   ]
  },
  {
   "cell_type": "markdown",
   "metadata": {},
   "source": [
    "### Connecting to ArcGIS Online or Portal for ArcGIS as the source GIS.\n",
    "\n",
    "##### You will be prompted to input the url, username, and password for the Source AGOL Organization or Portal Account. "
   ]
  },
  {
   "cell_type": "code",
   "execution_count": 1,
   "metadata": {},
   "outputs": [
    {
     "name": "stdout",
     "output_type": "stream",
     "text": [
      "What is the soure AGOL or Portal url: https://ourcityc.maps.arcgis.com\n",
      "What is the source GIS Username: ypotawsky_ourcityc\n",
      "Enter password: ········\n",
      "Logged in as: ypotawsky_ourcityc\n"
     ]
    }
   ],
   "source": [
    "from arcgis.gis import GIS\n",
    "from IPython.display import display\n",
    "from getpass import getpass\n",
    "import IPython\n",
    "import datetime\n",
    "\n",
    "uriS = input(\"What is the soure AGOL or Portal url: \")\n",
    "unS = input(\"What is the source GIS Username: \")\n",
    "\n",
    "def authSource():\n",
    "    global sourceOrg\n",
    "    sourceOrg = GIS(uriS, unS)\n",
    "    print(\"Logged in as: \" + sourceOrg.properties.user.username)\n",
    "authSource()"
   ]
  },
  {
   "cell_type": "markdown",
   "metadata": {},
   "source": [
    "### To use government.maps.arcgis.com as the destination GIS, run the cell below otherwise skip to the next code block."
   ]
  },
  {
   "cell_type": "markdown",
   "metadata": {},
   "source": [
    "#### After running the next cell, a browser window will launch requesting an authentication string via SAML as Enterprise Logins are enforced in government.maps.arcgis.com. Copy the string and paste it directly into the notebook. \n",
    "\n",
    "![oAuth_Approval.jpg](attachment:oAuth_Approval.jpg)\n",
    "\n"
   ]
  },
  {
   "cell_type": "code",
   "execution_count": null,
   "metadata": {},
   "outputs": [],
   "source": [
    "destOrg = GIS(\"https://government.maps.arcgis.com\", client_id = \"YaMKYbXuSkd02G9i\")\n",
    "print(\"Logged in as: \" + destOrg.properties.user.username)\n",
    "\n",
    "orig_userid = unS\n",
    "new_userid  =  unS\n",
    "\n",
    "sourceUser = sourceOrg.users.get(orig_userid)\n",
    "newUser = destOrg.users.get(new_userid)\n",
    "\n",
    "source_user = sourceOrg.users.search(orig_userid)\n",
    "dest_user = destOrg.users.search(new_userid)\n"
   ]
  },
  {
   "cell_type": "markdown",
   "metadata": {},
   "source": [
    "### Connecting to ArcGIS Online or Portal for ArcGIS as the Destination GIS. \n",
    "\n",
    "##### You will be prompted to input the url, username, and password for the Destination AGOL Organization or Portal Account. "
   ]
  },
  {
   "cell_type": "code",
   "execution_count": 2,
   "metadata": {},
   "outputs": [
    {
     "name": "stdout",
     "output_type": "stream",
     "text": [
      "What is the destination AGOL or Portal url: https://thepisgahgeo.maps.arcgis.com\n",
      "What is the destination GIS Username: Thepisgahgeographer\n",
      "Enter password: ········\n",
      "Logged in as: Thepisgahgeographer\n"
     ]
    }
   ],
   "source": [
    "uriD = input(\"What is the destination AGOL or Portal url: \")\n",
    "unD = input(\"What is the destination GIS Username: \")\n",
    "\n",
    "def authDest():\n",
    "    global destOrg\n",
    "    destOrg = GIS(uriD, unD)\n",
    "    print(\"Logged in as: \" + destOrg.properties.user.username)\n",
    "authDest()\n",
    "\n",
    "orig_userid = unS\n",
    "new_userid  =  unD\n",
    "\n",
    "sourceUser = sourceOrg.users.get(orig_userid)\n",
    "newUser = destOrg.users.get(new_userid)\n",
    "\n",
    "source_user = sourceOrg.users.search(orig_userid)\n",
    "dest_user = destOrg.users.search(new_userid)"
   ]
  },
  {
   "cell_type": "markdown",
   "metadata": {},
   "source": [
    "#### This function will search for Content within your source organization and output these to the Jupyter console. Consult this output list to determine the Item 'ID' you wish to copy."
   ]
  },
  {
   "cell_type": "code",
   "execution_count": 3,
   "metadata": {},
   "outputs": [
    {
     "name": "stdout",
     "output_type": "stream",
     "text": [
      "Collecting item ids for ypotawsky_ourcityc\n",
      "\n",
      "Item ID: 849ce2dae1494236a9f7ccc56cc74ef4 Item Name: <Item title:\"SCARC Conference 2019\" type:Hub Initiative owner:ypotawsky_ourcityc>\n",
      "Item ID: 9634b858b7f14adb8c7d1dad98aed1cc Item Name: <Item title:\"SCARC Conference\" type:Hub Site Application owner:ypotawsky_ourcityc>\n",
      "Item ID: 3c102b4832f64ad7bc76e6d02967a5a8 Item Name: <Item title:\"Esri Elections Offerings\" type:StoryMap owner:ypotawsky_ourcityc>\n",
      "Item ID: 9bebc73e61f140a3a336bdfb5265afbd Item Name: <Item title:\"Florence_Locations\" type:Service Definition owner:ypotawsky_ourcityc>\n",
      "Item ID: 080fbed731da425d9d570039f51fee93 Item Name: <Item title:\"Florence_Locations\" type:Feature Layer Collection owner:ypotawsky_ourcityc>\n",
      "Item ID: 3f81f2bc439c41a7a75f0ed8217a4041 Item Name: <Item title:\"Florence_Downtown_Location\" type:Web Map owner:ypotawsky_ourcityc>\n",
      "Item ID: 6617064b29e34b52af4b0177fbabc0c6 Item Name: <Item title:\"SCARC Conference Attendees\" type:Dashboard owner:ypotawsky_ourcityc>\n",
      "Item ID: 92f541bc08b8484086f2ccaffdf0c001 Item Name: <Item title:\"SCARC Web App\" type:Web Mapping Application owner:ypotawsky_ourcityc>\n",
      "Item ID: 53056ec98a394decb695d9de4eec8d1d Item Name: <Item title:\"SCARC Web App\" type:Code Attachment owner:ypotawsky_ourcityc>\n",
      "Item ID: 05048bb3856b4c3a97fc435a935a7c73 Item Name: <Item title:\"Hub SC\" type:Web Mapping Application owner:ypotawsky_ourcityc>\n",
      "Item ID: 1bde9057fd9a4eefa0c2d5e4adbb8ef5 Item Name: <Item title:\"Hub_Demo\" type:Code Attachment owner:ypotawsky_ourcityc>\n",
      "Item ID: bd03a605e3424dc9a8abe7d7bacebced Item Name: <Item title:\"Hilton Head Public Awareness\" type:Hub Site Application owner:ypotawsky_ourcityc>\n",
      "Item ID: 2b820fc484ec4bccb6d0426f0c2d2748 Item Name: <Item title:\"Default Story Map Template\" type:Web Mapping Application owner:ypotawsky_ourcityc>\n",
      "Item ID: c02f94204dce49f68c2f36082e9593eb Item Name: <Item title:\"Waterfront_Patches\" type:Service Definition owner:ypotawsky_ourcityc>\n",
      "Item ID: 50956fc3d9e04bc4b9fdf404e3f3f818 Item Name: <Item title:\"Waterfront_Patches\" type:Feature Layer Collection owner:ypotawsky_ourcityc>\n",
      "Item ID: 499f799a498c46cc80dfd3f941539a51 Item Name: <Item title:\"Waterfront_Patches\" type:Scene Layer owner:ypotawsky_ourcityc>\n",
      "Item ID: cd08f04ad2b54be1a154bb37e19156ef Item Name: <Item title:\"Watershed\" type:Service Definition owner:ypotawsky_ourcityc>\n",
      "Item ID: ccc115e4497f4205b50b0835d71a84d4 Item Name: <Item title:\"Watershed\" type:Feature Layer Collection owner:ypotawsky_ourcityc>\n",
      "Item ID: 17fbec3d4e7049b8a112d486dc1042de Item Name: <Item title:\"SCARC Presenter Submission\" type:Web Mapping Application owner:ypotawsky_ourcityc>\n",
      "Item ID: d408f46431f543bf9344f57dbdd29c03 Item Name: <Item title:\"HIlton Head Tourism\" type:Hub Site Application owner:ypotawsky_ourcityc>\n",
      "Item ID: f4e3b2a4e7414571980cbbcd7c809bd5 Item Name: <Item title:\"Yuri_3D\" type:Scene Package owner:ypotawsky_ourcityc>\n",
      "Item ID: 428f60b0495b4424ad86895e40d2d300 Item Name: <Item title:\"Yuri_3D\" type:Scene Layer owner:ypotawsky_ourcityc>\n",
      "Item ID: 100209c2b1bf49d493316e4fe61391ca Item Name: <Item title:\"Hilton_Head_Sub_Parcel\" type:Feature Layer Collection owner:ypotawsky_ourcityc>\n",
      "Item ID: f72d6668f6574e2fa0fcec3111462a0a Item Name: <Item title:\"ZonesHH\" type:Feature Layer Collection owner:ypotawsky_ourcityc>\n",
      "Item ID: 4fbe9df2f15d41628636189a5c54becc Item Name: <Item title:\"HIlton_Head\" type:Web Scene owner:ypotawsky_ourcityc>\n",
      "Item ID: 1f318288da014a8da97eff981869a3cc Item Name: <Item title:\"Communicating          the value of GIS\" type:StoryMap owner:ypotawsky_ourcityc>\n",
      "Item ID: f7b4010b05fb43f3bd54840af35ed21d Item Name: <Item title:\"ArcGIS Hub\" type:StoryMap owner:ypotawsky_ourcityc>\n",
      "Item ID: b003c31fd49e481993bf0ee9ed655107 Item Name: <Item title:\"Brushy_Pts\" type:Service Definition owner:ypotawsky_ourcityc>\n",
      "Item ID: a65747adc0574e638a23ee2073a521ac Item Name: <Item title:\"Brushy_Pts\" type:Feature Layer Collection owner:ypotawsky_ourcityc>\n",
      "Item ID: ed9d237d0f584572b9ab2940c0bef3a6 Item Name: <Item title:\"Collector_Test\" type:Web Map owner:ypotawsky_ourcityc>\n",
      "Item ID: 2a0bec9647ea404995290dc93831d932 Item Name: <Item title:\"World_Imagery\" type:Map Image Layer owner:ypotawsky_ourcityc>\n",
      "Item ID: d035acc9ffbf409597790d78f3ce97cc Item Name: <Item title:\"Meck_2015\" type:Compact Tile Package owner:ypotawsky_ourcityc>\n",
      "Item ID: 04b7663245e14e85ad0004a14753a266 Item Name: <Item title:\"Meck_2015\" type:Imagery Layer owner:ypotawsky_ourcityc>\n",
      "Item ID: 1bdacffe4c3b4a41b600a5d8ad1fce86 Item Name: <Item title:\"test\" type:Web Mapping Application owner:ypotawsky_ourcityc>\n",
      "Item ID: 1fe5c4657d094e7bac060deb85b3d888 Item Name: <Item title:\"Watersheds\" type:Web Map owner:ypotawsky_ourcityc>\n",
      "Item ID: cc339569e693447c83d136c1aba24c5f Item Name: <Item title:\"SCARC Conference 2019 Events\" type:Feature Layer Collection owner:ypotawsky_ourcityc>\n",
      "Item ID: ecbfc85ec44f4f1db80e6b8ad4900e57 Item Name: <Item title:\"\" type:StoryMap owner:ypotawsky_ourcityc>\n",
      "Item ID: b3df697afd894946a902d33debd30bce Item Name: <Item title:\"ArcGIS for Public Works \" type:StoryMap owner:ypotawsky_ourcityc>\n",
      "Item ID: 458e99556ee347198cc34116e7c1f829 Item Name: <Item title:\"USFS_Nantahala_Pisgah_Trails_updated\" type:Feature Layer Collection owner:ypotawsky_ourcityc>\n"
     ]
    }
   ],
   "source": [
    "source_items_by_id = {}\n",
    "for user in source_user:\n",
    "    num_items = 0\n",
    "    num_folders = 0\n",
    "    print(\"Collecting item ids for {}\".format(user.username) + '\\n')\n",
    "    user_content = user.items()\n",
    "    \n",
    "    # Get item ids from root folder first\n",
    "    for item in user_content:\n",
    "        num_items += 1\n",
    "        source_items_by_id[item.itemid] = item \n",
    "        print(\"Item ID: {} Item Name: {}\".format(item.id, item))\n",
    "           "
   ]
  },
  {
   "cell_type": "markdown",
   "metadata": {},
   "source": [
    "#### You will be prompted for the item id which can be obtained from the source agol organization."
   ]
  },
  {
   "cell_type": "code",
   "execution_count": 37,
   "metadata": {},
   "outputs": [
    {
     "name": "stdout",
     "output_type": "stream",
     "text": [
      "What is the Item ID: ed9d237d0f584572b9ab2940c0bef3a6\n",
      "The copy operation for the following Item: <Item title:\"Collector_Test\" type:Web Map owner:ypotawsky_ourcityc> has started @ 16:14:12\n",
      "\n",
      "Item <Item title:\"Collector_Test\" type:Web Map owner:ypotawsky_ourcityc> has been copied successfully\n"
     ]
    }
   ],
   "source": [
    "a = input(\"What is the Item ID: \")\n",
    "def item(a):\n",
    "    global itemId\n",
    "    itemId = sourceOrg.content.get(a)\n",
    "item(a)\n",
    "\n",
    "#define a function to instantiate the list as the ContentManager class clone_items method requires an input list param.\n",
    "def createList():\n",
    "    global li\n",
    "    li = []\n",
    "    li.append(itemId)\n",
    "createList()\n",
    "\n",
    "def copyItem():\n",
    "    t = time.localtime()\n",
    "    current_time = time.strftime(\"%H:%M:%S\", t)\n",
    "    print(\"The copy operation for the following Item: {} has started @ {}\".format(itemId, current_time) + '\\n')\n",
    "    copy = destOrg.content\n",
    "    copy.clone_items(li, copy_data=True)\n",
    "\n",
    "try:\n",
    "    copyItem()\n",
    "    print(\"Item {} has been copied successfully.\".format(itemId))\n",
    "    \n",
    "except:\n",
    "    print(\"There was an error with the copy process\")"
   ]
  },
  {
   "cell_type": "code",
   "execution_count": null,
   "metadata": {},
   "outputs": [],
   "source": []
  }
 ],
 "metadata": {
  "esriNotebookRuntime": {
   "notebookRuntimeName": "ArcGIS Notebook Python 3 Advanced",
   "notebookRuntimeVersion": "3.0"
  },
  "kernelspec": {
   "display_name": "Python 3",
   "language": "python",
   "name": "python3"
  },
  "language_info": {
   "codemirror_mode": {
    "name": "ipython",
    "version": 3
   },
   "file_extension": ".py",
   "mimetype": "text/x-python",
   "name": "python",
   "nbconvert_exporter": "python",
   "pygments_lexer": "ipython3",
   "version": "3.6.9"
  }
 },
 "nbformat": 4,
 "nbformat_minor": 2
}
