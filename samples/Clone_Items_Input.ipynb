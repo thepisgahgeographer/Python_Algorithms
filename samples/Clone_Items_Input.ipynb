{
 "cells": [
  {
   "cell_type": "code",
   "execution_count": null,
   "metadata": {},
   "outputs": [],
   "source": [
    "from arcgis.gis import GIS\n",
    "from IPython.display import display\n",
    "\n",
    "\n",
    "uriS = \"https://ourcityc.maps.arcgis.com\"\n",
    "unS = input(\"What is the source org Username: \")\n",
    "pwS = input(\"What is the source org Password: \")\n",
    "\n",
    "def authSource():\n",
    "    sourceOrg = GIS(uriS, unS, pwS)\n",
    "    print(\"Logged in as: \" + sourceOrg.properties.user.username)\n",
    "authSource()\n",
    "\n",
    "\n",
    "\n",
    "uriD= \"https://government.maps.arcgis.com\"\n",
    "clientID = input(\"What is the application client ID: \")\n",
    "\n",
    "def authDest():\n",
    "    global destOrg\n",
    "    destOrg = GIS(uriD, clientID)\n",
    "authDest()\n",
    "print(\"Logged in as: \" + destOrg.properties.user.username)\n",
    "\n",
    "\n",
    "\n",
    "orig_userid =  sourceOrg.properties.user.username\n",
    "new_userid = destOrg.properties.user.username\n",
    "\n",
    "#capture/print information about sourceOrg User\n",
    "sourceUser = sourceOrg.users.get(orig_userid)\n",
    "newUser = destOrg.users.get(new_userid)\n",
    "\n",
    "usergroups = sourceUser['groups']\n",
    "\n",
    "for group in usergroups:\n",
    "    grp = sourceOrg.groups.get(group['id'])\n",
    "\n",
    "a = input(\"What is the Item ID: \")\n",
    "def item(a):\n",
    "    itemId = sourceOrg.content.get(a)\n",
    "    print(itemId)\n",
    "item()\n",
    "\n",
    "#define a function to instantiate the list as the ContentManager class clone_items method requires an input list param.\n",
    "def createList():\n",
    "    li = []\n",
    "    li.append(itemId)\n",
    "createList()\n",
    "\n",
    "\n",
    "#function that copies item id into the previously created list\n",
    "def copyItem():\n",
    "    destOrg.content.clone_items(li, copy_data=True)\n",
    "copyItem()\n",
    "\n",
    "\n"
   ]
  },
  {
   "cell_type": "code",
   "execution_count": null,
   "metadata": {},
   "outputs": [],
   "source": []
  }
 ],
 "metadata": {
  "kernelspec": {
   "display_name": "Python 3",
   "language": "python",
   "name": "python3"
  },
  "language_info": {
   "codemirror_mode": {
    "name": "ipython",
    "version": 3
   },
   "file_extension": ".py",
   "mimetype": "text/x-python",
   "name": "python",
   "nbconvert_exporter": "python",
   "pygments_lexer": "ipython3",
   "version": "3.6.9"
  }
 },
 "nbformat": 4,
 "nbformat_minor": 2
}
