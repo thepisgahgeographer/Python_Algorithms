{
 "cells": [
  {
   "cell_type": "code",
   "execution_count": null,
   "metadata": {},
   "outputs": [],
   "source": [
    "from arcgis.gis import GIS\n",
    "from IPython.display import display\n",
    "\n",
    "\n",
    "def authSource(a, b, c):\n",
    "    a = raw_input(\"What is the source org URL: \")\n",
    "    b = raw_input(\"What is the source org Username: \")\n",
    "    c = raw_input(\"What is the source org Password: \")\n",
    "    sourceOrg = GIS(a, b, c)\n",
    "    return sourceOrg\n",
    "    print(\"Logged in as: \" + sourceOrg.properties.user.username)\n",
    "authSource()\n",
    "    \n",
    "def authDest(a, b):    \n",
    "    a = raw_input(\"What is the destination org URL: \")\n",
    "    b = raw_input(\"What is the application client ID: \")\n",
    "    destOrg = GIS(a, b)\n",
    "    return destOrg\n",
    "    print(\"Logged in as: \" + destOrg.properties.user.username)\n",
    "authDest()\n",
    "\n",
    "\n",
    "orig_userid = input(\"What is your source org id: \") #\"ypotawsky\"\n",
    "new_userid = input(\"What is your target org id: \") #\"ypotawsky\"\n",
    "\n",
    "#capture/print information about sourceOrg User\n",
    "sourceUser = sourceOrg.users.get(orig_userid)\n",
    "newUser = destOrg.users.get(new_userid)\n",
    "\n",
    "usergroups = sourceUser['groups']\n",
    "\n",
    "for group in usergroups:\n",
    "    grp = sourceOrg.groups.get(group['id'])\n",
    "\n",
    "def item(a):\n",
    "    a = raw_input(\"What is the Item ID: \")\n",
    "    itemId = sourceOrg.content.get(a)\n",
    "    print(itemId)\n",
    "\n",
    "#define a function to instantiate the list as the ContentManager class clone_items method requires an input list param.\n",
    "def createList():\n",
    "    li = []\n",
    "    li.append(itemId)\n",
    "createList()\n",
    "\n",
    "\n",
    "#function that copies item id into the previously created list\n",
    "def copyItem():\n",
    "    destOrg.content.clone_items(li, copy_data=True)\n",
    "copyItem()\n",
    "\n",
    "\n"
   ]
  },
  {
   "cell_type": "code",
   "execution_count": null,
   "metadata": {},
   "outputs": [],
   "source": []
  }
 ],
 "metadata": {
  "kernelspec": {
   "display_name": "Python 3",
   "language": "python",
   "name": "python3"
  },
  "language_info": {
   "codemirror_mode": {
    "name": "ipython",
    "version": 3
   },
   "file_extension": ".py",
   "mimetype": "text/x-python",
   "name": "python",
   "nbconvert_exporter": "python",
   "pygments_lexer": "ipython3",
   "version": "3.6.9"
  }
 },
 "nbformat": 4,
 "nbformat_minor": 2
}
