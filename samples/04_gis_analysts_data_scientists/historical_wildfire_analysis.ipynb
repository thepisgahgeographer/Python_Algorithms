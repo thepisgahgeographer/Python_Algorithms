{
 "cells": [
  {
   "cell_type": "markdown",
   "metadata": {},
   "source": [
    "# Historical Wildfire Analysis\n",
    "\n",
    "\n",
    "Spatial wildfire occurrence data, referred to as the **Fire Program Analysis fire-occurrence database (FPA FOD)**, for the United States, 1992-2015 was obtained from https://www.fs.usda.gov/rds/archive/Product/RDS-2013-0009.4/. The dataset contains data on:\n",
    "* 1.88 Million US Wildfires\n",
    "* 24 years of geo-referenced wildfire records"
   ]
  },
  {
   "cell_type": "markdown",
   "metadata": {},
   "source": [
    "### Given this data, can we answer the following questions?\n",
    "* **Are wildfires increasing over time?**\n",
    "* **Where are the fire hot spots?**\n",
    "* **Can Machine Learning categorize the cause of the fire given the size, location and date?**\n",
    "\n",
    "That would give investigators a data driven way to prioritize cases for further investigation."
   ]
  },
  {
   "cell_type": "code",
   "execution_count": 1,
   "metadata": {},
   "outputs": [],
   "source": [
    "from arcgis import *\n",
    "import pandas as pd\n",
    "import numpy as np"
   ]
  },
  {
   "cell_type": "code",
   "execution_count": 2,
   "metadata": {},
   "outputs": [],
   "source": [
    "gis = GIS(profile='deldev.maps')"
   ]
  },
  {
   "cell_type": "code",
   "execution_count": 9,
   "metadata": {},
   "outputs": [],
   "source": [
    "from arcgis.features import GeoAccessor, GeoSeriesAccessor\n",
    "\n",
    "wildfires_df = pd.DataFrame.spatial.from_featureclass(r'C:\\demo\\FPA_FOD_20170508.gdb\\Fires')"
   ]
  },
  {
   "cell_type": "code",
   "execution_count": 10,
   "metadata": {},
   "outputs": [
    {
     "data": {
      "text/plain": [
       "(1880465, 39)"
      ]
     },
     "execution_count": 10,
     "metadata": {},
     "output_type": "execute_result"
    }
   ],
   "source": [
    "wildfires_df.shape"
   ]
  },
  {
   "cell_type": "code",
   "execution_count": 11,
   "metadata": {},
   "outputs": [],
   "source": [
    "df = wildfires_df[['FIRE_YEAR', 'DISCOVERY_DATE', 'DISCOVERY_DOY',\n",
    "       'STAT_CAUSE_DESCR', 'FIRE_SIZE', 'STATE', 'FIPS_CODE', 'FIPS_NAME', 'SHAPE']]"
   ]
  },
  {
   "cell_type": "code",
   "execution_count": 12,
   "metadata": {},
   "outputs": [
    {
     "data": {
      "text/html": [
       "<div>\n",
       "<style>\n",
       "    .dataframe thead tr:only-child th {\n",
       "        text-align: right;\n",
       "    }\n",
       "\n",
       "    .dataframe thead th {\n",
       "        text-align: left;\n",
       "    }\n",
       "\n",
       "    .dataframe tbody tr th {\n",
       "        vertical-align: top;\n",
       "    }\n",
       "</style>\n",
       "<table border=\"1\" class=\"dataframe\">\n",
       "  <thead>\n",
       "    <tr style=\"text-align: right;\">\n",
       "      <th></th>\n",
       "      <th>FIRE_YEAR</th>\n",
       "      <th>DISCOVERY_DATE</th>\n",
       "      <th>DISCOVERY_DOY</th>\n",
       "      <th>STAT_CAUSE_DESCR</th>\n",
       "      <th>FIRE_SIZE</th>\n",
       "      <th>STATE</th>\n",
       "      <th>FIPS_CODE</th>\n",
       "      <th>FIPS_NAME</th>\n",
       "      <th>SHAPE</th>\n",
       "    </tr>\n",
       "  </thead>\n",
       "  <tbody>\n",
       "    <tr>\n",
       "      <th>0</th>\n",
       "      <td>2005</td>\n",
       "      <td>2005-02-02</td>\n",
       "      <td>33</td>\n",
       "      <td>Miscellaneous</td>\n",
       "      <td>0.10</td>\n",
       "      <td>CA</td>\n",
       "      <td>063</td>\n",
       "      <td>Plumas</td>\n",
       "      <td>{'x': -121.00583333000003, 'y': 40.03694443999...</td>\n",
       "    </tr>\n",
       "    <tr>\n",
       "      <th>1</th>\n",
       "      <td>2004</td>\n",
       "      <td>2004-05-12</td>\n",
       "      <td>133</td>\n",
       "      <td>Lightning</td>\n",
       "      <td>0.25</td>\n",
       "      <td>CA</td>\n",
       "      <td>061</td>\n",
       "      <td>Placer</td>\n",
       "      <td>{'x': -120.40444444000002, 'y': 38.93305556000...</td>\n",
       "    </tr>\n",
       "    <tr>\n",
       "      <th>2</th>\n",
       "      <td>2004</td>\n",
       "      <td>2004-05-31</td>\n",
       "      <td>152</td>\n",
       "      <td>Debris Burning</td>\n",
       "      <td>0.10</td>\n",
       "      <td>CA</td>\n",
       "      <td>017</td>\n",
       "      <td>El Dorado</td>\n",
       "      <td>{'x': -120.73555555999997, 'y': 38.98416666999...</td>\n",
       "    </tr>\n",
       "    <tr>\n",
       "      <th>3</th>\n",
       "      <td>2004</td>\n",
       "      <td>2004-06-28</td>\n",
       "      <td>180</td>\n",
       "      <td>Lightning</td>\n",
       "      <td>0.10</td>\n",
       "      <td>CA</td>\n",
       "      <td>003</td>\n",
       "      <td>Alpine</td>\n",
       "      <td>{'x': -119.91333333, 'y': 38.55916666999997, '...</td>\n",
       "    </tr>\n",
       "    <tr>\n",
       "      <th>4</th>\n",
       "      <td>2004</td>\n",
       "      <td>2004-06-28</td>\n",
       "      <td>180</td>\n",
       "      <td>Lightning</td>\n",
       "      <td>0.10</td>\n",
       "      <td>CA</td>\n",
       "      <td>003</td>\n",
       "      <td>Alpine</td>\n",
       "      <td>{'x': -119.93305555999996, 'y': 38.55916666999...</td>\n",
       "    </tr>\n",
       "  </tbody>\n",
       "</table>\n",
       "</div>"
      ],
      "text/plain": [
       "   FIRE_YEAR DISCOVERY_DATE  DISCOVERY_DOY STAT_CAUSE_DESCR  FIRE_SIZE STATE  \\\n",
       "0       2005     2005-02-02             33    Miscellaneous       0.10    CA   \n",
       "1       2004     2004-05-12            133        Lightning       0.25    CA   \n",
       "2       2004     2004-05-31            152   Debris Burning       0.10    CA   \n",
       "3       2004     2004-06-28            180        Lightning       0.10    CA   \n",
       "4       2004     2004-06-28            180        Lightning       0.10    CA   \n",
       "\n",
       "  FIPS_CODE  FIPS_NAME                                              SHAPE  \n",
       "0       063     Plumas  {'x': -121.00583333000003, 'y': 40.03694443999...  \n",
       "1       061     Placer  {'x': -120.40444444000002, 'y': 38.93305556000...  \n",
       "2       017  El Dorado  {'x': -120.73555555999997, 'y': 38.98416666999...  \n",
       "3       003     Alpine  {'x': -119.91333333, 'y': 38.55916666999997, '...  \n",
       "4       003     Alpine  {'x': -119.93305555999996, 'y': 38.55916666999...  "
      ]
     },
     "execution_count": 12,
     "metadata": {},
     "output_type": "execute_result"
    }
   ],
   "source": [
    "df.head()"
   ]
  },
  {
   "cell_type": "markdown",
   "metadata": {
    "heading_collapsed": true
   },
   "source": [
    "### Exploratory Data Analysis"
   ]
  },
  {
   "cell_type": "code",
   "execution_count": 158,
   "metadata": {
    "hidden": true
   },
   "outputs": [],
   "source": [
    "df['x'] = df.SHAPE.apply(lambda g: g['x'])\n",
    "df['y'] = df.SHAPE.apply(lambda g: g['y'])\n",
    "smdf = wildfires_df[['FIRE_YEAR', 'DISCOVERY_DATE', 'DISCOVERY_DOY',\n",
    "       'STAT_CAUSE_DESCR', 'FIRE_SIZE', 'STATE', 'FIPS_CODE', 'FIPS_NAME', 'x', 'y']]\n",
    "smdf.to_pickle('fires.pkl')"
   ]
  },
  {
   "cell_type": "code",
   "execution_count": 135,
   "metadata": {
    "hidden": true
   },
   "outputs": [],
   "source": [
    "pd.options.mode.chained_assignment = None \n",
    "\n",
    "df['MONTH'] = pd.DatetimeIndex(df['DISCOVERY_DATE']).month\n",
    "df['DAY_OF_WEEK'] = df['DISCOVERY_DATE'].dt.dayofweek\n",
    "df_arson = df[df['STAT_CAUSE_DESCR']=='Arson']\n",
    "dfa = df_arson['DAY_OF_WEEK'].value_counts()\n",
    "df_lightning = df[df['STAT_CAUSE_DESCR']=='Lightning']\n",
    "dfl = df_lightning['DAY_OF_WEEK'].value_counts()"
   ]
  },
  {
   "cell_type": "code",
   "execution_count": null,
   "metadata": {
    "hidden": true
   },
   "outputs": [],
   "source": [
    "%matplotlib inline\n",
    "import matplotlib.pyplot as plt\n",
    "\n",
    "plt.style.use('ggplot')\n",
    "sorted_df = df.sort_values('FIRE_YEAR')\n",
    "fire_freq = sorted_df.groupby('FIRE_YEAR').count()\n",
    "x = np.asarray(fire_freq.axes[0])\n",
    "y = np.asarray(df.groupby('FIRE_YEAR').size())"
   ]
  },
  {
   "cell_type": "code",
   "execution_count": 247,
   "metadata": {
    "hidden": true
   },
   "outputs": [
    {
     "data": {
      "text/html": [
       "<div class=\"item_container\" style=\"height: auto; overflow: hidden; border: 1px solid #cfcfcf; border-radius: 2px; background: #f6fafa; line-height: 1.21429em; padding: 10px;\">\n",
       "                    <div class=\"item_left\" style=\"width: 210px; float: left;\">\n",
       "                       <a href='https://deldev.maps.arcgis.com/home/item.html?id=c283ab9ab48648c19539a616fc858243' target='_blank'>\n",
       "                        <img src='http://static.arcgis.com/images/desktopapp.png' class=\"itemThumbnail\">\n",
       "                       </a>\n",
       "                    </div>\n",
       "\n",
       "                    <div class=\"item_right\"     style=\"float: none; width: auto; overflow: hidden;\">\n",
       "                        <a href='https://deldev.maps.arcgis.com/home/item.html?id=c283ab9ab48648c19539a616fc858243' target='_blank'><b>Demographic Profile</b>\n",
       "                        </a>\n",
       "                        <br/><img src='https://deldev.maps.arcgis.com/home/js/jsapi/esri/css/images/item_type_icons/featureshosted16.png' style=\"vertical-align:middle;\">Feature Layer Collection by deldev\n",
       "                        <br/>Last Modified: March 02, 2018\n",
       "                        <br/>0 comments, 0 views\n",
       "                    </div>\n",
       "                </div>\n",
       "                "
      ],
      "text/plain": [
       "<Item title:\"Demographic Profile\" type:Feature Layer Collection owner:deldev>"
      ]
     },
     "execution_count": 247,
     "metadata": {},
     "output_type": "execute_result"
    }
   ],
   "source": [
    "lyr = gis.content.search('Demographic Profile')[0]\n",
    "lyr"
   ]
  },
  {
   "cell_type": "markdown",
   "metadata": {
    "heading_collapsed": true
   },
   "source": [
    "### Have wildfires become more frequent over time?"
   ]
  },
  {
   "cell_type": "code",
   "execution_count": 148,
   "metadata": {
    "hidden": true
   },
   "outputs": [
    {
     "data": {
      "image/png": "[encoded data removed]",
      "text/plain": [
       "<matplotlib.figure.Figure at 0x24b8cf0da20>"
      ]
     },
     "metadata": {},
     "output_type": "display_data"
    }
   ],
   "source": [
    "fig, ax = plt.subplots(figsize=(10,6))\n",
    "ax.bar(x, y, color='coral')\n",
    "plt.title('Number of fires by year', y=-0.2)\n",
    "fit1 = np.polyfit(x, y, deg=1)\n",
    "ax.plot(x, x*fit1[0] + fit1[1], color='teal', linewidth=4);"
   ]
  },
  {
   "cell_type": "markdown",
   "metadata": {
    "heading_collapsed": true
   },
   "source": [
    "### What are the causes of wildfire?"
   ]
  },
  {
   "cell_type": "code",
   "execution_count": 55,
   "metadata": {
    "hidden": true
   },
   "outputs": [],
   "source": [
    "distribution = df['STAT_CAUSE_DESCR'].value_counts()"
   ]
  },
  {
   "cell_type": "code",
   "execution_count": 143,
   "metadata": {
    "hidden": true
   },
   "outputs": [
    {
     "data": {
      "image/png": "[encoded data removed]",
      "text/plain": [
       "<matplotlib.figure.Figure at 0x24b88ce0908>"
      ]
     },
     "metadata": {},
     "output_type": "display_data"
    }
   ],
   "source": [
    "plt.figure(figsize=(6,6))\n",
    "plt.title('Distribution by cause', y=-0.15)\n",
    "plt.pie(distribution, labels=list(distribution.index[:-2]) + ['', '']);\n",
    "plt.axis('equal');"
   ]
  },
  {
   "cell_type": "markdown",
   "metadata": {
    "heading_collapsed": true
   },
   "source": [
    "### Does the day of week matter?"
   ]
  },
  {
   "cell_type": "code",
   "execution_count": 152,
   "metadata": {
    "hidden": true
   },
   "outputs": [
    {
     "data": {
      "image/png": "[encoded data removed]",
      "text/plain": [
       "<matplotlib.figure.Figure at 0x24b8bf83cc0>"
      ]
     },
     "metadata": {},
     "output_type": "display_data"
    }
   ],
   "source": [
    "ind = np.arange(7) \n",
    "width = 0.35       \n",
    "\n",
    "fig, ax   = plt.subplots(figsize=(10,6))\n",
    "arson     = ax.bar(ind, dfa.sort_index(), width, color='coral')\n",
    "lightning = ax.bar(ind + width, dfl.sort_index(), width, color='teal')\n",
    "\n",
    "ax.set_title('Wildfires by day of week', y=-0.15)\n",
    "ax.set_xticklabels(('', 'Mon', 'Tues', 'Wed', 'Thu', 'Fri', 'Sat', 'Sun'))\n",
    "ax.legend((arson[0], lightning[0]), ('Arson', 'Lightning'), loc=2);"
   ]
  },
  {
   "cell_type": "markdown",
   "metadata": {
    "heading_collapsed": true
   },
   "source": [
    "## Mapping and Spatial Analysis"
   ]
  },
  {
   "cell_type": "code",
   "execution_count": null,
   "metadata": {
    "hidden": true
   },
   "outputs": [],
   "source": [
    "wildfires = gis.content.import_data(wildfires_df)"
   ]
  },
  {
   "cell_type": "code",
   "execution_count": null,
   "metadata": {
    "hidden": true
   },
   "outputs": [],
   "source": [
    "from arcgis.features.analysis import find_hot_spots\n",
    "hotspots = find_hot_spots(wildfires, 20, 'Miles', output_name='Hot Spots US_Historical_Wildfires_20')"
   ]
  },
  {
   "cell_type": "code",
   "execution_count": 153,
   "metadata": {
    "hidden": true
   },
   "outputs": [],
   "source": [
    "hotspots = gis.content.get('8f9e60e114c749a9864e4adb9643d096')"
   ]
  },
  {
   "cell_type": "code",
   "execution_count": 154,
   "metadata": {
    "hidden": true
   },
   "outputs": [
    {
     "data": {
      "application/vnd.jupyter.widget-view+json": {
       "model_id": "548ce2a5b9664ff0834fbe18d702eecc"
      }
     },
     "metadata": {},
     "output_type": "display_data"
    }
   ],
   "source": [
    "usmap = gis.map('United States')\n",
    "usmap.add_layer(hotspots)\n",
    "usmap"
   ]
  },
  {
   "cell_type": "markdown",
   "metadata": {
    "heading_collapsed": true
   },
   "source": [
    "## Can Machine Learning categorize the cause of the fire?\n",
    "\n",
    "Since **arson** is a significant preventable cause for many wildfires, it would be instructive to see if Machine Learning techniques can be used to classify if a fire was caused due to arson given some basic data that is available when the fire is first discovered or when investigations begin. This can be framed as a **binary classification** problem.\n",
    "\n",
    "Such a technique could give investigators a data driven way to prioritize cases for further investigation."
   ]
  },
  {
   "cell_type": "code",
   "execution_count": 13,
   "metadata": {
    "hidden": true
   },
   "outputs": [],
   "source": [
    "from sklearn.model_selection import train_test_split\n",
    "from sklearn import tree, preprocessing\n",
    "import sklearn.ensemble as ske\n",
    "import pandas as pd\n",
    "import matplotlib.pyplot as plt\n",
    "\n",
    "%matplotlib inline\n",
    "%config IPCompleter.greedy=True"
   ]
  },
  {
   "cell_type": "code",
   "execution_count": 162,
   "metadata": {
    "hidden": true
   },
   "outputs": [],
   "source": [
    "df = pd.read_pickle('fires.pkl')\n",
    "\n",
    "df['MONTH'] = pd.DatetimeIndex(df['DISCOVERY_DATE']).month\n",
    "df['DAY_OF_WEEK'] = df['DISCOVERY_DATE'].dt.dayofweek\n",
    "\n",
    "ca_fires = df[df.STATE=='CA']\n",
    "ca_fires['ARSON'] = ca_fires['STAT_CAUSE_DESCR'].apply(lambda x: 1 if x == 'Arson' else 0) \n",
    "\n",
    "pdf = ca_fires[ ['FIRE_YEAR', 'DISCOVERY_DOY', 'FIPS_CODE', 'FIRE_SIZE', 'x', 'y', 'MONTH', 'DAY_OF_WEEK', 'ARSON'] ]\n",
    "pdf = pdf.dropna()"
   ]
  },
  {
   "cell_type": "markdown",
   "metadata": {
    "hidden": true
   },
   "source": [
    "### Feature Engineering: Use geoenrichment to add features"
   ]
  },
  {
   "cell_type": "code",
   "execution_count": 206,
   "metadata": {
    "hidden": true
   },
   "outputs": [],
   "source": [
    "analysis_variables = [\n",
    "    'TOTPOP_CY',  # 2016 Population: Total Population (Esri)\n",
    "    'HHPOP_CY',   # 2016 Household Population (Esri)\n",
    "    'FAMPOP_CY',  # 2016 Family Population (Esri)\n",
    "    'DIVINDX_CY', # 2016 Diversity Index (Esri)\n",
    "    'TOTHH_CY',   # 2016 Total Households (Esri)\n",
    "    'AVGHHSZ_CY', # 2016 Average Household Size (Esri)\n",
    "\n",
    "    'MALES_CY',   # 2016 Gender: Male Population (Esri)\n",
    "    'FEMALES_CY', # 2016 Gender: Female Population (Esri)\n",
    "    \n",
    "    'MEDAGE_CY',  # 2016 Age: Median Age (Esri)\n",
    "    \n",
    "    'AVGFMSZ_CY', # 2016 Income: Average Family Size (Esri)\n",
    "    'MEDHINC_CY', # 2016 Income: Median Household Income (Esri)\n",
    "    'AVGHINC_CY', # 2016 Income: Average Household Income (Esri)\n",
    "        \n",
    "    'EDUCBASECY', # 2016 Educational Attainment Base (Esri)\n",
    "    'NOHS_CY',    # 2016 Education: Less than 9th Grade (Esri)\n",
    "    'SOMEHS_CY',  # 2016 Education: 9-12th Grade/No Diploma (Esri)\n",
    "    'HSGRAD_CY',  # 2016 Education: High School Diploma (Esri)\n",
    "    'GED_CY',     # 2016 Education: GED/Alternative Credential (Esri)\n",
    "    'SMCOLL_CY',  # 2016 Education: Some College/No Degree (Esri)\n",
    "    'ASSCDEG_CY', # 2016 Education: Associate's Degree (Esri)\n",
    "    'BACHDEG_CY', # 2016 Education: Bachelor's Degree (Esri)\n",
    "]"
   ]
  },
  {
   "cell_type": "code",
   "execution_count": 239,
   "metadata": {
    "hidden": true
   },
   "outputs": [
    {
     "data": {
      "text/html": [
       "<div>\n",
       "<style scoped>\n",
       "    .dataframe tbody tr th:only-of-type {\n",
       "        vertical-align: middle;\n",
       "    }\n",
       "\n",
       "    .dataframe tbody tr th {\n",
       "        vertical-align: top;\n",
       "    }\n",
       "\n",
       "    .dataframe thead th {\n",
       "        text-align: right;\n",
       "    }\n",
       "</style>\n",
       "<table border=\"1\" class=\"dataframe\">\n",
       "  <thead>\n",
       "    <tr style=\"text-align: right;\">\n",
       "      <th></th>\n",
       "      <th>FIRE_YEAR</th>\n",
       "      <th>DISCOVERY_DOY</th>\n",
       "      <th>FIPS_CODE</th>\n",
       "      <th>FIRE_SIZE</th>\n",
       "      <th>x</th>\n",
       "      <th>y</th>\n",
       "      <th>MONTH</th>\n",
       "      <th>DAY_OF_WEEK</th>\n",
       "      <th>ARSON</th>\n",
       "      <th>TOTPOP_CY</th>\n",
       "      <th>...</th>\n",
       "      <th>MEDHINC_CY</th>\n",
       "      <th>AVGHINC_CY</th>\n",
       "      <th>EDUCBASECY</th>\n",
       "      <th>NOHS_CY</th>\n",
       "      <th>SOMEHS_CY</th>\n",
       "      <th>HSGRAD_CY</th>\n",
       "      <th>GED_CY</th>\n",
       "      <th>SMCOLL_CY</th>\n",
       "      <th>ASSCDEG_CY</th>\n",
       "      <th>BACHDEG_CY</th>\n",
       "    </tr>\n",
       "  </thead>\n",
       "  <tbody>\n",
       "    <tr>\n",
       "      <th>0</th>\n",
       "      <td>2005</td>\n",
       "      <td>33</td>\n",
       "      <td>063</td>\n",
       "      <td>0.1</td>\n",
       "      <td>-121.005833</td>\n",
       "      <td>40.036944</td>\n",
       "      <td>2</td>\n",
       "      <td>2</td>\n",
       "      <td>0</td>\n",
       "      <td>19292</td>\n",
       "      <td>...</td>\n",
       "      <td>45275</td>\n",
       "      <td>66596</td>\n",
       "      <td>14802</td>\n",
       "      <td>447</td>\n",
       "      <td>909</td>\n",
       "      <td>3153</td>\n",
       "      <td>415</td>\n",
       "      <td>4803</td>\n",
       "      <td>1672</td>\n",
       "      <td>2048</td>\n",
       "    </tr>\n",
       "    <tr>\n",
       "      <th>1</th>\n",
       "      <td>2005</td>\n",
       "      <td>153</td>\n",
       "      <td>063</td>\n",
       "      <td>2.3</td>\n",
       "      <td>-120.451111</td>\n",
       "      <td>39.817222</td>\n",
       "      <td>6</td>\n",
       "      <td>3</td>\n",
       "      <td>0</td>\n",
       "      <td>19292</td>\n",
       "      <td>...</td>\n",
       "      <td>45275</td>\n",
       "      <td>66596</td>\n",
       "      <td>14802</td>\n",
       "      <td>447</td>\n",
       "      <td>909</td>\n",
       "      <td>3153</td>\n",
       "      <td>415</td>\n",
       "      <td>4803</td>\n",
       "      <td>1672</td>\n",
       "      <td>2048</td>\n",
       "    </tr>\n",
       "    <tr>\n",
       "      <th>2</th>\n",
       "      <td>2005</td>\n",
       "      <td>234</td>\n",
       "      <td>063</td>\n",
       "      <td>0.5</td>\n",
       "      <td>-121.147500</td>\n",
       "      <td>39.872222</td>\n",
       "      <td>8</td>\n",
       "      <td>0</td>\n",
       "      <td>0</td>\n",
       "      <td>19292</td>\n",
       "      <td>...</td>\n",
       "      <td>45275</td>\n",
       "      <td>66596</td>\n",
       "      <td>14802</td>\n",
       "      <td>447</td>\n",
       "      <td>909</td>\n",
       "      <td>3153</td>\n",
       "      <td>415</td>\n",
       "      <td>4803</td>\n",
       "      <td>1672</td>\n",
       "      <td>2048</td>\n",
       "    </tr>\n",
       "    <tr>\n",
       "      <th>3</th>\n",
       "      <td>2005</td>\n",
       "      <td>241</td>\n",
       "      <td>063</td>\n",
       "      <td>0.1</td>\n",
       "      <td>-120.903889</td>\n",
       "      <td>39.962222</td>\n",
       "      <td>8</td>\n",
       "      <td>0</td>\n",
       "      <td>0</td>\n",
       "      <td>19292</td>\n",
       "      <td>...</td>\n",
       "      <td>45275</td>\n",
       "      <td>66596</td>\n",
       "      <td>14802</td>\n",
       "      <td>447</td>\n",
       "      <td>909</td>\n",
       "      <td>3153</td>\n",
       "      <td>415</td>\n",
       "      <td>4803</td>\n",
       "      <td>1672</td>\n",
       "      <td>2048</td>\n",
       "    </tr>\n",
       "    <tr>\n",
       "      <th>4</th>\n",
       "      <td>2005</td>\n",
       "      <td>242</td>\n",
       "      <td>063</td>\n",
       "      <td>1.0</td>\n",
       "      <td>-120.706667</td>\n",
       "      <td>40.056944</td>\n",
       "      <td>8</td>\n",
       "      <td>1</td>\n",
       "      <td>0</td>\n",
       "      <td>19292</td>\n",
       "      <td>...</td>\n",
       "      <td>45275</td>\n",
       "      <td>66596</td>\n",
       "      <td>14802</td>\n",
       "      <td>447</td>\n",
       "      <td>909</td>\n",
       "      <td>3153</td>\n",
       "      <td>415</td>\n",
       "      <td>4803</td>\n",
       "      <td>1672</td>\n",
       "      <td>2048</td>\n",
       "    </tr>\n",
       "  </tbody>\n",
       "</table>\n",
       "<p>5 rows × 29 columns</p>\n",
       "</div>"
      ],
      "text/plain": [
       "   FIRE_YEAR  DISCOVERY_DOY FIPS_CODE  FIRE_SIZE           x          y  \\\n",
       "0       2005             33       063        0.1 -121.005833  40.036944   \n",
       "1       2005            153       063        2.3 -120.451111  39.817222   \n",
       "2       2005            234       063        0.5 -121.147500  39.872222   \n",
       "3       2005            241       063        0.1 -120.903889  39.962222   \n",
       "4       2005            242       063        1.0 -120.706667  40.056944   \n",
       "\n",
       "   MONTH  DAY_OF_WEEK  ARSON  TOTPOP_CY     ...      MEDHINC_CY  AVGHINC_CY  \\\n",
       "0      2            2      0      19292     ...           45275       66596   \n",
       "1      6            3      0      19292     ...           45275       66596   \n",
       "2      8            0      0      19292     ...           45275       66596   \n",
       "3      8            0      0      19292     ...           45275       66596   \n",
       "4      8            1      0      19292     ...           45275       66596   \n",
       "\n",
       "   EDUCBASECY  NOHS_CY  SOMEHS_CY  HSGRAD_CY  GED_CY  SMCOLL_CY  ASSCDEG_CY  \\\n",
       "0       14802      447        909       3153     415       4803        1672   \n",
       "1       14802      447        909       3153     415       4803        1672   \n",
       "2       14802      447        909       3153     415       4803        1672   \n",
       "3       14802      447        909       3153     415       4803        1672   \n",
       "4       14802      447        909       3153     415       4803        1672   \n",
       "\n",
       "   BACHDEG_CY  \n",
       "0        2048  \n",
       "1        2048  \n",
       "2        2048  \n",
       "3        2048  \n",
       "4        2048  \n",
       "\n",
       "[5 rows x 29 columns]"
      ]
     },
     "execution_count": 239,
     "metadata": {},
     "output_type": "execute_result"
    }
   ],
   "source": [
    "from arcgis.geoenrichment import *\n",
    "\n",
    "usa = Country.get('US')\n",
    "counties = usa.subgeographies.states['California'].counties\n",
    "\n",
    "enrich_df = enrich(list(counties.values()), analysis_variables=analysis_variables)\n",
    "\n",
    "pdf['StdGeographyID'] = '06' + pdf['FIPS_CODE']\n",
    "merged = pd.merge(pdf, enrich_df, on='StdGeographyID')\n",
    "cols = ['FIRE_YEAR', 'DISCOVERY_DOY', 'FIPS_CODE', 'FIRE_SIZE', 'x', 'y', 'MONTH', 'DAY_OF_WEEK', 'ARSON'] + analysis_variables\n",
    "mdf = merged[cols]\n",
    "\n",
    "mdf.head()"
   ]
  },
  {
   "cell_type": "code",
   "execution_count": null,
   "metadata": {
    "hidden": true
   },
   "outputs": [],
   "source": [
    "m = gis.map('California')\n",
    "m "
   ]
  },
  {
   "cell_type": "code",
   "execution_count": 245,
   "metadata": {
    "hidden": true
   },
   "outputs": [],
   "source": [
    "lyr = gis.content.import_data(enrich_df, title='Demographic Profile')"
   ]
  },
  {
   "cell_type": "code",
   "execution_count": 248,
   "metadata": {
    "hidden": true
   },
   "outputs": [],
   "source": [
    "m.add_layer(lyr, {'renderer':'ClassedColorRenderer', 'field':'AVGHINC_CY'})"
   ]
  },
  {
   "cell_type": "markdown",
   "metadata": {
    "hidden": true
   },
   "source": [
    "### Fit Random Forest classifier and check accuracy"
   ]
  },
  {
   "cell_type": "code",
   "execution_count": 240,
   "metadata": {
    "hidden": true
   },
   "outputs": [
    {
     "name": "stdout",
     "output_type": "stream",
     "text": [
      "0.9212070907689571\n"
     ]
    }
   ],
   "source": [
    "X = mdf.drop(['ARSON'], axis=1).values\n",
    "y = mdf['ARSON'].values\n",
    "X_train, X_test, y_train, y_test = train_test_split(X,y,test_size=0.3, random_state=42)\n",
    "\n",
    "clf_rf = ske.RandomForestClassifier(n_estimators=200)\n",
    "clf_rf = clf_rf.fit(X_train, y_train)\n",
    "\n",
    "print(clf_rf.score(X_test, y_test))"
   ]
  },
  {
   "cell_type": "markdown",
   "metadata": {
    "hidden": true
   },
   "source": [
    "Summary: Given some basic data, available when a fire is first discovered, it is possible to predict with over 90% accuracy if the fire was the result of arson."
   ]
  },
  {
   "cell_type": "markdown",
   "metadata": {
    "hidden": true
   },
   "source": [
    "\n",
    "**Citations**\n",
    "\n",
    "Short, Karen C. 2017. Spatial wildfire occurrence data for the United States, 1992-2015 [FPA_FOD_20170508]. 4th Edition. Fort Collins, CO: Forest Service Research Data Archive. https://doi.org/10.2737/RDS-2013-0009.4"
   ]
  }
 ],
 "metadata": {
  "anaconda-cloud": {},
  "kernelspec": {
   "display_name": "Python 3",
   "language": "python",
   "name": "python3"
  },
  "language_info": {
   "codemirror_mode": {
    "name": "ipython",
    "version": 3
   },
   "file_extension": ".py",
   "mimetype": "text/x-python",
   "name": "python",
   "nbconvert_exporter": "python",
   "pygments_lexer": "ipython3",
   "version": "3.6.5"
  }
 },
 "nbformat": 4,
 "nbformat_minor": 2
}
