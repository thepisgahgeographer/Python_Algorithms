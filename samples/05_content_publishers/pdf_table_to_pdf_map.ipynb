{
 "cells": [
  {
   "cell_type": "markdown",
   "metadata": {},
   "source": [
    "# PDF Table to Pandas Data Frame to PDF Map"
   ]
  },
  {
   "cell_type": "markdown",
   "metadata": {
    "toc": true
   },
   "source": [
    "<h1>Table of Contents<span class=\"tocSkip\"></span></h1>\n",
    "<div class=\"toc\"><ul class=\"toc-item\"><li><span><a href=\"#Step-1.-Install-tabula-py\" data-toc-modified-id=\"Step-1.-Install-tabula-py-1\">Step 1. Install tabula-py</a></span></li><li><span><a href=\"#Step-2.-Read-table-from-PDF\" data-toc-modified-id=\"Step-2.-Read-table-from-PDF-2\">Step 2. Read table from PDF</a></span></li><li><span><a href=\"#Step-3.-Process-the-table-contents\" data-toc-modified-id=\"Step-3.-Process-the-table-contents-3\">Step 3. Process the table contents</a></span></li><li><span><a href=\"#Step-4.-Merge-two-tables\" data-toc-modified-id=\"Step-4.-Merge-two-tables-4\">Step 4. Merge two tables</a></span></li><li><span><a href=\"#Step-5.-Draw-the-top-20-impacted-counties\" data-toc-modified-id=\"Step-5.-Draw-the-top-20-impacted-counties-5\">Step 5. Draw the top 20 impacted counties</a></span></li><li><span><a href=\"#Step-6.-Export-to-PDF\" data-toc-modified-id=\"Step-6.-Export-to-PDF-6\">Step 6. Export to PDF</a></span></li><li><span><a href=\"#References\" data-toc-modified-id=\"References-7\">References</a></span></li></ul></div>"
   ]
  },
  {
   "cell_type": "markdown",
   "metadata": {},
   "source": [
    "Often PDF files can contain useful information presented in a tabular form. If such data contains location information, it would be much more insightful if presented as a cartographic map. Thus this sample shows how Pandas can be used to extract data from a table within a PDF file (in this case, a PDF accessible from `California Department of Forestry & Fire Protection (CAL FIRE)` website) and how it can be then brought into the GIS for further analysis and visualization."
   ]
  },
  {
   "cell_type": "markdown",
   "metadata": {},
   "source": [
    "## Step 1. Install tabula-py\n",
    "\n",
    "**Note**: to run this sample, you need a few extra libraries in your conda environment. If you don't have the libraries, install them by running the following commands from cmd.exe or your shell\n",
    "\n",
    "```\n",
    "pip install lxml\n",
    "pip install tabula-py```\n",
    "\n",
    "<a href=\"https://pypi.org/project/tabula-py/\">`tabula-py`</a> can read table of PDF and convert into panda's `DataFrame`. In order to have tabula-py work on your environment, please make sure you have Java 7 or 8 on your machine before installing <a href=\"https://github.com/chezou/tabula-py\">tabula-py</a>. "
   ]
  },
  {
   "cell_type": "code",
   "execution_count": 1,
   "metadata": {},
   "outputs": [],
   "source": [
    "import pandas as pd\n",
    "import numpy as np"
   ]
  },
  {
   "cell_type": "markdown",
   "metadata": {},
   "source": [
    "## Step 2. Read table from PDF\n",
    "\n",
    "**California Department of Forestry & Fire Protection (CAL FIRE)** provides statistics and reports that are tracked on a weekly basis and also snapshots of the number of fires and acres burned. These are preliminary numbers taken from the Computer Aided Dispatch system, and will likely change as dispatched wildfires may end up being other types of fires or false alarms <a href=\"#References\"> [1]</a>.\n",
    "\n",
    "The table of **Number of Fires and Acres** can be fetched from the web page and parsed as a Pandas data frame (as following):"
   ]
  },
  {
   "cell_type": "code",
   "execution_count": 2,
   "metadata": {},
   "outputs": [
    {
     "data": {
      "text/html": [
       "<div>\n",
       "<style scoped>\n",
       "    .dataframe tbody tr th:only-of-type {\n",
       "        vertical-align: middle;\n",
       "    }\n",
       "\n",
       "    .dataframe tbody tr th {\n",
       "        vertical-align: top;\n",
       "    }\n",
       "\n",
       "    .dataframe thead th {\n",
       "        text-align: right;\n",
       "    }\n",
       "</style>\n",
       "<table border=\"1\" class=\"dataframe\">\n",
       "  <thead>\n",
       "    <tr style=\"text-align: right;\">\n",
       "      <th></th>\n",
       "      <th>0</th>\n",
       "      <th>1</th>\n",
       "      <th>2</th>\n",
       "    </tr>\n",
       "  </thead>\n",
       "  <tbody>\n",
       "    <tr>\n",
       "      <th>0</th>\n",
       "      <td>Interval</td>\n",
       "      <td>Fires</td>\n",
       "      <td>Acres</td>\n",
       "    </tr>\n",
       "    <tr>\n",
       "      <th>1</th>\n",
       "      <td>January 1, 2019 through November 3, 2019</td>\n",
       "      <td>5244</td>\n",
       "      <td>126069</td>\n",
       "    </tr>\n",
       "    <tr>\n",
       "      <th>2</th>\n",
       "      <td>January 1, 2018 through November 3, 2018</td>\n",
       "      <td>5355</td>\n",
       "      <td>632701</td>\n",
       "    </tr>\n",
       "    <tr>\n",
       "      <th>3</th>\n",
       "      <td>5-Year Average (same interval)</td>\n",
       "      <td>5282</td>\n",
       "      <td>373576</td>\n",
       "    </tr>\n",
       "    <tr>\n",
       "      <th>4</th>\n",
       "      <td>2019 Combined YTD (CALFIRE &amp; US Forest Service)</td>\n",
       "      <td>6402</td>\n",
       "      <td>250349</td>\n",
       "    </tr>\n",
       "  </tbody>\n",
       "</table>\n",
       "</div>"
      ],
      "text/plain": [
       "                                                 0      1       2\n",
       "0                                         Interval  Fires   Acres\n",
       "1         January 1, 2019 through November 3, 2019   5244  126069\n",
       "2         January 1, 2018 through November 3, 2018   5355  632701\n",
       "3                   5-Year Average (same interval)   5282  373576\n",
       "4  2019 Combined YTD (CALFIRE & US Forest Service)   6402  250349"
      ]
     },
     "execution_count": 2,
     "metadata": {},
     "output_type": "execute_result"
    }
   ],
   "source": [
    "df = pd.read_html(\"https://www.fire.ca.gov/stats-events/\")[0]\n",
    "df.head()"
   ]
  },
  {
   "cell_type": "markdown",
   "metadata": {},
   "source": [
    "Also **CAL FIRE** provides statistically summarizing reports for historic wildfires in California, e.g. **Top 20 largest**, **Top 20 most destructive**, and **top 20 deadliest**, URLs of which are kept in a list below:"
   ]
  },
  {
   "cell_type": "code",
   "execution_count": 3,
   "metadata": {},
   "outputs": [],
   "source": [
    "pdf_url_list = [\"https://www.fire.ca.gov/media/5510/top20_acres.pdf\",\n",
    "                \"https://www.fire.ca.gov/media/5511/top20_destruction.pdf\",\n",
    "                \"https://www.fire.ca.gov/media/5512/top20_deadliest.pdf\"]"
   ]
  },
  {
   "cell_type": "markdown",
   "metadata": {},
   "source": [
    "Provided the url of the online PDF file, `tabula-py` can read the table from the pdf at the url."
   ]
  },
  {
   "cell_type": "code",
   "execution_count": 4,
   "metadata": {},
   "outputs": [],
   "source": [
    "from tabula import wrapper\n",
    "df = wrapper.read_pdf(pdf_url_list[0])"
   ]
  },
  {
   "cell_type": "code",
   "execution_count": 5,
   "metadata": {
    "scrolled": true
   },
   "outputs": [
    {
     "data": {
      "text/html": [
       "<div>\n",
       "<style scoped>\n",
       "    .dataframe tbody tr th:only-of-type {\n",
       "        vertical-align: middle;\n",
       "    }\n",
       "\n",
       "    .dataframe tbody tr th {\n",
       "        vertical-align: top;\n",
       "    }\n",
       "\n",
       "    .dataframe thead th {\n",
       "        text-align: right;\n",
       "    }\n",
       "</style>\n",
       "<table border=\"1\" class=\"dataframe\">\n",
       "  <thead>\n",
       "    <tr style=\"text-align: right;\">\n",
       "      <th></th>\n",
       "      <th>FIRE NAME (CAUSE)</th>\n",
       "      <th>DATE</th>\n",
       "      <th>COUNTY</th>\n",
       "      <th>ACRES</th>\n",
       "      <th>STRUCTURES</th>\n",
       "      <th>DEATHS</th>\n",
       "    </tr>\n",
       "  </thead>\n",
       "  <tbody>\n",
       "    <tr>\n",
       "      <th>0</th>\n",
       "      <td>1MENDOCINO COMPLEX\\r(Under Investigation)</td>\n",
       "      <td>July 2018</td>\n",
       "      <td>Colusa County, Lake County,\\rMendocino County ...</td>\n",
       "      <td>459,123</td>\n",
       "      <td>280</td>\n",
       "      <td>1.0</td>\n",
       "    </tr>\n",
       "    <tr>\n",
       "      <th>1</th>\n",
       "      <td>2\\rTHOMAS (Powerlines)</td>\n",
       "      <td>December 2017</td>\n",
       "      <td>Ventura &amp; Santa Barbara</td>\n",
       "      <td>281,893</td>\n",
       "      <td>1,063</td>\n",
       "      <td>2.0</td>\n",
       "    </tr>\n",
       "    <tr>\n",
       "      <th>2</th>\n",
       "      <td>3\\rCEDAR ( Human Related)</td>\n",
       "      <td>October 2003</td>\n",
       "      <td>San Diego</td>\n",
       "      <td>273,246</td>\n",
       "      <td>2,820</td>\n",
       "      <td>15.0</td>\n",
       "    </tr>\n",
       "    <tr>\n",
       "      <th>3</th>\n",
       "      <td>4\\rRUSH (Lightning )</td>\n",
       "      <td>August 2012</td>\n",
       "      <td>Lassen</td>\n",
       "      <td>271,911 CA  /\\r43,666 NV</td>\n",
       "      <td>0</td>\n",
       "      <td>0.0</td>\n",
       "    </tr>\n",
       "    <tr>\n",
       "      <th>4</th>\n",
       "      <td>5\\rRIM (Human Related)</td>\n",
       "      <td>August 2013</td>\n",
       "      <td>Tuolumne</td>\n",
       "      <td>257,314</td>\n",
       "      <td>112</td>\n",
       "      <td>0.0</td>\n",
       "    </tr>\n",
       "  </tbody>\n",
       "</table>\n",
       "</div>"
      ],
      "text/plain": [
       "                           FIRE NAME (CAUSE)           DATE  \\\n",
       "0  1MENDOCINO COMPLEX\\r(Under Investigation)      July 2018   \n",
       "1                     2\\rTHOMAS (Powerlines)  December 2017   \n",
       "2                  3\\rCEDAR ( Human Related)   October 2003   \n",
       "3                       4\\rRUSH (Lightning )    August 2012   \n",
       "4                     5\\rRIM (Human Related)    August 2013   \n",
       "\n",
       "                                              COUNTY  \\\n",
       "0  Colusa County, Lake County,\\rMendocino County ...   \n",
       "1                            Ventura & Santa Barbara   \n",
       "2                                          San Diego   \n",
       "3                                             Lassen   \n",
       "4                                           Tuolumne   \n",
       "\n",
       "                      ACRES STRUCTURES  DEATHS  \n",
       "0                   459,123        280     1.0  \n",
       "1                   281,893      1,063     2.0  \n",
       "2                   273,246      2,820    15.0  \n",
       "3  271,911 CA  /\\r43,666 NV          0     0.0  \n",
       "4                   257,314        112     0.0  "
      ]
     },
     "execution_count": 5,
     "metadata": {},
     "output_type": "execute_result"
    }
   ],
   "source": [
    "# in order to print first 5 lines of Table\n",
    "df.head()"
   ]
  },
  {
   "cell_type": "markdown",
   "metadata": {},
   "source": [
    "## Step 3. Process the table contents\n",
    "\n",
    "Looking at each columns presented in the Pandas data frame, some are having composite information and would require further processing. For example, `FIRE NAME (CAUSE)` column contains a sequential ordering number, fire name, and cause in one string, and would need to be split into separate columns.\n",
    "\n",
    "Next, break the `FIRE NAME (CAUSE)` column into `ID`, `Fire Name` and `Cause` columns:"
   ]
  },
  {
   "cell_type": "code",
   "execution_count": 6,
   "metadata": {},
   "outputs": [],
   "source": [
    "# new data frame with split value columns \n",
    "new = df[\"FIRE NAME (CAUSE)\"].str.split(\"(\", n = 1, expand = True) \n",
    "  \n",
    "df[\"ID\"] = new[0].str[0]\n",
    "\n",
    "# making separate first name column from new data frame \n",
    "df[\"FIRE NAME\"]= new[0].str.replace('\\r', '').str[1:]\n",
    "\n",
    "# making separate last name column from new data frame \n",
    "df[\"CAUSE\"]= new[1].str[:-1]\n",
    "\n",
    "df = df.drop([\"FIRE NAME (CAUSE)\"], axis=1)\n",
    "\n",
    "df.drop(df.tail(1).index,inplace=True)"
   ]
  },
  {
   "cell_type": "code",
   "execution_count": 7,
   "metadata": {},
   "outputs": [
    {
     "data": {
      "text/html": [
       "<div>\n",
       "<style scoped>\n",
       "    .dataframe tbody tr th:only-of-type {\n",
       "        vertical-align: middle;\n",
       "    }\n",
       "\n",
       "    .dataframe tbody tr th {\n",
       "        vertical-align: top;\n",
       "    }\n",
       "\n",
       "    .dataframe thead th {\n",
       "        text-align: right;\n",
       "    }\n",
       "</style>\n",
       "<table border=\"1\" class=\"dataframe\">\n",
       "  <thead>\n",
       "    <tr style=\"text-align: right;\">\n",
       "      <th></th>\n",
       "      <th>DATE</th>\n",
       "      <th>COUNTY</th>\n",
       "      <th>ACRES</th>\n",
       "      <th>STRUCTURES</th>\n",
       "      <th>DEATHS</th>\n",
       "      <th>ID</th>\n",
       "      <th>FIRE NAME</th>\n",
       "      <th>CAUSE</th>\n",
       "    </tr>\n",
       "  </thead>\n",
       "  <tbody>\n",
       "    <tr>\n",
       "      <th>0</th>\n",
       "      <td>July 2018</td>\n",
       "      <td>Colusa County, Lake County,\\rMendocino County ...</td>\n",
       "      <td>459,123</td>\n",
       "      <td>280</td>\n",
       "      <td>1.0</td>\n",
       "      <td>1</td>\n",
       "      <td>MENDOCINO COMPLEX</td>\n",
       "      <td>Under Investigation</td>\n",
       "    </tr>\n",
       "    <tr>\n",
       "      <th>1</th>\n",
       "      <td>December 2017</td>\n",
       "      <td>Ventura &amp; Santa Barbara</td>\n",
       "      <td>281,893</td>\n",
       "      <td>1,063</td>\n",
       "      <td>2.0</td>\n",
       "      <td>2</td>\n",
       "      <td>THOMAS</td>\n",
       "      <td>Powerlines</td>\n",
       "    </tr>\n",
       "    <tr>\n",
       "      <th>2</th>\n",
       "      <td>October 2003</td>\n",
       "      <td>San Diego</td>\n",
       "      <td>273,246</td>\n",
       "      <td>2,820</td>\n",
       "      <td>15.0</td>\n",
       "      <td>3</td>\n",
       "      <td>CEDAR</td>\n",
       "      <td>Human Related</td>\n",
       "    </tr>\n",
       "    <tr>\n",
       "      <th>3</th>\n",
       "      <td>August 2012</td>\n",
       "      <td>Lassen</td>\n",
       "      <td>271,911 CA  /\\r43,666 NV</td>\n",
       "      <td>0</td>\n",
       "      <td>0.0</td>\n",
       "      <td>4</td>\n",
       "      <td>RUSH</td>\n",
       "      <td>Lightning</td>\n",
       "    </tr>\n",
       "    <tr>\n",
       "      <th>4</th>\n",
       "      <td>August 2013</td>\n",
       "      <td>Tuolumne</td>\n",
       "      <td>257,314</td>\n",
       "      <td>112</td>\n",
       "      <td>0.0</td>\n",
       "      <td>5</td>\n",
       "      <td>RIM</td>\n",
       "      <td>Human Related</td>\n",
       "    </tr>\n",
       "  </tbody>\n",
       "</table>\n",
       "</div>"
      ],
      "text/plain": [
       "            DATE                                             COUNTY  \\\n",
       "0      July 2018  Colusa County, Lake County,\\rMendocino County ...   \n",
       "1  December 2017                            Ventura & Santa Barbara   \n",
       "2   October 2003                                          San Diego   \n",
       "3    August 2012                                             Lassen   \n",
       "4    August 2013                                           Tuolumne   \n",
       "\n",
       "                      ACRES STRUCTURES  DEATHS ID          FIRE NAME  \\\n",
       "0                   459,123        280     1.0  1  MENDOCINO COMPLEX   \n",
       "1                   281,893      1,063     2.0  2            THOMAS    \n",
       "2                   273,246      2,820    15.0  3             CEDAR    \n",
       "3  271,911 CA  /\\r43,666 NV          0     0.0  4              RUSH    \n",
       "4                   257,314        112     0.0  5               RIM    \n",
       "\n",
       "                 CAUSE  \n",
       "0  Under Investigation  \n",
       "1           Powerlines  \n",
       "2        Human Related  \n",
       "3           Lightning   \n",
       "4        Human Related  "
      ]
     },
     "execution_count": 7,
     "metadata": {},
     "output_type": "execute_result"
    }
   ],
   "source": [
    "df.head()"
   ]
  },
  {
   "cell_type": "markdown",
   "metadata": {},
   "source": [
    "Similar to `FIRE NAME (CAUSE)` column, the `ACRES` column also has composite information for some rows. For instance, when the fire happens in two states, e.g. CA and NV, you would see in the `ACRES` column - `271,911 CA /\\r43,666 NV  `, the actual impacted area is the sum of 271911 and 43666 acres, and some numeric extraction and summing need to be done here:"
   ]
  },
  {
   "cell_type": "code",
   "execution_count": 8,
   "metadata": {},
   "outputs": [],
   "source": [
    "import re\n",
    "\n",
    "\"\"\"Used to extract numbers from composite string e.g. \"271,911 CA /\\r43,666 NV\" \n",
    "   and add the acres within two or more states\n",
    "\"\"\"\n",
    "def extract_and_sum(s):\n",
    "    tmp = map(int, re.sub(r'[ a-zA-Z,]+[ a-zA-Z,]+', '', s, re.I).replace(',','').split('/\\r'))\n",
    "    return sum(list(tmp))\n",
    "\n",
    "\"\"\"Used to turn numerics e.g. 273,911 to int without delimitors e.g. 273911\n",
    "\"\"\"\n",
    "def replace_and_reassign(s):\n",
    "    return int(s.replace(',',''))\n",
    "\n",
    "temp= df['ACRES'].apply(lambda x: extract_and_sum(x) if '\\r' in x else replace_and_reassign(x))"
   ]
  },
  {
   "cell_type": "code",
   "execution_count": 9,
   "metadata": {},
   "outputs": [
    {
     "data": {
      "text/html": [
       "<div>\n",
       "<style scoped>\n",
       "    .dataframe tbody tr th:only-of-type {\n",
       "        vertical-align: middle;\n",
       "    }\n",
       "\n",
       "    .dataframe tbody tr th {\n",
       "        vertical-align: top;\n",
       "    }\n",
       "\n",
       "    .dataframe thead th {\n",
       "        text-align: right;\n",
       "    }\n",
       "</style>\n",
       "<table border=\"1\" class=\"dataframe\">\n",
       "  <thead>\n",
       "    <tr style=\"text-align: right;\">\n",
       "      <th></th>\n",
       "      <th>DATE</th>\n",
       "      <th>COUNTY</th>\n",
       "      <th>ACRES</th>\n",
       "      <th>STRUCTURES</th>\n",
       "      <th>DEATHS</th>\n",
       "      <th>ID</th>\n",
       "      <th>FIRE NAME</th>\n",
       "      <th>CAUSE</th>\n",
       "    </tr>\n",
       "  </thead>\n",
       "  <tbody>\n",
       "    <tr>\n",
       "      <th>0</th>\n",
       "      <td>July 2018</td>\n",
       "      <td>Colusa County, Lake County,\\rMendocino County ...</td>\n",
       "      <td>459123</td>\n",
       "      <td>280</td>\n",
       "      <td>1.0</td>\n",
       "      <td>1</td>\n",
       "      <td>MENDOCINO COMPLEX</td>\n",
       "      <td>Under Investigation</td>\n",
       "    </tr>\n",
       "    <tr>\n",
       "      <th>1</th>\n",
       "      <td>December 2017</td>\n",
       "      <td>Ventura &amp; Santa Barbara</td>\n",
       "      <td>281893</td>\n",
       "      <td>1,063</td>\n",
       "      <td>2.0</td>\n",
       "      <td>2</td>\n",
       "      <td>THOMAS</td>\n",
       "      <td>Powerlines</td>\n",
       "    </tr>\n",
       "    <tr>\n",
       "      <th>2</th>\n",
       "      <td>October 2003</td>\n",
       "      <td>San Diego</td>\n",
       "      <td>273246</td>\n",
       "      <td>2,820</td>\n",
       "      <td>15.0</td>\n",
       "      <td>3</td>\n",
       "      <td>CEDAR</td>\n",
       "      <td>Human Related</td>\n",
       "    </tr>\n",
       "    <tr>\n",
       "      <th>3</th>\n",
       "      <td>August 2012</td>\n",
       "      <td>Lassen</td>\n",
       "      <td>315577</td>\n",
       "      <td>0</td>\n",
       "      <td>0.0</td>\n",
       "      <td>4</td>\n",
       "      <td>RUSH</td>\n",
       "      <td>Lightning</td>\n",
       "    </tr>\n",
       "    <tr>\n",
       "      <th>4</th>\n",
       "      <td>August 2013</td>\n",
       "      <td>Tuolumne</td>\n",
       "      <td>257314</td>\n",
       "      <td>112</td>\n",
       "      <td>0.0</td>\n",
       "      <td>5</td>\n",
       "      <td>RIM</td>\n",
       "      <td>Human Related</td>\n",
       "    </tr>\n",
       "  </tbody>\n",
       "</table>\n",
       "</div>"
      ],
      "text/plain": [
       "            DATE                                             COUNTY   ACRES  \\\n",
       "0      July 2018  Colusa County, Lake County,\\rMendocino County ...  459123   \n",
       "1  December 2017                            Ventura & Santa Barbara  281893   \n",
       "2   October 2003                                          San Diego  273246   \n",
       "3    August 2012                                             Lassen  315577   \n",
       "4    August 2013                                           Tuolumne  257314   \n",
       "\n",
       "  STRUCTURES  DEATHS ID          FIRE NAME                CAUSE  \n",
       "0        280     1.0  1  MENDOCINO COMPLEX  Under Investigation  \n",
       "1      1,063     2.0  2            THOMAS            Powerlines  \n",
       "2      2,820    15.0  3             CEDAR         Human Related  \n",
       "3          0     0.0  4              RUSH            Lightning   \n",
       "4        112     0.0  5               RIM         Human Related  "
      ]
     },
     "execution_count": 9,
     "metadata": {},
     "output_type": "execute_result"
    }
   ],
   "source": [
    "df['ACRES'] = temp\n",
    "df.head()"
   ]
  },
  {
   "cell_type": "markdown",
   "metadata": {},
   "source": [
    "Now we have cleaned up the `FIRE NAME (CAUSE)` and the `ACRES` columns, the last column that needs splitting is `COUNTY` which contains multiple impacted counties in California when the fire happens to multiple counties. Here, we will need to split a row of N counties to N rows with 1 county each.\n",
    "\n",
    "Since the delimiter can be `,` or `&`, we would need to do `explode_str` twice (then remove `\\r` and `County` from the column):"
   ]
  },
  {
   "cell_type": "code",
   "execution_count": 10,
   "metadata": {
    "scrolled": true
   },
   "outputs": [],
   "source": [
    "\"\"\"Using `numpy.arrange` in creating new rows as place holder to hold the splitted strings from df[col] based on `sep`;\n",
    "   then `iloc` and `assign` to place the splitted results into newly added rows\n",
    "\"\"\"\n",
    "def explode_str(df, col, sep):\n",
    "    s = df[col]\n",
    "    i = np.arange(len(s)).repeat(s.str.count(sep) + 1)\n",
    "    return df.iloc[i].assign(**{col: sep.join(s).split(sep)})\n",
    "\n",
    "new_df = explode_str(df, 'COUNTY', ',')"
   ]
  },
  {
   "cell_type": "code",
   "execution_count": 11,
   "metadata": {
    "scrolled": false
   },
   "outputs": [],
   "source": [
    "new_df = explode_str(new_df, 'COUNTY', '&')"
   ]
  },
  {
   "cell_type": "code",
   "execution_count": 12,
   "metadata": {},
   "outputs": [],
   "source": [
    "new_df['COUNTY'] = new_df['COUNTY'].str.replace('\\r','')"
   ]
  },
  {
   "cell_type": "code",
   "execution_count": 13,
   "metadata": {},
   "outputs": [],
   "source": [
    "new_df['NAME'] = new_df['COUNTY'].str.replace(' County','')"
   ]
  },
  {
   "cell_type": "markdown",
   "metadata": {},
   "source": [
    "To reduce ambiguity, we are adding an additional column `STATE` to the DataFrame, so two counties with the same name (but in different states) will be cause confusions."
   ]
  },
  {
   "cell_type": "code",
   "execution_count": 14,
   "metadata": {},
   "outputs": [],
   "source": [
    "new_df['STATE'] = 'CA'"
   ]
  },
  {
   "cell_type": "code",
   "execution_count": 15,
   "metadata": {},
   "outputs": [
    {
     "data": {
      "text/html": [
       "<div>\n",
       "<style scoped>\n",
       "    .dataframe tbody tr th:only-of-type {\n",
       "        vertical-align: middle;\n",
       "    }\n",
       "\n",
       "    .dataframe tbody tr th {\n",
       "        vertical-align: top;\n",
       "    }\n",
       "\n",
       "    .dataframe thead th {\n",
       "        text-align: right;\n",
       "    }\n",
       "</style>\n",
       "<table border=\"1\" class=\"dataframe\">\n",
       "  <thead>\n",
       "    <tr style=\"text-align: right;\">\n",
       "      <th></th>\n",
       "      <th>DATE</th>\n",
       "      <th>COUNTY</th>\n",
       "      <th>ACRES</th>\n",
       "      <th>STRUCTURES</th>\n",
       "      <th>DEATHS</th>\n",
       "      <th>ID</th>\n",
       "      <th>FIRE NAME</th>\n",
       "      <th>CAUSE</th>\n",
       "      <th>NAME</th>\n",
       "      <th>STATE</th>\n",
       "    </tr>\n",
       "  </thead>\n",
       "  <tbody>\n",
       "    <tr>\n",
       "      <th>0</th>\n",
       "      <td>July 2018</td>\n",
       "      <td>Colusa County</td>\n",
       "      <td>459123</td>\n",
       "      <td>280</td>\n",
       "      <td>1.0</td>\n",
       "      <td>1</td>\n",
       "      <td>MENDOCINO COMPLEX</td>\n",
       "      <td>Under Investigation</td>\n",
       "      <td>Colusa</td>\n",
       "      <td>CA</td>\n",
       "    </tr>\n",
       "    <tr>\n",
       "      <th>0</th>\n",
       "      <td>July 2018</td>\n",
       "      <td>Lake County</td>\n",
       "      <td>459123</td>\n",
       "      <td>280</td>\n",
       "      <td>1.0</td>\n",
       "      <td>1</td>\n",
       "      <td>MENDOCINO COMPLEX</td>\n",
       "      <td>Under Investigation</td>\n",
       "      <td>Lake</td>\n",
       "      <td>CA</td>\n",
       "    </tr>\n",
       "    <tr>\n",
       "      <th>0</th>\n",
       "      <td>July 2018</td>\n",
       "      <td>Mendocino County</td>\n",
       "      <td>459123</td>\n",
       "      <td>280</td>\n",
       "      <td>1.0</td>\n",
       "      <td>1</td>\n",
       "      <td>MENDOCINO COMPLEX</td>\n",
       "      <td>Under Investigation</td>\n",
       "      <td>Mendocino</td>\n",
       "      <td>CA</td>\n",
       "    </tr>\n",
       "    <tr>\n",
       "      <th>0</th>\n",
       "      <td>July 2018</td>\n",
       "      <td>Glenn County</td>\n",
       "      <td>459123</td>\n",
       "      <td>280</td>\n",
       "      <td>1.0</td>\n",
       "      <td>1</td>\n",
       "      <td>MENDOCINO COMPLEX</td>\n",
       "      <td>Under Investigation</td>\n",
       "      <td>Glenn</td>\n",
       "      <td>CA</td>\n",
       "    </tr>\n",
       "    <tr>\n",
       "      <th>1</th>\n",
       "      <td>December 2017</td>\n",
       "      <td>Ventura</td>\n",
       "      <td>281893</td>\n",
       "      <td>1,063</td>\n",
       "      <td>2.0</td>\n",
       "      <td>2</td>\n",
       "      <td>THOMAS</td>\n",
       "      <td>Powerlines</td>\n",
       "      <td>Ventura</td>\n",
       "      <td>CA</td>\n",
       "    </tr>\n",
       "  </tbody>\n",
       "</table>\n",
       "</div>"
      ],
      "text/plain": [
       "            DATE             COUNTY   ACRES STRUCTURES  DEATHS ID  \\\n",
       "0      July 2018      Colusa County  459123        280     1.0  1   \n",
       "0      July 2018        Lake County  459123        280     1.0  1   \n",
       "0      July 2018  Mendocino County   459123        280     1.0  1   \n",
       "0      July 2018       Glenn County  459123        280     1.0  1   \n",
       "1  December 2017           Ventura   281893      1,063     2.0  2   \n",
       "\n",
       "           FIRE NAME                CAUSE        NAME STATE  \n",
       "0  MENDOCINO COMPLEX  Under Investigation      Colusa    CA  \n",
       "0  MENDOCINO COMPLEX  Under Investigation        Lake    CA  \n",
       "0  MENDOCINO COMPLEX  Under Investigation  Mendocino     CA  \n",
       "0  MENDOCINO COMPLEX  Under Investigation       Glenn    CA  \n",
       "1            THOMAS            Powerlines    Ventura     CA  "
      ]
     },
     "execution_count": 15,
     "metadata": {},
     "output_type": "execute_result"
    }
   ],
   "source": [
    "new_df.head()"
   ]
  },
  {
   "cell_type": "markdown",
   "metadata": {},
   "source": [
    "## Step 4. Merge two tables\n",
    "\n",
    "The DataFrame we have got so far contains fire statistics, and would need to be aggregated with shape or geometry data in order to be drawn or saved as Web Map item. In doing such, we will access an existing feature layer called `USA Counties`, and merge the geographic attributes of each counties in this feature layer (e.g. 'Shape_Area', 'Shape_Leng', 'Shape__Area', 'Shape__Length') into the fire statistics table.\n",
    "\n",
    "Before we can access the Feature Layer, let us connect to our GIS to geocode this data and present it as a map, either by specifying username and password, e.g. in `gis = GIS(\"https://www.arcgis.com\", \"arcgis_python\", \"P@ssword123\")` or via an existing profile:"
   ]
  },
  {
   "cell_type": "code",
   "execution_count": 16,
   "metadata": {},
   "outputs": [],
   "source": [
    "from arcgis.gis import GIS\n",
    "\n",
    "gis = GIS(profile=\"your_online_profile\")"
   ]
  },
  {
   "cell_type": "code",
   "execution_count": 17,
   "metadata": {
    "scrolled": false
   },
   "outputs": [
    {
     "data": {
      "text/html": [
       "<div class=\"item_container\" style=\"height: auto; overflow: hidden; border: 1px solid #cfcfcf; border-radius: 2px; background: #f6fafa; line-height: 1.21429em; padding: 10px;\">\n",
       "                    <div class=\"item_left\" style=\"width: 210px; float: left;\">\n",
       "                       <a href='https://geosaurus.maps.arcgis.com/home/item.html?id=48f9af87daa241c4b267c5931ad3b226' target='_blank'>\n",
       "                        <img src='data:image/png;base64,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' width='200' height='133' class=\"itemThumbnail\">\n",
       "                       </a>\n",
       "                    </div>\n",
       "\n",
       "                    <div class=\"item_right\"     style=\"float: none; width: auto; overflow: hidden;\">\n",
       "                        <a href='https://geosaurus.maps.arcgis.com/home/item.html?id=48f9af87daa241c4b267c5931ad3b226' target='_blank'><b>USA Counties</b>\n",
       "                        </a>\n",
       "                        <br/>USA Counties provides the county boundaries of the United States in the 50 states, the District of Columbia, and Puerto Rico.<img src='https://geosaurus.maps.arcgis.com/home/js/jsapi/esri/css/images/item_type_icons/featureshosted16.png' style=\"vertical-align:middle;\">Feature Layer Collection by esri_dm\n",
       "                        <br/>Last Modified: July 17, 2019\n",
       "                        <br/>0 comments, 9,411,533 views\n",
       "                    </div>\n",
       "                </div>\n",
       "                "
      ],
      "text/plain": [
       "<Item title:\"USA Counties\" type:Feature Layer Collection owner:esri_dm>"
      ]
     },
     "execution_count": 17,
     "metadata": {},
     "output_type": "execute_result"
    }
   ],
   "source": [
    "counties_item = gis.content.get('48f9af87daa241c4b267c5931ad3b226')\n",
    "counties_item"
   ]
  },
  {
   "cell_type": "code",
   "execution_count": 18,
   "metadata": {},
   "outputs": [
    {
     "data": {
      "text/plain": [
       "0       Monterey\n",
       "1     Santa Cruz\n",
       "2    Santa Clara\n",
       "3     San Benito\n",
       "4        Ventura\n",
       "Name: NAME, dtype: object"
      ]
     },
     "execution_count": 18,
     "metadata": {},
     "output_type": "execute_result"
    }
   ],
   "source": [
    "counties_flayer = counties_item.layers[0]\n",
    "counties_fset = counties_flayer.query(\"STATE_NAME='California'\")\n",
    "counties_fset.sdf['NAME'].head()"
   ]
  },
  {
   "cell_type": "code",
   "execution_count": 19,
   "metadata": {},
   "outputs": [
    {
     "data": {
      "text/plain": [
       "Index(['AGE_10_14', 'AGE_15_19', 'AGE_20_24', 'AGE_25_34', 'AGE_35_44',\n",
       "       'AGE_45_54', 'AGE_55_64', 'AGE_5_9', 'AGE_65_74', 'AGE_75_84',\n",
       "       'AGE_85_UP', 'AGE_UNDER5', 'AMERI_ES', 'ASIAN', 'AVE_FAM_SZ',\n",
       "       'AVE_HH_SZ', 'AVE_SALE12', 'AVE_SIZE12', 'BLACK', 'CNTY_FIPS',\n",
       "       'CROP_ACR12', 'FAMILIES', 'FEMALES', 'FHH_CHILD', 'FID', 'FIPS',\n",
       "       'HAWN_PI', 'HISPANIC', 'HOUSEHOLDS', 'HSEHLD_1_F', 'HSEHLD_1_M',\n",
       "       'HSE_UNITS', 'MALES', 'MARHH_CHD', 'MARHH_NO_C', 'MED_AGE', 'MED_AGE_F',\n",
       "       'MED_AGE_M', 'MHH_CHILD', 'MULT_RACE', 'NAME', 'NO_FARMS12', 'OBJECTID',\n",
       "       'OTHER', 'OWNER_OCC', 'POP10_SQMI', 'POP2010', 'POPULATION', 'POP_SQMI',\n",
       "       'RENTER_OCC', 'SHAPE', 'SQMI', 'STATE_FIPS', 'STATE_NAME', 'Shape_Area',\n",
       "       'Shape_Leng', 'Shape__Area', 'Shape__Length', 'VACANT', 'WHITE'],\n",
       "      dtype='object')"
      ]
     },
     "execution_count": 19,
     "metadata": {},
     "output_type": "execute_result"
    }
   ],
   "source": [
    "counties_fset.sdf.columns"
   ]
  },
  {
   "cell_type": "code",
   "execution_count": 20,
   "metadata": {},
   "outputs": [
    {
     "data": {
      "text/html": [
       "<div>\n",
       "<style scoped>\n",
       "    .dataframe tbody tr th:only-of-type {\n",
       "        vertical-align: middle;\n",
       "    }\n",
       "\n",
       "    .dataframe tbody tr th {\n",
       "        vertical-align: top;\n",
       "    }\n",
       "\n",
       "    .dataframe thead th {\n",
       "        text-align: right;\n",
       "    }\n",
       "</style>\n",
       "<table border=\"1\" class=\"dataframe\">\n",
       "  <thead>\n",
       "    <tr style=\"text-align: right;\">\n",
       "      <th></th>\n",
       "      <th>NAME</th>\n",
       "      <th>OBJECTID</th>\n",
       "      <th>POPULATION</th>\n",
       "      <th>POP_SQMI</th>\n",
       "      <th>SHAPE</th>\n",
       "      <th>SQMI</th>\n",
       "      <th>STATE_FIPS</th>\n",
       "      <th>STATE_NAME</th>\n",
       "      <th>Shape_Area</th>\n",
       "      <th>Shape_Leng</th>\n",
       "      <th>...</th>\n",
       "      <th>Shape__Length</th>\n",
       "      <th>DATE</th>\n",
       "      <th>COUNTY</th>\n",
       "      <th>ACRES</th>\n",
       "      <th>STRUCTURES</th>\n",
       "      <th>DEATHS</th>\n",
       "      <th>ID</th>\n",
       "      <th>FIRE NAME</th>\n",
       "      <th>CAUSE</th>\n",
       "      <th>STATE</th>\n",
       "    </tr>\n",
       "  </thead>\n",
       "  <tbody>\n",
       "    <tr>\n",
       "      <th>0</th>\n",
       "      <td>Monterey</td>\n",
       "      <td>34</td>\n",
       "      <td>431696</td>\n",
       "      <td>130.2</td>\n",
       "      <td>{'rings': [[[-13520087.6809747, 4283419.790017...</td>\n",
       "      <td>3314.42</td>\n",
       "      <td>06</td>\n",
       "      <td>California</td>\n",
       "      <td>0.860396</td>\n",
       "      <td>6.495277</td>\n",
       "      <td>...</td>\n",
       "      <td>7.926464e+05</td>\n",
       "      <td>July 1977</td>\n",
       "      <td>Monterey</td>\n",
       "      <td>177866</td>\n",
       "      <td>0</td>\n",
       "      <td>0.0</td>\n",
       "      <td>1</td>\n",
       "      <td>1MARBLE CONE</td>\n",
       "      <td>Lightning</td>\n",
       "      <td>CA</td>\n",
       "    </tr>\n",
       "    <tr>\n",
       "      <th>1</th>\n",
       "      <td>Monterey</td>\n",
       "      <td>34</td>\n",
       "      <td>431696</td>\n",
       "      <td>130.2</td>\n",
       "      <td>{'rings': [[[-13520087.6809747, 4283419.790017...</td>\n",
       "      <td>3314.42</td>\n",
       "      <td>06</td>\n",
       "      <td>California</td>\n",
       "      <td>0.860396</td>\n",
       "      <td>6.495277</td>\n",
       "      <td>...</td>\n",
       "      <td>7.926464e+05</td>\n",
       "      <td>June 2008</td>\n",
       "      <td>Monterey</td>\n",
       "      <td>162818</td>\n",
       "      <td>58</td>\n",
       "      <td>0.0</td>\n",
       "      <td>1</td>\n",
       "      <td>3BASIN COMPLEX</td>\n",
       "      <td>Lightning</td>\n",
       "      <td>CA</td>\n",
       "    </tr>\n",
       "    <tr>\n",
       "      <th>2</th>\n",
       "      <td>Ventura</td>\n",
       "      <td>38</td>\n",
       "      <td>861790</td>\n",
       "      <td>464.1</td>\n",
       "      <td>{'rings': [[[-13306531.4673448, 3933240.934103...</td>\n",
       "      <td>1857.01</td>\n",
       "      <td>06</td>\n",
       "      <td>California</td>\n",
       "      <td>0.471859</td>\n",
       "      <td>3.916199</td>\n",
       "      <td>...</td>\n",
       "      <td>4.811731e+05</td>\n",
       "      <td>September 1932</td>\n",
       "      <td>Ventura</td>\n",
       "      <td>220000</td>\n",
       "      <td>0</td>\n",
       "      <td>0.0</td>\n",
       "      <td>8</td>\n",
       "      <td>MATILIJA</td>\n",
       "      <td>Undetermined</td>\n",
       "      <td>CA</td>\n",
       "    </tr>\n",
       "    <tr>\n",
       "      <th>3</th>\n",
       "      <td>Ventura</td>\n",
       "      <td>38</td>\n",
       "      <td>861790</td>\n",
       "      <td>464.1</td>\n",
       "      <td>{'rings': [[[-13306531.4673448, 3933240.934103...</td>\n",
       "      <td>1857.01</td>\n",
       "      <td>06</td>\n",
       "      <td>California</td>\n",
       "      <td>0.471859</td>\n",
       "      <td>3.916199</td>\n",
       "      <td>...</td>\n",
       "      <td>4.811731e+05</td>\n",
       "      <td>September 2006</td>\n",
       "      <td>Ventura</td>\n",
       "      <td>162702</td>\n",
       "      <td>11</td>\n",
       "      <td>0.0</td>\n",
       "      <td>1</td>\n",
       "      <td>4DAY FIRE</td>\n",
       "      <td>Human Related</td>\n",
       "      <td>CA</td>\n",
       "    </tr>\n",
       "    <tr>\n",
       "      <th>4</th>\n",
       "      <td>Los Angeles</td>\n",
       "      <td>39</td>\n",
       "      <td>10275545</td>\n",
       "      <td>2514.1</td>\n",
       "      <td>{'rings': [[[-13149456.875, 3995666.875], [-13...</td>\n",
       "      <td>4087.19</td>\n",
       "      <td>06</td>\n",
       "      <td>California</td>\n",
       "      <td>1.036926</td>\n",
       "      <td>8.423152</td>\n",
       "      <td>...</td>\n",
       "      <td>1.020462e+06</td>\n",
       "      <td>August 2009</td>\n",
       "      <td>Los Angeles</td>\n",
       "      <td>160557</td>\n",
       "      <td>209</td>\n",
       "      <td>2.0</td>\n",
       "      <td>1</td>\n",
       "      <td>5STATION</td>\n",
       "      <td>Human Related</td>\n",
       "      <td>CA</td>\n",
       "    </tr>\n",
       "  </tbody>\n",
       "</table>\n",
       "<p>5 rows × 21 columns</p>\n",
       "</div>"
      ],
      "text/plain": [
       "          NAME  OBJECTID  POPULATION  POP_SQMI  \\\n",
       "0     Monterey        34      431696     130.2   \n",
       "1     Monterey        34      431696     130.2   \n",
       "2      Ventura        38      861790     464.1   \n",
       "3      Ventura        38      861790     464.1   \n",
       "4  Los Angeles        39    10275545    2514.1   \n",
       "\n",
       "                                               SHAPE     SQMI STATE_FIPS  \\\n",
       "0  {'rings': [[[-13520087.6809747, 4283419.790017...  3314.42         06   \n",
       "1  {'rings': [[[-13520087.6809747, 4283419.790017...  3314.42         06   \n",
       "2  {'rings': [[[-13306531.4673448, 3933240.934103...  1857.01         06   \n",
       "3  {'rings': [[[-13306531.4673448, 3933240.934103...  1857.01         06   \n",
       "4  {'rings': [[[-13149456.875, 3995666.875], [-13...  4087.19         06   \n",
       "\n",
       "   STATE_NAME  Shape_Area  Shape_Leng  ...  Shape__Length            DATE  \\\n",
       "0  California    0.860396    6.495277  ...   7.926464e+05       July 1977   \n",
       "1  California    0.860396    6.495277  ...   7.926464e+05       June 2008   \n",
       "2  California    0.471859    3.916199  ...   4.811731e+05  September 1932   \n",
       "3  California    0.471859    3.916199  ...   4.811731e+05  September 2006   \n",
       "4  California    1.036926    8.423152  ...   1.020462e+06     August 2009   \n",
       "\n",
       "        COUNTY   ACRES  STRUCTURES DEATHS  ID        FIRE NAME          CAUSE  \\\n",
       "0     Monterey  177866           0    0.0   1    1MARBLE CONE       Lightning   \n",
       "1     Monterey  162818          58    0.0   1  3BASIN COMPLEX       Lightning   \n",
       "2      Ventura  220000           0    0.0   8        MATILIJA    Undetermined   \n",
       "3      Ventura  162702          11    0.0   1       4DAY FIRE   Human Related   \n",
       "4  Los Angeles  160557         209    2.0   1        5STATION   Human Related   \n",
       "\n",
       "  STATE  \n",
       "0    CA  \n",
       "1    CA  \n",
       "2    CA  \n",
       "3    CA  \n",
       "4    CA  \n",
       "\n",
       "[5 rows x 21 columns]"
      ]
     },
     "execution_count": 20,
     "metadata": {},
     "output_type": "execute_result"
    }
   ],
   "source": [
    "cols_2 = ['NAME', 'OBJECTID', 'POPULATION', 'POP_SQMI',\n",
    "          'SHAPE', 'SQMI', 'STATE_FIPS', 'STATE_NAME', 'Shape_Area',\n",
    "          'Shape_Leng', 'Shape__Area', 'Shape__Length']\n",
    "overlap_rows = pd.merge(left = counties_fset.sdf[cols_2], right = new_df, how='inner',\n",
    "                        on = 'NAME')\n",
    "overlap_rows.head()"
   ]
  },
  {
   "cell_type": "markdown",
   "metadata": {},
   "source": [
    "## Step 5. Draw the top 20 impacted counties\n",
    "\n",
    "We now can draw the top 20 impacted counties, represented by the merged output DataFrame `overlap_rows`, with the API method `DataFrame.spatial.plot()`."
   ]
  },
  {
   "cell_type": "code",
   "execution_count": 15,
   "metadata": {},
   "outputs": [
    {
     "data": {
      "text/html": [
       "<img src=\"data:image/jpeg;base64,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\"/>"
      ],
      "text/plain": [
       "<IPython.core.display.Image object>"
      ]
     },
     "metadata": {},
     "output_type": "display_data"
    }
   ],
   "source": [
    "map1 = gis.map('USA')\n",
    "map1.layout.height = '650px'\n",
    "map1.legend = True\n",
    "map1"
   ]
  },
  {
   "cell_type": "code",
   "execution_count": 22,
   "metadata": {},
   "outputs": [
    {
     "data": {
      "text/plain": [
       "True"
      ]
     },
     "execution_count": 22,
     "metadata": {},
     "output_type": "execute_result"
    }
   ],
   "source": [
    "map1.clear_graphics()\n",
    "overlap_rows.spatial.plot(kind='map', map_widget=map1,\n",
    "                          renderer_type='c',  # for class breaks renderer\n",
    "                          method='esriClassifyNaturalBreaks',  # classification algorithm\n",
    "                          class_count=7,  # choose the number of classes\n",
    "                          col='ACRES',  # numeric column to classify\n",
    "                          cmap='hot',  # color map to pick colors from for each class\n",
    "                          alpha=0.7  # specify opacity\n",
    "                         )"
   ]
  },
  {
   "cell_type": "markdown",
   "metadata": {},
   "source": [
    "Besides viewing the top 20 impacted counties in the notebook's map widget, we can also save it as a web map, or then export the web map to a PDF output again."
   ]
  },
  {
   "cell_type": "code",
   "execution_count": 24,
   "metadata": {},
   "outputs": [
    {
     "data": {
      "text/html": [
       "<div class=\"item_container\" style=\"height: auto; overflow: hidden; border: 1px solid #cfcfcf; border-radius: 2px; background: #f6fafa; line-height: 1.21429em; padding: 10px;\">\n",
       "                    <div class=\"item_left\" style=\"width: 210px; float: left;\">\n",
       "                       <a href='https://geosaurus.maps.arcgis.com/home/item.html?id=03ccb5bacbd04c0ab434f7f72d5c6e28' target='_blank'>\n",
       "                        <img src='http://static.arcgis.com/images/desktopapp.png' class=\"itemThumbnail\">\n",
       "                       </a>\n",
       "                    </div>\n",
       "\n",
       "                    <div class=\"item_right\"     style=\"float: none; width: auto; overflow: hidden;\">\n",
       "                        <a href='https://geosaurus.maps.arcgis.com/home/item.html?id=03ccb5bacbd04c0ab434f7f72d5c6e28' target='_blank'><b>Top 20 largest Wildfires in California</b>\n",
       "                        </a>\n",
       "                        <br/>read pdf and export pdf<img src='https://geosaurus.maps.arcgis.com/home/js/jsapi/esri/css/images/item_type_icons/maps16.png' style=\"vertical-align:middle;\">Web Map by arcgis_python\n",
       "                        <br/>Last Modified: November 06, 2019\n",
       "                        <br/>0 comments, 0 views\n",
       "                    </div>\n",
       "                </div>\n",
       "                "
      ],
      "text/plain": [
       "<Item title:\"Top 20 largest Wildfires in California\" type:Web Map owner:arcgis_python>"
      ]
     },
     "execution_count": 24,
     "metadata": {},
     "output_type": "execute_result"
    }
   ],
   "source": [
    "item_properties = {\n",
    "    \"title\": \"Top 20 largest Wildfires in California\",\n",
    "    \"tags\" : \"wildfire\",\n",
    "    \"snippet\": \"read pdf and export pdf\",\n",
    "    \"description\": \"test description\"\n",
    "}\n",
    "item = map1.save(item_properties)\n",
    "item"
   ]
  },
  {
   "cell_type": "markdown",
   "metadata": {},
   "source": [
    "## Step 6. Export to PDF"
   ]
  },
  {
   "cell_type": "markdown",
   "metadata": {},
   "source": [
    "If you would also like to export the fire impacting counties into a PDF map, the required steps are: (1) obtain the web map json via the `Item.get_data()` API method, (2) modify the web map json to also include `exportOptions` and `mapOptions`, and (3) use `arcgis.mapping.export_map()` to get the PDF deliverable of the web map."
   ]
  },
  {
   "cell_type": "code",
   "execution_count": 25,
   "metadata": {},
   "outputs": [
    {
     "data": {
      "text/plain": [
       "dict_keys(['baseMap', 'spatialReference', 'version', 'authoringApp', 'authoringAppVersion', 'operationalLayers'])"
      ]
     },
     "execution_count": 25,
     "metadata": {},
     "output_type": "execute_result"
    }
   ],
   "source": [
    "webmap_json = item.get_data()\n",
    "webmap_json.keys()"
   ]
  },
  {
   "cell_type": "markdown",
   "metadata": {},
   "source": [
    "Based on <a href=\"https://enterprise.arcgis.com/en/server/latest/create-web-apps/windows/exportwebmap-specification.htm\">webmap spec</a>, the `mapOptions` and `exportOptions` also need to be specified for the json input. Here, the `extent` and `scale` are chosen based on the extents of the California State <a href=\"#References\">[2]</a>."
   ]
  },
  {
   "cell_type": "code",
   "execution_count": 26,
   "metadata": {},
   "outputs": [],
   "source": [
    "webmap_json['mapOptions'] = {\n",
    "    \"extent\" : {\n",
    "        \"xmin\": -14787899.07992277,\n",
    "        \"ymin\": 4631332.839146857,\n",
    "        \"xmax\": -11906528.861685533,\n",
    "        \"ymax\": 5286856.793720354,\n",
    "        \"spatialReference\": {\n",
    "            \"latestWkid\": 3857,\n",
    "            \"wkid\": 102100\n",
    "        }\n",
    "    },\n",
    "    \"scale\" : 9244648.868618,\n",
    "    \"spatialReference\" : {\n",
    "        \"wkid\" : 102100\n",
    "    }\n",
    "}"
   ]
  },
  {
   "cell_type": "code",
   "execution_count": 27,
   "metadata": {},
   "outputs": [],
   "source": [
    "webmap_json['exportOptions'] = { \"dpi\" : 96,\n",
    "                                 \"outputSize\" :  [746, 575]\n",
    "                               }"
   ]
  },
  {
   "cell_type": "markdown",
   "metadata": {},
   "source": [
    "Finally, we used <a href=\"https://developers.arcgis.com/python/api-reference/arcgis.mapping.html?highlight=export#arcgis.mapping.export_map\">`export_map`</a> method to create a PDF output of the web map item <a href=\"#References\">[3]</a>."
   ]
  },
  {
   "cell_type": "code",
   "execution_count": 30,
   "metadata": {},
   "outputs": [
    {
     "data": {
      "text/plain": [
       "'https://<your online org>/arcgis/rest/directories/arcgisoutput/Utilities/PrintingTools_GPServer/x_____xyrGnNUv1ZiB3czjYFv6cOQ..x_____x_ags_5136d180-00da-11ea-a00c-22000a457ff9.pdf'"
      ]
     },
     "execution_count": 30,
     "metadata": {},
     "output_type": "execute_result"
    }
   ],
   "source": [
    "from arcgis.mapping import export_map\n",
    "res = export_map(web_map_as_json=webmap_json, format='PDF', layout_template='MAP_ONLY')\n",
    "res[\"url\"]"
   ]
  },
  {
   "cell_type": "markdown",
   "metadata": {},
   "source": [
    "The `res[\"url\"]` shown above points to the URL address of the exported map which displays the top 20 most impacted counties in California by wildfire. If interested in creating more fun maps from the PDF files provided by **CAL FIRE**, you can repeat the previously done workflow with two other links stored in variable `pdf_url_list`."
   ]
  },
  {
   "cell_type": "markdown",
   "metadata": {},
   "source": [
    "## References\n",
    "\n",
    "[1] https://www.fire.ca.gov/stats-events/\n",
    "\n",
    "[2] https://enterprise.arcgis.com/en/server/latest/create-web-apps/windows/exportwebmap-specification.htm\n",
    "\n",
    "[3] https://developers.arcgis.com/python/api-reference/arcgis.mapping.html?highlight=export#arcgis.mapping.export_map"
   ]
  }
 ],
 "metadata": {
  "kernelspec": {
   "display_name": "Python 3",
   "language": "python",
   "name": "python3"
  },
  "language_info": {
   "codemirror_mode": {
    "name": "ipython",
    "version": 3
   },
   "file_extension": ".py",
   "mimetype": "text/x-python",
   "name": "python",
   "nbconvert_exporter": "python",
   "pygments_lexer": "ipython3",
   "version": "3.6.8"
  },
  "toc": {
   "base_numbering": 1,
   "nav_menu": {},
   "number_sections": false,
   "sideBar": true,
   "skip_h1_title": true,
   "title_cell": "Table of Contents",
   "title_sidebar": "Contents",
   "toc_cell": true,
   "toc_position": {},
   "toc_section_display": true,
   "toc_window_display": false
  },
  "varInspector": {
   "cols": {
    "lenName": 16,
    "lenType": 16,
    "lenVar": 40
   },
   "kernels_config": {
    "python": {
     "delete_cmd_postfix": "",
     "delete_cmd_prefix": "del ",
     "library": "var_list.py",
     "varRefreshCmd": "print(var_dic_list())"
    },
    "r": {
     "delete_cmd_postfix": ") ",
     "delete_cmd_prefix": "rm(",
     "library": "var_list.r",
     "varRefreshCmd": "cat(var_dic_list()) "
    }
   },
   "types_to_exclude": [
    "module",
    "function",
    "builtin_function_or_method",
    "instance",
    "_Feature"
   ],
   "window_display": false
  }
 },
 "nbformat": 4,
 "nbformat_minor": 2
}
