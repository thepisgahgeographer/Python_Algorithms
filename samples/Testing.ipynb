{
 "cells": [
  {
   "cell_type": "code",
   "execution_count": 1,
   "id": "031d2951",
   "metadata": {},
   "outputs": [],
   "source": [
    "import matplotlib"
   ]
  },
  {
   "cell_type": "code",
   "execution_count": 2,
   "id": "fec35531",
   "metadata": {},
   "outputs": [
    {
     "data": {
      "text/plain": [
       "<module 'matplotlib' from 'C:\\\\Dev_Projects\\\\Python_OOP\\\\env\\\\lib\\\\site-packages\\\\matplotlib\\\\__init__.py'>"
      ]
     },
     "execution_count": 2,
     "metadata": {},
     "output_type": "execute_result"
    }
   ],
   "source": [
    "matplotlib"
   ]
  },
  {
   "cell_type": "code",
   "execution_count": 5,
   "id": "7399e990",
   "metadata": {},
   "outputs": [],
   "source": [
    "dict = {\n",
    "    \"Mountain\": \"Hibriten\",\n",
    "    \"Elevation\": 2230,\n",
    "    \"Range\": \"Brushy\"\n",
    "}"
   ]
  },
  {
   "cell_type": "code",
   "execution_count": 4,
   "id": "45a6f992",
   "metadata": {},
   "outputs": [
    {
     "data": {
      "text/plain": [
       "dict_keys(['Mountain', 'Elevation', 'Range'])"
      ]
     },
     "execution_count": 4,
     "metadata": {},
     "output_type": "execute_result"
    }
   ],
   "source": [
    "dict.keys()"
   ]
  },
  {
   "cell_type": "code",
   "execution_count": 8,
   "id": "0e7fbc91",
   "metadata": {},
   "outputs": [
    {
     "data": {
      "text/plain": [
       "'Brushy'"
      ]
     },
     "execution_count": 8,
     "metadata": {},
     "output_type": "execute_result"
    }
   ],
   "source": [
    "dict.get(\"Range\")"
   ]
  },
  {
   "attachments": {},
   "cell_type": "markdown",
   "id": "8c57237b",
   "metadata": {},
   "source": [
    "##### Create a program that converts a dictionary of scores into letter grades."
   ]
  },
  {
   "cell_type": "code",
   "execution_count": 15,
   "id": "c6a38c5e",
   "metadata": {},
   "outputs": [
    {
     "name": "stdout",
     "output_type": "stream",
     "text": [
      "B\n",
      "A\n",
      "A\n"
     ]
    }
   ],
   "source": [
    "grades = {\n",
    "    \"Yuri\": 78,\n",
    "    \"Ella\": 92,\n",
    "    \"Kate\": 91\n",
    "}\n",
    "\n",
    "def convert_grades(val):\n",
    "    for key, val in grades.items():\n",
    "        if val >= 90:\n",
    "            print(\"A\")\n",
    "        elif val > 75 and val < 90:\n",
    "            print(\"B\")\n",
    "        else:\n",
    "            print(\"Fail\")\n",
    "        \n",
    "\n",
    "convert_grades(grades)\n",
    "\n",
    "\n"
   ]
  },
  {
   "attachments": {},
   "cell_type": "markdown",
   "id": "a3847984",
   "metadata": {},
   "source": [
    "##### Write a function that adds a dictionary value into a list"
   ]
  },
  {
   "cell_type": "code",
   "execution_count": 20,
   "id": "2efe907c",
   "metadata": {},
   "outputs": [
    {
     "data": {
      "text/plain": [
       "[{'Mountain': 'Hibriten', 'Elevation': 2230, 'Range': 'Brushy'},\n",
       " {'Mountain': 'Chestnut', 'Elevation': 3400, 'Range': 'South Mtns'},\n",
       " {'mtn': 'Rockhouse', 'ele': 3400, 'rn': 'Wilson'}]"
      ]
     },
     "execution_count": 20,
     "metadata": {},
     "output_type": "execute_result"
    }
   ],
   "source": [
    "mountains = [\n",
    "    {\n",
    "        \"Mountain\": \"Hibriten\",\n",
    "        \"Elevation\": 2230,\n",
    "        \"Range\": \"Brushy\"\n",
    "    },\n",
    "    {\n",
    "        \"Mountain\": \"Chestnut\",\n",
    "        \"Elevation\": 3400,\n",
    "        \"Range\": \"South Mtns\"\n",
    "    }\n",
    "]\n",
    "\n",
    "\n",
    "def add_dict_list(mountain_name, elevation, range):\n",
    "    test = {}\n",
    "    test[\"mtn\"] = mountain_name\n",
    "    test[\"ele\"] = elevation\n",
    "    test[\"rn\"] = range\n",
    "    mountains.append(test)\n",
    "    return mountains\n",
    "\n",
    "add_dict_list(\"Rockhouse\", 3400, \"Wilson\")\n",
    "\n",
    "\n",
    "\n",
    "\n"
   ]
  },
  {
   "cell_type": "code",
   "execution_count": 30,
   "id": "a821e607",
   "metadata": {},
   "outputs": [
    {
     "data": {
      "text/plain": [
       "{0: 0, 1: 1, 2: 2, 3: 3, 4: 4, 5: 5, 6: 6, 7: 7, 8: 8, 9: 9}"
      ]
     },
     "execution_count": 30,
     "metadata": {},
     "output_type": "execute_result"
    }
   ],
   "source": [
    "dict1 = {key:key for key in range(0,10)}\n",
    "dict1"
   ]
  },
  {
   "cell_type": "code",
   "execution_count": 33,
   "id": "3eb14c24",
   "metadata": {},
   "outputs": [
    {
     "data": {
      "text/plain": [
       "{'milk': 0.7752, 'coffee': 1.9, 'bread': 1.9}"
      ]
     },
     "execution_count": 33,
     "metadata": {},
     "output_type": "execute_result"
    }
   ],
   "source": [
    "old_price = {'milk': 1.02, 'coffee': 2.5, 'bread': 2.5}\n",
    "\n",
    "dollar_to_pound = 0.76\n",
    "new_price = {item: value*dollar_to_pound for (item, value) in old_price.items()}\n",
    "\n",
    "new_price"
   ]
  },
  {
   "cell_type": "code",
   "execution_count": 38,
   "id": "6932169a",
   "metadata": {},
   "outputs": [
    {
     "data": {
      "text/plain": [
       "{'number_streams_Test': 10, 'Elevation_Test': 4460, 'Range_Test': 50}"
      ]
     },
     "execution_count": 38,
     "metadata": {},
     "output_type": "execute_result"
    }
   ],
   "source": [
    "hibriten = {\n",
    "    \"number_streams\": 5,\n",
    "    \"Elevation\": 2230,\n",
    "    \"Range\": 25    \n",
    "}\n",
    "\n",
    "\n",
    "final = {key+\"_Test\":value*2 for (key, value) in hibriten.items()}\n",
    "final"
   ]
  },
  {
   "cell_type": "code",
   "execution_count": null,
   "id": "d6d0484d",
   "metadata": {},
   "outputs": [],
   "source": [
    "from replit import clear\n",
    "from art import logo\n",
    "print(logo)\n",
    "\n",
    "bids = {}\n",
    "bidding_finished = False\n",
    "\n",
    "def find_highest_bidder(bidding_record):\n",
    "  highest_bid = 0\n",
    "  winner = \"\"\n",
    "  # bidding_record = {\"Angela\": 123, \"James\": 321}\n",
    "  for bidder in bidding_record:\n",
    "    bid_amount = bidding_record[bidder]\n",
    "    if bid_amount > highest_bid: \n",
    "      highest_bid = bid_amount\n",
    "      winner = bidder\n",
    "  print(f\"The winner is {winner} with a bid of ${highest_bid}\")\n",
    "\n",
    "while not bidding_finished:\n",
    "  name = input(\"What is your name?: \")\n",
    "  price = int(input(\"What is your bid?: $\"))\n",
    "  bids[name] = price\n",
    "  should_continue = input(\"Are there any other bidders? Type 'yes or 'no'.\\n\")\n",
    "  if should_continue == \"no\":\n",
    "    bidding_finished = True\n",
    "    find_highest_bidder(bids)\n",
    "  elif should_continue == \"yes\":\n",
    "    clear()\n",
    "  \n",
    "\n",
    "\"\"\"\n",
    "FAQ: My console doesn't clear()\n",
    "\n",
    "This will happen if you’re using an IDE other than replit. \n",
    "I’ll cover how to use PyCharm in Day 15. That said, you can write your own clear() function or configure your IDE like so: \n",
    "\n",
    "https://www.udemy.com/course/100-days-of-code/learn/lecture/19279420#questions/16084076\n",
    "\n",
    "\"\"\""
   ]
  },
  {
   "attachments": {},
   "cell_type": "markdown",
   "id": "9601a6f1",
   "metadata": {},
   "source": [
    "##### Write a function that calculates the number of days in the month based upon an input."
   ]
  },
  {
   "cell_type": "code",
   "execution_count": 4,
   "id": "b5be11ff",
   "metadata": {},
   "outputs": [
    {
     "data": {
      "text/plain": [
       "{'Dec': 31,\n",
       " 'Jan': 28,\n",
       " 'Feb': 31,\n",
       " 'Mar': 30,\n",
       " 'Apr': 31,\n",
       " 'May': 30,\n",
       " 'Jun': 31,\n",
       " 'Jul': 31,\n",
       " 'Aug': 30,\n",
       " 'Sep': 29,\n",
       " 'Oct': 28,\n",
       " 'Nov': 28}"
      ]
     },
     "execution_count": 4,
     "metadata": {},
     "output_type": "execute_result"
    }
   ],
   "source": [
    "month_days = [31, 28, 31, 30, 31, 30, 31, 31, 30, 29, 28, 28]\n",
    "month_names = ['Dec', 'Jan', 'Feb', 'Mar', 'Apr', 'May', 'Jun', 'Jul', 'Aug', 'Sep', 'Oct', 'Nov']\n",
    "\n",
    "# val = input(\"What month would you like to know # of days?\")\n",
    "\n",
    "# myDict = {}\n",
    "# for month in month_names:\n",
    "#     for day in month_days:\n",
    "#         myDict[month] = day\n",
    "#         break\n",
    "# myDict\n",
    "\n",
    "dict = {month_names[i]: month_days[i] for i in range(len(month_names))}\n",
    "dict\n"
   ]
  },
  {
   "cell_type": "code",
   "execution_count": 4,
   "id": "af0a256d",
   "metadata": {},
   "outputs": [
    {
     "data": {
      "text/plain": [
       "0.14107200793176355"
      ]
     },
     "execution_count": 4,
     "metadata": {},
     "output_type": "execute_result"
    }
   ],
   "source": [
    "import random\n",
    "\n",
    "random_integer = random.randint(0,10)\n",
    "random_integer\n",
    "\n",
    "random_float = random.random()\n",
    "random_float"
   ]
  },
  {
   "cell_type": "code",
   "execution_count": 7,
   "id": "95571990",
   "metadata": {},
   "outputs": [
    {
     "name": "stdout",
     "output_type": "stream",
     "text": [
      "Heads\n"
     ]
    }
   ],
   "source": [
    "random_int = random.randint(0,1)\n",
    "random_int\n",
    "\n",
    "if random_int == 0:\n",
    "    print(\"Heads\")\n",
    "else:\n",
    "    print(\"Tails\")"
   ]
  },
  {
   "cell_type": "code",
   "execution_count": 15,
   "id": "c9f7d40d",
   "metadata": {},
   "outputs": [
    {
     "data": {
      "text/plain": [
       "['Camp Creek Bluff',\n",
       " 'Brackettown Valley Meadow',\n",
       " \"Bob's Creek Pocket Wilderness\",\n",
       " 'Simms Hill/Little River Uplands',\n",
       " 'Island Creek Heath Bluff',\n",
       " 'First Broad/Five Points Bluff',\n",
       " 'Hicks Hill Bluffs and Forests',\n",
       " 'Knob Creek Natural Area',\n",
       " 'Henry Fork River Slopes',\n",
       " 'Lyle Creek Corridor']"
      ]
     },
     "execution_count": 15,
     "metadata": {},
     "output_type": "execute_result"
    }
   ],
   "source": [
    "import pandas as pd\n",
    "\n",
    "table = pd.read_csv(r\"C:\\Users\\yuri7100\\Desktop\\NA_table.csv\")\n",
    "#print(table.head())\n",
    "\n",
    "final = table.iloc[:10][\"NA_NAME\"].tolist()\n",
    "final"
   ]
  },
  {
   "cell_type": "code",
   "execution_count": 16,
   "id": "9307d385",
   "metadata": {},
   "outputs": [
    {
     "data": {
      "text/plain": [
       "['Camp Creek Bluff',\n",
       " 'Brackettown Valley Meadow',\n",
       " \"Bob's Creek Pocket Wilderness\",\n",
       " 'Simms Hill/Little River Uplands',\n",
       " 'Island Creek Heath Bluff',\n",
       " 'First Broad/Five Points Bluff',\n",
       " 'Hicks Hill Bluffs and Forests',\n",
       " 'Knob Creek Natural Area',\n",
       " 'Henry Fork River Slopes',\n",
       " 'Lyle Creek Corridor',\n",
       " 'Hibriten Mountain']"
      ]
     },
     "execution_count": 16,
     "metadata": {},
     "output_type": "execute_result"
    }
   ],
   "source": [
    "final.append(\"Hibriten Mountain\")\n",
    "final"
   ]
  },
  {
   "cell_type": "code",
   "execution_count": 19,
   "id": "57323391",
   "metadata": {},
   "outputs": [
    {
     "name": "stdout",
     "output_type": "stream",
     "text": [
      "The Nat Resource is Hibriten Mountain\n"
     ]
    }
   ],
   "source": [
    "def valuableResource():\n",
    "    test = random.choice(final)\n",
    "    print(f\"The Nat Resource is {test}\")\n",
    "\n",
    "valuableResource()"
   ]
  },
  {
   "attachments": {},
   "cell_type": "markdown",
   "id": "652c119f",
   "metadata": {},
   "source": [
    "##### Create an application that plays paper, rock, scissors.  You choose an input and at random, another choice is made."
   ]
  },
  {
   "cell_type": "code",
   "execution_count": 30,
   "id": "316148fb",
   "metadata": {},
   "outputs": [
    {
     "name": "stdout",
     "output_type": "stream",
     "text": [
      "Rock\n",
      "Computer Wins\n"
     ]
    }
   ],
   "source": [
    "inpt = input(\"Choose Rock, Paper, or Scissors\")\n",
    "\n",
    "def rockPaperScissors(inpt):\n",
    "    lis = [\"Rock\", \"Paper\", \"Scissors\"]\n",
    "    computer_choice = random.choice(lis)\n",
    "    print(computer_choice)\n",
    "    if inpt == \"Rock\" and computer_choice == \"Paper\":\n",
    "        print(\"You Win\")\n",
    "    elif inpt == \"Rock\" and computer_choice == \"Scissors\":\n",
    "        print(\"You Win\")\n",
    "    elif inpt == \"Scissors\" and computer_choice == \"Paper\":\n",
    "        print(\"You Win\")\n",
    "    elif inpt == \"Rock\" or \"Scissors\"\n",
    "    else:\n",
    "        print(\"Computer Wins\")\n",
    "\n",
    "rockPaperScissors(inpt)\n"
   ]
  },
  {
   "cell_type": "code",
   "execution_count": null,
   "id": "1b5fe0c9",
   "metadata": {},
   "outputs": [],
   "source": []
  }
 ],
 "metadata": {
  "kernelspec": {
   "display_name": "Python 3",
   "language": "python",
   "name": "python3"
  },
  "language_info": {
   "codemirror_mode": {
    "name": "ipython",
    "version": 3
   },
   "file_extension": ".py",
   "mimetype": "text/x-python",
   "name": "python",
   "nbconvert_exporter": "python",
   "pygments_lexer": "ipython3",
   "version": "3.9.13"
  },
  "vscode": {
   "interpreter": {
    "hash": "a0970df92c79f2cac7f6a399b902d6b95dbd565377b423f7a39d73ad8b4065b4"
   }
  }
 },
 "nbformat": 4,
 "nbformat_minor": 5
}
