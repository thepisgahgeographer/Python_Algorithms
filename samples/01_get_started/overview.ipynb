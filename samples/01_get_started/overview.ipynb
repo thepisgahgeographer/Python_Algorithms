{
 "cells": [
  {
   "cell_type": "markdown",
   "metadata": {},
   "source": [
    "# Samples\n",
    "\n",
    "These samples demonstrate various features of the ArcGIS API for Python. The samples are categorized by the user profile they are most relevant to. Most samples are in the form of a [Jupyter Notebooks](http://jupyter-notebook.readthedocs.io/en/latest/notebook.html), that can be viewed online, or downloaded and run interactively. Other samples are provided as stand-alone Python scripts in the GitHub SDK repository.\n",
    "\n",
    "## Download and run the sample notebooks\n",
    "To run the sample notebooks locally, you need the ArcGIS API for Python installed on your computer. See the [Getting Started](https://developers.arcgis.com/python/guide/install-and-set-up/) section in the Guide to learn how to download and run the API.\n",
    "\n",
    "Once the API is installed, you can download the samples either as an [archive](https://github.com/Esri/arcgis-python-api/archive/v1.0.1.zip) or clone the [arcgis-python-api](https://github.com/Esri/arcgis-python-api) GitHub repository. \n",
    "\n",
    "Next, extract the archive if you downloaded as an archive then open your terminal application and enter the directory with the samples. Then start Jupyter notebook application. Refer to [Using the Jupyter Notebook environment](https://developers.arcgis.com/python/guide/using-the-jupyter-notebook-environment/) tutorial in the Guide for instructions on how to do this and to get yourself familiar with the notebook environment."
   ]
  }
 ],
 "metadata": {
  "kernelspec": {
   "display_name": "Python 3",
   "language": "python",
   "name": "python3"
  },
  "language_info": {
   "codemirror_mode": {
    "name": "ipython",
    "version": 3
   },
   "file_extension": ".py",
   "mimetype": "text/x-python",
   "name": "python",
   "nbconvert_exporter": "python",
   "pygments_lexer": "ipython3",
   "version": "3.5.3"
  }
 },
 "nbformat": 4,
 "nbformat_minor": 1
}
