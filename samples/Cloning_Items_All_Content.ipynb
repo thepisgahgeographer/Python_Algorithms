{
 "cells": [
  {
   "cell_type": "code",
   "execution_count": 62,
   "metadata": {},
   "outputs": [
    {
     "name": "stdout",
     "output_type": "stream",
     "text": [
      "Please sign in to your GIS and paste the code that is obtained below.\n",
      "If a web browser does not automatically open, please navigate to the URL below yourself instead.\n",
      "Opening web browser to navigate to: https://government.maps.arcgis.com/sharing/rest/oauth2/authorize?client_id=7Rk12oR3HAmUytxE&response_type=code&expiration=-1&redirect_uri=urn%3Aietf%3Awg%3Aoauth%3A2.0%3Aoob\n",
      "Enter code obtained on signing in using SAML: ········\n",
      "Logged in as: ypotawsky_ourcityc\n",
      "Logged in as: YPotawsky@esri.com_government\n",
      "[<User username:ypotawsky_ourcityc>]\n",
      "[<User username:YPotawsky@esri.com_government>]\n",
      "[<Item title:\"SCARC Conference 2019\" type:Hub Initiative owner:ypotawsky_ourcityc>, <Item title:\"SCARC Conference\" type:Hub Site Application owner:ypotawsky_ourcityc>, <Item title:\"Esri Elections Offerings\" type:StoryMap owner:ypotawsky_ourcityc>, <Item title:\"Florence_Locations\" type:Service Definition owner:ypotawsky_ourcityc>, <Item title:\"Florence_Locations\" type:Feature Layer Collection owner:ypotawsky_ourcityc>, <Item title:\"Florence_Downtown_Location\" type:Web Map owner:ypotawsky_ourcityc>, <Item title:\"SCARC Conference Attendees\" type:Dashboard owner:ypotawsky_ourcityc>, <Item title:\"SCARC Web App\" type:Web Mapping Application owner:ypotawsky_ourcityc>, <Item title:\"SCARC Web App\" type:Code Attachment owner:ypotawsky_ourcityc>, <Item title:\"Hub SC\" type:Web Mapping Application owner:ypotawsky_ourcityc>, <Item title:\"Hub_Demo\" type:Code Attachment owner:ypotawsky_ourcityc>, <Item title:\"Hilton Head Public Awareness\" type:Hub Site Application owner:ypotawsky_ourcityc>, <Item title:\"Default Story Map Template\" type:Web Mapping Application owner:ypotawsky_ourcityc>, <Item title:\"Waterfront_Patches\" type:Service Definition owner:ypotawsky_ourcityc>, <Item title:\"Waterfront_Patches\" type:Feature Layer Collection owner:ypotawsky_ourcityc>, <Item title:\"Waterfront_Patches\" type:Scene Layer owner:ypotawsky_ourcityc>, <Item title:\"Watershed\" type:Service Definition owner:ypotawsky_ourcityc>, <Item title:\"Watershed\" type:Feature Layer Collection owner:ypotawsky_ourcityc>, <Item title:\"SCARC Presenter Submission\" type:Web Mapping Application owner:ypotawsky_ourcityc>, <Item title:\"HIlton Head Tourism\" type:Hub Site Application owner:ypotawsky_ourcityc>, <Item title:\"Yuri_3D\" type:Scene Package owner:ypotawsky_ourcityc>, <Item title:\"Yuri_3D\" type:Scene Layer owner:ypotawsky_ourcityc>, <Item title:\"Hilton_Head_Sub_Parcel\" type:Feature Layer Collection owner:ypotawsky_ourcityc>, <Item title:\"ZonesHH\" type:Feature Layer Collection owner:ypotawsky_ourcityc>, <Item title:\"HIlton_Head\" type:Web Scene owner:ypotawsky_ourcityc>, <Item title:\"Communicating          the value of GIS\" type:StoryMap owner:ypotawsky_ourcityc>, <Item title:\"ArcGIS Hub\" type:StoryMap owner:ypotawsky_ourcityc>, <Item title:\"Brushy_Pts\" type:Service Definition owner:ypotawsky_ourcityc>, <Item title:\"Brushy_Pts\" type:Feature Layer Collection owner:ypotawsky_ourcityc>, <Item title:\"Collector_Test\" type:Web Map owner:ypotawsky_ourcityc>, <Item title:\"World_Imagery\" type:Map Image Layer owner:ypotawsky_ourcityc>, <Item title:\"Meck_2015\" type:Compact Tile Package owner:ypotawsky_ourcityc>, <Item title:\"Meck_2015\" type:Imagery Layer owner:ypotawsky_ourcityc>, <Item title:\"test\" type:Web Mapping Application owner:ypotawsky_ourcityc>, <Item title:\"Watersheds\" type:Web Map owner:ypotawsky_ourcityc>, <Item title:\"SCARC Conference 2019 Events\" type:Feature Layer Collection owner:ypotawsky_ourcityc>, <Item title:\"\" type:StoryMap owner:ypotawsky_ourcityc>, <Item title:\"ArcGIS for Public Works \" type:StoryMap owner:ypotawsky_ourcityc>, <Item title:\"USFS_Nantahala_Pisgah_Trails_updated\" type:Feature Layer Collection owner:ypotawsky_ourcityc>]\n",
      "Number of folders 5 # Number of items 54\n",
      "{'849ce2dae1494236a9f7ccc56cc74ef4': <Item title:\"SCARC Conference 2019\" type:Hub Initiative owner:ypotawsky_ourcityc>, '9634b858b7f14adb8c7d1dad98aed1cc': <Item title:\"SCARC Conference\" type:Hub Site Application owner:ypotawsky_ourcityc>, '3c102b4832f64ad7bc76e6d02967a5a8': <Item title:\"Esri Elections Offerings\" type:StoryMap owner:ypotawsky_ourcityc>, '9bebc73e61f140a3a336bdfb5265afbd': <Item title:\"Florence_Locations\" type:Service Definition owner:ypotawsky_ourcityc>, '080fbed731da425d9d570039f51fee93': <Item title:\"Florence_Locations\" type:Feature Layer Collection owner:ypotawsky_ourcityc>, '3f81f2bc439c41a7a75f0ed8217a4041': <Item title:\"Florence_Downtown_Location\" type:Web Map owner:ypotawsky_ourcityc>, '6617064b29e34b52af4b0177fbabc0c6': <Item title:\"SCARC Conference Attendees\" type:Dashboard owner:ypotawsky_ourcityc>, '92f541bc08b8484086f2ccaffdf0c001': <Item title:\"SCARC Web App\" type:Web Mapping Application owner:ypotawsky_ourcityc>, '53056ec98a394decb695d9de4eec8d1d': <Item title:\"SCARC Web App\" type:Code Attachment owner:ypotawsky_ourcityc>, '05048bb3856b4c3a97fc435a935a7c73': <Item title:\"Hub SC\" type:Web Mapping Application owner:ypotawsky_ourcityc>, '1bde9057fd9a4eefa0c2d5e4adbb8ef5': <Item title:\"Hub_Demo\" type:Code Attachment owner:ypotawsky_ourcityc>, 'bd03a605e3424dc9a8abe7d7bacebced': <Item title:\"Hilton Head Public Awareness\" type:Hub Site Application owner:ypotawsky_ourcityc>, '2b820fc484ec4bccb6d0426f0c2d2748': <Item title:\"Default Story Map Template\" type:Web Mapping Application owner:ypotawsky_ourcityc>, 'c02f94204dce49f68c2f36082e9593eb': <Item title:\"Waterfront_Patches\" type:Service Definition owner:ypotawsky_ourcityc>, '50956fc3d9e04bc4b9fdf404e3f3f818': <Item title:\"Waterfront_Patches\" type:Feature Layer Collection owner:ypotawsky_ourcityc>, '499f799a498c46cc80dfd3f941539a51': <Item title:\"Waterfront_Patches\" type:Scene Layer owner:ypotawsky_ourcityc>, 'cd08f04ad2b54be1a154bb37e19156ef': <Item title:\"Watershed\" type:Service Definition owner:ypotawsky_ourcityc>, 'ccc115e4497f4205b50b0835d71a84d4': <Item title:\"Watershed\" type:Feature Layer Collection owner:ypotawsky_ourcityc>, '17fbec3d4e7049b8a112d486dc1042de': <Item title:\"SCARC Presenter Submission\" type:Web Mapping Application owner:ypotawsky_ourcityc>, 'd408f46431f543bf9344f57dbdd29c03': <Item title:\"HIlton Head Tourism\" type:Hub Site Application owner:ypotawsky_ourcityc>, 'f4e3b2a4e7414571980cbbcd7c809bd5': <Item title:\"Yuri_3D\" type:Scene Package owner:ypotawsky_ourcityc>, '428f60b0495b4424ad86895e40d2d300': <Item title:\"Yuri_3D\" type:Scene Layer owner:ypotawsky_ourcityc>, '100209c2b1bf49d493316e4fe61391ca': <Item title:\"Hilton_Head_Sub_Parcel\" type:Feature Layer Collection owner:ypotawsky_ourcityc>, 'f72d6668f6574e2fa0fcec3111462a0a': <Item title:\"ZonesHH\" type:Feature Layer Collection owner:ypotawsky_ourcityc>, '4fbe9df2f15d41628636189a5c54becc': <Item title:\"HIlton_Head\" type:Web Scene owner:ypotawsky_ourcityc>, '1f318288da014a8da97eff981869a3cc': <Item title:\"Communicating          the value of GIS\" type:StoryMap owner:ypotawsky_ourcityc>, 'f7b4010b05fb43f3bd54840af35ed21d': <Item title:\"ArcGIS Hub\" type:StoryMap owner:ypotawsky_ourcityc>, 'b003c31fd49e481993bf0ee9ed655107': <Item title:\"Brushy_Pts\" type:Service Definition owner:ypotawsky_ourcityc>, 'a65747adc0574e638a23ee2073a521ac': <Item title:\"Brushy_Pts\" type:Feature Layer Collection owner:ypotawsky_ourcityc>, 'ed9d237d0f584572b9ab2940c0bef3a6': <Item title:\"Collector_Test\" type:Web Map owner:ypotawsky_ourcityc>, '2a0bec9647ea404995290dc93831d932': <Item title:\"World_Imagery\" type:Map Image Layer owner:ypotawsky_ourcityc>, 'd035acc9ffbf409597790d78f3ce97cc': <Item title:\"Meck_2015\" type:Compact Tile Package owner:ypotawsky_ourcityc>, '04b7663245e14e85ad0004a14753a266': <Item title:\"Meck_2015\" type:Imagery Layer owner:ypotawsky_ourcityc>, '1bdacffe4c3b4a41b600a5d8ad1fce86': <Item title:\"test\" type:Web Mapping Application owner:ypotawsky_ourcityc>, '1fe5c4657d094e7bac060deb85b3d888': <Item title:\"Watersheds\" type:Web Map owner:ypotawsky_ourcityc>, 'cc339569e693447c83d136c1aba24c5f': <Item title:\"SCARC Conference 2019 Events\" type:Feature Layer Collection owner:ypotawsky_ourcityc>, 'ecbfc85ec44f4f1db80e6b8ad4900e57': <Item title:\"\" type:StoryMap owner:ypotawsky_ourcityc>, 'b3df697afd894946a902d33debd30bce': <Item title:\"ArcGIS for Public Works \" type:StoryMap owner:ypotawsky_ourcityc>, '458e99556ee347198cc34116e7c1f829': <Item title:\"USFS_Nantahala_Pisgah_Trails_updated\" type:Feature Layer Collection owner:ypotawsky_ourcityc>}\n"
     ]
    }
   ],
   "source": [
    "from arcgis.gis import GIS\n",
    "from IPython.display import display\n",
    "from getpass import getpass\n",
    "import tempfile\n",
    "\n",
    "sourceOrg = GIS(\"https://ourcityc.maps.arcgis.com/\", \"username\", \"password\")\n",
    "destOrg = GIS(\"https://government.maps.arcgis.com\",  client_id=\"\")\n",
    "print(\"Logged in as: \" + sourceOrg.properties.user.username)\n",
    "print(\"Logged in as: \" + destOrg.properties.user.username)\n",
    "\n",
    "orig_userid = \"ypotawsky\"\n",
    "new_userid = \"YPotawsky\"\n",
    "\n",
    "\n",
    "source_user = sourceOrg.users.search('ypotawsky')\n",
    "print(source_user)\n",
    "\n",
    "dest_user = destOrg.users.search('ypotawsky')\n",
    "print(dest_user)\n",
    "\n",
    "#create function to assign content to user_content variable and ensure global scope\n",
    "source_items_by_id = {}\n",
    "def items():\n",
    "    global num_items, num_folders, user_content\n",
    "    num_items = 0\n",
    "    num_folders = 0\n",
    "    user_content = source_user[0].items()\n",
    "    print(user_content)\n",
    "items()\n",
    "\n",
    "for item in user_content:\n",
    "        num_items += 1\n",
    "        source_items_by_id[item.itemid] = item \n",
    "#        print(num_items)\n",
    "\n",
    "folders = source_user[0].folders\n",
    "for folder in folders:\n",
    "    num_folders += 1\n",
    "    global folder_items\n",
    "    folder_items = source_user[0].items('Survey_Catch')\n",
    "    for item in folder_items:\n",
    "        num_items += 1\n",
    "#        source_items_by_id[item.itemid] = item\n",
    "print(\"Number of folders {} # Number of items {}\".format(str(num_folders), str(num_items)))\n",
    "print(source_items_by_id)\n",
    "\n",
    "\n",
    "def copyFolders():\n",
    "    destOrg.content.clone_items(folder_items, folder='Survey_Catch', copy_data=True)\n",
    "    \n",
    "copyFolders()\n"
   ]
  },
  {
   "cell_type": "code",
   "execution_count": null,
   "metadata": {},
   "outputs": [],
   "source": []
  }
 ],
 "metadata": {
  "kernelspec": {
   "display_name": "Python 3",
   "language": "python",
   "name": "python3"
  },
  "language_info": {
   "codemirror_mode": {
    "name": "ipython",
    "version": 3
   },
   "file_extension": ".py",
   "mimetype": "text/x-python",
   "name": "python",
   "nbconvert_exporter": "python",
   "pygments_lexer": "ipython3",
   "version": "3.6.9"
  }
 },
 "nbformat": 4,
 "nbformat_minor": 2
}
