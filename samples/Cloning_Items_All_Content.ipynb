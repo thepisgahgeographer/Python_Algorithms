{
 "cells": [
  {
   "cell_type": "code",
   "execution_count": 5,
   "metadata": {},
   "outputs": [
    {
     "name": "stdout",
     "output_type": "stream",
     "text": [
      "What is the soure org/portal url: https://ourcityc.maps.arcgis.com\n",
      "What is the source org Username: ypotawsky_ourcityc\n",
      "Enter password: ········\n",
      "Logged in as: ypotawsky_ourcityc\n",
      "Please sign in to your GIS and paste the code that is obtained below.\n",
      "If a web browser does not automatically open, please navigate to the URL below yourself instead.\n",
      "Opening web browser to navigate to: https://government.maps.arcgis.com/sharing/rest/oauth2/authorize?client_id=YaMKYbXuSkd02G9i&response_type=code&expiration=-1&redirect_uri=urn%3Aietf%3Awg%3Aoauth%3A2.0%3Aoob\n",
      "Enter code obtained on signing in using SAML: ········\n",
      "Logged in as: YPotawsky@esri.com_government\n",
      "[<Item title:\"SCARC Conference 2019\" type:Hub Initiative owner:ypotawsky_ourcityc>, <Item title:\"SCARC Conference\" type:Hub Site Application owner:ypotawsky_ourcityc>, <Item title:\"Esri Elections Offerings\" type:StoryMap owner:ypotawsky_ourcityc>, <Item title:\"Florence_Locations\" type:Service Definition owner:ypotawsky_ourcityc>, <Item title:\"Florence_Locations\" type:Feature Layer Collection owner:ypotawsky_ourcityc>, <Item title:\"Florence_Downtown_Location\" type:Web Map owner:ypotawsky_ourcityc>, <Item title:\"SCARC Conference Attendees\" type:Dashboard owner:ypotawsky_ourcityc>, <Item title:\"SCARC Web App\" type:Web Mapping Application owner:ypotawsky_ourcityc>, <Item title:\"SCARC Web App\" type:Code Attachment owner:ypotawsky_ourcityc>, <Item title:\"Hub SC\" type:Web Mapping Application owner:ypotawsky_ourcityc>, <Item title:\"Hub_Demo\" type:Code Attachment owner:ypotawsky_ourcityc>, <Item title:\"Hilton Head Public Awareness\" type:Hub Site Application owner:ypotawsky_ourcityc>, <Item title:\"Default Story Map Template\" type:Web Mapping Application owner:ypotawsky_ourcityc>, <Item title:\"Waterfront_Patches\" type:Service Definition owner:ypotawsky_ourcityc>, <Item title:\"Waterfront_Patches\" type:Feature Layer Collection owner:ypotawsky_ourcityc>, <Item title:\"Waterfront_Patches\" type:Scene Layer owner:ypotawsky_ourcityc>, <Item title:\"Watershed\" type:Service Definition owner:ypotawsky_ourcityc>, <Item title:\"Watershed\" type:Feature Layer Collection owner:ypotawsky_ourcityc>, <Item title:\"SCARC Presenter Submission\" type:Web Mapping Application owner:ypotawsky_ourcityc>, <Item title:\"HIlton Head Tourism\" type:Hub Site Application owner:ypotawsky_ourcityc>, <Item title:\"Yuri_3D\" type:Scene Package owner:ypotawsky_ourcityc>, <Item title:\"Yuri_3D\" type:Scene Layer owner:ypotawsky_ourcityc>, <Item title:\"Hilton_Head_Sub_Parcel\" type:Feature Layer Collection owner:ypotawsky_ourcityc>, <Item title:\"ZonesHH\" type:Feature Layer Collection owner:ypotawsky_ourcityc>, <Item title:\"HIlton_Head\" type:Web Scene owner:ypotawsky_ourcityc>, <Item title:\"Communicating          the value of GIS\" type:StoryMap owner:ypotawsky_ourcityc>, <Item title:\"ArcGIS Hub\" type:StoryMap owner:ypotawsky_ourcityc>, <Item title:\"Brushy_Pts\" type:Service Definition owner:ypotawsky_ourcityc>, <Item title:\"Brushy_Pts\" type:Feature Layer Collection owner:ypotawsky_ourcityc>, <Item title:\"Collector_Test\" type:Web Map owner:ypotawsky_ourcityc>, <Item title:\"World_Imagery\" type:Map Image Layer owner:ypotawsky_ourcityc>, <Item title:\"Meck_2015\" type:Compact Tile Package owner:ypotawsky_ourcityc>, <Item title:\"Meck_2015\" type:Imagery Layer owner:ypotawsky_ourcityc>, <Item title:\"test\" type:Web Mapping Application owner:ypotawsky_ourcityc>, <Item title:\"Watersheds\" type:Web Map owner:ypotawsky_ourcityc>, <Item title:\"SCARC Conference 2019 Events\" type:Feature Layer Collection owner:ypotawsky_ourcityc>, <Item title:\"\" type:StoryMap owner:ypotawsky_ourcityc>, <Item title:\"ArcGIS for Public Works \" type:StoryMap owner:ypotawsky_ourcityc>, <Item title:\"USFS_Nantahala_Pisgah_Trails_updated\" type:Feature Layer Collection owner:ypotawsky_ourcityc>]\n",
      "<Item title:\"SCARC Conference 2019\" type:Hub Initiative owner:ypotawsky_ourcityc>\n"
     ]
    },
    {
     "ename": "AttributeError",
     "evalue": "'Item' object has no attribute 'folders'",
     "output_type": "error",
     "traceback": [
      "\u001b[1;31m---------------------------------------------------------------------------\u001b[0m",
      "\u001b[1;31mKeyError\u001b[0m                                  Traceback (most recent call last)",
      "\u001b[1;32mC:\\Program Files\\ArcGIS\\Pro\\bin\\Python\\envs\\arcgispro-py3\\lib\\site-packages\\arcgis\\gis\\__init__.py\u001b[0m in \u001b[0;36m__getattr__\u001b[1;34m(self, name)\u001b[0m\n\u001b[0;32m   6998\u001b[0m         \u001b[1;32mtry\u001b[0m\u001b[1;33m:\u001b[0m\u001b[1;33m\u001b[0m\u001b[1;33m\u001b[0m\u001b[0m\n\u001b[1;32m-> 6999\u001b[1;33m             \u001b[1;32mreturn\u001b[0m \u001b[0mdict\u001b[0m\u001b[1;33m.\u001b[0m\u001b[0m__getitem__\u001b[0m\u001b[1;33m(\u001b[0m\u001b[0mself\u001b[0m\u001b[1;33m,\u001b[0m \u001b[0mname\u001b[0m\u001b[1;33m)\u001b[0m\u001b[1;33m\u001b[0m\u001b[1;33m\u001b[0m\u001b[0m\n\u001b[0m\u001b[0;32m   7000\u001b[0m         \u001b[1;32mexcept\u001b[0m\u001b[1;33m:\u001b[0m\u001b[1;33m\u001b[0m\u001b[1;33m\u001b[0m\u001b[0m\n",
      "\u001b[1;31mKeyError\u001b[0m: 'folders'",
      "\nDuring handling of the above exception, another exception occurred:\n",
      "\u001b[1;31mAttributeError\u001b[0m                            Traceback (most recent call last)",
      "\u001b[1;32m<ipython-input-5-14e99ea24e75>\u001b[0m in \u001b[0;36m<module>\u001b[1;34m\u001b[0m\n\u001b[0;32m     49\u001b[0m     \u001b[0msource_items_by_id\u001b[0m\u001b[1;33m[\u001b[0m\u001b[0mitem\u001b[0m\u001b[1;33m.\u001b[0m\u001b[0mitemid\u001b[0m\u001b[1;33m]\u001b[0m \u001b[1;33m=\u001b[0m \u001b[0mitem\u001b[0m\u001b[1;33m\u001b[0m\u001b[1;33m\u001b[0m\u001b[0m\n\u001b[0;32m     50\u001b[0m     \u001b[0mprint\u001b[0m\u001b[1;33m(\u001b[0m\u001b[0mitem\u001b[0m\u001b[1;33m)\u001b[0m\u001b[1;33m\u001b[0m\u001b[1;33m\u001b[0m\u001b[0m\n\u001b[1;32m---> 51\u001b[1;33m     \u001b[0mf\u001b[0m\u001b[1;33m.\u001b[0m\u001b[0mwrite\u001b[0m\u001b[1;33m(\u001b[0m\u001b[0mstr\u001b[0m\u001b[1;33m(\u001b[0m\u001b[0mitem\u001b[0m\u001b[1;33m)\u001b[0m \u001b[1;33m+\u001b[0m \u001b[0mstr\u001b[0m\u001b[1;33m(\u001b[0m\u001b[0mitem\u001b[0m\u001b[1;33m.\u001b[0m\u001b[0mfolders\u001b[0m\u001b[1;33m)\u001b[0m \u001b[1;33m+\u001b[0m \u001b[1;34m'\\n'\u001b[0m\u001b[1;33m)\u001b[0m\u001b[1;33m\u001b[0m\u001b[1;33m\u001b[0m\u001b[0m\n\u001b[0m\u001b[0;32m     52\u001b[0m \u001b[0mf\u001b[0m\u001b[1;33m.\u001b[0m\u001b[0mclose\u001b[0m\u001b[1;33m(\u001b[0m\u001b[1;33m)\u001b[0m\u001b[1;33m\u001b[0m\u001b[1;33m\u001b[0m\u001b[0m\n\u001b[0;32m     53\u001b[0m \u001b[1;33m\u001b[0m\u001b[0m\n",
      "\u001b[1;32mC:\\Program Files\\ArcGIS\\Pro\\bin\\Python\\envs\\arcgispro-py3\\lib\\site-packages\\arcgis\\gis\\__init__.py\u001b[0m in \u001b[0;36m__getattr__\u001b[1;34m(self, name)\u001b[0m\n\u001b[0;32m   6999\u001b[0m             \u001b[1;32mreturn\u001b[0m \u001b[0mdict\u001b[0m\u001b[1;33m.\u001b[0m\u001b[0m__getitem__\u001b[0m\u001b[1;33m(\u001b[0m\u001b[0mself\u001b[0m\u001b[1;33m,\u001b[0m \u001b[0mname\u001b[0m\u001b[1;33m)\u001b[0m\u001b[1;33m\u001b[0m\u001b[1;33m\u001b[0m\u001b[0m\n\u001b[0;32m   7000\u001b[0m         \u001b[1;32mexcept\u001b[0m\u001b[1;33m:\u001b[0m\u001b[1;33m\u001b[0m\u001b[1;33m\u001b[0m\u001b[0m\n\u001b[1;32m-> 7001\u001b[1;33m             \u001b[1;32mraise\u001b[0m \u001b[0mAttributeError\u001b[0m\u001b[1;33m(\u001b[0m\u001b[1;34m\"'%s' object has no attribute '%s'\"\u001b[0m \u001b[1;33m%\u001b[0m \u001b[1;33m(\u001b[0m\u001b[0mtype\u001b[0m\u001b[1;33m(\u001b[0m\u001b[0mself\u001b[0m\u001b[1;33m)\u001b[0m\u001b[1;33m.\u001b[0m\u001b[0m__name__\u001b[0m\u001b[1;33m,\u001b[0m \u001b[0mname\u001b[0m\u001b[1;33m)\u001b[0m\u001b[1;33m)\u001b[0m\u001b[1;33m\u001b[0m\u001b[1;33m\u001b[0m\u001b[0m\n\u001b[0m\u001b[0;32m   7002\u001b[0m \u001b[1;33m\u001b[0m\u001b[0m\n\u001b[0;32m   7003\u001b[0m     \u001b[1;32mdef\u001b[0m \u001b[0m__getitem__\u001b[0m\u001b[1;33m(\u001b[0m\u001b[0mself\u001b[0m\u001b[1;33m,\u001b[0m \u001b[0mk\u001b[0m\u001b[1;33m)\u001b[0m\u001b[1;33m:\u001b[0m \u001b[1;31m# support item attributes as dictionary keys on this object\u001b[0m\u001b[1;33m\u001b[0m\u001b[1;33m\u001b[0m\u001b[0m\n",
      "\u001b[1;31mAttributeError\u001b[0m: 'Item' object has no attribute 'folders'"
     ]
    }
   ],
   "source": [
    "from arcgis.gis import GIS\n",
    "from IPython.display import display\n",
    "from getpass import getpass\n",
    "import tempfile\n",
    "\n",
    "uriS = input(\"What is the soure org/portal url: \")\n",
    "unS = input(\"What is the source org Username: \")\n",
    "\n",
    "def authSource():\n",
    "    global sourceOrg\n",
    "    sourceOrg = GIS(uriS, unS)\n",
    "    print(\"Logged in as: \" + sourceOrg.properties.user.username)\n",
    "authSource()\n",
    "\n",
    "\n",
    "destOrg = GIS(\"https://government.maps.arcgis.com\", client_id = \"YaMKYbXuSkd02G9i\")\n",
    "print(\"Logged in as: \" + destOrg.properties.user.username)\n",
    "\n",
    "orig_userid = unS\n",
    "new_userid  =  unS\n",
    "\n",
    "\n",
    "#capture/print information about sourceOrg User\n",
    "sourceUser = sourceOrg.users.get(orig_userid)\n",
    "newUser = destOrg.users.get(new_userid)\n",
    "\n",
    "usergroups = sourceUser['groups']\n",
    "for group in usergroups:\n",
    "    grp = sourceOrg.groups.get(group['id'])\n",
    "\n",
    "\n",
    "source_user = sourceOrg.users.search('ypotawsky')\n",
    "dest_user = destOrg.users.search('ypotawsky')\n",
    "\n",
    "\n",
    "#create function to assign content to user_content variable and ensure global scope\n",
    "source_items_by_id = {}\n",
    "def items():\n",
    "    global num_items, num_folders, user_content\n",
    "    num_items = 0\n",
    "    num_folders = 0\n",
    "    user_content = source_user[0].items()\n",
    "    print(user_content)\n",
    "items()\n",
    "\n",
    "f = open(\"C:\\\\Users\\\\yuri7100\\\\Desktop\\\\Source_Org_Items.txt\", \"w\") \n",
    "for item in user_content:\n",
    "    num_items += 1\n",
    "    source_items_by_id[item.itemid] = item\n",
    "    print(item)\n",
    "    f.write(str(item) + str(item.folders) + '\\n')\n",
    "f.close()\n",
    "\n",
    "\n",
    "#folders = source_user[0].folders\n",
    "#for folder in folders:\n",
    "#    num_folders += 1\n",
    "#    global folder_items\n",
    "#    folder_items = source_user[0].items('Survey_Catch')\n",
    "#    for item in folder_items:\n",
    "#        num_items += 1\n",
    "\n",
    "#print(\"Number of folders {} # Number of items {}\".format(str(num_folders), str(num_items)))\n",
    "#print(source_items_by_id)\n",
    "\n",
    "\n",
    "#def copyFolders():\n",
    "#    destOrg.content.clone_items(folder_items, folder='Survey_Catch', copy_data=True)\n",
    "#copyFolders()\n"
   ]
  },
  {
   "cell_type": "code",
   "execution_count": null,
   "metadata": {},
   "outputs": [],
   "source": []
  }
 ],
 "metadata": {
  "kernelspec": {
   "display_name": "Python 3",
   "language": "python",
   "name": "python3"
  },
  "language_info": {
   "codemirror_mode": {
    "name": "ipython",
    "version": 3
   },
   "file_extension": ".py",
   "mimetype": "text/x-python",
   "name": "python",
   "nbconvert_exporter": "python",
   "pygments_lexer": "ipython3",
   "version": "3.6.9"
  }
 },
 "nbformat": 4,
 "nbformat_minor": 2
}
