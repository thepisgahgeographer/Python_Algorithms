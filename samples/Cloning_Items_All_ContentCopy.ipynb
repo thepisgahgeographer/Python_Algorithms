{
 "cells": [
  {
   "cell_type": "code",
   "execution_count": 17,
   "metadata": {},
   "outputs": [
    {
     "name": "stdout",
     "output_type": "stream",
     "text": [
      "Enter password: ········\n",
      "Logged in as: ypotawsky_ourcityc\n",
      "Please sign in to your GIS and paste the code that is obtained below.\n",
      "If a web browser does not automatically open, please navigate to the URL below yourself instead.\n",
      "Opening web browser to navigate to: https://government.maps.arcgis.com/sharing/rest/oauth2/authorize?client_id=YaMKYbXuSkd02G9i&response_type=code&expiration=-1&redirect_uri=urn%3Aietf%3Awg%3Aoauth%3A2.0%3Aoob\n",
      "Enter code obtained on signing in using SAML: ········\n",
      "Logged in as: YPotawsky@esri.com_government\n",
      "<class 'list'>\n",
      "All strings with given substring are : []\n"
     ]
    },
    {
     "data": {
      "text/plain": [
       "'\\n\\n\\n#foldDest = input(\"Name the output folder in the Destination org: \")\\n#def copyFolders():\\n#    destOrg.content.clone_items(folder_items, folder= foldDest, copy_data=True)\\n#copyFolders()\\n'"
      ]
     },
     "execution_count": 17,
     "metadata": {},
     "output_type": "execute_result"
    }
   ],
   "source": [
    "from arcgis.gis import GIS\n",
    "from IPython.display import display\n",
    "from getpass import getpass\n",
    "import tempfile\n",
    "\n",
    "#uriS = input(\"What is the soure org/portal url: \")\n",
    "#unS = input(\"What is the source org Username: \")\n",
    "\n",
    "uriS = \"https://ourcityc.maps.arcgis.com\"\n",
    "unS = \"ypotawsky_ourcityc\"\n",
    "\n",
    "def authSource():\n",
    "    global sourceOrg\n",
    "    sourceOrg = GIS(uriS, unS)\n",
    "    print(\"Logged in as: \" + sourceOrg.properties.user.username)\n",
    "authSource()\n",
    "\n",
    "\n",
    "destOrg = GIS(\"https://government.maps.arcgis.com\", client_id = \"YaMKYbXuSkd02G9i\")\n",
    "print(\"Logged in as: \" + destOrg.properties.user.username)\n",
    "\n",
    "orig_userid = unS\n",
    "new_userid  =  unS\n",
    "\n",
    "sourceUser = sourceOrg.users.get(orig_userid)\n",
    "newUser = destOrg.users.get(new_userid)\n",
    "\n",
    "usergroups = sourceUser['groups']\n",
    "for group in usergroups:\n",
    "    grp = sourceOrg.groups.get(group['id'])\n",
    "\n",
    "\n",
    "source_user = sourceOrg.users.search(orig_userid)\n",
    "dest_user = destOrg.users.search(new_userid)\n",
    "\n",
    "def folderRepo():\n",
    "    global f, foldContent\n",
    "    f = open(\"C:\\\\Users\\\\yuri7100\\\\Desktop\\\\Source_Org_Items.txt\", \"w\") \n",
    "    foldContent = source_user[0].folders\n",
    "    print(type(foldContent))\n",
    "    for folder in foldContent: \n",
    "        f.write(str(folder) + '\\n')\n",
    "folderRepo()\n",
    "f.close()\n",
    "\n",
    "\n",
    "subs = 'title : Survey_Catch'\n",
    "\n",
    "res = [i for i in foldContent if subs in i] \n",
    "  \n",
    "print (\"All strings with given substring are : \" + str(res)) \n",
    "\n",
    "\n",
    "#folderItems = input(\"What is the folder you wish to copy: \")\n",
    "\n",
    "\"\"\"\n",
    "\n",
    "\n",
    "#foldDest = input(\"Name the output folder in the Destination org: \")\n",
    "#def copyFolders():\n",
    "#    destOrg.content.clone_items(folder_items, folder= foldDest, copy_data=True)\n",
    "#copyFolders()\n",
    "\"\"\""
   ]
  },
  {
   "cell_type": "code",
   "execution_count": null,
   "metadata": {},
   "outputs": [],
   "source": []
  }
 ],
 "metadata": {
  "kernelspec": {
   "display_name": "Python 3",
   "language": "python",
   "name": "python3"
  },
  "language_info": {
   "codemirror_mode": {
    "name": "ipython",
    "version": 3
   },
   "file_extension": ".py",
   "mimetype": "text/x-python",
   "name": "python",
   "nbconvert_exporter": "python",
   "pygments_lexer": "ipython3",
   "version": "3.6.9"
  }
 },
 "nbformat": 4,
 "nbformat_minor": 2
}
