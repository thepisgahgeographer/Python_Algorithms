{
 "cells": [
  {
   "cell_type": "markdown",
   "metadata": {},
   "source": [
    "# Copy Items From one Organization to Another\n",
    "### Run this sample to connect to the source & destination GIS and get started:"
   ]
  },
  {
   "cell_type": "markdown",
   "metadata": {},
   "source": [
    "#### You will be prompted to input the url, username, and password for the source agol organization account.\n",
    "\n"
   ]
  },
  {
   "cell_type": "code",
   "execution_count": null,
   "metadata": {},
   "outputs": [],
   "source": [
    "from arcgis.gis import GIS\n",
    "from IPython.display import display\n",
    "\n",
    "uriS = input(\"What is the soure org/portal url: \")\n",
    "unS = input(\"What is the source org Username: \")\n",
    "\n",
    "def authSource():\n",
    "    global sourceOrg\n",
    "    sourceOrg = GIS(uriS, unS)\n",
    "    print(\"Logged in as: \" + sourceOrg.properties.user.username)\n",
    "authSource()\n"
   ]
  },
  {
   "attachments": {
    "oAuth_Approval.jpg": {
     "image/jpeg": "[encoded data removed]"
    }
   },
   "cell_type": "markdown",
   "metadata": {},
   "source": [
    "#### After running the next cell, a browser window will launch requesting an authentication string via SAML as Enterprise Logins are enforced in government.maps.arcgis.com. Copy the string and paste it directly into the notebook. \n",
    "\n",
    "![oAuth_Approval.jpg](attachment:oAuth_Approval.jpg)"
   ]
  },
  {
   "cell_type": "code",
   "execution_count": null,
   "metadata": {},
   "outputs": [],
   "source": [
    "destOrg = GIS(\"https://government.maps.arcgis.com\", client_id = \"YaMKYbXuSkd02G9i\")\n",
    "print(\"Logged in as: \" + destOrg.properties.user.username)\n",
    "\n",
    "\n",
    "orig_userid =  unS\n",
    "new_userid = unS\n",
    "\n",
    "#capture/print information about sourceOrg User\n",
    "sourceUser = sourceOrg.users.get(orig_userid)\n",
    "newUser = destOrg.users.get(new_userid)\n",
    "\n",
    "usergroups = sourceUser['groups']\n",
    "\n",
    "\n",
    "\n",
    "for group in usergroups:\n",
    "    grp = sourceOrg.groups.get(group['id'])\n"
   ]
  },
  {
   "cell_type": "markdown",
   "metadata": {},
   "source": [
    "#### You will be prompted for the item id which can be obtained from the source agol organization."
   ]
  },
  {
   "cell_type": "code",
   "execution_count": null,
   "metadata": {},
   "outputs": [],
   "source": [
    "a = input(\"What is the Item ID: \")\n",
    "def item(a):\n",
    "    global itemId\n",
    "    itemId = sourceOrg.content.get(a)\n",
    "    print(itemId)\n",
    "item(a)\n",
    "\n",
    "#define a function to instantiate the list as the ContentManager class clone_items method requires an input list param.\n",
    "def createList():\n",
    "    global li\n",
    "    li = []\n",
    "    li.append(itemId)\n",
    "createList()\n",
    "\n",
    "\n",
    "#function that copies item id into the previously created list\n",
    "try:\n",
    "    def copyItem():\n",
    "        copy = destOrg.content\n",
    "        copy.clone_items(li, copy_data=True)\n",
    "    copyItem()\n",
    "    print(\"Copy Items was successful!\")\n",
    "except:\n",
    "    print(\"There was an error with the copy process\")\n",
    "finally:\n",
    "    print(\"The script is finished...\") \n",
    "    \n",
    "    \n",
    "    "
   ]
  },
  {
   "cell_type": "code",
   "execution_count": null,
   "metadata": {},
   "outputs": [],
   "source": []
  }
 ],
 "metadata": {
  "esriNotebookRuntime": {
   "notebookRuntimeName": "ArcGIS Notebook Python 3 Advanced",
   "notebookRuntimeVersion": "3.0"
  },
  "kernelspec": {
   "display_name": "Python 3",
   "language": "python",
   "name": "python3"
  },
  "language_info": {
   "codemirror_mode": {
    "name": "ipython",
    "version": 3
   },
   "file_extension": ".py",
   "mimetype": "text/x-python",
   "name": "python",
   "nbconvert_exporter": "python",
   "pygments_lexer": "ipython3",
   "version": "3.6.9"
  }
 },
 "nbformat": 4,
 "nbformat_minor": 2
}
