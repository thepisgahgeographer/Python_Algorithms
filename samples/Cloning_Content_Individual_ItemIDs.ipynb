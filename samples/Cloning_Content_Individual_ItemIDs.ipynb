{
 "cells": [
  {
   "cell_type": "code",
   "execution_count": null,
   "metadata": {},
   "outputs": [],
   "source": [
    "from arcgis.gis import GIS\n",
    "from IPython.display import display\n",
    "from getpass import getpass\n",
    "\n",
    "sourceOrg = GIS(\"https://ourcityc.maps.arcgis.com/\", \"username\", \"password\")\n",
    "destOrg = GIS(\"https://government.maps.arcgis.com\",  client_id=\"\")\n",
    "print(\"Logged in as: \" + sourceOrg.properties.user.username)\n",
    "print(\"Logged in as: \" + destOrg.properties.user.username)\n",
    "\n",
    "\n",
    "orig_userid = \"ypotawsky\"\n",
    "new_userid = \"ypotawsky\"\n",
    "\n",
    "#capture/print information about sourceOrg User\n",
    "sourceUser = sourceOrg.users.get(orig_userid)\n",
    "newUser = destOrg.users.get(new_userid)\n",
    "\n",
    "#Replace this variable with content itemId\n",
    "itemId = sourceOrg.content.get(\"\")\n",
    "print(itemId)\n",
    "\n",
    "#define a function to instantiate the list as the ContentManager class clone_items method requires an input list param.\n",
    "def createArray():\n",
    "    global arry\n",
    "    arry = []\n",
    "    arry.append(itemId)\n",
    "copyItem()\n",
    "\n",
    "\n",
    "#function that copies item id into the previously created list\n",
    "def copyItem():\n",
    "    destOrg.content.clone_items(arry, copy_data=True)\n",
    "copyItem()\n",
    "\n",
    "print(\"Copied Individual item {}\".format(itemId))"
   ]
  },
  {
   "cell_type": "code",
   "execution_count": null,
   "metadata": {},
   "outputs": [],
   "source": []
  }
 ],
 "metadata": {
  "kernelspec": {
   "display_name": "Python 3",
   "language": "python",
   "name": "python3"
  },
  "language_info": {
   "codemirror_mode": {
    "name": "ipython",
    "version": 3
   },
   "file_extension": ".py",
   "mimetype": "text/x-python",
   "name": "python",
   "nbconvert_exporter": "python",
   "pygments_lexer": "ipython3",
   "version": "3.6.9"
  }
 },
 "nbformat": 4,
 "nbformat_minor": 2
}
