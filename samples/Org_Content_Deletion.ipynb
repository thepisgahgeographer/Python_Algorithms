{
 "metadata": {
  "language_info": {
   "codemirror_mode": {
    "name": "ipython",
    "version": 3
   },
   "file_extension": ".py",
   "mimetype": "text/x-python",
   "name": "python",
   "nbconvert_exporter": "python",
   "pygments_lexer": "ipython3",
   "version": 3
  },
  "orig_nbformat": 2
 },
 "nbformat": 4,
 "nbformat_minor": 2,
 "cells": [
  {
   "cell_type": "code",
   "execution_count": null,
   "metadata": {},
   "outputs": [],
   "source": [
    "def delete_existing_items(item_types, name_list):\n",
    "    for current_item_type in item_types:\n",
    "        for file_name in name_list:    \n",
    "            search_result = gis.content.search(query=file_name, item_type=current_item_type)\n",
    "            if len(search_result) > 0:\n",
    "                for item in search_result:\n",
    "                    item.delete()\n",
    "                    print(\"Deleted existing \" + current_item_type + \": \", item)\n",
    "                    \n",
    "item_types = [\"Service Definition\", \"Feature Layer Collection\", \"Map Service\"]\n",
    "name_list = [\"Nursing_home_locations\", \"NewPy_WTL_test_SingleLayerBuildCache\"]\n",
    "delete_existing_items(item_types, name_list)\n",
    "\n",
    "item_types = [\"Shapefile\", \"Feature Layer Collection\"]\n",
    "name_list = [\"power_pedestals_2012\"]\n",
    "delete_existing_items(item_types, name_list)\n",
    "\n",
    "item_types = [\"CSV\", \"Feature Layer Collection\"]\n",
    "name_list = [\"Chennai_precipitation\"]\n",
    "delete_existing_items(item_types, name_list)"
   ]
  },
  {
   "cell_type": "code",
   "execution_count": null,
   "metadata": {},
   "outputs": [],
   "source": [
    "def delete_existing_folder(folder_name):\n",
    "    try:\n",
    "        return gis.content.delete_folder(folder=folder_name)\n",
    "    except:\n",
    "        return False\n",
    "\n",
    "my_folder_name = \"Rainfall Data\"\n",
    "delete_existing_folder(my_folder_name) # returns True if folder exists, or False if non-exist"
   ]
  }
 ]
}