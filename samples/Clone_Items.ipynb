{
 "cells": [
  {
   "cell_type": "markdown",
   "metadata": {},
   "source": [
    "# Copy Items From one Organization to Another\n",
    "### This Notebook contains samples for connecting to either ArcGIS Online or Portal for ArcGIS as the source GIS from which copied data will originate. A destination GIS will also be required as the location where the cloned items will be placed. Only run the code block that applies for your scenario.  \n",
    "\n",
    "### If this Notebook were to be hosted in a different environment and you wanted to copy data into/from this environment, the GIS Base Class Object can be changed to \"home\" without the need for authentication."
   ],
   "execution_count": null,
   "outputs": []
  },
  {
   "cell_type": "markdown",
   "metadata": {},
   "source": [
    "### Connecting to ArcGIS Online or Portal for ArcGIS as the source GIS.\n",
    "\n",
    "##### You will be prompted to input the url, username, and password for the Source AGOL Organization or Portal Account. "
   ],
   "execution_count": null,
   "outputs": []
  },
  {
   "cell_type": "code",
   "execution_count": null,
   "metadata": {},
   "outputs": [],
   "source": [
    "from arcgis.gis import GIS\n",
    "from IPython.display import display\n",
    "from getpass import getpass\n",
    "import IPython\n",
    "import datetime\n",
    "\n",
    "uriS = input(\"What is the soure AGOL or Portal url: \")\n",
    "unS = input(\"What is the source GIS Username: \")\n",
    "\n",
    "def authSource():\n",
    "    global sourceOrg\n",
    "    sourceOrg = GIS(uriS, unS)\n",
    "    print(\"Logged in as: \" + sourceOrg.properties.user.username)\n",
    "authSource()"
   ]
  },
  {
   "cell_type": "markdown",
   "metadata": {},
   "source": [
    "### To use government.maps.arcgis.com as the destination GIS, run the cell below otherwise skip to the next code block."
   ],
   "execution_count": null,
   "outputs": []
  },
  {
   "cell_type": "markdown",
   "metadata": {},
   "source": [
    "#### After running the next cell, a browser window will launch requesting an authentication string via SAML as Enterprise Logins are enforced in government.maps.arcgis.com. Copy the string and paste it directly into the notebook. \n",
    "\n",
    "![oAuth_Approval.jpg](attachment:oAuth_Approval.jpg)\n",
    "\n"
   ],
   "execution_count": null,
   "outputs": []
  },
  {
   "cell_type": "code",
   "execution_count": null,
   "metadata": {},
   "outputs": [],
   "source": [
    "destOrg = GIS(\"https://government.maps.arcgis.com\", client_id = \"YaMKYbXuSkd02G9i\")\n",
    "print(\"Logged in as: \" + destOrg.properties.user.username)\n",
    "\n",
    "orig_userid = unS\n",
    "new_userid  =  unS\n",
    "\n",
    "sourceUser = sourceOrg.users.get(orig_userid)\n",
    "newUser = destOrg.users.get(new_userid)\n",
    "\n",
    "source_user = sourceOrg.users.search(orig_userid)\n",
    "dest_user = destOrg.users.search(new_userid)\n"
   ]
  },
  {
   "cell_type": "markdown",
   "metadata": {},
   "source": [
    "### Connecting to ArcGIS Online or Portal for ArcGIS as the Destination GIS. \n",
    "\n",
    "##### You will be prompted to input the url, username, and password for the Destination AGOL Organization or Portal Account. "
   ],
   "execution_count": null,
   "outputs": []
  },
  {
   "cell_type": "code",
   "execution_count": null,
   "metadata": {},
   "outputs": [],
   "source": [
    "uriD = input(\"What is the destination AGOL or Portal url: \")\n",
    "unD = input(\"What is the destination GIS Username: \")\n",
    "\n",
    "def authDest():\n",
    "    global destOrg\n",
    "    destOrg = GIS(uriD, unD)\n",
    "    print(\"Logged in as: \" + destOrg.properties.user.username)\n",
    "authDest()\n",
    "\n",
    "orig_userid = unS\n",
    "new_userid  =  unD\n",
    "\n",
    "sourceUser = sourceOrg.users.get(orig_userid)\n",
    "newUser = destOrg.users.get(new_userid)\n",
    "\n",
    "source_user = sourceOrg.users.search(orig_userid)\n",
    "dest_user = destOrg.users.search(new_userid)"
   ]
  },
  {
   "cell_type": "markdown",
   "metadata": {},
   "source": [
    "#### This function will search for Content within your source organization and output these to the Jupyter console. Consult this output list to determine the Item 'ID' you wish to copy."
   ],
   "execution_count": null,
   "outputs": []
  },
  {
   "cell_type": "code",
   "execution_count": null,
   "metadata": {},
   "outputs": [],
   "source": [
    "source_items_by_id = {}\n",
    "for user in source_user:\n",
    "    num_items = 0\n",
    "    num_folders = 0\n",
    "    print(\"Collecting item ids for {}\".format(user.username) + '\\n')\n",
    "    user_content = user.items()\n",
    "    \n",
    "    # Get item ids from root folder first\n",
    "    for item in user_content:\n",
    "        num_items += 1\n",
    "        source_items_by_id[item.itemid] = item \n",
    "        print(\"Item ID: {} Item Name: {}\".format(item.id, item))\n",
    "           "
   ]
  },
  {
   "cell_type": "markdown",
   "metadata": {},
   "source": [
    "#### You will be prompted for the item id which can be obtained from the source agol organization."
   ],
   "execution_count": null,
   "outputs": []
  },
  {
   "cell_type": "code",
   "execution_count": null,
   "metadata": {},
   "outputs": [],
   "source": [
    "a = input(\"What is the Item ID: \")\n",
    "def item(a):\n",
    "    global itemId\n",
    "    itemId = sourceOrg.content.get(a)\n",
    "item(a)\n",
    "\n",
    "#define a function to instantiate the list as the ContentManager class clone_items method requires an input list param.\n",
    "def createList():\n",
    "    global li\n",
    "    li = []\n",
    "    li.append(itemId)\n",
    "createList()\n",
    "\n",
    "def copyItem():\n",
    "    t = time.localtime()\n",
    "    current_time = time.strftime(\"%H:%M:%S\", t)\n",
    "    print(\"The copy operation for the following Item: {} has started @ {}\".format(itemId, current_time) + '\\n')\n",
    "    copy = destOrg.content\n",
    "    copy.clone_items(li, copy_data=True)\n",
    "\n",
    "try:\n",
    "    copyItem()\n",
    "    print(\"Item {} has been copied successfully.\".format(itemId))\n",
    "    \n",
    "except:\n",
    "    print(\"There was an error with the copy process\")"
   ]
  },
  {
   "cell_type": "code",
   "execution_count": null,
   "metadata": {},
   "outputs": [],
   "source": []
  }
 ],
 "metadata": {
  "esriNotebookRuntime": {
   "notebookRuntimeName": "ArcGIS Notebook Python 3 Advanced",
   "notebookRuntimeVersion": "3.0"
  },
  "kernelspec": {
   "display_name": "Python 3",
   "language": "python",
   "name": "python3"
  },
  "language_info": {
   "codemirror_mode": {
    "name": "ipython",
    "version": 3
   },
   "file_extension": ".py",
   "mimetype": "text/x-python",
   "name": "python",
   "nbconvert_exporter": "python",
   "pygments_lexer": "ipython3",
   "version": "3.6.9"
  }
 },
 "nbformat": 4,
 "nbformat_minor": 2
}