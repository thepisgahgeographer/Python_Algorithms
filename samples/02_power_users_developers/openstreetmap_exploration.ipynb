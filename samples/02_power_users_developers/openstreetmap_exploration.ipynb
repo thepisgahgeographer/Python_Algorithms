{
 "cells": [
  {
   "cell_type": "markdown",
   "metadata": {
    "extensions": {
     "jupyter_dashboards": {
      "version": 1,
      "views": {
       "grid_default": {
        "col": 0,
        "height": 5,
        "hidden": true,
        "row": 34,
        "width": 12
       },
       "report_default": {
        "hidden": true
       }
      }
     }
    }
   },
   "source": [
    "# Exploring OpenStreetMap using Pandas and the Python API\n",
    "\n",
    "This notebook is based around a simple tool named <a href='https://github.com/Jwmazzi/osm_runner'>OSM Runner</a> that queries the OpenStreetMap (OSM) <a href='https://wiki.openstreetmap.org/wiki/Overpass_API/Overpass_QL'> Overpass API</a> and returns a Spatial Data Frame. Using the Python API inside of a Jupyter Notebook, we can develop map-driven tools to explore OSM with the full capabilities of the ArcGIS platform at our disposal. Be sure to update the GIS connection information in the cell below before proceeding. \n",
    "\n",
    "This Notebook was written for an environment that does not have access to arcpy."
   ]
  },
  {
   "cell_type": "code",
   "execution_count": 2,
   "metadata": {
    "extensions": {
     "jupyter_dashboards": {
      "version": 1,
      "views": {
       "grid_default": {
        "hidden": true
       },
       "report_default": {
        "hidden": true
       }
      }
     }
    }
   },
   "outputs": [],
   "source": [
    "import time\n",
    "\n",
    "from osm_runner import Runner  # pip install osm-runner\n",
    "import pandas as pd\n",
    "\n",
    "from arcgis.features import FeatureLayer, GeoAccessor, GeoSeriesAccessor\n",
    "from arcgis.geoenrichment import enrich\n",
    "from arcgis import dissolve_boundaries\n",
    "from arcgis.geometry import project\n",
    "from arcgis.gis import GIS\n",
    "\n",
    "# Organization Login\n",
    "gis = GIS('http://www.arcgis.com', 'username', 'password')"
   ]
  },
  {
   "cell_type": "markdown",
   "metadata": {},
   "source": [
    "# Build Data Frames from Feature Layers & Extract Bounding Box\n",
    "\n",
    "Let's assume we want to compare recycling amenities in OSM across 2 major cities. The first step will be to turn the boundaries for each city into a Data Frame via the GeoAccessor method from_layer(). Once we have a Data Frame for each city, we will use the Project operation of the Geometry Service in our GIS to get the envelope required to fetch data from Open Street Map."
   ]
  },
  {
   "cell_type": "code",
   "execution_count": 2,
   "metadata": {},
   "outputs": [
    {
     "data": {
      "text/html": [
       "<div>\n",
       "<style scoped>\n",
       "    .dataframe tbody tr th:only-of-type {\n",
       "        vertical-align: middle;\n",
       "    }\n",
       "\n",
       "    .dataframe tbody tr th {\n",
       "        vertical-align: top;\n",
       "    }\n",
       "\n",
       "    .dataframe thead th {\n",
       "        text-align: right;\n",
       "    }\n",
       "</style>\n",
       "<table border=\"1\" class=\"dataframe\">\n",
       "  <thead>\n",
       "    <tr style=\"text-align: right;\">\n",
       "      <th></th>\n",
       "      <th>OBJECTID</th>\n",
       "      <th>CITY_NAME</th>\n",
       "      <th>STATE_CITY</th>\n",
       "      <th>CAPITAL</th>\n",
       "      <th>WEB_URL</th>\n",
       "      <th>AREAKM</th>\n",
       "      <th>AREAMILES</th>\n",
       "      <th>Shape_Length</th>\n",
       "      <th>Shape_Area</th>\n",
       "      <th>SHAPE</th>\n",
       "    </tr>\n",
       "  </thead>\n",
       "  <tbody>\n",
       "    <tr>\n",
       "      <th>0</th>\n",
       "      <td>1</td>\n",
       "      <td>Washington</td>\n",
       "      <td>1150000</td>\n",
       "      <td>Y</td>\n",
       "      <td>http://www.dc.gov</td>\n",
       "      <td>177.47</td>\n",
       "      <td>68.52</td>\n",
       "      <td>67608.276922</td>\n",
       "      <td>1.774562e+08</td>\n",
       "      <td>{'rings': [[[-8584936.334474642, 4712272.26069...</td>\n",
       "    </tr>\n",
       "  </tbody>\n",
       "</table>\n",
       "</div>"
      ],
      "text/plain": [
       "   OBJECTID   CITY_NAME  STATE_CITY CAPITAL            WEB_URL  AREAKM  \\\n",
       "0         1  Washington     1150000       Y  http://www.dc.gov  177.47   \n",
       "\n",
       "   AREAMILES  Shape_Length    Shape_Area  \\\n",
       "0      68.52  67608.276922  1.774562e+08   \n",
       "\n",
       "                                               SHAPE  \n",
       "0  {'rings': [[[-8584936.334474642, 4712272.26069...  "
      ]
     },
     "metadata": {},
     "output_type": "display_data"
    },
    {
     "data": {
      "text/html": [
       "<div>\n",
       "<style scoped>\n",
       "    .dataframe tbody tr th:only-of-type {\n",
       "        vertical-align: middle;\n",
       "    }\n",
       "\n",
       "    .dataframe tbody tr th {\n",
       "        vertical-align: top;\n",
       "    }\n",
       "\n",
       "    .dataframe thead th {\n",
       "        text-align: right;\n",
       "    }\n",
       "</style>\n",
       "<table border=\"1\" class=\"dataframe\">\n",
       "  <thead>\n",
       "    <tr style=\"text-align: right;\">\n",
       "      <th></th>\n",
       "      <th>OBJECTID</th>\n",
       "      <th>N_SQ_QU</th>\n",
       "      <th>C_QU</th>\n",
       "      <th>C_QUINSEE</th>\n",
       "      <th>L_QU</th>\n",
       "      <th>C_AR</th>\n",
       "      <th>N_SQ_AR</th>\n",
       "      <th>SHAPE_Length</th>\n",
       "      <th>SHAPE_Area</th>\n",
       "      <th>SHAPE</th>\n",
       "    </tr>\n",
       "  </thead>\n",
       "  <tbody>\n",
       "    <tr>\n",
       "      <th>0</th>\n",
       "      <td>1</td>\n",
       "      <td>750000046</td>\n",
       "      <td>46</td>\n",
       "      <td>7511202</td>\n",
       "      <td>Picpus</td>\n",
       "      <td>12</td>\n",
       "      <td>750000012</td>\n",
       "      <td>18260.602587</td>\n",
       "      <td>7.205014e+06</td>\n",
       "      <td>{'rings': [[[656779.2524999976, 6859005.5504],...</td>\n",
       "    </tr>\n",
       "    <tr>\n",
       "      <th>1</th>\n",
       "      <td>2</td>\n",
       "      <td>750000047</td>\n",
       "      <td>47</td>\n",
       "      <td>7511203</td>\n",
       "      <td>Bercy</td>\n",
       "      <td>12</td>\n",
       "      <td>750000012</td>\n",
       "      <td>6154.591415</td>\n",
       "      <td>1.902932e+06</td>\n",
       "      <td>{'rings': [[[655300.0428000018, 6858622.629000...</td>\n",
       "    </tr>\n",
       "    <tr>\n",
       "      <th>2</th>\n",
       "      <td>3</td>\n",
       "      <td>750000048</td>\n",
       "      <td>48</td>\n",
       "      <td>7511204</td>\n",
       "      <td>Quinze-Vingts</td>\n",
       "      <td>12</td>\n",
       "      <td>750000012</td>\n",
       "      <td>4509.226476</td>\n",
       "      <td>1.235916e+06</td>\n",
       "      <td>{'rings': [[[653996.0221000016, 6860240.466299...</td>\n",
       "    </tr>\n",
       "    <tr>\n",
       "      <th>3</th>\n",
       "      <td>4</td>\n",
       "      <td>750000049</td>\n",
       "      <td>49</td>\n",
       "      <td>7511301</td>\n",
       "      <td>Salpêtrière</td>\n",
       "      <td>13</td>\n",
       "      <td>750000013</td>\n",
       "      <td>4758.777675</td>\n",
       "      <td>1.181560e+06</td>\n",
       "      <td>{'rings': [[[652751.3332000002, 6859190.603100...</td>\n",
       "    </tr>\n",
       "    <tr>\n",
       "      <th>4</th>\n",
       "      <td>5</td>\n",
       "      <td>750000050</td>\n",
       "      <td>50</td>\n",
       "      <td>7511302</td>\n",
       "      <td>Gare</td>\n",
       "      <td>13</td>\n",
       "      <td>750000013</td>\n",
       "      <td>7069.818989</td>\n",
       "      <td>3.044177e+06</td>\n",
       "      <td>{'rings': [[[653571.8592000008, 6857669.765999...</td>\n",
       "    </tr>\n",
       "  </tbody>\n",
       "</table>\n",
       "</div>"
      ],
      "text/plain": [
       "   OBJECTID    N_SQ_QU  C_QU  C_QUINSEE           L_QU  C_AR    N_SQ_AR  \\\n",
       "0         1  750000046    46    7511202         Picpus    12  750000012   \n",
       "1         2  750000047    47    7511203          Bercy    12  750000012   \n",
       "2         3  750000048    48    7511204  Quinze-Vingts    12  750000012   \n",
       "3         4  750000049    49    7511301    Salpêtrière    13  750000013   \n",
       "4         5  750000050    50    7511302           Gare    13  750000013   \n",
       "\n",
       "   SHAPE_Length    SHAPE_Area  \\\n",
       "0  18260.602587  7.205014e+06   \n",
       "1   6154.591415  1.902932e+06   \n",
       "2   4509.226476  1.235916e+06   \n",
       "3   4758.777675  1.181560e+06   \n",
       "4   7069.818989  3.044177e+06   \n",
       "\n",
       "                                               SHAPE  \n",
       "0  {'rings': [[[656779.2524999976, 6859005.5504],...  \n",
       "1  {'rings': [[[655300.0428000018, 6858622.629000...  \n",
       "2  {'rings': [[[653996.0221000016, 6860240.466299...  \n",
       "3  {'rings': [[[652751.3332000002, 6859190.603100...  \n",
       "4  {'rings': [[[653571.8592000008, 6857669.765999...  "
      ]
     },
     "metadata": {},
     "output_type": "display_data"
    }
   ],
   "source": [
    "dc_fl = FeatureLayer('https://maps2.dcgis.dc.gov/dcgis/rest/services/DCGIS_DATA/Administrative_Other_Boundaries_WebMercator/MapServer/10')\n",
    "dc_df = GeoAccessor.from_layer(dc_fl)\n",
    "display(dc_df.head())\n",
    "\n",
    "dc_extent = dc_df.spatial.full_extent\n",
    "dc_coords = project([[dc_extent[0], dc_extent[1]], [dc_extent[2], dc_extent[3]]], in_sr=3857, out_sr=4326)\n",
    "dc_bounds = f\"({dc_coords[0]['y']},{dc_coords[0]['x']},{dc_coords[1]['y']},{dc_coords[1]['x']})\"\n",
    "\n",
    "pr_fl = FeatureLayer('https://carto2.apur.org/apur/rest/services/OPENDATA/QUARTIER/MapServer/0')\n",
    "pr_df = GeoAccessor.from_layer(pr_fl)\n",
    "display(pr_df.head())\n",
    "\n",
    "pr_extent = pr_df.spatial.full_extent\n",
    "pr_coords = project([[pr_extent[0], pr_extent[1]], [pr_extent[2], pr_extent[3]]], in_sr=2154, out_sr=4326)\n",
    "pr_bounds = f\"({pr_coords[0]['y']},{pr_coords[0]['x']},{pr_coords[1]['y']},{pr_coords[1]['x']})\""
   ]
  },
  {
   "cell_type": "markdown",
   "metadata": {},
   "source": [
    "# Overview of the area in Washington DC to be Collected"
   ]
  },
  {
   "cell_type": "code",
   "execution_count": 3,
   "metadata": {},
   "outputs": [
    {
     "data": {
      "application/vnd.jupyter.widget-view+json": {
       "model_id": "0ea0dbc9fc194be5a51586ec16cc3d14",
       "version_major": 2,
       "version_minor": 0
      },
      "text/plain": [
       "MapView(layout=Layout(height='400px', width='100%'))"
      ]
     },
     "metadata": {},
     "output_type": "display_data"
    },
    {
     "data": {
      "text/html": [
       "<div class=\"map-static-img-preview-594927cd-e2e6-419a-8ead-68acdd4b038b\"><img src=\"\"></img></div>"
      ],
      "text/plain": [
       "<IPython.core.display.HTML object>"
      ]
     },
     "metadata": {},
     "output_type": "display_data"
    },
    {
     "name": "stdout",
     "output_type": "stream",
     "text": [
      "Searching Area: 685 Square Kilometers\n"
     ]
    }
   ],
   "source": [
    "dc_map = gis.map('Washington DC')\n",
    "\n",
    "dc_map.draw(dc_df.iloc[0].SHAPE)\n",
    "dc_map.draw(dc_df.spatial.bbox)\n",
    "\n",
    "display(dc_map)\n",
    "\n",
    "print(f'Searching Area: {round(dc_df.spatial.bbox.area / 1000000)} Square Kilometers')"
   ]
  },
  {
   "cell_type": "markdown",
   "metadata": {},
   "source": [
    "# Overview of the Area in Paris to be Collected"
   ]
  },
  {
   "cell_type": "code",
   "execution_count": 4,
   "metadata": {},
   "outputs": [
    {
     "data": {
      "application/vnd.jupyter.widget-view+json": {
       "model_id": "47c94e33b09840c1adebcd71b97dd2f2",
       "version_major": 2,
       "version_minor": 0
      },
      "text/plain": [
       "MapView(layout=Layout(height='400px', width='100%'))"
      ]
     },
     "metadata": {},
     "output_type": "display_data"
    },
    {
     "data": {
      "text/html": [
       "<div class=\"map-static-img-preview-6e44c8fe-1e10-4453-b192-aeadef9d183c\"><img src=\"\"></img></div>"
      ],
      "text/plain": [
       "<IPython.core.display.HTML object>"
      ]
     },
     "metadata": {},
     "output_type": "display_data"
    },
    {
     "name": "stdout",
     "output_type": "stream",
     "text": [
      "Searching Area: 173 Square Kilometers\n"
     ]
    }
   ],
   "source": [
    "pr_map = gis.map('Paris')\n",
    "\n",
    "pr_dis = dissolve_boundaries(pr_fl).query().sdf.iloc[0].SHAPE\n",
    "pr_map.draw(pr_dis)\n",
    "pr_map.draw(pr_df.spatial.bbox)\n",
    "\n",
    "display(pr_map)\n",
    "\n",
    "print(f'Searching Area: {round(pr_df.spatial.bbox.area / 1000000)} Square Kilometers')"
   ]
  },
  {
   "cell_type": "markdown",
   "metadata": {},
   "source": [
    "# Collecting Demographics with [Geoenrichment](https://developers.arcgis.com/rest/geoenrichment/api-reference/geoenrichment-service-overview.htm)\n",
    "\n",
    "In addition to the useful GeoAccessor methods and properties we can access via a Data Frame, we may also pass a Data Frame to the [enrich()](https://developers.arcgis.com/python/api-reference/arcgis.geoenrichment.html#enrich) method to learn something useful about the area we are studying. Even before we fetch data from OpenStreetMap, it should be clear from the differences in population size, population density, and the study area being assessed, that any comparison between DC and Paris would not be fair. At the end of the notebook we will set up a solution to help us find a city that might be more comparable to Paris or DC."
   ]
  },
  {
   "cell_type": "code",
   "execution_count": 5,
   "metadata": {},
   "outputs": [
    {
     "data": {
      "text/html": [
       "<div>\n",
       "<style scoped>\n",
       "    .dataframe tbody tr th:only-of-type {\n",
       "        vertical-align: middle;\n",
       "    }\n",
       "\n",
       "    .dataframe tbody tr th {\n",
       "        vertical-align: top;\n",
       "    }\n",
       "\n",
       "    .dataframe thead th {\n",
       "        text-align: right;\n",
       "    }\n",
       "</style>\n",
       "<table border=\"1\" class=\"dataframe\">\n",
       "  <thead>\n",
       "    <tr style=\"text-align: right;\">\n",
       "      <th></th>\n",
       "      <th>ID</th>\n",
       "      <th>OBJECTID_0</th>\n",
       "      <th>sourceCountry</th>\n",
       "      <th>OBJECTID</th>\n",
       "      <th>AREAKM</th>\n",
       "      <th>CITY_NAME</th>\n",
       "      <th>Shape_Area</th>\n",
       "      <th>AREAMILES</th>\n",
       "      <th>Shape_Length</th>\n",
       "      <th>STATE_CITY</th>\n",
       "      <th>...</th>\n",
       "      <th>aggregationMethod</th>\n",
       "      <th>populationToPolygonSizeRating</th>\n",
       "      <th>apportionmentConfidence</th>\n",
       "      <th>HasData</th>\n",
       "      <th>TOTPOP</th>\n",
       "      <th>TOTHH</th>\n",
       "      <th>AVGHHSZ</th>\n",
       "      <th>TOTMALES</th>\n",
       "      <th>TOTFEMALES</th>\n",
       "      <th>SHAPE</th>\n",
       "    </tr>\n",
       "  </thead>\n",
       "  <tbody>\n",
       "    <tr>\n",
       "      <th>0</th>\n",
       "      <td>0</td>\n",
       "      <td>1</td>\n",
       "      <td>US</td>\n",
       "      <td>1</td>\n",
       "      <td>177.47</td>\n",
       "      <td>Washington</td>\n",
       "      <td>1.774562e+08</td>\n",
       "      <td>68.52</td>\n",
       "      <td>67608.276922</td>\n",
       "      <td>1150000</td>\n",
       "      <td>...</td>\n",
       "      <td>BlockApportionment:US.BlockGroups</td>\n",
       "      <td>2.191</td>\n",
       "      <td>2.576</td>\n",
       "      <td>1</td>\n",
       "      <td>702350</td>\n",
       "      <td>311236</td>\n",
       "      <td>2.13</td>\n",
       "      <td>334037</td>\n",
       "      <td>368314</td>\n",
       "      <td>{'rings': [[[-77.1197952245159, 38.93435090401...</td>\n",
       "    </tr>\n",
       "  </tbody>\n",
       "</table>\n",
       "<p>1 rows × 22 columns</p>\n",
       "</div>"
      ],
      "text/plain": [
       "  ID  OBJECTID_0 sourceCountry  OBJECTID  AREAKM   CITY_NAME    Shape_Area  \\\n",
       "0  0           1            US         1  177.47  Washington  1.774562e+08   \n",
       "\n",
       "   AREAMILES  Shape_Length  STATE_CITY  ...  \\\n",
       "0      68.52  67608.276922     1150000  ...   \n",
       "\n",
       "                   aggregationMethod populationToPolygonSizeRating  \\\n",
       "0  BlockApportionment:US.BlockGroups                         2.191   \n",
       "\n",
       "  apportionmentConfidence  HasData  TOTPOP   TOTHH  AVGHHSZ  TOTMALES  \\\n",
       "0                   2.576        1  702350  311236     2.13    334037   \n",
       "\n",
       "   TOTFEMALES                                              SHAPE  \n",
       "0      368314  {'rings': [[[-77.1197952245159, 38.93435090401...  \n",
       "\n",
       "[1 rows x 22 columns]"
      ]
     },
     "metadata": {},
     "output_type": "display_data"
    },
    {
     "data": {
      "text/html": [
       "<div>\n",
       "<style scoped>\n",
       "    .dataframe tbody tr th:only-of-type {\n",
       "        vertical-align: middle;\n",
       "    }\n",
       "\n",
       "    .dataframe tbody tr th {\n",
       "        vertical-align: top;\n",
       "    }\n",
       "\n",
       "    .dataframe thead th {\n",
       "        text-align: right;\n",
       "    }\n",
       "</style>\n",
       "<table border=\"1\" class=\"dataframe\">\n",
       "  <thead>\n",
       "    <tr style=\"text-align: right;\">\n",
       "      <th></th>\n",
       "      <th>ID</th>\n",
       "      <th>OBJECTID_0</th>\n",
       "      <th>sourceCountry</th>\n",
       "      <th>OBJECTID</th>\n",
       "      <th>C_AR</th>\n",
       "      <th>SHAPE_Length</th>\n",
       "      <th>L_QU</th>\n",
       "      <th>C_QUINSEE</th>\n",
       "      <th>N_SQ_AR</th>\n",
       "      <th>SHAPE_Area</th>\n",
       "      <th>...</th>\n",
       "      <th>aggregationMethod</th>\n",
       "      <th>populationToPolygonSizeRating</th>\n",
       "      <th>apportionmentConfidence</th>\n",
       "      <th>HasData</th>\n",
       "      <th>TOTPOP</th>\n",
       "      <th>TOTHH</th>\n",
       "      <th>AVGHHSZ</th>\n",
       "      <th>TOTMALES</th>\n",
       "      <th>TOTFEMALES</th>\n",
       "      <th>SHAPE</th>\n",
       "    </tr>\n",
       "  </thead>\n",
       "  <tbody>\n",
       "    <tr>\n",
       "      <th>0</th>\n",
       "      <td>0</td>\n",
       "      <td>1</td>\n",
       "      <td>FR</td>\n",
       "      <td>1</td>\n",
       "      <td>12</td>\n",
       "      <td>18260.602587</td>\n",
       "      <td>Picpus</td>\n",
       "      <td>7511202</td>\n",
       "      <td>750000012</td>\n",
       "      <td>7.205014e+06</td>\n",
       "      <td>...</td>\n",
       "      <td>BlockApportionment:FR.IRIS</td>\n",
       "      <td>2.025</td>\n",
       "      <td>2.731</td>\n",
       "      <td>1</td>\n",
       "      <td>67094</td>\n",
       "      <td>34472</td>\n",
       "      <td>1.95</td>\n",
       "      <td>31225</td>\n",
       "      <td>35869</td>\n",
       "      <td>{'rings': [[[2.4112497331466076, 48.8296572091...</td>\n",
       "    </tr>\n",
       "    <tr>\n",
       "      <th>1</th>\n",
       "      <td>1</td>\n",
       "      <td>2</td>\n",
       "      <td>FR</td>\n",
       "      <td>2</td>\n",
       "      <td>12</td>\n",
       "      <td>6154.591415</td>\n",
       "      <td>Bercy</td>\n",
       "      <td>7511203</td>\n",
       "      <td>750000012</td>\n",
       "      <td>1.902932e+06</td>\n",
       "      <td>...</td>\n",
       "      <td>BlockApportionment:FR.IRIS</td>\n",
       "      <td>2.025</td>\n",
       "      <td>2.731</td>\n",
       "      <td>1</td>\n",
       "      <td>13588</td>\n",
       "      <td>6152</td>\n",
       "      <td>2.21</td>\n",
       "      <td>6427</td>\n",
       "      <td>7161</td>\n",
       "      <td>{'rings': [[[2.391141037849975, 48.82611264487...</td>\n",
       "    </tr>\n",
       "    <tr>\n",
       "      <th>2</th>\n",
       "      <td>2</td>\n",
       "      <td>3</td>\n",
       "      <td>FR</td>\n",
       "      <td>3</td>\n",
       "      <td>12</td>\n",
       "      <td>4509.226476</td>\n",
       "      <td>Quinze-Vingts</td>\n",
       "      <td>7511204</td>\n",
       "      <td>750000012</td>\n",
       "      <td>1.235916e+06</td>\n",
       "      <td>...</td>\n",
       "      <td>BlockApportionment:FR.IRIS</td>\n",
       "      <td>2.025</td>\n",
       "      <td>2.731</td>\n",
       "      <td>1</td>\n",
       "      <td>27261</td>\n",
       "      <td>14756</td>\n",
       "      <td>1.85</td>\n",
       "      <td>13181</td>\n",
       "      <td>14079</td>\n",
       "      <td>{'rings': [[[2.373204762244875, 48.84057029279...</td>\n",
       "    </tr>\n",
       "    <tr>\n",
       "      <th>3</th>\n",
       "      <td>3</td>\n",
       "      <td>4</td>\n",
       "      <td>FR</td>\n",
       "      <td>4</td>\n",
       "      <td>13</td>\n",
       "      <td>4758.777675</td>\n",
       "      <td>Salpêtrière</td>\n",
       "      <td>7511301</td>\n",
       "      <td>750000013</td>\n",
       "      <td>1.181560e+06</td>\n",
       "      <td>...</td>\n",
       "      <td>BlockApportionment:FR.IRIS</td>\n",
       "      <td>2.025</td>\n",
       "      <td>2.731</td>\n",
       "      <td>1</td>\n",
       "      <td>18286</td>\n",
       "      <td>9782</td>\n",
       "      <td>1.87</td>\n",
       "      <td>8489</td>\n",
       "      <td>9797</td>\n",
       "      <td>{'rings': [[[2.356363453081923, 48.83103873373...</td>\n",
       "    </tr>\n",
       "    <tr>\n",
       "      <th>4</th>\n",
       "      <td>4</td>\n",
       "      <td>5</td>\n",
       "      <td>FR</td>\n",
       "      <td>5</td>\n",
       "      <td>13</td>\n",
       "      <td>7069.818989</td>\n",
       "      <td>Gare</td>\n",
       "      <td>7511302</td>\n",
       "      <td>750000013</td>\n",
       "      <td>3.044177e+06</td>\n",
       "      <td>...</td>\n",
       "      <td>BlockApportionment:FR.IRIS</td>\n",
       "      <td>2.025</td>\n",
       "      <td>2.731</td>\n",
       "      <td>1</td>\n",
       "      <td>73914</td>\n",
       "      <td>34734</td>\n",
       "      <td>2.13</td>\n",
       "      <td>34932</td>\n",
       "      <td>38982</td>\n",
       "      <td>{'rings': [[[2.367706331151315, 48.81742119763...</td>\n",
       "    </tr>\n",
       "  </tbody>\n",
       "</table>\n",
       "<p>5 rows × 22 columns</p>\n",
       "</div>"
      ],
      "text/plain": [
       "  ID  OBJECTID_0 sourceCountry  OBJECTID  C_AR  SHAPE_Length           L_QU  \\\n",
       "0  0           1            FR         1    12  18260.602587         Picpus   \n",
       "1  1           2            FR         2    12   6154.591415          Bercy   \n",
       "2  2           3            FR         3    12   4509.226476  Quinze-Vingts   \n",
       "3  3           4            FR         4    13   4758.777675    Salpêtrière   \n",
       "4  4           5            FR         5    13   7069.818989           Gare   \n",
       "\n",
       "   C_QUINSEE    N_SQ_AR    SHAPE_Area  ...           aggregationMethod  \\\n",
       "0    7511202  750000012  7.205014e+06  ...  BlockApportionment:FR.IRIS   \n",
       "1    7511203  750000012  1.902932e+06  ...  BlockApportionment:FR.IRIS   \n",
       "2    7511204  750000012  1.235916e+06  ...  BlockApportionment:FR.IRIS   \n",
       "3    7511301  750000013  1.181560e+06  ...  BlockApportionment:FR.IRIS   \n",
       "4    7511302  750000013  3.044177e+06  ...  BlockApportionment:FR.IRIS   \n",
       "\n",
       "   populationToPolygonSizeRating apportionmentConfidence  HasData  TOTPOP  \\\n",
       "0                          2.025                   2.731        1   67094   \n",
       "1                          2.025                   2.731        1   13588   \n",
       "2                          2.025                   2.731        1   27261   \n",
       "3                          2.025                   2.731        1   18286   \n",
       "4                          2.025                   2.731        1   73914   \n",
       "\n",
       "   TOTHH  AVGHHSZ  TOTMALES  TOTFEMALES  \\\n",
       "0  34472     1.95     31225       35869   \n",
       "1   6152     2.21      6427        7161   \n",
       "2  14756     1.85     13181       14079   \n",
       "3   9782     1.87      8489        9797   \n",
       "4  34734     2.13     34932       38982   \n",
       "\n",
       "                                               SHAPE  \n",
       "0  {'rings': [[[2.4112497331466076, 48.8296572091...  \n",
       "1  {'rings': [[[2.391141037849975, 48.82611264487...  \n",
       "2  {'rings': [[[2.373204762244875, 48.84057029279...  \n",
       "3  {'rings': [[[2.356363453081923, 48.83103873373...  \n",
       "4  {'rings': [[[2.367706331151315, 48.81742119763...  \n",
       "\n",
       "[5 rows x 22 columns]"
      ]
     },
     "metadata": {},
     "output_type": "display_data"
    },
    {
     "name": "stdout",
     "output_type": "stream",
     "text": [
      "DC Population:    702350\n",
      "DC Density:       2393 per Square Kilometer\n",
      "Paris Population: 2211963\n",
      "Paris Density:    20992 per Square Kilometer\n"
     ]
    }
   ],
   "source": [
    "try:\n",
    "    dc_e = enrich(dc_df, gis=gis)\n",
    "    display(dc_e.head())\n",
    "    pr_e = enrich(pr_df, gis=gis)\n",
    "    display(pr_e.head())\n",
    "    \n",
    "    print(f'DC Population:    {dc_e.TOTPOP.sum()}')\n",
    "    print(f'DC Density:       {int(round(dc_e.TOTPOP.sum() / (dc_df.spatial.area / 1000000)))} per Square Kilometer')\n",
    "    print(f'Paris Population: {pr_e.TOTPOP.sum()}')\n",
    "    print(f'Paris Density:    {int(round(pr_e.TOTPOP.sum() / (pr_dis.area / 1000000)))} per Square Kilometer')\n",
    "    \n",
    "except RuntimeError:\n",
    "    print('Your GIS Connection Does Not Support Geoenrichment')"
   ]
  },
  {
   "cell_type": "markdown",
   "metadata": {
    "extensions": {
     "jupyter_dashboards": {
      "version": 1,
      "views": {
       "grid_default": {
        "col": 0,
        "height": 6,
        "hidden": false,
        "row": 0,
        "width": 12
       },
       "report_default": {
        "hidden": false
       }
      }
     }
    }
   },
   "source": [
    "# Fetch Open Street Map Data within Boundaries as Data Frame. \n",
    "\n",
    "For our purposes, we will only be looking for recycling amenities. We could have collected all amenities by simply passing the string 'amenity' as the third argument. Or we might have tried to find all of the known surveillance cameras in our extent by passing {'man_made': ['surveillance']}. Please consult the <a href=\"https://wiki.openstreetmap.org/wiki/Map_Features\">OSM Wiki</a> for more information on what features you can extract. We are adding the following results to the first 2 maps we created above."
   ]
  },
  {
   "cell_type": "code",
   "execution_count": 6,
   "metadata": {},
   "outputs": [
    {
     "data": {
      "text/html": [
       "<div>\n",
       "<style scoped>\n",
       "    .dataframe tbody tr th:only-of-type {\n",
       "        vertical-align: middle;\n",
       "    }\n",
       "\n",
       "    .dataframe tbody tr th {\n",
       "        vertical-align: top;\n",
       "    }\n",
       "\n",
       "    .dataframe thead th {\n",
       "        text-align: right;\n",
       "    }\n",
       "</style>\n",
       "<table border=\"1\" class=\"dataframe\">\n",
       "  <thead>\n",
       "    <tr style=\"text-align: right;\">\n",
       "      <th></th>\n",
       "      <th>osm_id</th>\n",
       "      <th>geom</th>\n",
       "      <th>amenity</th>\n",
       "      <th>source</th>\n",
       "      <th>recycling_type</th>\n",
       "      <th>opening_hours</th>\n",
       "      <th>operator</th>\n",
       "      <th>location</th>\n",
       "      <th>ele</th>\n",
       "      <th>description</th>\n",
       "      <th>reccans</th>\n",
       "      <th>recclothes</th>\n",
       "      <th>recglass_bottles</th>\n",
       "      <th>recpaper</th>\n",
       "      <th>wpt_description</th>\n",
       "      <th>recplastic_bottles</th>\n",
       "      <th>fixme</th>\n",
       "      <th>recbooks</th>\n",
       "      <th>website</th>\n",
       "      <th>SHAPE</th>\n",
       "    </tr>\n",
       "  </thead>\n",
       "  <tbody>\n",
       "    <tr>\n",
       "      <th>0</th>\n",
       "      <td>2607287308</td>\n",
       "      <td>{'x': -77.1188753, 'y': 38.8614258, 'spatialRe...</td>\n",
       "      <td>recycling</td>\n",
       "      <td>site visit</td>\n",
       "      <td>NaN</td>\n",
       "      <td>NaN</td>\n",
       "      <td>NaN</td>\n",
       "      <td>NaN</td>\n",
       "      <td>NaN</td>\n",
       "      <td>NaN</td>\n",
       "      <td>NaN</td>\n",
       "      <td>NaN</td>\n",
       "      <td>NaN</td>\n",
       "      <td>NaN</td>\n",
       "      <td>NaN</td>\n",
       "      <td>NaN</td>\n",
       "      <td>NaN</td>\n",
       "      <td>NaN</td>\n",
       "      <td>NaN</td>\n",
       "      <td>{'x': -77.1188753, 'y': 38.8614258, 'spatialRe...</td>\n",
       "    </tr>\n",
       "  </tbody>\n",
       "</table>\n",
       "</div>"
      ],
      "text/plain": [
       "       osm_id                                               geom    amenity  \\\n",
       "0  2607287308  {'x': -77.1188753, 'y': 38.8614258, 'spatialRe...  recycling   \n",
       "\n",
       "       source recycling_type opening_hours operator location  ele description  \\\n",
       "0  site visit            NaN           NaN      NaN      NaN  NaN         NaN   \n",
       "\n",
       "  reccans recclothes recglass_bottles recpaper wpt_description  \\\n",
       "0     NaN        NaN              NaN      NaN             NaN   \n",
       "\n",
       "  recplastic_bottles fixme recbooks website  \\\n",
       "0                NaN   NaN      NaN     NaN   \n",
       "\n",
       "                                               SHAPE  \n",
       "0  {'x': -77.1188753, 'y': 38.8614258, 'spatialRe...  "
      ]
     },
     "metadata": {},
     "output_type": "display_data"
    },
    {
     "data": {
      "text/html": [
       "<div>\n",
       "<style scoped>\n",
       "    .dataframe tbody tr th:only-of-type {\n",
       "        vertical-align: middle;\n",
       "    }\n",
       "\n",
       "    .dataframe tbody tr th {\n",
       "        vertical-align: top;\n",
       "    }\n",
       "\n",
       "    .dataframe thead th {\n",
       "        text-align: right;\n",
       "    }\n",
       "</style>\n",
       "<table border=\"1\" class=\"dataframe\">\n",
       "  <thead>\n",
       "    <tr style=\"text-align: right;\">\n",
       "      <th></th>\n",
       "      <th>osm_id</th>\n",
       "      <th>geom</th>\n",
       "      <th>amenity</th>\n",
       "      <th>recglass</th>\n",
       "      <th>recycling_type</th>\n",
       "      <th>source</th>\n",
       "      <th>location</th>\n",
       "      <th>recglass_bottles</th>\n",
       "      <th>material</th>\n",
       "      <th>operator</th>\n",
       "      <th>...</th>\n",
       "      <th>contact:phone</th>\n",
       "      <th>contact:website</th>\n",
       "      <th>recbicycles</th>\n",
       "      <th>second_hand</th>\n",
       "      <th>service:bicycle:diy</th>\n",
       "      <th>shop</th>\n",
       "      <th>recglass_jars</th>\n",
       "      <th>name:fr</th>\n",
       "      <th>start_date</th>\n",
       "      <th>SHAPE</th>\n",
       "    </tr>\n",
       "  </thead>\n",
       "  <tbody>\n",
       "    <tr>\n",
       "      <th>0</th>\n",
       "      <td>3350036758</td>\n",
       "      <td>{'x': 2.2247201, 'y': 48.8158202, 'spatialRefe...</td>\n",
       "      <td>recycling</td>\n",
       "      <td>yes</td>\n",
       "      <td>container</td>\n",
       "      <td>GPSO data.gouv.fr 2015-02</td>\n",
       "      <td>NaN</td>\n",
       "      <td>NaN</td>\n",
       "      <td>NaN</td>\n",
       "      <td>NaN</td>\n",
       "      <td>...</td>\n",
       "      <td>NaN</td>\n",
       "      <td>NaN</td>\n",
       "      <td>NaN</td>\n",
       "      <td>NaN</td>\n",
       "      <td>NaN</td>\n",
       "      <td>NaN</td>\n",
       "      <td>NaN</td>\n",
       "      <td>NaN</td>\n",
       "      <td>NaN</td>\n",
       "      <td>{'x': 2.2247201, 'y': 48.8158202, 'spatialRefe...</td>\n",
       "    </tr>\n",
       "  </tbody>\n",
       "</table>\n",
       "<p>1 rows × 82 columns</p>\n",
       "</div>"
      ],
      "text/plain": [
       "       osm_id                                               geom    amenity  \\\n",
       "0  3350036758  {'x': 2.2247201, 'y': 48.8158202, 'spatialRefe...  recycling   \n",
       "\n",
       "  recglass recycling_type                     source location  \\\n",
       "0      yes      container  GPSO data.gouv.fr 2015-02      NaN   \n",
       "\n",
       "  recglass_bottles material operator  ... contact:phone contact:website  \\\n",
       "0              NaN      NaN      NaN  ...           NaN             NaN   \n",
       "\n",
       "  recbicycles second_hand service:bicycle:diy shop recglass_jars name:fr  \\\n",
       "0         NaN         NaN                 NaN  NaN           NaN     NaN   \n",
       "\n",
       "  start_date                                              SHAPE  \n",
       "0        NaN  {'x': 2.2247201, 'y': 48.8158202, 'spatialRefe...  \n",
       "\n",
       "[1 rows x 82 columns]"
      ]
     },
     "metadata": {},
     "output_type": "display_data"
    }
   ],
   "source": [
    "runner = Runner()\n",
    "\n",
    "dc_osm_df = runner.gen_osm_df('point', dc_bounds, {'amenity': [\"recycling\"]})\n",
    "\n",
    "dc_osm_df.columns = dc_osm_df.columns.str.replace(\"recycling:\", \"rec\")\n",
    "dc_osm_df.SHAPE   = dc_osm_df.geom\n",
    "\n",
    "dc_osm_df.spatial.plot(map_widget=dc_map, renderer_type='u', col='recycling_type')\n",
    "\n",
    "\n",
    "pr_osm_df = runner.gen_osm_df('point', pr_bounds, {'amenity': [\"recycling\"]})\n",
    "\n",
    "pr_osm_df.columns = pr_osm_df.columns.str.replace(\"recycling:\", \"rec\")\n",
    "pr_osm_df.SHAPE   = pr_osm_df.geom\n",
    "\n",
    "pr_osm_df.spatial.plot(map_widget=pr_map, renderer_type='u', col='recycling_type')\n",
    "\n",
    "display(dc_osm_df.head(n=1))\n",
    "display(pr_osm_df.head(n=1))"
   ]
  },
  {
   "cell_type": "markdown",
   "metadata": {},
   "source": [
    "# General Attribute Comparison\n",
    "\n",
    "We can use basic Data Frame methods to get a general idea of the differences between the recycling features in DC and Paris. While the completeness (more unique sources and operators) of the Paris data may partially be the result of there being many more records, we see a number of non-profit agencies operating these Parisian facilities and government efforts in Paris focused on documenting these features. An interesting question might be whether the large discrepancy (both in raw counts and specificity in the details) is the result of OSM simply being used more in Europe, or the result of a different set of values toward environmental stewardship. "
   ]
  },
  {
   "cell_type": "code",
   "execution_count": 7,
   "metadata": {},
   "outputs": [
    {
     "name": "stdout",
     "output_type": "stream",
     "text": [
      "Total Records found for DC Data Frame:        69\n",
      "Total Attributes Defined in Paris Data Frame: 20\n",
      "#########################\n",
      "Top 5 Operators (2 Unique)\n",
      "#########################\n",
      "Arlington County      1\n",
      "Better World Books    1\n",
      "#########################\n",
      "Top 5 Sources (1 Unique)\n",
      "#########################\n",
      "site visit    1\n"
     ]
    }
   ],
   "source": [
    "# Values for DC\n",
    "\n",
    "print(f'Total Records found for DC Data Frame:        {len(dc_osm_df)}')\n",
    "print(f'Total Attributes Defined in Paris Data Frame: {len(list(dc_osm_df))}')\n",
    "print('#' * 25)\n",
    "print(f'Top 5 Operators ({dc_osm_df.operator.nunique()} Unique)')\n",
    "print('#' * 25)\n",
    "print(dc_osm_df.operator.value_counts()[:5].to_string())\n",
    "print('#' * 25)\n",
    "print(f'Top 5 Sources ({dc_osm_df.source.nunique()} Unique)')\n",
    "print('#' * 25)\n",
    "print(dc_osm_df.source.value_counts()[:5].to_string())"
   ]
  },
  {
   "cell_type": "code",
   "execution_count": 8,
   "metadata": {},
   "outputs": [
    {
     "name": "stdout",
     "output_type": "stream",
     "text": [
      "Total Records found for Paris Data Frame:     1265\n",
      "Total Attributes Defined in Paris Data Frame: 82\n",
      "#########################\n",
      "Top 5 Operators (11 Unique)\n",
      "#########################\n",
      "Eco-Emballages        40\n",
      "Le Relais             27\n",
      "Ecotextile             4\n",
      "WWF                    3\n",
      "Issy en Transition     2\n",
      "#########################\n",
      "Top 5 Sources (46 Unique)\n",
      "#########################\n",
      "survey                                                                                   254\n",
      "GPSO data.gouv.fr 2015-02                                                                107\n",
      "data.issy.com 15/06/2016                                                                  64\n",
      "GPSO data.gouv.fr 2015-02;survey                                                          54\n",
      "cadastre-dgi-fr source : Direction Générale des Impôts - Cadastre. Mise à jour : 2011     13\n"
     ]
    }
   ],
   "source": [
    "# Values for Paris\n",
    "\n",
    "print(f'Total Records found for Paris Data Frame:     {len(pr_osm_df)}')\n",
    "print(f'Total Attributes Defined in Paris Data Frame: {len(list(pr_osm_df))}')\n",
    "print('#' * 25)\n",
    "print(f'Top 5 Operators ({pr_osm_df.operator.nunique()} Unique)')\n",
    "print('#' * 25)\n",
    "print(pr_osm_df.operator.value_counts()[:5].to_string())\n",
    "print('#' * 25)\n",
    "print(f'Top 5 Sources ({pr_osm_df.source.nunique()} Unique)')\n",
    "print('#' * 25)\n",
    "print(pr_osm_df.source.value_counts()[:5].to_string())"
   ]
  },
  {
   "cell_type": "markdown",
   "metadata": {},
   "source": [
    "# Using the Map to Drive Our Exploration\n",
    "\n",
    "Perhaps we are interested in finding shops that do not have recycling options nearby. The following 2 cells can be used as a way to explore OSM interactively within the Jupyter Notebook. Locate a place, drag the map around, and then run the last cell to plot a heat map of recycling amenities and all of the shops within the extent of the map. With only a few lines of code, we have the beginning of a site selection tool that also exposes all of the analytical power of Python and the ArcGIS platform."
   ]
  },
  {
   "cell_type": "code",
   "execution_count": 9,
   "metadata": {},
   "outputs": [
    {
     "data": {
      "application/vnd.jupyter.widget-view+json": {
       "model_id": "bc2e1b3ade6646d395ab0256b9e4e98a",
       "version_major": 2,
       "version_minor": 0
      },
      "text/plain": [
       "MapView(layout=Layout(height='400px', width='100%'), zoom=12.0)"
      ]
     },
     "metadata": {},
     "output_type": "display_data"
    },
    {
     "data": {
      "text/html": [
       "<div class=\"map-static-img-preview-840bc8f3-6f70-490d-89a8-c83499fe277a\"><img src=\"\"></img></div>"
      ],
      "text/plain": [
       "<IPython.core.display.HTML object>"
      ]
     },
     "metadata": {},
     "output_type": "display_data"
    }
   ],
   "source": [
    "search_map = gis.map('Berlin', 12)\n",
    "display(search_map)"
   ]
  },
  {
   "cell_type": "markdown",
   "metadata": {},
   "source": [
    "# Get Data Frame for Map Extent & Plot"
   ]
  },
  {
   "cell_type": "code",
   "execution_count": 10,
   "metadata": {
    "scrolled": true
   },
   "outputs": [
    {
     "name": "stdout",
     "output_type": "stream",
     "text": [
      "OSM Coffee Shops Features Within Current Map View: 636\n",
      "OSM Recycling Features Within Current Map View:    941\n"
     ]
    }
   ],
   "source": [
    "extent = search_map.extent\n",
    "coords = project([[extent['xmin'], extent['ymin']], [extent['xmax'], extent['ymax']]], in_sr=3857, out_sr=4326)\n",
    "bounds = f\"({coords[0]['y']},{coords[0]['x']},{coords[1]['y']},{coords[1]['x']})\"\n",
    "\n",
    "try:\n",
    "    runner = Runner()\n",
    "    shop_df = runner.gen_osm_df('point', bounds, {'shop': ['coffee', 'street_vendor', 'convenience']})\n",
    "    recy_df = runner.gen_osm_df('point', bounds, {'amenity': ['recycling']})\n",
    "\n",
    "    # Move Geometries to SHAPE Column to Support Plot\n",
    "    shop_df.SHAPE = shop_df.geom\n",
    "    recy_df.SHAPE = recy_df.geom\n",
    "\n",
    "    print(f'OSM Coffee Shops Features Within Current Map View: {len(shop_df)}')\n",
    "    print(f'OSM Recycling Features Within Current Map View:    {len(recy_df)}')\n",
    "\n",
    "    recy_df.spatial.plot(map_widget=search_map, renderer_type='h')\n",
    "    shop_df.spatial.plot(map_widget=search_map)\n",
    "    \n",
    "except Exception as e:\n",
    "    print(\"We Likely Didn't Find Any Features in this Extent.\")\n",
    "    print(e)\n",
    "    \n",
    "except KeyError as e:\n",
    "    print('Try Moving the Map Around & Running This Cell Again')\n",
    "    print(e)"
   ]
  },
  {
   "cell_type": "markdown",
   "metadata": {},
   "source": [
    "# Export the Data to ArcGIS Online or Portal for Further Analysis\n",
    "\n",
    "Finally, the GeoAccessor gives us a convenient method for pushing our Data Frame into a Hosted Feature Layer within Portal or ArcGIS Online so that we can do further analysis or share the information with other people in our organization. We could have also moved our results into a database with the to_featureclass() method."
   ]
  },
  {
   "cell_type": "code",
   "execution_count": 11,
   "metadata": {},
   "outputs": [
    {
     "data": {
      "text/html": [
       "<div class=\"item_container\" style=\"height: auto; overflow: hidden; border: 1px solid #cfcfcf; border-radius: 2px; background: #f6fafa; line-height: 1.21429em; padding: 10px;\">\n",
       "                    <div class=\"item_left\" style=\"width: 210px; float: left;\">\n",
       "                       <a href='https://DBSNE.maps.arcgis.com/home/item.html?id=56e32fe88a1a4781a66211ac6a336dfa' target='_blank'>\n",
       "                        <img src='http://static.arcgis.com/images/desktopapp.png' class=\"itemThumbnail\">\n",
       "                       </a>\n",
       "                    </div>\n",
       "\n",
       "                    <div class=\"item_right\"     style=\"float: none; width: auto; overflow: hidden;\">\n",
       "                        <a href='https://DBSNE.maps.arcgis.com/home/item.html?id=56e32fe88a1a4781a66211ac6a336dfa' target='_blank'><b>OSM_Recycling_1574000884</b>\n",
       "                        </a>\n",
       "                        <br/><img src='https://DBSNE.maps.arcgis.com/home/js/jsapi/esri/css/images/item_type_icons/featureshosted16.png' style=\"vertical-align:middle;\">Feature Layer Collection by jscarmazzi_DBSNE\n",
       "                        <br/>Last Modified: November 17, 2019\n",
       "                        <br/>0 comments, 0 views\n",
       "                    </div>\n",
       "                </div>\n",
       "                "
      ],
      "text/plain": [
       "<Item title:\"OSM_Recycling_1574000884\" type:Feature Layer Collection owner:jscarmazzi_DBSNE>"
      ]
     },
     "metadata": {},
     "output_type": "display_data"
    },
    {
     "data": {
      "text/html": [
       "<div class=\"item_container\" style=\"height: auto; overflow: hidden; border: 1px solid #cfcfcf; border-radius: 2px; background: #f6fafa; line-height: 1.21429em; padding: 10px;\">\n",
       "                    <div class=\"item_left\" style=\"width: 210px; float: left;\">\n",
       "                       <a href='https://DBSNE.maps.arcgis.com/home/item.html?id=12a0d858fe4f4be7b385fa549a1ac562' target='_blank'>\n",
       "                        <img src='http://static.arcgis.com/images/desktopapp.png' class=\"itemThumbnail\">\n",
       "                       </a>\n",
       "                    </div>\n",
       "\n",
       "                    <div class=\"item_right\"     style=\"float: none; width: auto; overflow: hidden;\">\n",
       "                        <a href='https://DBSNE.maps.arcgis.com/home/item.html?id=12a0d858fe4f4be7b385fa549a1ac562' target='_blank'><b>OSM_Shops_1574000907</b>\n",
       "                        </a>\n",
       "                        <br/><img src='https://DBSNE.maps.arcgis.com/home/js/jsapi/esri/css/images/item_type_icons/featureshosted16.png' style=\"vertical-align:middle;\">Feature Layer Collection by jscarmazzi_DBSNE\n",
       "                        <br/>Last Modified: November 17, 2019\n",
       "                        <br/>0 comments, 0 views\n",
       "                    </div>\n",
       "                </div>\n",
       "                "
      ],
      "text/plain": [
       "<Item title:\"OSM_Shops_1574000907\" type:Feature Layer Collection owner:jscarmazzi_DBSNE>"
      ]
     },
     "metadata": {},
     "output_type": "display_data"
    }
   ],
   "source": [
    "recycling_hfl = recy_df.spatial.to_featurelayer(f'OSM_Recycling_{round(time.time())}', gis=gis, tags='OSM')\n",
    "shops_hfl = shop_df.spatial.to_featurelayer(f'OSM_Shops_{round(time.time())}', gis=gis, tags='OSM')\n",
    "\n",
    "display(recycling_hfl)\n",
    "display(shops_hfl)"
   ]
  },
  {
   "cell_type": "code",
   "execution_count": null,
   "metadata": {},
   "outputs": [],
   "source": []
  }
 ],
 "metadata": {
  "extensions": {
   "jupyter_dashboards": {
    "activeView": "report_default",
    "version": 1,
    "views": {
     "grid_default": {
      "cellMargin": 10,
      "defaultCellHeight": 20,
      "maxColumns": 12,
      "name": "grid",
      "type": "grid"
     },
     "report_default": {
      "name": "report",
      "type": "report"
     }
    }
   }
  },
  "kernelspec": {
   "display_name": "Python 3",
   "language": "python",
   "name": "python3"
  },
  "language_info": {
   "codemirror_mode": {
    "name": "ipython",
    "version": 3
   },
   "file_extension": ".py",
   "mimetype": "text/x-python",
   "name": "python",
   "nbconvert_exporter": "python",
   "pygments_lexer": "ipython3",
   "version": "3.7.5"
  },
  "toc": {
   "base_numbering": 1,
   "nav_menu": {},
   "number_sections": true,
   "sideBar": true,
   "skip_h1_title": false,
   "title_cell": "Table of Contents",
   "title_sidebar": "Contents",
   "toc_cell": false,
   "toc_position": {},
   "toc_section_display": true,
   "toc_window_display": false
  },
  "widgets": {
   "state": {
    "9d12623657b44286a8e65f8e4bea72e5": {
     "views": [
      {
       "cell_index": 6
      }
     ]
    }
   },
   "version": "1.2.0"
  }
 },
 "nbformat": 4,
 "nbformat_minor": 2
}
