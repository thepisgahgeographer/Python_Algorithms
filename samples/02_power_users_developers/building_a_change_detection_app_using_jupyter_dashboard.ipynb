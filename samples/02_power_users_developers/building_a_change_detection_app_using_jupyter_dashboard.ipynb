{
 "cells": [
  {
   "cell_type": "markdown",
   "metadata": {
    "extensions": {
     "jupyter_dashboards": {
      "version": 1,
      "views": {
       "grid_default": {
        "col": 0,
        "height": 4,
        "hidden": false,
        "row": 0,
        "width": 12
       },
       "report_default": {
        "hidden": true
       }
      }
     }
    }
   },
   "source": [
    "# Building a change detection app using Jupyter Dashboard\n",
    "\n",
    "The Python API, along with the [Jupyter Dashboard](http://jupyter-dashboards-layout.readthedocs.io/) project enables Python developers to quickly build and prototype interactive web apps. This sample illustrates one such app which can be used to detect the changes in vegetation between the two dates. Increases in vegetation are shown in green, and decreases are shown in magenta. \n",
    "\n",
    "This sample uses the fast on-the-fly processing power of raster functions available in the `raster` module of the Python API.\n",
    "\n",
    "<blockquote>To run this sample you need `jupyter_dashboards` package in your conda environment. You can install it as shown below. For information on this, [refer to the install instructions](http://jupyter-dashboards-layout.readthedocs.io/en/latest/getting-started.html#installing-and-enabling)</blockquote>\n",
    "\n",
    "    conda install jupyter_dashboards -c conda-forge"
   ]
  },
  {
   "cell_type": "markdown",
   "metadata": {
    "extensions": {
     "jupyter_dashboards": {
      "version": 1,
      "views": {
       "grid_default": {},
       "report_default": {
        "hidden": true
       }
      }
     }
    }
   },
   "source": [
    "<img src=\"../../static/img/02_change_detection_app_01.gif\">"
   ]
  },
  {
   "cell_type": "markdown",
   "metadata": {
    "extensions": {
     "jupyter_dashboards": {
      "version": 1,
      "views": {
       "grid_default": {},
       "report_default": {
        "hidden": true
       }
      }
     }
    }
   },
   "source": [
    "### Connect to ArcGIS Online"
   ]
  },
  {
   "cell_type": "code",
   "execution_count": 1,
   "metadata": {
    "extensions": {
     "jupyter_dashboards": {
      "version": 1,
      "views": {
       "grid_default": {
        "hidden": true
       },
       "report_default": {
        "hidden": true
       }
      }
     }
    }
   },
   "outputs": [],
   "source": [
    "from arcgis.gis import GIS\n",
    "from arcgis.geocoding import geocode\n",
    "from arcgis.raster.functions import *\n",
    "from arcgis import geometry\n",
    "    \n",
    "import pandas as pd\n",
    "\n",
    "# connect as an anonymous user\n",
    "gis = GIS()\n",
    "\n",
    "# search for the landsat multispectral imagery layer\n",
    "landsat_item = gis.content.search('Landsat Multispectral', 'Imagery Layer', outside_org=True)[0]\n",
    "landsat = landsat_item.layers[0]\n",
    "df = None"
   ]
  },
  {
   "cell_type": "markdown",
   "metadata": {
    "extensions": {
     "jupyter_dashboards": {
      "version": 1,
      "views": {
       "grid_default": {},
       "report_default": {
        "hidden": true
       }
      }
     }
    }
   },
   "source": [
    "### Create widget controls to accept place of interest\n",
    "We use the `widgets` module from `ipywidgets` to create a text box and command button controls. These controls allow the user to specify a place of interest."
   ]
  },
  {
   "cell_type": "code",
   "execution_count": 2,
   "metadata": {
    "code_folding": [
     9
    ],
    "extensions": {
     "jupyter_dashboards": {
      "version": 1,
      "views": {
       "grid_default": {
        "col": 5,
        "height": 2,
        "hidden": false,
        "row": 4,
        "width": 5
       },
       "report_default": {
        "hidden": false
       }
      }
     }
    }
   },
   "outputs": [
    {
     "data": {
      "application/vnd.jupyter.widget-view+json": {
       "model_id": "1c12f7e1249a40ccb0d061918296b779",
       "version_major": 2,
       "version_minor": 0
      },
      "text/plain": [
       "HBox(children=(Text(value='Ranchi, India', description='Location:', placeholder='Ranchi, India'), Button(descr…"
      ]
     },
     "metadata": {},
     "output_type": "display_data"
    }
   ],
   "source": [
    "import ipywidgets as widgets\n",
    "\n",
    "# text box widget\n",
    "location = widgets.Text(value='Ranchi, India', placeholder='Ranchi, India',\n",
    "                        description='Location:', disabled=False)\n",
    "\n",
    "# command button widget\n",
    "gobtn = widgets.Button(description='Go', disabled=False,\n",
    "                       button_style='', tooltip='Go', icon='check')\n",
    "\n",
    "# define what happens whent the command button is clicked\n",
    "def on_gobutton_clicked(b):\n",
    "    global df\n",
    "    global m\n",
    "    global oldslider\n",
    "    \n",
    "    # geocode the place name and set that as the map's extent\n",
    "    area = geocode(location.value)[0]\n",
    "    m.extent = area['extent']\n",
    "    df = filter_images()\n",
    "    \n",
    "gobtn.on_click(on_gobutton_clicked)\n",
    "\n",
    "location_items = [location, gobtn]\n",
    "widgets.HBox(location_items)"
   ]
  },
  {
   "cell_type": "markdown",
   "metadata": {
    "extensions": {
     "jupyter_dashboards": {
      "version": 1,
      "views": {
       "grid_default": {},
       "report_default": {
        "hidden": true
       }
      }
     }
    }
   },
   "source": [
    "Create the map widget and load the landsat imagery layer"
   ]
  },
  {
   "cell_type": "code",
   "execution_count": 3,
   "metadata": {
    "extensions": {
     "jupyter_dashboards": {
      "version": 1,
      "views": {
       "grid_default": {
        "col": 0,
        "height": 14,
        "hidden": false,
        "row": 8,
        "width": null
       },
       "report_default": {
        "hidden": false
       }
      }
     }
    }
   },
   "outputs": [
    {
     "data": {
      "application/vnd.jupyter.widget-view+json": {
       "model_id": "b703afd120cf4910805d42ed7cd503fe",
       "version_major": 2,
       "version_minor": 0
      },
      "text/plain": [
       "MapView(layout=Layout(height='400px', width='100%'))"
      ]
     },
     "metadata": {},
     "output_type": "display_data"
    },
    {
     "data": {
      "text/html": [
       "<div class=\"map-static-img-preview-b5b2064c-1892-41ba-858f-08ad61cabcc0\"><img src=\"\"></img></div>"
      ],
      "text/plain": [
       "<IPython.core.display.HTML object>"
      ]
     },
     "metadata": {},
     "output_type": "display_data"
    }
   ],
   "source": [
    "m = gis.map(location.value)\n",
    "m.add_layer(landsat)\n",
    "display(m)"
   ]
  },
  {
   "cell_type": "markdown",
   "metadata": {
    "extensions": {
     "jupyter_dashboards": {
      "version": 1,
      "views": {
       "grid_default": {},
       "report_default": {
        "hidden": true
       }
      }
     }
    }
   },
   "source": [
    "### Create date slider controls\n",
    "We create two slider controls to pick the before and after dates."
   ]
  },
  {
   "cell_type": "code",
   "execution_count": 4,
   "metadata": {
    "code_folding": [
     2,
     18
    ],
    "extensions": {
     "jupyter_dashboards": {
      "version": 1,
      "views": {
       "grid_default": {
        "col": 0,
        "height": 2,
        "hidden": false,
        "row": 6,
        "width": 5
       },
       "report_default": {
        "hidden": false
       }
      }
     }
    }
   },
   "outputs": [
    {
     "data": {
      "application/vnd.jupyter.widget-view+json": {
       "model_id": "d7ee88266192439ea44340034518fa26",
       "version_major": 2,
       "version_minor": 0
      },
      "text/plain": [
       "HBox(children=(IntSlider(value=0, description='Older:', max=10, readout=False, readout_format='f'), Label(valu…"
      ]
     },
     "metadata": {},
     "output_type": "display_data"
    }
   ],
   "source": [
    "oldindex =  0 # int(len(df)/2)\n",
    "\n",
    "# before image date slider\n",
    "oldslider = widgets.IntSlider(value=oldindex, min=0,max=10, #len(df) - 1,\n",
    "                              step=1, description='Older:', disabled=False,\n",
    "                              continuous_update=True, orientation='horizontal',\n",
    "                              readout=False, readout_format='f', slider_color='white')\n",
    "\n",
    "old_label = widgets.Label(value='')#str(df.Time.iloc[oldindex].date()))\n",
    "\n",
    "# define the slider behavior\n",
    "def on_old_value_change(change):\n",
    "    global df\n",
    "    i = change['new']\n",
    "    if df is not None:\n",
    "        try:\n",
    "            # print(df.Time.iloc[i].date())\n",
    "            old_label.value = str(df.Time.iloc[i].date())\n",
    "        except:\n",
    "            pass\n",
    "        \n",
    "oldslider.observe(on_old_value_change, names='value')    \n",
    "widgets.HBox([oldslider, old_label])"
   ]
  },
  {
   "cell_type": "code",
   "execution_count": 5,
   "metadata": {
    "code_folding": [
     2,
     18
    ],
    "extensions": {
     "jupyter_dashboards": {
      "version": 1,
      "views": {
       "grid_default": {
        "col": 0,
        "height": 2,
        "hidden": false,
        "row": 4,
        "width": 5
       },
       "report_default": {
        "hidden": false
       }
      }
     }
    }
   },
   "outputs": [
    {
     "data": {
      "application/vnd.jupyter.widget-view+json": {
       "model_id": "b1047c76ff4c4f208287958888eafe8d",
       "version_major": 2,
       "version_minor": 0
      },
      "text/plain": [
       "HBox(children=(IntSlider(value=0, description='Newer:', max=10, readout=False, readout_format='f'), Label(valu…"
      ]
     },
     "metadata": {},
     "output_type": "display_data"
    }
   ],
   "source": [
    "newindex = 0 # len(df) - 1\n",
    "\n",
    "# after image date slider\n",
    "newslider = widgets.IntSlider(value=newindex, min=0, max=10, #len(df) - 1,\n",
    "                              step=1, description='Newer:', disabled=False,\n",
    "                              continuous_update=True, orientation='horizontal',\n",
    "                              readout=False, readout_format='f', slider_color='white')\n",
    "\n",
    "new_label = widgets.Label(value='') #str(df.Time.iloc[newindex].date()))\n",
    "\n",
    "# define the slider behavior\n",
    "def on_new_value_change(change):\n",
    "    global df\n",
    "    i = change['new']\n",
    "    if df is not None:\n",
    "        try:\n",
    "        # print(df.Time.iloc[i].date())\n",
    "            new_label.value = str(df.Time.iloc[i].date())\n",
    "        except:\n",
    "            pass\n",
    "newslider.observe(on_new_value_change, names='value')\n",
    "widgets.HBox([newslider, new_label])"
   ]
  },
  {
   "cell_type": "markdown",
   "metadata": {
    "extensions": {
     "jupyter_dashboards": {
      "version": 1,
      "views": {
       "grid_default": {},
       "report_default": {
        "hidden": true
       }
      }
     }
    }
   },
   "source": [
    "### Query the time enabled landast imagery layer\n",
    "Based on the dates selected from the sliders, we filter the layer for images"
   ]
  },
  {
   "cell_type": "code",
   "execution_count": 6,
   "metadata": {
    "code_folding": [
     0
    ],
    "extensions": {
     "jupyter_dashboards": {
      "version": 1,
      "views": {
       "grid_default": {
        "col": 0,
        "height": 12,
        "hidden": true,
        "row": 0,
        "width": 12
       },
       "report_default": {
        "hidden": true
       }
      }
     }
    }
   },
   "outputs": [],
   "source": [
    "def update_sliders(tdf):\n",
    "    global oldslider\n",
    "    global newslider\n",
    "    \n",
    "    oldslider.max = len(tdf) - 1\n",
    "    newslider.max = len(tdf) -1\n",
    "    oldindex = int(len(tdf)/2)\n",
    "    newindex = int(len(tdf) -1)\n",
    "    oldslider.value = oldindex\n",
    "    newslider.value = newindex\n",
    "    old_label.value = str(tdf.Time.iloc[oldindex].date())\n",
    "    new_label.value = str(tdf.Time.iloc[newindex].date())\n",
    "\n",
    "\n",
    "def filter_images():\n",
    "    global df\n",
    "    area = geocode(location.value, out_sr=landsat.properties.spatialReference)[0]\n",
    "    extent = area['extent']\n",
    "\n",
    "    selected = landsat.filter_by(where=\"(Category = 1) AND (CloudCover <=0.10)\", \n",
    "                             geometry=geometry.filters.intersects(extent))\n",
    "    fs = selected.query(out_fields=\"AcquisitionDate, GroupName, Best, CloudCover, WRS_Row, WRS_Path, Month, Name\", \n",
    "                  return_geometry=True,\n",
    "                  return_distinct_values=False,\n",
    "                  order_by_fields=\"AcquisitionDate\")\n",
    "    tdf = fs.sdf\n",
    "    df = tdf\n",
    "    tdf['Time'] = pd.to_datetime(tdf['AcquisitionDate'], unit='ms')    \n",
    "    \n",
    "    if len(tdf) > 1:\n",
    "        update_sliders(tdf)\n",
    "\n",
    "    # m.draw(tdf.iloc[oldslider.value].SHAPE)\n",
    "    \n",
    "    return tdf"
   ]
  },
  {
   "cell_type": "code",
   "execution_count": 7,
   "metadata": {
    "extensions": {
     "jupyter_dashboards": {
      "version": 1,
      "views": {
       "grid_default": {
        "hidden": true
       },
       "report_default": {
        "hidden": true
       }
      }
     }
    }
   },
   "outputs": [],
   "source": [
    "df = filter_images()"
   ]
  },
  {
   "cell_type": "markdown",
   "metadata": {
    "extensions": {
     "jupyter_dashboards": {
      "version": 1,
      "views": {
       "grid_default": {},
       "report_default": {
        "hidden": true
       }
      }
     }
    }
   },
   "source": [
    "### Perform change detection when the action button is clicked\n",
    "We create a command button and when it is clicked, display the difference in NDVI values in shades of green and magenta."
   ]
  },
  {
   "cell_type": "code",
   "execution_count": 8,
   "metadata": {
    "code_folding": [
     0
    ],
    "extensions": {
     "jupyter_dashboards": {
      "version": 1,
      "views": {
       "grid_default": {
        "col": 10,
        "height": 2,
        "hidden": false,
        "row": 4,
        "width": 2
       },
       "report_default": {
        "hidden": false
       }
      }
     }
    }
   },
   "outputs": [
    {
     "data": {
      "application/vnd.jupyter.widget-view+json": {
       "model_id": "769cc179c32344dd83ef566564efb402",
       "version_major": 2,
       "version_minor": 0
      },
      "text/plain": [
       "Button(button_style='success', description='Detect changes', icon='check', style=ButtonStyle(), tooltip='Show …"
      ]
     },
     "metadata": {},
     "output_type": "display_data"
    }
   ],
   "source": [
    "# create the action button\n",
    "diffbtn = widgets.Button(description='Detect changes', disabled=False,\n",
    "                         button_style='success', tooltip='Show Different Image',\n",
    "                         icon='check')\n",
    "\n",
    "def on_diffbutton_clicked(b):\n",
    "    # m.clear_graphics()\n",
    "    first = df.iloc[oldslider.value].OBJECTID\n",
    "    last = df.iloc[newslider.value].OBJECTID\n",
    "    old = landsat.filter_by('OBJECTID='+str(first))\n",
    "    new = landsat.filter_by('OBJECTID='+str(last))\n",
    "    diff = stretch(composite_band([ndvi(old, '5 4'),\n",
    "                               ndvi(new, '5 4'),\n",
    "                               ndvi(old, '5 4')]), \n",
    "                               stretch_type='stddev',  num_stddev=3, min=0, max=255, dra=True, astype='u8')\n",
    "    m.add_layer(diff)\n",
    "    \n",
    "diffbtn.on_click(on_diffbutton_clicked)\n",
    "diffbtn"
   ]
  },
  {
   "cell_type": "markdown",
   "metadata": {
    "extensions": {
     "jupyter_dashboards": {
      "version": 1,
      "views": {
       "grid_default": {
        "hidden": true
       },
       "report_default": {
        "hidden": true
       }
      }
     }
    }
   },
   "source": [
    "<blockquote>To run this sample as a dashboard, first run all the cells. Then if you have the `jupyter dashboard` package installed, you should see a `Dashboard View` set of buttons in your cell toolbar. Click on the `Report layout` to specify which cells to hide and then switch to `dashboard preview`.</blockquote>\n",
    "\n",
    "<img src=\"../../static/img/02_change_detection_guide_01.gif\">\n",
    "\n",
    "### Conclusion\n",
    "This sample demonstrates how developers can make use of the Python API and the rich Jupyter ecosystem to quickly build web apps."
   ]
  }
 ],
 "metadata": {
  "anaconda-cloud": {},
  "extensions": {
   "jupyter_dashboards": {
    "activeView": "report_default",
    "version": 1,
    "views": {
     "grid_default": {
      "cellMargin": 10,
      "defaultCellHeight": 20,
      "maxColumns": 12,
      "name": "grid",
      "type": "grid"
     },
     "report_default": {
      "name": "report",
      "type": "report"
     }
    }
   }
  },
  "kernelspec": {
   "display_name": "Python 3",
   "language": "python",
   "name": "python3"
  },
  "language_info": {
   "codemirror_mode": {
    "name": "ipython",
    "version": 3
   },
   "file_extension": ".py",
   "mimetype": "text/x-python",
   "name": "python",
   "nbconvert_exporter": "python",
   "pygments_lexer": "ipython3",
   "version": "3.7.2"
  },
  "toc": {
   "base_numbering": 1,
   "nav_menu": {},
   "number_sections": true,
   "sideBar": true,
   "skip_h1_title": false,
   "title_cell": "Table of Contents",
   "title_sidebar": "Contents",
   "toc_cell": false,
   "toc_position": {},
   "toc_section_display": true,
   "toc_window_display": false
  },
  "widgets": {
   "state": {
    "271f2423ef154a1193a6dec24079924d": {
     "views": [
      {
       "cell_index": 3
      }
     ]
    },
    "2bc67bb5fdc247efa98a0bf74f32a5d2": {
     "views": [
      {
       "cell_index": 2
      }
     ]
    }
   },
   "version": "1.2.0"
  }
 },
 "nbformat": 4,
 "nbformat_minor": 2
}
