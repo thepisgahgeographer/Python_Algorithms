{
 "cells": [
  {
   "cell_type": "markdown",
   "metadata": {},
   "source": [
    "# Executing big data tools\n",
    "The GeoAnalytics tools are presented through a set of sub modules within the `geoanalytics` module. To view the list of tools available, refer to the page titled [Working with big data](https://developers.arcgis.com/python/guide/working-with-big-data). In this page, we will learn how to execute big data tools.\n",
    "\n",
    "## Ensuring your GIS supports GeoAnalytics\n",
    "Before executing a tool, we need to ensure an ArcGIS Enterprise GIS is set up with a licensed GeoAnalytics server. To do so, call the [`is_supported()`](https://esri.github.io/arcgis-python-api/apidoc/html/arcgis.geoanalytics.toc.html#is-supported) method after connecting to your Enterprise portal. See the [Components of ArcGIS URLs](http://enterprise.arcgis.com/en/portal/latest/administer/linux/components-of-arcgis-urls.htm) documentation for details on the urls to enter in the [`GIS`](https://esri.github.io/arcgis-python-api/apidoc/html/arcgis.gis.toc.html#gis) parameters based on your particular Enterprise configuration."
   ]
  },
  {
   "cell_type": "code",
   "execution_count": null,
   "metadata": {
    "collapsed": true
   },
   "outputs": [],
   "source": [
    "# connect to Enterprise GIS\n",
    "from arcgis.gis import GIS\n",
    "import arcgis.geoanalytics\n",
    "\n",
    "gis = GIS(\"your_gis_portal_url\", \"username\", \"password\")"
   ]
  },
  {
   "cell_type": "code",
   "execution_count": null,
   "metadata": {},
   "outputs": [
    {
     "data": {
      "text/plain": [
       "True"
      ]
     },
     "execution_count": null,
     "metadata": {},
     "output_type": "execute_result"
    }
   ],
   "source": [
    "# check if GeoAnalytics is supported\n",
    "arcgis.geoanalytics.is_supported()"
   ]
  },
  {
   "cell_type": "markdown",
   "metadata": {},
   "source": [
    "When no parameters are specified with `geoanalytics` methods, they use the active GIS connection, which you can query with the [`arcgis.env.active_gis`](https://esri.github.io/arcgis-python-api/apidoc/html/arcgis.env.html#arcgis.env.active_gis) property.  However, if you are working with more than one GIS object, you can specify the desired GIS object as the `gis` parameter of this method. For example, let us create a connection to an Enterprise deployment and check if GeoAnalytics is supported."
   ]
  },
  {
   "cell_type": "code",
   "execution_count": null,
   "metadata": {},
   "outputs": [
    {
     "data": {
      "text/plain": [
       "False"
      ]
     },
     "execution_count": null,
     "metadata": {},
     "output_type": "execute_result"
    }
   ],
   "source": [
    "ago_gis = GIS(\"https://geoinfo_portal.esri.com/portal\", \"username\", \"password\")\n",
    "arcgis.geoanalytics.is_supported(ago_gis)"
   ]
  },
  {
   "cell_type": "markdown",
   "metadata": {},
   "source": [
    "## Executing a GeoAnalytics tool\n",
    "### Looking for big data file share items\n",
    "When you add a big data file share, a corresponding item gets created on your portal. You can search for it like any other portal [`Item`](https://developers.arcgis.com/rest/services-reference/item.htm) and query its layers."
   ]
  },
  {
   "cell_type": "code",
   "execution_count": null,
   "metadata": {},
   "outputs": [
    {
     "data": {
      "text/plain": [
       "[<Item title:\"bigDataFileShares_hdfs_test\" type:Big Data File Share owner:admin>,\n",
       " <Item title:\"bigDataFileShares_qalab\" type:Big Data File Share owner:sharing3>,\n",
       " <Item title:\"bigDataFileShares_Sample_US_City_Crime\" type:Big Data File Share owner:admin>,\n",
       " <Item title:\"bigDataFileShares_FileShareFolder\" type:Big Data File Share owner:admin>]"
      ]
     },
     "execution_count": null,
     "metadata": {},
     "output_type": "execute_result"
    }
   ],
   "source": [
    "search_result = gis.content.search(\"\", item_type = \"big data file share\")\n",
    "search_result"
   ]
  },
  {
   "cell_type": "code",
   "execution_count": null,
   "metadata": {},
   "outputs": [
    {
     "data": {
      "text/html": [
       "<div class=\"item_container\" style=\"height: auto; overflow: hidden; border: 1px solid #cfcfcf; border-radius: 2px; background: #f6fafa; line-height: 1.21429em; padding: 10px;\">\n",
       "                    <div class=\"item_left\" style=\"width: 210px; float: left;\">\n",
       "                       <a href='http://dev0001560.esri.com/portal/home/item.html?id=c03d528c9c354c378cb13ff0aeaad6e8' target='_blank'>\n",
       "                        <img src='http://dev0001560.esri.com/portal/portalimages/desktopapp.png' class=\"itemThumbnail\">\n",
       "                       </a>\n",
       "                    </div>\n",
       "\n",
       "                    <div class=\"item_right\"     style=\"float: none; width: auto; overflow: hidden;\">\n",
       "                        <a href='http://dev0001560.esri.com/portal/home/item.html?id=c03d528c9c354c378cb13ff0aeaad6e8' target='_blank'><b>bigDataFileShares_FileShareFolder</b>\n",
       "                        </a>\n",
       "                        <br/><img src='http://dev0001560.esri.com/portal/home/js/jsapi/esri/css/images/item_type_icons/layers16.png' style=\"vertical-align:middle;\">Big Data File Share by admin\n",
       "                        <br/>Last Modified: March 29, 2018\n",
       "                        <br/>0 comments, 0 views\n",
       "                    </div>\n",
       "                </div>\n",
       "                "
      ],
      "text/plain": [
       "<Item title:\"bigDataFileShares_FileShareFolder\" type:Big Data File Share owner:admin>"
      ]
     },
     "execution_count": null,
     "metadata": {},
     "output_type": "execute_result"
    }
   ],
   "source": [
    "data_item = search_result[3]"
   ]
  },
  {
   "cell_type": "code",
   "execution_count": null,
   "metadata": {},
   "outputs": [
    {
     "data": {
      "text/plain": [
       "[<Layer url:\"https://dev0001561.esri.com/gax/rest/services/DataStoreCatalogs/bigDataFileShares_FileShareFolder/BigDataCatalogServer/Earthquakes\">,\n",
       " <Layer url:\"https://dev0001561.esri.com/gax/rest/services/DataStoreCatalogs/bigDataFileShares_FileShareFolder/BigDataCatalogServer/Hurricanes\">]"
      ]
     },
     "execution_count": null,
     "metadata": {},
     "output_type": "execute_result"
    }
   ],
   "source": [
    "data_item.layers"
   ]
  },
  {
   "cell_type": "code",
   "execution_count": null,
   "metadata": {},
   "outputs": [
    {
     "data": {
      "text/plain": [
       "<Layer url:\"https://dev0001561.esri.com/gax/rest/services/DataStoreCatalogs/bigDataFileShares_FileShareFolder/BigDataCatalogServer/Earthquakes\">"
      ]
     },
     "execution_count": null,
     "metadata": {},
     "output_type": "execute_result"
    }
   ],
   "source": [
    "earthquakes = data_item.layers[0]\n",
    "earthquakes"
   ]
  },
  {
   "cell_type": "markdown",
   "metadata": {},
   "source": [
    "### Executing the Aggregate Points tool\n",
    "Access the [`aggregate_points()`](https://esri.github.io/arcgis-python-api/apidoc/html/arcgis.geoanalytics.summarize_data.html#aggregate-points) tool through the [`summarize_data`](https://esri.github.io/arcgis-python-api/apidoc/html/arcgis.geoanalytics.summarize_data.html#) module. This example uses the Aggregate Points tool to aggregate the point features representing earthquakes into 1 Kilometer square bins. The tool creates an output feature layer in your portal you can access once processing is complete."
   ]
  },
  {
   "cell_type": "code",
   "execution_count": null,
   "metadata": {
    "collapsed": true
   },
   "outputs": [],
   "source": [
    "from arcgis.geoanalytics.summarize_data import aggregate_points"
   ]
  },
  {
   "cell_type": "markdown",
   "metadata": {},
   "source": [
    "The GeoAnalytics Tools use a [process spatial reference](https://developers.arcgis.com/rest/services-reference/process-spatial-reference.htm) during execution. Analyses with square or hexagon bins require a projected coordinate system. We'll use the World Cylindrical Equal Area projection (WKID 54034) below (as it is the default used when running tools in [ArcGIS Online](https://www.arcgis.com/home/index.html)). All results are stored in the spatiotemporal datastore of the Enterprise in the WGS 84 Spatial Reference.\n",
    "\n",
    "See the GeoAnalytics Documentation for a full explanation of [analysis environment settings](https://enterprise.arcgis.com/en/portal/latest/use/geoanalyticstool-useenvironmentsettings.htm)."
   ]
  },
  {
   "cell_type": "code",
   "execution_count": null,
   "metadata": {
    "collapsed": true
   },
   "outputs": [],
   "source": [
    "arcgis.env.process_spatial_reference=54034"
   ]
  },
  {
   "cell_type": "markdown",
   "metadata": {},
   "source": [
    "The ArcGIS Platform, including the ArcGIS API for Python, manages and transforms geographic data with a large suite of tools and functions collectively known as [geoprocessing](http://pro.arcgis.com/en/pro-app/help/analysis/geoprocessing/basics/what-is-geoprocessing-.htm). The GeoAnalytics Tools in the ArcGIS API for Python are a subset of geoprocessing tools, and operate in the context of a [geoprocessing environment](https://developers.arcgis.com/python/guide/advanced-concepts/#Geoprocessing-environment). You can set various aspects of this environment to control how tools are executed and what messages you receive during and after the execution. See the [Logging and error handling](https://developers.arcgis.com/python/guide/advanced-concepts/#Logging-and-error-handling) section in the API for Python Geoprocessing Guide [Advanced concepts](https://developers.arcgis.com/python/guide/advanced-concepts/) for ways to control messaging, including the [`arcgis.env.verbose`](https://esri.github.io/arcgis-python-api/apidoc/html/arcgis.env.html#verbose) setting."
   ]
  },
  {
   "cell_type": "code",
   "execution_count": null,
   "metadata": {
    "collapsed": true
   },
   "outputs": [],
   "source": [
    "import arcgis.env\n",
    "\n",
    "arcgis.env.verbose=True"
   ]
  },
  {
   "cell_type": "code",
   "execution_count": null,
   "metadata": {},
   "outputs": [
    {
     "name": "stdout",
     "output_type": "stream",
     "text": [
      "Submitted.\n",
      "Executing...\n",
      "Executing (AggregatePoints): AggregatePoints \"Feature Set\" # 1 Kilometers # # # # # # # \"{\"serviceProperties\": {\"name\": \"EQAgg_5mi_hex\", \"serviceUrl\": \"http://dev0001560.esri.com/server/rest/services/Hosted/EQAgg_5mi_hex/FeatureServer\"}, \"itemProperties\": {\"itemId\": \"ece87b3a74094a85929a2f998407e724\"}}\" \"{\"processSR\": {\"wkid\": 54034}}\"\n",
      "Start Time: Thu Mar 29 16:05:24 2018\n",
      "Using URL based GPRecordSet param: https://<your_gis_portal>/<web_adaptor>/rest/services/DataStoreCatalogs/bigDataFileShares_FileShareFolder/BigDataCatalogServer/Earthquakes\n",
      "{\"messageCode\":\"BD_101033\",\"message\":\"'pointLayer' will be projected into the processing spatial reference.\",\"params\":{\"paramName\":\"pointLayer\"}}\n",
      "{\"messageCode\":\"BD_101028\",\"message\":\"Starting new distributed job with 2 tasks.\",\"params\":{\"totalTasks\":\"2\"}}\n",
      "{\"messageCode\":\"BD_101029\",\"message\":\"0/2 distributed tasks completed.\",\"params\":{\"completedTasks\":\"0\",\"totalTasks\":\"2\"}}\n",
      "{\"messageCode\":\"BD_101029\",\"message\":\"1/2 distributed tasks completed.\",\"params\":{\"completedTasks\":\"1\",\"totalTasks\":\"2\"}}\n",
      "{\"messageCode\":\"BD_101029\",\"message\":\"2/2 distributed tasks completed.\",\"params\":{\"completedTasks\":\"2\",\"totalTasks\":\"2\"}}\n",
      "{\"messageCode\":\"BD_101081\",\"message\":\"Finished writing results:\"}\n",
      "{\"messageCode\":\"BD_101082\",\"message\":\"* Count of features = 75614\",\"params\":{\"resultCount\":\"75614\"}}\n",
      "{\"messageCode\":\"BD_101083\",\"message\":\"* Spatial extent = {\\\"xmin\\\":-179.9999999999985,\\\"ymin\\\":-72.47391474883104,\\\"xmax\\\":180,\\\"ymax\\\":87.1601840635686}\",\"params\":{\"extent\":\"{\\\"xmin\\\":-179.9999999999985,\\\"ymin\\\":-72.47391474883104,\\\"xmax\\\":180,\\\"ymax\\\":87.1601840635686}\"}}\n",
      "{\"messageCode\":\"BD_101084\",\"message\":\"* Temporal extent = None\",\"params\":{\"extent\":\"None\"}}\n",
      "{\"messageCode\":\"BD_0\",\"message\":\"Feature service layer created: http://<your_gis_portal>/<web_adaptor>/rest/services/Hosted/EQAgg_5mi_hex/FeatureServer/0\",\"params\":{\"serviceUrl\":\"http://<your_gis_portal>/<web_adaptor>/rest/services/Hosted/EQAgg_5mi_hex/FeatureServer/0\"}}\n",
      "Succeeded at Thu Mar 29 16:06:13 2018 (Elapsed Time: 48.17 seconds)\n"
     ]
    }
   ],
   "source": [
    "agg_result = aggregate_points(earthquakes, bin_size=1, bin_size_unit='Kilometers', output_name='EQAgg_5mi_hex')"
   ]
  },
  {
   "cell_type": "markdown",
   "metadata": {},
   "source": [
    "The aggregate points tool, just like may other GeoAnalytics tools returns a feature layer item which contains the processed results."
   ]
  }
 ],
 "metadata": {
  "kernelspec": {
   "display_name": "Python 3",
   "language": "python",
   "name": "python3"
  },
  "language_info": {
   "codemirror_mode": {
    "name": "ipython",
    "version": 3
   },
   "file_extension": ".py",
   "mimetype": "text/x-python",
   "name": "python",
   "nbconvert_exporter": "python",
   "pygments_lexer": "ipython3",
   "version": "3.6.9"
  }
 },
 "nbformat": 4,
 "nbformat_minor": 1
}
