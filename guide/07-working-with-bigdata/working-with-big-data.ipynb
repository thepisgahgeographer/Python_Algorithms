{
 "cells": [
  {
   "cell_type": "markdown",
   "metadata": {},
   "source": [
    "# Working with big data\n",
    "Geospatial big data not only refers to large amounts of data related to the locations and positions of the earth's various features, but to large amounts of data that change very quickly and vary in origin and quality. Visualizing this geospatial big data creates opportunities for analyzing spatial relationships, exploring multiple dimensions across geographies, and predicting or modeling events in meaningful and timely ways. Where are disease outbreaks occurring now? Where have they historically occurred? Where are current population shifts increasing insurance risks? What spatial relationships and behavior patterns emerge before, during and after catastrohic storms? \n",
    "\n",
    "Through the [The Science of Where](https://www.esri.com/en-us/about/about-esri), Esri software adds a new dimension to big data problem solving - see [big data and Esri](http://www.esri.com/products/arcgis-capabilities/big-data) for insights on how the ArcGIS Platform helps you realize everything your big data has to offer. At 10.5, ArcGIS Enterprise introduced an [ArcGIS GeoAnalytics Server](http://enterprise.arcgis.com/en/server/latest/get-started/windows/what-is-arcgis-geoanalytics-server-.htm) that provides the ability to perform big data analysis on your Web GIS.\n",
    "\n",
    "**Note**: The tools available in the ArcGIS API for Python `geoanalytics` module require an ArcGIS Enterprise licensed and [configured with the ArcGIS GeoAnalytics server](http://enterprise.arcgis.com/en/server/latest/get-started/windows/configure-the-portal-with-arcgis-geoanalytics-server.htm).\n",
    "\n",
    "## `arcgis.geoanalytics` module\n",
    "The [`arcgis.geoanalytics`](https://esri.github.io/arcgis-python-api/apidoc/html/arcgis.geoanalytics.toc.html) module provides submodules, data types, classes and functions to process your big data using an [ArcGIS GeoAnalytics Server](http://server.arcgis.com/en/server/latest/get-started/windows/what-is-arcgis-geoanalytics-server-.htm). The ArcGIS GeoAnalytics Server enables distributed analysis across multiple ArcGIS Server machines. You can analyze more data in less time because you harness the compute power of multiple machines.  Navigate to the [Get Started with GeoAnalytics Server](http://enterprise.arcgis.com/en/server/latest/get-started/windows/configure-the-portal-with-arcgis-geoanalytics-server.htm) page to learn everything you need to configure the GeoAnalytics Server with your ArcGIS Enterprise deployment. \n",
    "\n",
    "The module verifies that your Enterprise has been properly configured with the [`is_supported()`](https://esri.github.io/arcgis-python-api/apidoc/html/arcgis.geoanalytics.toc.html#is-supported) function. Once confirmed the Enterprise is configured, the geoanalytics tools work with [big data file share](http://enterprise.arcgis.com/en/server/10.5/get-started/windows/what-is-a-big-data-file-share.htm) items registered in the Web GIS and also with [feature layers](https://developers.arcgis.com/rest/services-reference/feature-layer.htm).\n",
    "\n",
    "The `geoanalytics` module presents various tools grouped into submodules:\n",
    " - the [`arcgis.geoanalytics.analyze_patterns`](https://esri.github.io/arcgis-python-api/apidoc/html/arcgis.geoanalytics.analyze_patterns.html) module provides tools that help you identify, quantify and visualize spatial patterns in your data.\n",
    " - the [`arcgis.geoanalytics.find_locations`](https://esri.github.io/arcgis-python-api/apidoc/html/arcgis.geoanalytics.find_locations.html) module provides tools that help you identify areas or fetures that meet any number of criteria you specify.\n",
    " - the [`arcgis.geoanalytics.manage_data`](https://esri.github.io/arcgis-python-api/apidoc/html/arcgis.geoanalytics.manage_data.html) module provides tools for the day-to-day management of geographic and tabular data.\n",
    " - the [`arcgis.geoanalytics.summarize_data`](https://esri.github.io/arcgis-python-api/apidoc/html/arcgis.geoanalytics.summarize_data.html) module provides tools that output descriptive statistics of features and their attributes based on spatial relationships to other features.\n",
    " - the [`arcgis.geoanalytics.use_proximity`](https://esri.github.io/arcgis-python-api/apidoc/html/arcgis.geoanalytics.use_proximity.html) module provides tools that define geometries to help analyze what features are near what other features."
   ]
  }
 ],
 "metadata": {
  "kernelspec": {
   "display_name": "Python 3",
   "language": "python",
   "name": "python3"
  },
  "language_info": {
   "codemirror_mode": {
    "name": "ipython",
    "version": 3
   },
   "file_extension": ".py",
   "mimetype": "text/x-python",
   "name": "python",
   "nbconvert_exporter": "python",
   "pygments_lexer": "ipython3",
   "version": "3.6.2"
  }
 },
 "nbformat": 4,
 "nbformat_minor": 1
}
