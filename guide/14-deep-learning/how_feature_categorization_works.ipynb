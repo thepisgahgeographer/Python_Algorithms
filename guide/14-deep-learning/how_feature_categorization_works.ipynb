{
 "cells": [
  {
   "cell_type": "markdown",
   "metadata": {},
   "source": [
    "# How feature classifier works?"
   ]
  },
  {
   "cell_type": "markdown",
   "metadata": {},
   "source": [
    "## Introduction"
   ]
  },
  {
   "cell_type": "markdown",
   "metadata": {},
   "source": [
    "The goal of feature classification is to determine the class of each feature (e.g. building). For instance, it could be used to determine when a building is damaged or not after a natural disaster. Feature classification requires two input data: \n",
    "- A input raster that contains the spectral bands,\n",
    "- A feature class that defines the location (e.g. outline or bounding box) of each feature."
   ]
  },
  {
   "cell_type": "markdown",
   "metadata": {},
   "source": [
    "There are two major steps in feature classification. We first export training samples based on the geographical extent of each feature. Once the training samples are exported, it can be used as the training input for the deep learning based classification algorithm to train a feature classifier."
   ]
  },
  {
   "cell_type": "markdown",
   "metadata": {},
   "source": [
    "## Export training samples\n",
    "\n",
    "The process of exporting training samples is slightly different from pixel-based classification and object detection. In feature classification, we extract training samples based on the extent of each individual feature defined by the feature class. For each training sample, there is an associated class label that comes from the feature class attribute table. Optionally, we can also define a buffer size to extract a larger neighbourhood around the feature so that more spatial context is available to the classification model, which makes distinguishing different classes easier."
   ]
  },
  {
   "cell_type": "markdown",
   "metadata": {},
   "source": [
    "<center><img src=\"../../static/img/feature_classify_example.png\" height=\"700\" width=\"700\"></center>\n",
    "<center>Figure 1. An example of export training data for feature classifier</center>"
   ]
  },
  {
   "cell_type": "markdown",
   "metadata": {},
   "source": [
    "In the example above, there are three buildings in the original data. The one on the top is damaged and the other two is undamanged. Therefore, the export results would be three training samples with the corresponding labels. Here we used a buffer size of 50 meters so we can have more surrounding context to feed to the model next."
   ]
  },
  {
   "cell_type": "markdown",
   "metadata": {},
   "source": [
    "## Deep learning based classification algorithm"
   ]
  },
  {
   "cell_type": "markdown",
   "metadata": {},
   "source": [
    "Once the training samples are ready, it becomes a standard multi-class image classification problem in computer vision, which is a process of taking an input image and outputting a class. Image classification can be solved through convolutional neural networks (CNN) and there are many CNN based image classification algorithms. Most of them have a backbone CNN architecture (e.g. Resnet, LeNet-5, AlexNet, VGG 16) followed by a [softmax layer](https://en.wikipedia.org/wiki/Softmax_function). Again, You can refresh your CNN knowledge by going through this short paper “[A guide to convolution arithmetic for deep learning](https://arxiv.org/pdf/1603.07285.pdf)”."
   ]
  },
  {
   "cell_type": "markdown",
   "metadata": {},
   "source": [
    "## Implementation in `arcgis.learn`"
   ]
  },
  {
   "cell_type": "markdown",
   "metadata": {},
   "source": [
    "`arcgis.learn` allows us to define a feature classifier architecture just through a single line of code. For example:\n",
    "\n",
    "    feature_classifier = arcgis.learn.FeatureClassifier(data, backbone=None, pretrained_path=None)\n",
    "\n",
    "`data` is the returned data object from prepare_data function. `backbone` is used for creating the base of the classifier, which is resnet34 by default, while `pretrained_path` points to where pre-trained model is saved.\n",
    "\n",
    "For more information about the API, please go to the [API reference](https://esri.github.io/arcgis-python-api/apidoc/html/arcgis.learn.html#featureclassifier)."
   ]
  }
 ],
 "metadata": {
  "kernelspec": {
   "display_name": "Python 3",
   "language": "python",
   "name": "python3"
  },
  "language_info": {
   "codemirror_mode": {
    "name": "ipython",
    "version": 3
   },
   "file_extension": ".py",
   "mimetype": "text/x-python",
   "name": "python",
   "nbconvert_exporter": "python",
   "pygments_lexer": "ipython3",
   "version": "3.7.2"
  },
  "toc": {
   "base_numbering": 1,
   "nav_menu": {},
   "number_sections": true,
   "sideBar": true,
   "skip_h1_title": false,
   "title_cell": "Table of Contents",
   "title_sidebar": "Contents",
   "toc_cell": false,
   "toc_position": {},
   "toc_section_display": true,
   "toc_window_display": false
  }
 },
 "nbformat": 4,
 "nbformat_minor": 2
}
