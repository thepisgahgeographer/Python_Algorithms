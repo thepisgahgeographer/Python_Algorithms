{
 "cells": [
  {
   "cell_type": "markdown",
   "metadata": {},
   "source": [
    "# Guide to Orthomapping (Part 3)"
   ]
  },
  {
   "cell_type": "markdown",
   "metadata": {
    "toc": true
   },
   "source": [
    "<h1>Table of Contents<span class=\"tocSkip\"></span></h1>\n",
    "<div class=\"toc\"><ul class=\"toc-item\"><li><span><a href=\"#Continued-from-Part-2\" data-toc-modified-id=\"Continued-from-Part-2-1\">Continued from Part 2</a></span></li><li><span><a href=\"#Step-4.-Managing-imagery\" data-toc-modified-id=\"Step-4.-Managing-imagery-2\">Step 4. Managing imagery</a></span><ul class=\"toc-item\"><li><span><a href=\"#4.1-Get-or-set-image-collection-processing-status\" data-toc-modified-id=\"4.1-Get-or-set-image-collection-processing-status-2.1\">4.1 Get or set image collection processing status</a></span></li><li><span><a href=\"#4.2-Add-images-to-image-collection\" data-toc-modified-id=\"4.2-Add-images-to-image-collection-2.2\">4.2 Add images to image collection</a></span></li><li><span><a href=\"#4.3-Delete-images-from-image-collection\" data-toc-modified-id=\"4.3-Delete-images-from-image-collection-2.3\">4.3 Delete images from image collection</a></span></li><li><span><a href=\"#4.4-Reset-image-collection\" data-toc-modified-id=\"4.4-Reset-image-collection-2.4\">4.4 Reset image collection</a></span></li><li><span><a href=\"#4.5-Delete-image-collection\" data-toc-modified-id=\"4.5-Delete-image-collection-2.5\">4.5 Delete image collection</a></span></li></ul></li><li><span><a href=\"#Conclusion\" data-toc-modified-id=\"Conclusion-3\">Conclusion</a></span></li><li><span><a href=\"#References\" data-toc-modified-id=\"References-4\">References</a></span></li></ul></div>"
   ]
  },
  {
   "cell_type": "markdown",
   "metadata": {},
   "source": [
    "## Continued from Part 2\n",
    "\n",
    "\n",
    "Previously, <a href=\"orthomapping_guide_1.ipynb\">Part 1</a> has introduced the concept of Orthomapping, the pre-requisite configuration environment for orthomapping tools to run on, and how to organize imageries and create imagery collection layer item, and <a href=\"orthomapping_guide_2.ipynb\">Part 2</a> of this guide has covered how to apply block adjustments, manipulate control points, and compute seamlines and color correction, and procedures in generating orthomosaic, DEM, and Vegetation Indices through orthomapping tool. \n",
    "\n",
    "Next, in Part 3, we will talk about how to handle the processed imageries, which includes how to add/delete images in the image collection, and reset/delete the image collection. \n",
    "\n",
    "Let's get started! First, get connected to your GIS instance."
   ]
  },
  {
   "cell_type": "code",
   "execution_count": 1,
   "metadata": {},
   "outputs": [],
   "source": [
    "import arcgis\n",
    "from arcgis.gis import GIS\n",
    "\n",
    "portal_url = \"https://yourportal.domain.com/portal\"\n",
    "portal_username = \"your username\"\n",
    "portal_password = \"your password\"\n",
    "\n",
    "gis = GIS(url=portal_url, username=portal_username, password=portal_password)"
   ]
  },
  {
   "cell_type": "markdown",
   "metadata": {},
   "source": [
    "The `Image Collection Layer` item has already been created in <a href=\"orthomapping_guide_1.ipynb\">Part 1</a>, so let us reuse the reference to the layer item here."
   ]
  },
  {
   "cell_type": "code",
   "execution_count": 3,
   "metadata": {},
   "outputs": [
    {
     "data": {
      "text/plain": [
       "'https://yourportal.domain.com/server/rest/services/Hosted/omImageCollection/ImageServer'"
      ]
     },
     "execution_count": 3,
     "metadata": {},
     "output_type": "execute_result"
    }
   ],
   "source": [
    "image_collection_item = gis.content.search(\"omImageCollection\")[0]\n",
    "image_collection_item.url"
   ]
  },
  {
   "cell_type": "markdown",
   "metadata": {},
   "source": [
    "## Step 4. Managing imagery"
   ]
  },
  {
   "cell_type": "markdown",
   "metadata": {},
   "source": [
    "### 4.1 Get or set image collection processing status"
   ]
  },
  {
   "cell_type": "markdown",
   "metadata": {},
   "source": [
    "__[arcgis.raster.orthomapping.get_processing_states()](https://esri.github.io/arcgis-python-api/apidoc/html/arcgis.raster.orthomapping.html#get-processing-states)__ and __[arcgis.raster.orthomapping.alter_processing_states()](https://esri.github.io/arcgis-python-api/apidoc/html/arcgis.raster.orthomapping.html#alter-processing-states)__ are used to query and change processing states. The states are normally set based on orthomapping processes performed on image collection. It is important as it will determine how the data will be handled in the further orthomapping workflows."
   ]
  },
  {
   "cell_type": "code",
   "execution_count": 45,
   "metadata": {
    "scrolled": true
   },
   "outputs": [
    {
     "data": {
      "text/plain": [
       "{'blockadjustment': 'full',\n",
       " 'dem': {'match_mode': 'ETM',\n",
       "  'object_size': 15,\n",
       "  'ground_spacing': None,\n",
       "  'minimum_pairs': 8,\n",
       "  'minimum_adjustment_quality': 0.2,\n",
       "  'maximum_diff_gsd': 2,\n",
       "  'maximum_diff_OP': 8,\n",
       "  'interpolation_method': 'TRIANGULATION',\n",
       "  'smooth_method': 'GAUSS5X5',\n",
       "  'surface_type': 'DSM'},\n",
       " 'seamlines': {'computation_method': 'DISPARITY',\n",
       "  'blend_width': None,\n",
       "  'blend_type': 'BOTH',\n",
       "  'request_size': 1000,\n",
       "  'request_size_type': 'PIXELS',\n",
       "  'blend_width_units': 'PIXELS',\n",
       "  'min_region_size': 100,\n",
       "  'min_thinness_ratio': 0.05,\n",
       "  'max_sliver_size': 20},\n",
       " 'colorcorrection': {'balancing_method': 'DODGING',\n",
       "  'surface_type': 'SINGLE_COLOR'},\n",
       " 'adjust_index': 2,\n",
       " 'imagetype': 'UAV/UAS'}"
      ]
     },
     "execution_count": 45,
     "metadata": {},
     "output_type": "execute_result"
    }
   ],
   "source": [
    "from arcgis.raster.orthomapping import get_processing_states\n",
    "get_processing_states(image_collection=image_collection_item)"
   ]
  },
  {
   "cell_type": "code",
   "execution_count": 46,
   "metadata": {
    "scrolled": false
   },
   "outputs": [
    {
     "data": {
      "text/plain": [
       "{'orthomapping': {'blockadjustment': 'quick',\n",
       "  'dem': '',\n",
       "  'seamlines': {'computation_method': 'DISPARITY',\n",
       "   'blend_width': None,\n",
       "   'blend_type': 'BOTH',\n",
       "   'request_size': 1000,\n",
       "   'request_size_type': 'PIXELS',\n",
       "   'blend_width_units': 'PIXELS',\n",
       "   'min_region_size': 100,\n",
       "   'min_thinness_ratio': 0.05,\n",
       "   'max_sliver_size': 20},\n",
       "  'colorcorrection': {'balancing_method': 'DODGING',\n",
       "   'surface_type': 'SINGLE_COLOR'},\n",
       "  'adjust_index': 1,\n",
       "  'imagetype': 'UAV/UAS'}}"
      ]
     },
     "execution_count": 46,
     "metadata": {},
     "output_type": "execute_result"
    }
   ],
   "source": [
    "from arcgis.raster.orthomapping import alter_processing_states\n",
    "\n",
    "new_states ={'blockadjustment': 'quick',\n",
    "             'dem': '',\n",
    "             'seamlines':{'computation_method': 'DISPARITY',\n",
    "                          'blend_width': None,\n",
    "                          'blend_type': 'BOTH',\n",
    "                          'request_size': 1000,\n",
    "                          'request_size_type': 'PIXELS',\n",
    "                          'blend_width_units': 'PIXELS',\n",
    "                          'min_region_size': 100,\n",
    "                          'min_thinness_ratio': 0.05,\n",
    "                          'max_sliver_size': 20},\n",
    "             'colorcorrection': {'balancing_method': 'DODGING',\n",
    "                                 'surface_type': 'SINGLE_COLOR'},\n",
    "             'adjust_index': 1,\n",
    "             'imagetype': 'UAV/UAS'}\n",
    "\n",
    "alter_processing_states(image_collection=image_collection_item, new_states=new_states)"
   ]
  },
  {
   "cell_type": "markdown",
   "metadata": {},
   "source": [
    "### 4.2 Add images to image collection"
   ]
  },
  {
   "cell_type": "markdown",
   "metadata": {},
   "source": [
    "__[arcgis.raster.analytics.add_image()](https://esri.github.io/arcgis-python-api/apidoc/html/arcgis.raster.analytics.html#add-image)__ can help add new images to an exisiting image collection. This will not change anything else associated with other images, e.g., existing seamlines, footprints, control points, etc."
   ]
  },
  {
   "cell_type": "code",
   "execution_count": 47,
   "metadata": {},
   "outputs": [],
   "source": [
    "from arcgis.raster.analytics import add_image"
   ]
  },
  {
   "cell_type": "code",
   "execution_count": 48,
   "metadata": {
    "scrolled": true
   },
   "outputs": [],
   "source": [
    "image_item = gis.content.search(\"YUN_0040.JPG\")[0]"
   ]
  },
  {
   "cell_type": "code",
   "execution_count": 49,
   "metadata": {},
   "outputs": [],
   "source": [
    "raster_type_params = {\n",
    "    \"gps\":[[\"YUN_0040.JPG\",34.006989,-117.09279,725.13]], \"isAltitudeFlightHeight\":\"False\",\n",
    "    \"cameraProperties\":{\"maker\":\"Yuneec\", \"model\":\"E90\", \"focallength\":8,\"columns\":5472, \"rows\":3648, \"pixelsize\":0.0024},\n",
    "    \"averagezdem\":{\n",
    "        \"url\":\"https://elevation3d.arcgis.com/arcgis/rest/services/WorldElevation3D/Terrain3D/ImageServer\"\n",
    "    }\n",
    "}"
   ]
  },
  {
   "cell_type": "code",
   "execution_count": 1,
   "metadata": {},
   "outputs": [
    {
     "data": {
      "text/plain": [
       "'https://yourportal.domain.com/server/rest/services/Hosted/omImageCollection/ImageServer'"
      ]
     },
     "execution_count": 1,
     "metadata": {},
     "output_type": "execute_result"
    }
   ],
   "source": [
    "add_image(image_collection=image_collection_item, input_rasters=[image_item], raster_type_name=\"UAV/UAS\", \n",
    "          raster_type_params=raster_type_params)"
   ]
  },
  {
   "cell_type": "markdown",
   "metadata": {},
   "source": [
    "### 4.3 Delete images from image collection "
   ]
  },
  {
   "cell_type": "markdown",
   "metadata": {},
   "source": [
    "__[arcgis.raster.analytics.delete_image()](https://esri.github.io/arcgis-python-api/apidoc/html/arcgis.raster.analytics.html#delete-image)__ can help remove existing images from an image collection. This will not change anything else associated with other images, e.g., existing seamlines, footprints, control points, etc."
   ]
  },
  {
   "cell_type": "code",
   "execution_count": 51,
   "metadata": {},
   "outputs": [],
   "source": [
    "from arcgis.raster.analytics import delete_image"
   ]
  },
  {
   "cell_type": "code",
   "execution_count": 2,
   "metadata": {},
   "outputs": [
    {
     "data": {
      "text/plain": [
       "'https://yourportal.domain.com/server/rest/services/Hosted/omImageCollection/ImageServer'"
      ]
     },
     "execution_count": 2,
     "metadata": {},
     "output_type": "execute_result"
    }
   ],
   "source": [
    "delete_image(image_collection=image_collection_item, where=\"objectID=5\")"
   ]
  },
  {
   "cell_type": "markdown",
   "metadata": {},
   "source": [
    "### 4.4 Reset image collection"
   ]
  },
  {
   "cell_type": "markdown",
   "metadata": {},
   "source": [
    "__[arcgis.raster.orthomapping.reset_image_collection()](https://esri.github.io/arcgis-python-api/apidoc/html/arcgis.raster.orthomapping.html#reset-image-collection)__ can help reset an image collection imagery layer item to its original state. \n",
    "\n",
    "It will reset the block adjustment results that are already computed for the images, rebuild footprints, reset seamlines, and remove color correction results. \n",
    "\n",
    "It will not remove the existing control points feature class, flight path feature class, etc, that have been calculated from previous block adjustment run.\n",
    "\n",
    "It will not remove the derived products from adjusted image collection."
   ]
  },
  {
   "cell_type": "code",
   "execution_count": 53,
   "metadata": {},
   "outputs": [],
   "source": [
    "from arcgis.raster.orthomapping import reset_image_collection"
   ]
  },
  {
   "cell_type": "code",
   "execution_count": 54,
   "metadata": {
    "scrolled": true
   },
   "outputs": [
    {
     "data": {
      "text/plain": [
       "True"
      ]
     },
     "execution_count": 54,
     "metadata": {},
     "output_type": "execute_result"
    }
   ],
   "source": [
    "reset_image_collection(image_collection=image_collection_item)"
   ]
  },
  {
   "cell_type": "markdown",
   "metadata": {},
   "source": [
    "### 4.5 Delete image collection"
   ]
  },
  {
   "cell_type": "markdown",
   "metadata": {},
   "source": [
    "__[arcgis.raster.analytics.delete_image_collection()](https://esri.github.io/arcgis-python-api/apidoc/html/arcgis.raster.analytics.html#delete-image-collection)__ can help delete \n",
    "an image collection imagery layer item from our ArcGIS Enterprise. \n",
    "\n",
    "All other associated results and products that are not stored together with image collection will remain. "
   ]
  },
  {
   "cell_type": "code",
   "execution_count": 55,
   "metadata": {},
   "outputs": [],
   "source": [
    "from arcgis.raster.analytics import delete_image_collection"
   ]
  },
  {
   "cell_type": "code",
   "execution_count": 56,
   "metadata": {},
   "outputs": [
    {
     "data": {
      "text/plain": [
       "True"
      ]
     },
     "execution_count": 56,
     "metadata": {},
     "output_type": "execute_result"
    }
   ],
   "source": [
    "delete_image_collection(image_collection=image_collection_item)"
   ]
  },
  {
   "cell_type": "markdown",
   "metadata": {},
   "source": [
    "## Conclusion\n",
    "\n",
    "In this guide, we have gone through a total of four steps in handling imageries, and generating orthomapping products, namely:\n",
    "\n",
    " - __Step 1. Getting Organized__, in which we will discuss how to create image collection layer item from multiple images;\n",
    " - __Step 2. Getting Adjusted__, that will introduce how to apply block adjustments, manipulate control points, and compute seamlines and color correction.\n",
    " - __Step 3. Getting Results__, in which we will talk about procedures in generating orthomosaic, DEM, and Vegetation Indices through orthomapping tools.\n",
    " - __Step 4. Managing Imageries__, that will demonstrate how to add/delete images in the image collection, and reset/delete the image collection.\n",
    "\n",
    "Now with orthomapping products such as a DTM or DSM, and an orthomosaic with aerial digital imagery, etc. being obtained using Python API methods, you can go on to do all kinds of analysis with elevation data, or use your orthomosaic map for applications in emergency response, resource management, real estate, and more <a href='#References'>[1]</a>."
   ]
  },
  {
   "cell_type": "markdown",
   "metadata": {},
   "source": [
    "## References\n",
    "\n",
    "<a href=\"#Conclusion\">[1]</a> Lenhardt, Ortho Mapping in ArcGIS Pro Part III: Getting Results,https://www.esri.com/arcgis-blog/products/arcgis-pro/imagery/ortho-mapping-products-arcgis-pro/ [Online] [Assessed on August 13, 2019]"
   ]
  }
 ],
 "metadata": {
  "kernelspec": {
   "display_name": "Python 3",
   "language": "python",
   "name": "python3"
  },
  "language_info": {
   "codemirror_mode": {
    "name": "ipython",
    "version": 3
   },
   "file_extension": ".py",
   "mimetype": "text/x-python",
   "name": "python",
   "nbconvert_exporter": "python",
   "pygments_lexer": "ipython3",
   "version": "3.6.8"
  },
  "toc": {
   "base_numbering": 1,
   "nav_menu": {},
   "number_sections": false,
   "sideBar": true,
   "skip_h1_title": true,
   "title_cell": "Table of Contents",
   "title_sidebar": "Contents",
   "toc_cell": true,
   "toc_position": {},
   "toc_section_display": true,
   "toc_window_display": false
  },
  "varInspector": {
   "cols": {
    "lenName": 16,
    "lenType": 16,
    "lenVar": 40
   },
   "kernels_config": {
    "python": {
     "delete_cmd_postfix": "",
     "delete_cmd_prefix": "del ",
     "library": "var_list.py",
     "varRefreshCmd": "print(var_dic_list())"
    },
    "r": {
     "delete_cmd_postfix": ") ",
     "delete_cmd_prefix": "rm(",
     "library": "var_list.r",
     "varRefreshCmd": "cat(var_dic_list()) "
    }
   },
   "types_to_exclude": [
    "module",
    "function",
    "builtin_function_or_method",
    "instance",
    "_Feature"
   ],
   "window_display": false
  }
 },
 "nbformat": 4,
 "nbformat_minor": 2
}
