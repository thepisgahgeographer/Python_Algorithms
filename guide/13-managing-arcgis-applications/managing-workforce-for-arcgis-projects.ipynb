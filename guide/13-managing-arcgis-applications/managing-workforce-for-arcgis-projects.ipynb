{
 "cells": [
  {
   "cell_type": "markdown",
   "metadata": {},
   "source": [
    "# Managing Workforce for ArcGIS projects\n",
    "\n",
    "[Workforce for ArcGIS](http://doc.arcgis.com/en/workforce/) is a mobile solution that uses the power of location-based decision making for better field workforce coordination and teamwork. It is composed of a web app used by project administrators and dispatchers in the office, and a mobile app used by mobile workers on their devices. Organizations using Workforce for ArcGIS get these benefits:\n",
    "\n",
    "- Everything you need on one device. Mobile workers can easily view and process work assignments, provide updates on work status, and inform others of their location, all from one device.\n",
    "\n",
    "- Greater agility—Using real-time and location-based information, dispatchers can assign and prioritize fieldwork on the fly and ensure that work is assigned to the right people at the right time.\n",
    "\n",
    "- Increased productivity—Replace time-consuming and error-prone manual workforce management processes, reduce downtime, and keep projects on schedule."
   ]
  },
  {
   "cell_type": "markdown",
   "metadata": {
    "collapsed": true
   },
   "source": [
    "## Contents of a Workforce project\n",
    "\n",
    "A workforce project is composed of four point feature layers:\n",
    " - **Workers** - contains a record for each mobile worker along with their contact number and job title.\n",
    " - **Assignments** - contains a record for each assignment. It stores information such as status, location, and description, among others.\n",
    " - **Dispatchers** - contains a record for each dispatcher within the project and includes information such as name and contact number.\n",
    " - **Location Tracking** - contains a record for each point location logged while location tracking is enabled.\n",
    " \n",
    "and two web maps:\n",
    " - **Dispatcher web map** - for back-office dispatchers. It shows the assignments and worker locations\n",
    " - **Worker web map** - This map is what a field worker uses on their iOS or Android device.\n",
    " \n",
    "and a **workforce** project item. This is an item on the portal that stores project meta data in json format. This item connects all the layers and maps described above.\n",
    "\n",
    "The feature layers described above are named using a combination of a moniker, describing the purpose of the feature layer, appended with the GUID of the Workforce project item. For example, the Workers layer associated with a project with GUID `5dd018fcd88c4d33814cf3da9c44061e` would be named `workers_5dd018fcd88c4d33814cf3da9c44061e`. This guarantees uniqueness of each feature layer. The four feature layers are connected to one-another using primary key-foreign key relationships to track the workforce. To know more about those details, refer [here](https://doc.arcgis.com/en/workforce/android-phone/help/workforce-schema.htm)."
   ]
  },
  {
   "cell_type": "markdown",
   "metadata": {},
   "source": [
    "## What can you do with this module?\n",
    "Using the `workforce` module under the `arcgis.apps` module, you can automate the following tasks:\n",
    "\n",
    "### Workers and Dispatchers\n",
    "- Adding Dispatchers and Workers to a Project\n",
    "- Deleting Dispatchers and Workers from a Project\n",
    "- Updating Workers and Dispatchers in a Project\n",
    "- Searching Workers and Dispatchers in a Project\n",
    "\n",
    "### Assignments\n",
    "- Adding Assignments to a Project\n",
    "- Deleting Assignments from a Project\n",
    "- Updating Assignments in a Project\n",
    "- Assigning Assignments in a Project\n",
    "- Searching Assignments in a Project\n",
    "- Adding/Removing/Downloading Attachments\n",
    "\n",
    "### Tracks\n",
    "- Searching Tracks (for analysis)"
   ]
  },
  {
   "cell_type": "markdown",
   "metadata": {},
   "source": [
    "## Get Started\n",
    "\n",
    "A user must be authenticated with a GIS in order to fetch a Project. The workforce functionality is available in `arcgis.apps.workforce` module."
   ]
  },
  {
   "cell_type": "code",
   "execution_count": 1,
   "metadata": {},
   "outputs": [
    {
     "name": "stdout",
     "output_type": "stream",
     "text": [
      "Enter password: ········\n"
     ]
    }
   ],
   "source": [
    "from arcgis.gis import GIS\n",
    "from arcgis.apps import workforce\n",
    "\n",
    "gis = GIS('https://arcgis.com', 'arcgis_python')"
   ]
  },
  {
   "cell_type": "markdown",
   "metadata": {},
   "source": [
    "### Workforce Project\n",
    "A project is created using its corresponding item."
   ]
  },
  {
   "cell_type": "code",
   "execution_count": 6,
   "metadata": {},
   "outputs": [
    {
     "data": {
      "text/html": [
       "<div class=\"item_container\" style=\"height: auto; overflow: hidden; border: 1px solid #cfcfcf; border-radius: 2px; background: #f6fafa; line-height: 1.21429em; padding: 10px;\">\n",
       "                    <div class=\"item_left\" style=\"width: 210px; float: left;\">\n",
       "                       <a href='https://geosaurus.maps.arcgis.com/home/item.html?id=c63e3d46af7d4204b66b18d43a188c2e' target='_blank'>\n",
       "                        <img src='data:image/png;base64,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' width='200' height='133' class=\"itemThumbnail\">\n",
       "                       </a>\n",
       "                    </div>\n",
       "\n",
       "                    <div class=\"item_right\"     style=\"float: none; width: auto; overflow: hidden;\">\n",
       "                        <a href='https://geosaurus.maps.arcgis.com/home/item.html?id=c63e3d46af7d4204b66b18d43a188c2e' target='_blank'><b>demo-workforce-project</b>\n",
       "                        </a>\n",
       "                        <br/>This is a demo workforce project<img src='https://geosaurus.maps.arcgis.com/home/js/jsapi/esri/css/images/item_type_icons/layers16.png' style=\"vertical-align:middle;\">Workforce Project by arcgis_python\n",
       "                        <br/>Last Modified: April 10, 2018\n",
       "                        <br/>0 comments, 1 views\n",
       "                    </div>\n",
       "                </div>\n",
       "                "
      ],
      "text/plain": [
       "<Item title:\"demo-workforce-project\" type:Workforce Project owner:arcgis_python>"
      ]
     },
     "execution_count": 6,
     "metadata": {},
     "output_type": "execute_result"
    }
   ],
   "source": [
    "workforce_project_item = gis.content.get(\"c63e3d46af7d4204b66b18d43a188c2e\")\n",
    "workforce_project_item"
   ]
  },
  {
   "cell_type": "code",
   "execution_count": 23,
   "metadata": {},
   "outputs": [
    {
     "data": {
      "text/plain": [
       "<Project c63e3d46af7d4204b66b18d43a188c2e>"
      ]
     },
     "execution_count": 23,
     "metadata": {},
     "output_type": "execute_result"
    }
   ],
   "source": [
    "project = workforce.Project(item=workforce_project_item)\n",
    "project"
   ]
  },
  {
   "cell_type": "markdown",
   "metadata": {},
   "source": [
    "### Assignments\n",
    "`Assignment` objects are accessed by using the `assignments` property off the `Project` object. Assignments can be added, updated, or deleted. Additionally, attachments can be added, deleted, or downloaded by using the `attachments` property off the `Assignment` object."
   ]
  },
  {
   "cell_type": "code",
   "execution_count": 11,
   "metadata": {},
   "outputs": [
    {
     "data": {
      "text/plain": [
       "[<Assignment 1>, <Assignment 2>]"
      ]
     },
     "execution_count": 11,
     "metadata": {},
     "output_type": "execute_result"
    }
   ],
   "source": [
    "# Search all assignments\n",
    "assignments = project.assignments.search()\n",
    "assignments"
   ]
  },
  {
   "cell_type": "code",
   "execution_count": 3,
   "metadata": {},
   "outputs": [
    {
     "name": "stdout",
     "output_type": "stream",
     "text": [
      "Status: assigned\n",
      "Description: Do some work at the ESRI R&D Center\n",
      "Priority: medium\n",
      "Assigned To: Aaron Pulver\n",
      "Type: Inspection\n",
      "--------------------\n",
      "Updated Description: You need to do an inspection here\n"
     ]
    },
    {
     "data": {
      "text/plain": [
       "['/Users/aaro8157/PycharmProjects/arcgis-python-api/samples/02_power_users_developers/esri_logo1.png']"
      ]
     },
     "execution_count": 3,
     "metadata": {},
     "output_type": "execute_result"
    }
   ],
   "source": [
    "# View first assignment\n",
    "assignment = assignments[0]\n",
    "print(f\"Status: {assignment.status}\")\n",
    "print(f\"Description: {assignment.description}\")\n",
    "print(f\"Priority: {assignment.priority}\")\n",
    "print(f\"Assigned To: {assignment.worker.name}\")\n",
    "print(f\"Type: {assignment.assignment_type}\")\n",
    "\n",
    "# Update the description of the assignment\n",
    "assignment.update(description=\"You need to do an inspection here\")\n",
    "print(\"--------------------\")\n",
    "print(f\"Updated Description: {project.assignments.search()[0].description}\")\n",
    "\n",
    "# Download the assignment using the AssignmentAttachmentManager\n",
    "assignment.attachments.download()"
   ]
  },
  {
   "cell_type": "markdown",
   "metadata": {},
   "source": [
    "#### Assignment Types\n",
    "Assignment types are created when the workforce project is originally created. All assignments fall under one or the other assignment types. You can access these types by calling the `assignment_types` property off the `Project` item. Assignment types can be added, updated, or deleted."
   ]
  },
  {
   "cell_type": "code",
   "execution_count": 4,
   "metadata": {},
   "outputs": [
    {
     "name": "stdout",
     "output_type": "stream",
     "text": [
      "Type: Inspection\n",
      "Type: Removal\n",
      "--------------------\n",
      "Type: Inspection\n",
      "Type: Removal\n",
      "Type: Repair\n"
     ]
    }
   ],
   "source": [
    "# List all assignment types\n",
    "assignment_types = project.assignment_types.search()\n",
    "for at in assignment_types:\n",
    "    print(f\"Type: {at.name}\")\n",
    "    \n",
    "# Add a new assignment type\n",
    "project.assignment_types.add(name=\"Repair\")\n",
    "\n",
    "# Confirm that it was added\n",
    "print(\"--------------------\")\n",
    "assignment_types = project.assignment_types.search()\n",
    "for at in assignment_types:\n",
    "    print(f\"Type: {at.name}\")"
   ]
  },
  {
   "cell_type": "markdown",
   "metadata": {},
   "source": [
    "### Workers\n",
    "`Worker` objects are accessed by using `workers` property off the `Project` object. Workers can be added, updated, or deleted."
   ]
  },
  {
   "cell_type": "code",
   "execution_count": 5,
   "metadata": {},
   "outputs": [
    {
     "name": "stdout",
     "output_type": "stream",
     "text": [
      "Name: Aaron Pulver\n",
      "Number: None\n",
      "--------------------\n",
      "Number: 123-456-7890\n"
     ]
    }
   ],
   "source": [
    "# Search all workers and print details about first worker \n",
    "workers = project.workers.search()\n",
    "worker = workers[0]\n",
    "print(f\"Name: {worker.name}\")\n",
    "print(f\"Number: {worker.contact_number}\")\n",
    "    \n",
    "# Update the workers contact number\n",
    "worker.update(contact_number=\"123-456-7890\")\n",
    "print(\"--------------------\")\n",
    "print(f\"Number: {project.workers.search()[0].contact_number}\")"
   ]
  },
  {
   "cell_type": "markdown",
   "metadata": {},
   "source": [
    "**Note**: Workers and Dispatchers should be named users in your GIS."
   ]
  },
  {
   "cell_type": "code",
   "execution_count": 6,
   "metadata": {},
   "outputs": [
    {
     "data": {
      "text/plain": [
       "<Worker 34>"
      ]
     },
     "execution_count": 6,
     "metadata": {},
     "output_type": "execute_result"
    }
   ],
   "source": [
    "# Add a new worker\n",
    "project.workers.add(name=\"Demo User\", \n",
    "                    user_id=\"demouser_nitro\", \n",
    "                    contact_number=\"123-987-4560\")"
   ]
  },
  {
   "cell_type": "markdown",
   "metadata": {},
   "source": [
    "### Dispatchers\n",
    "`Dispatcher` objects are accessed by using `dispatchers` property off the `Project` object. Dispatchers can be added, updated, or deleted."
   ]
  },
  {
   "cell_type": "code",
   "execution_count": 7,
   "metadata": {},
   "outputs": [
    {
     "name": "stdout",
     "output_type": "stream",
     "text": [
      "Name: workforce scripts\n",
      "Number: 987-654-3210\n",
      "--------------------\n",
      "Number: 123-456-7890\n"
     ]
    }
   ],
   "source": [
    "# Search for all dispatchers and print details about first dispatcher\n",
    "dispatchers = project.dispatchers.search()\n",
    "dispatcher = dispatchers[0]\n",
    "print(f\"Name: {dispatcher.name}\")\n",
    "print(f\"Number: {dispatcher.contact_number}\")\n",
    "    \n",
    "# Update the dispatchers contact number\n",
    "dispatcher.update(contact_number=\"123-456-7890\")\n",
    "print(\"--------------------\")\n",
    "print(f\"Number: {project.dispatchers.search()[0].contact_number}\")"
   ]
  },
  {
   "cell_type": "markdown",
   "metadata": {},
   "source": [
    "### Web maps\n",
    "The dispatcher and worker `WebMap` objects can be accessed using the corresponding properties as shown in the following code snippet. Using the `WebMap` object, additional layers could be added or removed from either maps."
   ]
  },
  {
   "cell_type": "code",
   "execution_count": 15,
   "metadata": {},
   "outputs": [
    {
     "data": {
      "text/plain": [
       "arcgis.mapping._types.WebMap"
      ]
     },
     "execution_count": 15,
     "metadata": {},
     "output_type": "execute_result"
    }
   ],
   "source": [
    "# Worker webmap\n",
    "worker_webmap = project.worker_webmap\n",
    "type(worker_webmap)"
   ]
  },
  {
   "cell_type": "code",
   "execution_count": 17,
   "metadata": {},
   "outputs": [
    {
     "data": {
      "application/vnd.jupyter.widget-view+json": {
       "model_id": "ba533b98c8aa4a99ab083361796f35bb"
      }
     },
     "metadata": {},
     "output_type": "display_data"
    }
   ],
   "source": [
    "worker_webmap"
   ]
  },
  {
   "cell_type": "markdown",
   "metadata": {},
   "source": [
    "![](../../static/img/guide_workforce_worker_map.png)"
   ]
  },
  {
   "cell_type": "code",
   "execution_count": 25,
   "metadata": {},
   "outputs": [
    {
     "data": {
      "application/vnd.jupyter.widget-view+json": {
       "model_id": "17138a086819455d828c063909378d29"
      }
     },
     "metadata": {},
     "output_type": "display_data"
    }
   ],
   "source": [
    "# Dispatcher webmap\n",
    "dispatcher_webmap = project.dispatcher_webmap\n",
    "dispatcher_webmap"
   ]
  },
  {
   "cell_type": "markdown",
   "metadata": {},
   "source": [
    "![](../../static/img/guide_workforce_dispatcher_map.png)"
   ]
  },
  {
   "cell_type": "markdown",
   "metadata": {},
   "source": [
    "## Putting it all together\n",
    "In the following snippet, a new assignment will be created at the ESRI campus. Assignments (as well as workers, assignment types, dispatchers, and tracks) are all validated prior to upload. The ensures the integrity of the workforce project."
   ]
  },
  {
   "cell_type": "code",
   "execution_count": 10,
   "metadata": {},
   "outputs": [
    {
     "data": {
      "text/plain": [
       "<Assignment 66>"
      ]
     },
     "execution_count": 10,
     "metadata": {},
     "output_type": "execute_result"
    }
   ],
   "source": [
    "# Add a new assignment and assign it to demouser\n",
    "from datetime import datetime\n",
    "demouser = project.workers.get(user_id='demouser_nitro')\n",
    "dispatcher = project.dispatchers.get(user_id='workforce_scripts')\n",
    "repair = project.assignment_types.get(name=\"Repair\")\n",
    "\n",
    "# Use the geocoder to find the location of ESRI\n",
    "from arcgis.geocoding import geocode\n",
    "geometry = geocode(\"ESRI, Redlands, CA\", out_sr=102100)[0]['location']\n",
    "\n",
    "# Add a new assignment\n",
    "project.assignments.add(assignment_type=repair,\n",
    "                       status=\"assigned\",\n",
    "                       assigned_date=datetime.now(),\n",
    "                       worker=demouser,\n",
    "                       dispatcher=dispatcher,\n",
    "                       location=\"ESRI, Redlands, CA\",\n",
    "                       geometry=geometry)"
   ]
  },
  {
   "cell_type": "markdown",
   "metadata": {},
   "source": [
    "### Reset the Demo Project\n",
    "The following code resets the project to the intial state for this demo. It also highlights how batch methods can be used to add/update/delete many workforce items at once. This is useful when processing large amounts of assignments, workers, or dispatchers. In general, batch methods make fewer calls to the backend server thus reducing the overall time of the script."
   ]
  },
  {
   "cell_type": "code",
   "execution_count": 11,
   "metadata": {},
   "outputs": [
    {
     "data": {
      "text/plain": [
       "[<Dispatcher 1>]"
      ]
     },
     "execution_count": 11,
     "metadata": {},
     "output_type": "execute_result"
    }
   ],
   "source": [
    "# Use batch functions to process multiple items at a time\n",
    "project.assignments.batch_delete(project.assignments.search(where='assignmentType=3'))\n",
    "project.assignment_types.batch_delete([project.assignment_types.get(name=\"Repair\")])\n",
    "project.workers.batch_delete([project.workers.get(user_id=\"demouser_nitro\")])\n",
    "\n",
    "# Reset the assignment description\n",
    "a = project.assignments.get(object_id=1)\n",
    "a.update(description=\"Do some work at the ESRI R&D Center\")\n",
    "\n",
    "# Reset the worker using batch update\n",
    "w1 = project.workers.get(object_id=1)\n",
    "w1.contact_number = None\n",
    "project.workers.batch_update([w1])\n",
    "\n",
    "# Reset the dispatcher using batch update\n",
    "d1 = project.dispatchers.get(object_id=1)\n",
    "d1.contact_number = \"987-654-3210\"\n",
    "project.dispatchers.batch_update([d1])"
   ]
  }
 ],
 "metadata": {
  "kernelspec": {
   "display_name": "Python 3",
   "language": "python",
   "name": "python3"
  },
  "language_info": {
   "codemirror_mode": {
    "name": "ipython",
    "version": 3
   },
   "file_extension": ".py",
   "mimetype": "text/x-python",
   "name": "python",
   "nbconvert_exporter": "python",
   "pygments_lexer": "ipython3",
   "version": "3.6.1"
  }
 },
 "nbformat": 4,
 "nbformat_minor": 1
}
