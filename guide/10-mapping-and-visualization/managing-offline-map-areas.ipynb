{
 "cells": [
  {
   "cell_type": "markdown",
   "metadata": {},
   "source": [
    "# Managing offline map areas\n",
    "\n",
    "![](https://developers.arcgis.com/features/offline/offline-maps.jpg)\n",
    "\n",
    "With ArcGIS you can take your web maps and layers offline in field apps to continue work in places with limited or no connectivity. Using [ArcGIS Runtime SDKs](https://developers.arcgis.com/features/offline/), you can build offline ready apps that can make use of this functionality. A GIS administrator or content manager/owner can prepare map areas ahead of time to make going offline faster and easier for the field worker. This guide describes how to use the ArcGIS API for Python to create **preplanned offline map areas** for use in the ArcGIS Runtime SDKs and in the future, with apps like Collector.\n",
    "\n",
    "To learn about the general concept and steps in taking a map offline, refer [here](https://developers.arcgis.com/ios/latest/swift/guide/create-an-offline-map.htm). To understand the data requirements needed to take a map offline, refer [here](https://doc.arcgis.com/en/collector/ios/create-maps/offline-map-prep.htm)."
   ]
  },
  {
   "cell_type": "markdown",
   "metadata": {},
   "source": [
    "## Creating offline map areas\n",
    "\n",
    "With ArcGIS API for Python, you can conveniently manage offline areas from the `WebMap` object. The [`offline_areas`](https://esri.github.io/arcgis-python-api/apidoc/html/arcgis.mapping.html#arcgis.mapping.WebMap.offline_areas) property off the `WebMap` object gives you access to the [`OfflineAreaManager`](https://esri.github.io/arcgis-python-api/apidoc/html/arcgis.mapping.html#offlinemapareamanager) object with which you can `create()`, `list()` and `update()` these offline packages."
   ]
  },
  {
   "cell_type": "code",
   "execution_count": 1,
   "metadata": {
    "collapsed": true
   },
   "outputs": [],
   "source": [
    "from arcgis.gis import GIS\n",
    "from arcgis.mapping import WebMap\n",
    "gis = GIS(\"https://www.arcgis.com\",\"arcgis_python\",\"P@ssword123\")"
   ]
  },
  {
   "cell_type": "markdown",
   "metadata": {},
   "source": [
    "Let us use a fire first responder web map and take it offline."
   ]
  },
  {
   "cell_type": "code",
   "execution_count": 2,
   "metadata": {},
   "outputs": [
    {
     "data": {
      "text/html": [
       "<div class=\"item_container\" style=\"height: auto; overflow: hidden; border: 1px solid #cfcfcf; border-radius: 2px; background: #f6fafa; line-height: 1.21429em; padding: 10px;\">\n",
       "                    <div class=\"item_left\" style=\"width: 210px; float: left;\">\n",
       "                       <a href='https://deldev.maps.arcgis.com/home/item.html?id=3e7159ee4c6c4e6faf2ca2bd066ee972' target='_blank'>\n",
       "                        <img src='data:image/png;base64,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' width='200' height='133' class=\"itemThumbnail\">\n",
       "                       </a>\n",
       "                    </div>\n",
       "\n",
       "                    <div class=\"item_right\"     style=\"float: none; width: auto; overflow: hidden;\">\n",
       "                        <a href='https://deldev.maps.arcgis.com/home/item.html?id=3e7159ee4c6c4e6faf2ca2bd066ee972' target='_blank'><b>WM for OMA min max scales</b>\n",
       "                        </a>\n",
       "                        <br/>Web map created for testing Offline map areas with different tile layers<img src='https://deldev.maps.arcgis.com/home/js/jsapi/esri/css/images/item_type_icons/maps16.png' style=\"vertical-align:middle;\">Web Map by demo_deldev\n",
       "                        <br/>Last Modified: April 05, 2018\n",
       "                        <br/>0 comments, 111 views\n",
       "                    </div>\n",
       "                </div>\n",
       "                "
      ],
      "text/plain": [
       "<Item title:\"WM for OMA min max scales\" type:Web Map owner:demo_deldev>"
      ]
     },
     "execution_count": 2,
     "metadata": {},
     "output_type": "execute_result"
    }
   ],
   "source": [
    "wm_item = gis.content.get('7f88050bf48749c6b9d82634f04b6362')\n",
    "wm_item"
   ]
  },
  {
   "cell_type": "code",
   "execution_count": 3,
   "metadata": {
    "collapsed": true
   },
   "outputs": [],
   "source": [
    "fire_webmap = WebMap(wm_item)"
   ]
  },
  {
   "cell_type": "markdown",
   "metadata": {},
   "source": [
    "You can create offline areas for a specified extent or a bookmark. You can additionally specify any layers that you need to ignore, a destination folder to store these packages and a min, max scale to which the packages need to be cached.\n",
    "\n",
    "List the bookmarks in the web map:"
   ]
  },
  {
   "cell_type": "code",
   "execution_count": 4,
   "metadata": {},
   "outputs": [
    {
     "name": "stdout",
     "output_type": "stream",
     "text": [
      "Socal\n",
      "NorCal\n"
     ]
    }
   ],
   "source": [
    "for bookmark in fire_webmap.definition.bookmarks:\n",
    "    print(bookmark.name)"
   ]
  },
  {
   "cell_type": "markdown",
   "metadata": {},
   "source": [
    "Create offline areas for the bookmark \"Southern California\" and while we are at it, let us limit the scales for which the packages need to be created. As one of the parameters, you can specify a name, title, description for the \"offline map area\" item that gets created during this process."
   ]
  },
  {
   "cell_type": "code",
   "execution_count": 6,
   "metadata": {
    "collapsed": true
   },
   "outputs": [],
   "source": [
    "offline_item_properties = {'title': 'Offline area for Southern California',\n",
    "                          'tags': ['Python', 'automation', 'fires'],\n",
    "                          'snippet': 'Area created for first responders'}\n",
    "\n",
    "socal_offline_item = fire_webmap.offline_areas.create(area = fire_webmap.definition.bookmarks[1].name,\n",
    "                                                     item_properties = offline_item_properties,\n",
    "                                                     min_scale = 147914000,\n",
    "                                                     max_scale = 73957000)"
   ]
  },
  {
   "cell_type": "markdown",
   "metadata": {
    "collapsed": true
   },
   "source": [
    "This operation can take a while as the server is packaging the contents of the web map for offline use. To view the status, you can optionally turn on the verbosity using the `env` module as shown below:\n",
    "\n",
    "```python\n",
    "from arcgis import env\n",
    "env.verbose = True\n",
    "```"
   ]
  },
  {
   "cell_type": "code",
   "execution_count": 8,
   "metadata": {},
   "outputs": [
    {
     "data": {
      "text/html": [
       "<div class=\"item_container\" style=\"height: auto; overflow: hidden; border: 1px solid #cfcfcf; border-radius: 2px; background: #f6fafa; line-height: 1.21429em; padding: 10px;\">\n",
       "                    <div class=\"item_left\" style=\"width: 210px; float: left;\">\n",
       "                       <a href='https://deldev.maps.arcgis.com/home/item.html?id=c42e7ea58b9040d09f628e93243066c5' target='_blank'>\n",
       "                        <img src='http://static.arcgis.com/images/desktopapp.png' class=\"itemThumbnail\">\n",
       "                       </a>\n",
       "                    </div>\n",
       "\n",
       "                    <div class=\"item_right\"     style=\"float: none; width: auto; overflow: hidden;\">\n",
       "                        <a href='https://deldev.maps.arcgis.com/home/item.html?id=c42e7ea58b9040d09f628e93243066c5' target='_blank'><b>Offline area for Southern California</b>\n",
       "                        </a>\n",
       "                        <br/>Area created for first responders<img src='https://deldev.maps.arcgis.com/home/js/jsapi/esri/css/images/item_type_icons/layers16.png' style=\"vertical-align:middle;\">Map Area by demo_deldev\n",
       "                        <br/>Last Modified: April 11, 2018\n",
       "                        <br/>0 comments, 0 views\n",
       "                    </div>\n",
       "                </div>\n",
       "                "
      ],
      "text/plain": [
       "<Item title:\"Offline area for Southern California\" type:Map Area owner:demo_deldev>"
      ]
     },
     "execution_count": 8,
     "metadata": {},
     "output_type": "execute_result"
    }
   ],
   "source": [
    "socal_offline_item"
   ]
  },
  {
   "cell_type": "markdown",
   "metadata": {},
   "source": [
    "The type of the item we just created is `Map Area`. Read along to see how you can list the packages created for this map area."
   ]
  },
  {
   "cell_type": "code",
   "execution_count": 9,
   "metadata": {},
   "outputs": [
    {
     "data": {
      "text/plain": [
       "'Map Area'"
      ]
     },
     "execution_count": 9,
     "metadata": {},
     "output_type": "execute_result"
    }
   ],
   "source": [
    "socal_offline_item.type"
   ]
  },
  {
   "cell_type": "markdown",
   "metadata": {},
   "source": [
    "### Inspecting offline packages created for a map area\n",
    "The packages created for a `Map Area` item share a relationship of type `Area2Package` with that `Item`. Thus using the `related_items()` method off the `Item` object, you can list those packages as shown below:"
   ]
  },
  {
   "cell_type": "code",
   "execution_count": 10,
   "metadata": {},
   "outputs": [
    {
     "data": {
      "text/plain": [
       "[<Item title:\"WTL_usa-1b8fefd666444ae199df560e6df50eee\" type:Tile Package owner:demo_deldev>,\n",
       " <Item title:\"World_Topo_Map-dbf7e376acec4b70b802d8fa0f3bac93\" type:Tile Package owner:demo_deldev>,\n",
       " <Item title:\"VectorTileServe-29fe800f37f640abbfd342b8ad679a9b\" type:Vector Tile Package owner:demo_deldev>]"
      ]
     },
     "execution_count": 10,
     "metadata": {},
     "output_type": "execute_result"
    }
   ],
   "source": [
    "socal_offline_item.related_items('Area2Package', 'forward')"
   ]
  },
  {
   "cell_type": "markdown",
   "metadata": {},
   "source": [
    "These items are meant for use in offline applications described above. However, if needed, you can call the `download()` method off these `Item`s and download their data to disk using the Python API."
   ]
  },
  {
   "cell_type": "markdown",
   "metadata": {},
   "source": [
    "## Listing offline areas created for a web map\n",
    "You can use the `list()` method off the `offline_areas` property of a `WebMap` object to find the offline areas created for that web map."
   ]
  },
  {
   "cell_type": "code",
   "execution_count": 11,
   "metadata": {},
   "outputs": [
    {
     "data": {
      "text/plain": [
       "[<Item title:\"Offline area for Southern California\" type:Map Area owner:demo_deldev>]"
      ]
     },
     "execution_count": 11,
     "metadata": {},
     "output_type": "execute_result"
    }
   ],
   "source": [
    "fire_webmap.offline_areas.list()"
   ]
  },
  {
   "cell_type": "markdown",
   "metadata": {},
   "source": [
    "## Updating offline areas\n",
    "Keeping offline areas up to date is an important task. You can accomplish this by calling the `update()` method off the `offline_areas` property of the `WebMap` object. This method accepts a list of `Map Area` items as input. To update all the offline areas created for a web map call the method without any input parameters.\n",
    "\n",
    "Below is an example of how the progress is relayed back to you when you turn on the `verbosity` in the `env` module."
   ]
  },
  {
   "cell_type": "code",
   "execution_count": 12,
   "metadata": {},
   "outputs": [
    {
     "name": "stdout",
     "output_type": "stream",
     "text": [
      "Submitted.\n",
      "Executing...\n",
      "Start Time: Wednesday, April 11, 2018 11:15:13 PM\n",
      "Running script RefreshMapAreaPackage...\n",
      "pending - http://tiles.arcgis.com/tiles/SMX5BErCXLM7eDtY/arcgis/rest/services/WTL_usa/MapServer\n",
      "pending - https://services.arcgisonline.com/ArcGIS/rest/services/World_Topo_Map/MapServer\n",
      "pending - https://tiles.arcgis.com/tiles/SMX5BErCXLM7eDtY/arcgis/rest/services/set1_vtpk_cities/VectorTileServer\n",
      "pending - http://tiles.arcgis.com/tiles/SMX5BErCXLM7eDtY/arcgis/rest/services/WTL_usa/MapServer\n",
      "pending - https://services.arcgisonline.com/ArcGIS/rest/services/World_Topo_Map/MapServer\n",
      "pending - https://tiles.arcgis.com/tiles/SMX5BErCXLM7eDtY/arcgis/rest/services/set1_vtpk_cities/VectorTileServer\n",
      "pending - http://tiles.arcgis.com/tiles/SMX5BErCXLM7eDtY/arcgis/rest/services/WTL_usa/MapServer\n",
      "complete = https://services.arcgisonline.com/ArcGIS/rest/services/World_Topo_Map/MapServer\n",
      "pending - https://tiles.arcgis.com/tiles/SMX5BErCXLM7eDtY/arcgis/rest/services/set1_vtpk_cities/VectorTileServer\n",
      "pending - http://tiles.arcgis.com/tiles/SMX5BErCXLM7eDtY/arcgis/rest/services/WTL_usa/MapServer\n",
      "pending - https://tiles.arcgis.com/tiles/SMX5BErCXLM7eDtY/arcgis/rest/services/set1_vtpk_cities/VectorTileServer\n",
      "pending - http://tiles.arcgis.com/tiles/SMX5BErCXLM7eDtY/arcgis/rest/services/WTL_usa/MapServer\n",
      "pending - https://tiles.arcgis.com/tiles/SMX5BErCXLM7eDtY/arcgis/rest/services/set1_vtpk_cities/VectorTileServer\n",
      "pending - http://tiles.arcgis.com/tiles/SMX5BErCXLM7eDtY/arcgis/rest/services/WTL_usa/MapServer\n",
      "pending - https://tiles.arcgis.com/tiles/SMX5BErCXLM7eDtY/arcgis/rest/services/set1_vtpk_cities/VectorTileServer\n",
      "pending - http://tiles.arcgis.com/tiles/SMX5BErCXLM7eDtY/arcgis/rest/services/WTL_usa/MapServer\n",
      "complete = https://tiles.arcgis.com/tiles/SMX5BErCXLM7eDtY/arcgis/rest/services/set1_vtpk_cities/VectorTileServer\n",
      "pending - http://tiles.arcgis.com/tiles/SMX5BErCXLM7eDtY/arcgis/rest/services/WTL_usa/MapServer\n",
      "pending - http://tiles.arcgis.com/tiles/SMX5BErCXLM7eDtY/arcgis/rest/services/WTL_usa/MapServer\n",
      "pending - http://tiles.arcgis.com/tiles/SMX5BErCXLM7eDtY/arcgis/rest/services/WTL_usa/MapServer\n",
      "pending - http://tiles.arcgis.com/tiles/SMX5BErCXLM7eDtY/arcgis/rest/services/WTL_usa/MapServer\n",
      "complete = http://tiles.arcgis.com/tiles/SMX5BErCXLM7eDtY/arcgis/rest/services/WTL_usa/MapServer\n"
     ]
    },
    {
     "data": {
      "text/plain": [
       "[{'itemId': '9b49ec838579464f97e85f7613b3aa1c',\n",
       "  'source': 'https://services.arcgisonline.com/ArcGIS/rest/services/World_Topo_Map/MapServer',\n",
       "  'state': 'updated'},\n",
       " {'itemId': 'c7549a1973cb487bac4d3f4099bf2940',\n",
       "  'source': 'https://tiles.arcgis.com/tiles/SMX5BErCXLM7eDtY/arcgis/rest/services/set1_vtpk_cities/VectorTileServer',\n",
       "  'state': 'updated'},\n",
       " {'itemId': '46619dfde09c4eb09bb4b4c99fea8805',\n",
       "  'source': 'http://tiles.arcgis.com/tiles/SMX5BErCXLM7eDtY/arcgis/rest/services/WTL_usa/MapServer',\n",
       "  'state': 'updated'}]"
      ]
     },
     "execution_count": 12,
     "metadata": {},
     "output_type": "execute_result"
    }
   ],
   "source": [
    "# update all offline areas for the fire web map\n",
    "fire_webmap.offline_areas.update()"
   ]
  },
  {
   "cell_type": "markdown",
   "metadata": {},
   "source": [
    "Now your field users are all set with the latest packages for use in a disconnected setting."
   ]
  }
 ],
 "metadata": {
  "kernelspec": {
   "display_name": "Python 3",
   "language": "python",
   "name": "python3"
  },
  "language_info": {
   "codemirror_mode": {
    "name": "ipython",
    "version": 3
   },
   "file_extension": ".py",
   "mimetype": "text/x-python",
   "name": "python",
   "nbconvert_exporter": "python",
   "pygments_lexer": "ipython3",
   "version": "3.6.4"
  }
 },
 "nbformat": 4,
 "nbformat_minor": 1
}
