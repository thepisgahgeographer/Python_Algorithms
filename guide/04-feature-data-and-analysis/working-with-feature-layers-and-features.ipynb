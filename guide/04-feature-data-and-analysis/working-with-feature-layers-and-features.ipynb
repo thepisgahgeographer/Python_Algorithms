{
 "cells": [
  {
   "cell_type": "markdown",
   "metadata": {},
   "source": [
    "# Using Feature Layers\n",
    "\n",
    "The feature layer is the primary concept for working with features in a GIS.\n",
    "\n",
    "Users create, import, export, analyze, edit, and visualize features, i.e. “entities in space” as feature layers.\n",
    "\n",
    "Feature layers can be added to and visualized using maps. They act as inputs to and outputs from feature analysis tools.\n",
    "\n",
    "Feature layers are created by publishing feature data to a GIS, and are exposed as a broader resource (Item) in the GIS. Feature layer instances can be obtained through the layers attribute on feature layer collection Items in the GIS. A feature layer collection is a collection of feature layers and tables, with the associated relationships among the entities. A feature layer collection is backed by a [feature service](http://server.arcgis.com/en/server/latest/publish-services/windows/what-is-a-feature-service-.htm) in a web GIS."
   ]
  },
  {
   "cell_type": "markdown",
   "metadata": {},
   "source": [
    "## Accessing Feature Layers\n",
    "\n",
    "Feature layer collection items are available as content in the GIS. You can search the GIS for feature layer collection items, or get them using their item id. \n",
    "\n",
    "Feature layers are available through the layers attribute on feature layer collection Items in the GIS."
   ]
  },
  {
   "cell_type": "markdown",
   "metadata": {},
   "source": [
    "## Searching the GIS for feature layers \n",
    "\n",
    "You can search the GIS for feature layer collections by specifying the item type as 'Feature Layer Collection' or 'Feature Layer'.\n",
    "\n",
    "Note: A feature layer collection can be considered a type of feature layer such as a group feature layer. Hence, you can specify the item type as 'Feature Layer' and still get back feature layer collection items as results.\n",
    "\n",
    "The examples below will clarify this further:"
   ]
  },
  {
   "cell_type": "code",
   "execution_count": 3,
   "metadata": {},
   "outputs": [],
   "source": [
    "# Establish a connection to your GIS.\n",
    "from arcgis.gis import GIS\n",
    "from IPython.display import display\n",
    "gis = GIS() # anonymous connection to www.arcgis.com"
   ]
  },
  {
   "cell_type": "code",
   "execution_count": 5,
   "metadata": {},
   "outputs": [
    {
     "data": {
      "text/html": [
       "<div class=\"item_container\" style=\"height: auto; overflow: hidden; border: 1px solid #cfcfcf; border-radius: 2px; background: #f6fafa; line-height: 1.21429em; padding: 10px;\">\n",
       "                    <div class=\"item_left\" style=\"width: 210px; float: left;\">\n",
       "                       <a href='https://www.arcgis.com/home/item.html?id=85d0ca4ea1ca4b9abf0c51b9bd34de2e' target='_blank'>\n",
       "                        <img src='https://www.arcgis.com/sharing/rest//content/items/85d0ca4ea1ca4b9abf0c51b9bd34de2e/info/thumbnail/usa_major_cities.jpg' class=\"itemThumbnail\">\n",
       "                       </a>\n",
       "                    </div>\n",
       "\n",
       "                    <div class=\"item_right\"     style=\"float: none; width: auto; overflow: hidden;\">\n",
       "                        <a href='https://www.arcgis.com/home/item.html?id=85d0ca4ea1ca4b9abf0c51b9bd34de2e' target='_blank'><b>USA Major Cities</b>\n",
       "                        </a>\n",
       "                        <br/>This layer presents the locations of cities within the United States with populations of approximately 10,000 or greater, all state capitals, and the national capital.<img src='https://www.arcgis.com/home/js/jsapi/esri/css/images/item_type_icons/featureshosted16.png' style=\"vertical-align:middle;\">Feature Layer Collection by esri_dm\n",
       "                        <br/>Last Modified: December 21, 2017\n",
       "                        <br/>3 comments, 303,770 views\n",
       "                    </div>\n",
       "                </div>\n",
       "                "
      ],
      "text/plain": [
       "<Item title:\"USA Major Cities\" type:Feature Layer Collection owner:esri_dm>"
      ]
     },
     "execution_count": 5,
     "metadata": {},
     "output_type": "execute_result"
    }
   ],
   "source": [
    "# Search for 'USA major cities' feature layer collection\n",
    "search_results = gis.content.search('title: USA Major Cities',\n",
    "                                    'Feature Layer')\n",
    "\n",
    "# Access the first Item that's returned\n",
    "major_cities_item = search_results[0]\n",
    "\n",
    "major_cities_item"
   ]
  },
  {
   "cell_type": "markdown",
   "metadata": {},
   "source": [
    "Note that the major_cities_item is a 'Feature Layer Collection' item.\n",
    "Since this item is a Feature Layer Collection, accessing the `layers` property will give us a list of `FeatureLayer` objects."
   ]
  },
  {
   "cell_type": "code",
   "execution_count": 6,
   "metadata": {},
   "outputs": [
    {
     "data": {
      "text/plain": [
       "[<FeatureLayer url:\"https://services.arcgis.com/P3ePLMYs2RVChkJx/arcgis/rest/services/USA_Major_Cities/FeatureServer/0\">]"
      ]
     },
     "execution_count": 6,
     "metadata": {},
     "output_type": "execute_result"
    }
   ],
   "source": [
    "major_cities_layers = major_cities_item.layers\n",
    "major_cities_layers"
   ]
  },
  {
   "cell_type": "markdown",
   "metadata": {},
   "source": [
    "## Accessing feature layers using item id\n",
    "\n",
    "Feature layer collection items are available as content in the GIS. You can get them using their item id, and query their layers property to get to the feature layers:"
   ]
  },
  {
   "cell_type": "code",
   "execution_count": 7,
   "metadata": {},
   "outputs": [
    {
     "data": {
      "text/html": [
       "<div class=\"item_container\" style=\"height: auto; overflow: hidden; border: 1px solid #cfcfcf; border-radius: 2px; background: #f6fafa; line-height: 1.21429em; padding: 10px;\">\n",
       "                    <div class=\"item_left\" style=\"width: 210px; float: left;\">\n",
       "                       <a href='https://www.arcgis.com/home/item.html?id=91c6a5f6410b4991ab0db1d7c26daacb' target='_blank'>\n",
       "                        <img src='https://www.arcgis.com/sharing/rest//content/items/91c6a5f6410b4991ab0db1d7c26daacb/info/thumbnail/USA_Freeway_Systerm.jpg' class=\"itemThumbnail\">\n",
       "                       </a>\n",
       "                    </div>\n",
       "\n",
       "                    <div class=\"item_right\"     style=\"float: none; width: auto; overflow: hidden;\">\n",
       "                        <a href='https://www.arcgis.com/home/item.html?id=91c6a5f6410b4991ab0db1d7c26daacb' target='_blank'><b>USA Freeway System</b>\n",
       "                        </a>\n",
       "                        <br/>This layer presents rural and urban interstate highways.<img src='https://www.arcgis.com/home/js/jsapi/esri/css/images/item_type_icons/featureshosted16.png' style=\"vertical-align:middle;\">Feature Layer Collection by esri\n",
       "                        <br/>Last Modified: February 07, 2017\n",
       "                        <br/>2 comments, 991,141 views\n",
       "                    </div>\n",
       "                </div>\n",
       "                "
      ],
      "text/plain": [
       "<Item title:\"USA Freeway System\" type:Feature Layer Collection owner:esri>"
      ]
     },
     "execution_count": 7,
     "metadata": {},
     "output_type": "execute_result"
    }
   ],
   "source": [
    "freeways = gis.content.get('91c6a5f6410b4991ab0db1d7c26daacb')\n",
    "freeways"
   ]
  },
  {
   "cell_type": "markdown",
   "metadata": {},
   "source": [
    "Since freeways is a Feature Layer Collection item, accessing the layers property will give us a list of FeatureLayer objects. This item has two layers:"
   ]
  },
  {
   "cell_type": "code",
   "execution_count": 8,
   "metadata": {},
   "outputs": [
    {
     "data": {
      "text/plain": [
       "[<FeatureLayer url:\"https://services.arcgis.com/P3ePLMYs2RVChkJx/arcgis/rest/services/USA_Freeway_System/FeatureServer/1\">,\n",
       " <FeatureLayer url:\"https://services.arcgis.com/P3ePLMYs2RVChkJx/arcgis/rest/services/USA_Freeway_System/FeatureServer/2\">]"
      ]
     },
     "execution_count": 8,
     "metadata": {},
     "output_type": "execute_result"
    }
   ],
   "source": [
    "freeways.layers "
   ]
  },
  {
   "cell_type": "markdown",
   "metadata": {},
   "source": [
    "The code below cycles through the layers and prints their names:"
   ]
  },
  {
   "cell_type": "code",
   "execution_count": 9,
   "metadata": {},
   "outputs": [
    {
     "name": "stdout",
     "output_type": "stream",
     "text": [
      "USA Freeway System (over 1:500k)\n",
      "USA Freeway System (below 1:500k)\n"
     ]
    }
   ],
   "source": [
    "for lyr in freeways.layers:\n",
    "    print(lyr.properties.name)"
   ]
  },
  {
   "cell_type": "markdown",
   "metadata": {},
   "source": [
    "## Accessing feature layers and tables from feature services\n",
    "\n",
    "A feature service serves a collection of feature layers and tables, with the associated relationships among the entities. It is represented by `arcgis.features.FeatureLayerCollection` in the ArcGIS Python API.\n",
    "\n",
    "Instances of FeatureLayerCollection can be constructed using a feature service url, as shown below:"
   ]
  },
  {
   "cell_type": "code",
   "execution_count": 10,
   "metadata": {},
   "outputs": [],
   "source": [
    "from arcgis.features import FeatureLayerCollection"
   ]
  },
  {
   "cell_type": "code",
   "execution_count": 11,
   "metadata": {},
   "outputs": [],
   "source": [
    "fs_url = 'http://sampleserver3.arcgisonline.com/ArcGIS/rest/services/SanFrancisco/311Incidents/FeatureServer'\n",
    "sanfran = FeatureLayerCollection(fs_url)"
   ]
  },
  {
   "cell_type": "markdown",
   "metadata": {},
   "source": [
    "The collection of layers and tables in a FeatureLayerCollection can be accessed using the layers and tables properties respectively:"
   ]
  },
  {
   "cell_type": "code",
   "execution_count": 12,
   "metadata": {},
   "outputs": [
    {
     "data": {
      "text/plain": [
       "[<FeatureLayer url:\"http://sampleserver3.arcgisonline.com/ArcGIS/rest/services/SanFrancisco/311Incidents/FeatureServer/0\">]"
      ]
     },
     "execution_count": 12,
     "metadata": {},
     "output_type": "execute_result"
    }
   ],
   "source": [
    "sanfran.layers"
   ]
  },
  {
   "cell_type": "markdown",
   "metadata": {},
   "source": [
    "**Tables** represent entity classes with uniform properties. In addition to working with “entities with location” as features, the GIS can also work with non-spatial entities as rows in tables. Working with tables is similar to working with feature layers, except that the rows (Features) in a table do not have a geometry, and tables ignore any geometry related operation. \n",
    "\n",
    "The sanfran feature layer collection also has a table that can be obtained using its tables property:"
   ]
  },
  {
   "cell_type": "code",
   "execution_count": 13,
   "metadata": {},
   "outputs": [
    {
     "data": {
      "text/plain": [
       "[<Table url:\"http://sampleserver3.arcgisonline.com/ArcGIS/rest/services/SanFrancisco/311Incidents/FeatureServer/1\">]"
      ]
     },
     "execution_count": 13,
     "metadata": {},
     "output_type": "execute_result"
    }
   ],
   "source": [
    "sanfran.tables"
   ]
  },
  {
   "cell_type": "markdown",
   "metadata": {},
   "source": [
    "## Accessing feature layers from a feature layer url\n",
    "\n",
    "Instances of FeatureLayers can also be constructed using a url to the REST endpoint of a feature layer:"
   ]
  },
  {
   "cell_type": "code",
   "execution_count": 14,
   "metadata": {},
   "outputs": [],
   "source": [
    "from arcgis.features import FeatureLayer"
   ]
  },
  {
   "cell_type": "code",
   "execution_count": 15,
   "metadata": {},
   "outputs": [
    {
     "data": {
      "text/plain": [
       "<FeatureLayer url:\"http://sampleserver3.arcgisonline.com/ArcGIS/rest/services/SanFrancisco/311Incidents/FeatureServer/0\">"
      ]
     },
     "execution_count": 15,
     "metadata": {},
     "output_type": "execute_result"
    }
   ],
   "source": [
    "lyr_url = 'http://sampleserver3.arcgisonline.com/ArcGIS/rest/services/SanFrancisco/311Incidents/FeatureServer/0'\n",
    "\n",
    "layer = FeatureLayer(lyr_url)\n",
    "layer"
   ]
  },
  {
   "cell_type": "markdown",
   "metadata": {},
   "source": [
    "<a id=\"featurelayer-properties\"></a>\n",
    "## Properties of FeatureLayer\n",
    "In this section, let us take a closer look at the properties of a `FeatureLayer` object. We will use the `major_cities_layers` object created earlier"
   ]
  },
  {
   "cell_type": "code",
   "execution_count": 16,
   "metadata": {},
   "outputs": [
    {
     "data": {
      "text/plain": [
       "<FeatureLayer url:\"https://services.arcgis.com/P3ePLMYs2RVChkJx/arcgis/rest/services/USA_Major_Cities/FeatureServer/0\">"
      ]
     },
     "execution_count": 16,
     "metadata": {},
     "output_type": "execute_result"
    }
   ],
   "source": [
    "feature_layer = major_cities_layers[0]\n",
    "feature_layer"
   ]
  },
  {
   "cell_type": "markdown",
   "metadata": {},
   "source": [
    "The `properties` field on a `FeatureLayer` object provides a dictionary representation of all its properties. However you can access individual properties as fields as well:"
   ]
  },
  {
   "cell_type": "code",
   "execution_count": 17,
   "metadata": {},
   "outputs": [
    {
     "data": {
      "text/plain": [
       "{\n",
       "  \"xmin\": -17608123.3895845,\n",
       "  \"ymin\": 2237818.89912024,\n",
       "  \"xmax\": -7656889.54512499,\n",
       "  \"ymax\": 9568526.08684907,\n",
       "  \"spatialReference\": {\n",
       "    \"wkid\": 102100,\n",
       "    \"latestWkid\": 3857\n",
       "  }\n",
       "}"
      ]
     },
     "execution_count": 17,
     "metadata": {},
     "output_type": "execute_result"
    }
   ],
   "source": [
    "feature_layer.properties.extent"
   ]
  },
  {
   "cell_type": "markdown",
   "metadata": {},
   "source": [
    "The `capabilities` property is useful to know what kinds of edits and operations be performed on the feature layer"
   ]
  },
  {
   "cell_type": "code",
   "execution_count": 18,
   "metadata": {},
   "outputs": [
    {
     "data": {
      "text/plain": [
       "'Query'"
      ]
     },
     "execution_count": 18,
     "metadata": {},
     "output_type": "execute_result"
    }
   ],
   "source": [
    "feature_layer.properties.capabilities"
   ]
  },
  {
   "cell_type": "markdown",
   "metadata": {},
   "source": [
    "You can access the rendering information from the `drawingInfo` property"
   ]
  },
  {
   "cell_type": "code",
   "execution_count": 19,
   "metadata": {},
   "outputs": [
    {
     "data": {
      "text/plain": [
       "'classBreaks'"
      ]
     },
     "execution_count": 19,
     "metadata": {},
     "output_type": "execute_result"
    }
   ],
   "source": [
    "feature_layer.properties.drawingInfo.renderer.type"
   ]
  },
  {
   "cell_type": "markdown",
   "metadata": {},
   "source": [
    "<a id=\"querying-layers\"></a>\n",
    "## Querying feature layers\n",
    "Querying is a powerful operation that can be performed on a `FeatureLayer` object. Let is take a closer look here. To write meaningful queries, we need to know the names of fields present in the layer. This can be determined by calling the `fields` property:"
   ]
  },
  {
   "cell_type": "code",
   "execution_count": 20,
   "metadata": {},
   "outputs": [
    {
     "name": "stdout",
     "output_type": "stream",
     "text": [
      "FID\n",
      "OBJECTID\n",
      "NAME\n",
      "CLASS\n",
      "ST\n",
      "STFIPS\n",
      "PLACEFIPS\n",
      "CAPITAL\n",
      "POP_CLASS\n",
      "POPULATION\n",
      "POP2010\n",
      "WHITE\n",
      "BLACK\n",
      "AMERI_ES\n",
      "ASIAN\n",
      "HAWN_PI\n",
      "HISPANIC\n",
      "OTHER\n",
      "MULT_RACE\n",
      "MALES\n",
      "FEMALES\n",
      "AGE_UNDER5\n",
      "AGE_5_9\n",
      "AGE_10_14\n",
      "AGE_15_19\n",
      "AGE_20_24\n",
      "AGE_25_34\n",
      "AGE_35_44\n",
      "AGE_45_54\n",
      "AGE_55_64\n",
      "AGE_65_74\n",
      "AGE_75_84\n",
      "AGE_85_UP\n",
      "MED_AGE\n",
      "MED_AGE_M\n",
      "MED_AGE_F\n",
      "HOUSEHOLDS\n",
      "AVE_HH_SZ\n",
      "HSEHLD_1_M\n",
      "HSEHLD_1_F\n",
      "MARHH_CHD\n",
      "MARHH_NO_C\n",
      "MHH_CHILD\n",
      "FHH_CHILD\n",
      "FAMILIES\n",
      "AVE_FAM_SZ\n",
      "HSE_UNITS\n",
      "VACANT\n",
      "OWNER_OCC\n",
      "RENTER_OCC\n"
     ]
    }
   ],
   "source": [
    "for f in feature_layer.properties.fields:\n",
    "    print(f['name'])"
   ]
  },
  {
   "cell_type": "markdown",
   "metadata": {},
   "source": [
    "The query method has a number of parameters that allow you to refine and transform the results. Since the processing is performed on the server, this operation is not restricted by the capacity of the client computer. \n",
    "\n",
    "For instance, let us select all the cities whose population in the year 2007 was greater than 1 million. Instead of returning all the fields, let us get only population related fields"
   ]
  },
  {
   "cell_type": "code",
   "execution_count": 23,
   "metadata": {},
   "outputs": [
    {
     "data": {
      "text/plain": [
       "9"
      ]
     },
     "execution_count": 23,
     "metadata": {},
     "output_type": "execute_result"
    }
   ],
   "source": [
    "query_result1 = feature_layer.query(where='POP2010>1000000', \n",
    "                                    out_fields='WHITE,BLACK,MULT_RACE,HISPANIC')\n",
    "len(query_result1.features)"
   ]
  },
  {
   "cell_type": "code",
   "execution_count": 24,
   "metadata": {},
   "outputs": [
    {
     "data": {
      "text/plain": [
       "[{'name': 'FID',\n",
       "  'type': 'esriFieldTypeOID',\n",
       "  'alias': 'FID',\n",
       "  'sqlType': 'sqlTypeInteger',\n",
       "  'domain': None,\n",
       "  'defaultValue': None},\n",
       " {'name': 'WHITE',\n",
       "  'type': 'esriFieldTypeInteger',\n",
       "  'alias': 'WHITE',\n",
       "  'sqlType': 'sqlTypeInteger',\n",
       "  'domain': None,\n",
       "  'defaultValue': None},\n",
       " {'name': 'BLACK',\n",
       "  'type': 'esriFieldTypeInteger',\n",
       "  'alias': 'BLACK',\n",
       "  'sqlType': 'sqlTypeInteger',\n",
       "  'domain': None,\n",
       "  'defaultValue': None},\n",
       " {'name': 'MULT_RACE',\n",
       "  'type': 'esriFieldTypeInteger',\n",
       "  'alias': 'MULT_RACE',\n",
       "  'sqlType': 'sqlTypeInteger',\n",
       "  'domain': None,\n",
       "  'defaultValue': None},\n",
       " {'name': 'HISPANIC',\n",
       "  'type': 'esriFieldTypeInteger',\n",
       "  'alias': 'HISPANIC',\n",
       "  'sqlType': 'sqlTypeInteger',\n",
       "  'domain': None,\n",
       "  'defaultValue': None}]"
      ]
     },
     "execution_count": 24,
     "metadata": {},
     "output_type": "execute_result"
    }
   ],
   "source": [
    "query_result1.fields"
   ]
  },
  {
   "cell_type": "markdown",
   "metadata": {},
   "source": [
    "If we are only interested in the count, we could save bandwidth by setting the `return_count_only` to `True`"
   ]
  },
  {
   "cell_type": "code",
   "execution_count": 25,
   "metadata": {},
   "outputs": [
    {
     "data": {
      "text/plain": [
       "9"
      ]
     },
     "execution_count": 25,
     "metadata": {},
     "output_type": "execute_result"
    }
   ],
   "source": [
    "feature_layer.query(where='POP2010>1000000', return_count_only=True)"
   ]
  },
  {
   "cell_type": "markdown",
   "metadata": {},
   "source": [
    "## Querying features using a different spatial reference"
   ]
  },
  {
   "cell_type": "code",
   "execution_count": 26,
   "metadata": {},
   "outputs": [
    {
     "data": {
      "text/plain": [
       "{'wkid': 102100, 'latestWkid': 3857}"
      ]
     },
     "execution_count": 26,
     "metadata": {},
     "output_type": "execute_result"
    }
   ],
   "source": [
    "query_result1.spatial_reference"
   ]
  },
  {
   "cell_type": "markdown",
   "metadata": {},
   "source": [
    "By default, the query results are in the same spatial reference as the source layer. However you can use the `out_sr` parameter to reproject the result into a desired spatial reference. The projection happens on the server and on all the resulting features.\n",
    "\n",
    "In the example above, we obtained data in wkid:3857, a well known id for 'Web Mercator' projection. We can observe how the coordinates look like below:"
   ]
  },
  {
   "cell_type": "code",
   "execution_count": 27,
   "metadata": {},
   "outputs": [
    {
     "data": {
      "text/plain": [
       "{'x': -13195807.345545301, 'y': 4052488.8059764393}"
      ]
     },
     "execution_count": 27,
     "metadata": {},
     "output_type": "execute_result"
    }
   ],
   "source": [
    "query_result1.features[0].geometry"
   ]
  },
  {
   "cell_type": "markdown",
   "metadata": {},
   "source": [
    "The coordinates are in projected coordinate system as expected. If we wish to have this data in latitude and longitude instead, we could do so by changing the `out_sr` to wkid:4326"
   ]
  },
  {
   "cell_type": "markdown",
   "metadata": {},
   "source": [
    "<a id = \"featureset-properties\"></a>\n",
    "## FeatureSet properties\n",
    "As seen previously, a `FeatureSet` is returned by a `query()` operation. The `FeatureSet` object packs a bunch of useful properties that help us discern useful information about the features under access"
   ]
  },
  {
   "cell_type": "markdown",
   "metadata": {},
   "source": [
    "One of the important properties is the `spatial_reference` as you saw earlier. Below, we are using the same `query_result1` `FeatureSet` from earlier query operation."
   ]
  },
  {
   "cell_type": "code",
   "execution_count": 28,
   "metadata": {},
   "outputs": [
    {
     "data": {
      "text/plain": [
       "{'wkid': 102100, 'latestWkid': 3857}"
      ]
     },
     "execution_count": 28,
     "metadata": {},
     "output_type": "execute_result"
    }
   ],
   "source": [
    "query_result1.spatial_reference"
   ]
  },
  {
   "cell_type": "markdown",
   "metadata": {},
   "source": [
    "One of the most powerful operation on a `FeatureSet` is accessing the features not as `Feature` objects, but as pandas dataframe objects. The `df` property, returns a dataframe object:"
   ]
  },
  {
   "cell_type": "code",
   "execution_count": 29,
   "metadata": {},
   "outputs": [
    {
     "data": {
      "text/html": [
       "<div>\n",
       "<style scoped>\n",
       "    .dataframe tbody tr th:only-of-type {\n",
       "        vertical-align: middle;\n",
       "    }\n",
       "\n",
       "    .dataframe tbody tr th {\n",
       "        vertical-align: top;\n",
       "    }\n",
       "\n",
       "    .dataframe thead th {\n",
       "        text-align: right;\n",
       "    }\n",
       "</style>\n",
       "<table border=\"1\" class=\"dataframe\">\n",
       "  <thead>\n",
       "    <tr style=\"text-align: right;\">\n",
       "      <th></th>\n",
       "      <th>AGE_10_14</th>\n",
       "      <th>AGE_15_19</th>\n",
       "      <th>AGE_20_24</th>\n",
       "      <th>AGE_25_34</th>\n",
       "      <th>AGE_35_44</th>\n",
       "      <th>AGE_45_54</th>\n",
       "      <th>AGE_55_64</th>\n",
       "      <th>AGE_5_9</th>\n",
       "      <th>AGE_65_74</th>\n",
       "      <th>AGE_75_84</th>\n",
       "      <th>...</th>\n",
       "      <th>PLACEFIPS</th>\n",
       "      <th>POP2010</th>\n",
       "      <th>POPULATION</th>\n",
       "      <th>POP_CLASS</th>\n",
       "      <th>RENTER_OCC</th>\n",
       "      <th>SHAPE</th>\n",
       "      <th>ST</th>\n",
       "      <th>STFIPS</th>\n",
       "      <th>VACANT</th>\n",
       "      <th>WHITE</th>\n",
       "    </tr>\n",
       "  </thead>\n",
       "  <tbody>\n",
       "    <tr>\n",
       "      <th>0</th>\n",
       "      <td>237462</td>\n",
       "      <td>274373</td>\n",
       "      <td>314543</td>\n",
       "      <td>638900</td>\n",
       "      <td>570467</td>\n",
       "      <td>503164</td>\n",
       "      <td>374391</td>\n",
       "      <td>231528</td>\n",
       "      <td>209059</td>\n",
       "      <td>128659</td>\n",
       "      <td>...</td>\n",
       "      <td>0644000</td>\n",
       "      <td>3792621</td>\n",
       "      <td>3887115</td>\n",
       "      <td>10</td>\n",
       "      <td>814305</td>\n",
       "      <td>{\"x\": -13195807.345545301, \"y\": 4052488.805976...</td>\n",
       "      <td>CA</td>\n",
       "      <td>06</td>\n",
       "      <td>95827</td>\n",
       "      <td>1888158</td>\n",
       "    </tr>\n",
       "    <tr>\n",
       "      <th>1</th>\n",
       "      <td>75345</td>\n",
       "      <td>90813</td>\n",
       "      <td>127987</td>\n",
       "      <td>230247</td>\n",
       "      <td>183750</td>\n",
       "      <td>171993</td>\n",
       "      <td>131765</td>\n",
       "      <td>75073</td>\n",
       "      <td>72013</td>\n",
       "      <td>46643</td>\n",
       "      <td>...</td>\n",
       "      <td>0666000</td>\n",
       "      <td>1307402</td>\n",
       "      <td>1343525</td>\n",
       "      <td>10</td>\n",
       "      <td>249934</td>\n",
       "      <td>{\"x\": -13038647.444455143, \"y\": 3877209.499119...</td>\n",
       "      <td>CA</td>\n",
       "      <td>06</td>\n",
       "      <td>32941</td>\n",
       "      <td>769971</td>\n",
       "    </tr>\n",
       "    <tr>\n",
       "      <th>2</th>\n",
       "      <td>78234</td>\n",
       "      <td>76976</td>\n",
       "      <td>94880</td>\n",
       "      <td>219848</td>\n",
       "      <td>170106</td>\n",
       "      <td>150317</td>\n",
       "      <td>108830</td>\n",
       "      <td>89707</td>\n",
       "      <td>57380</td>\n",
       "      <td>33881</td>\n",
       "      <td>...</td>\n",
       "      <td>4819000</td>\n",
       "      <td>1197816</td>\n",
       "      <td>1254907</td>\n",
       "      <td>10</td>\n",
       "      <td>256177</td>\n",
       "      <td>{\"x\": -10771976.460229648, \"y\": 3868099.451091...</td>\n",
       "      <td>TX</td>\n",
       "      <td>48</td>\n",
       "      <td>58582</td>\n",
       "      <td>607415</td>\n",
       "    </tr>\n",
       "    <tr>\n",
       "      <th>3</th>\n",
       "      <td>137307</td>\n",
       "      <td>142544</td>\n",
       "      <td>171086</td>\n",
       "      <td>373985</td>\n",
       "      <td>291218</td>\n",
       "      <td>268661</td>\n",
       "      <td>202641</td>\n",
       "      <td>151041</td>\n",
       "      <td>106310</td>\n",
       "      <td>60257</td>\n",
       "      <td>...</td>\n",
       "      <td>4835000</td>\n",
       "      <td>2099451</td>\n",
       "      <td>2216413</td>\n",
       "      <td>10</td>\n",
       "      <td>427407</td>\n",
       "      <td>{\"x\": -10616276.96221088, \"y\": 3477489.7999848...</td>\n",
       "      <td>TX</td>\n",
       "      <td>48</td>\n",
       "      <td>110003</td>\n",
       "      <td>1060491</td>\n",
       "    </tr>\n",
       "    <tr>\n",
       "      <th>4</th>\n",
       "      <td>97421</td>\n",
       "      <td>102486</td>\n",
       "      <td>107623</td>\n",
       "      <td>197161</td>\n",
       "      <td>175669</td>\n",
       "      <td>174799</td>\n",
       "      <td>133845</td>\n",
       "      <td>99319</td>\n",
       "      <td>74611</td>\n",
       "      <td>45911</td>\n",
       "      <td>...</td>\n",
       "      <td>4865000</td>\n",
       "      <td>1327407</td>\n",
       "      <td>1380401</td>\n",
       "      <td>10</td>\n",
       "      <td>208572</td>\n",
       "      <td>{\"x\": -10966982.38876809, \"y\": 3424119.2597500...</td>\n",
       "      <td>TX</td>\n",
       "      <td>48</td>\n",
       "      <td>44604</td>\n",
       "      <td>963413</td>\n",
       "    </tr>\n",
       "    <tr>\n",
       "      <th>5</th>\n",
       "      <td>164466</td>\n",
       "      <td>182933</td>\n",
       "      <td>223027</td>\n",
       "      <td>515551</td>\n",
       "      <td>378139</td>\n",
       "      <td>338737</td>\n",
       "      <td>262849</td>\n",
       "      <td>166077</td>\n",
       "      <td>151095</td>\n",
       "      <td>89804</td>\n",
       "      <td>...</td>\n",
       "      <td>1714000</td>\n",
       "      <td>2695598</td>\n",
       "      <td>2737877</td>\n",
       "      <td>10</td>\n",
       "      <td>575998</td>\n",
       "      <td>{\"x\": -9761403.70804745, \"y\": 5136934.75558690...</td>\n",
       "      <td>IL</td>\n",
       "      <td>17</td>\n",
       "      <td>148777</td>\n",
       "      <td>1212835</td>\n",
       "    </tr>\n",
       "    <tr>\n",
       "      <th>6</th>\n",
       "      <td>108732</td>\n",
       "      <td>110352</td>\n",
       "      <td>106757</td>\n",
       "      <td>224128</td>\n",
       "      <td>206387</td>\n",
       "      <td>195144</td>\n",
       "      <td>139018</td>\n",
       "      <td>113260</td>\n",
       "      <td>70456</td>\n",
       "      <td>36981</td>\n",
       "      <td>...</td>\n",
       "      <td>0455000</td>\n",
       "      <td>1445632</td>\n",
       "      <td>1513274</td>\n",
       "      <td>10</td>\n",
       "      <td>218064</td>\n",
       "      <td>{\"x\": -12477855.755940389, \"y\": 3971403.536437...</td>\n",
       "      <td>AZ</td>\n",
       "      <td>04</td>\n",
       "      <td>75343</td>\n",
       "      <td>951958</td>\n",
       "    </tr>\n",
       "    <tr>\n",
       "      <th>7</th>\n",
       "      <td>468154</td>\n",
       "      <td>535833</td>\n",
       "      <td>642585</td>\n",
       "      <td>1392445</td>\n",
       "      <td>1154687</td>\n",
       "      <td>1107376</td>\n",
       "      <td>890012</td>\n",
       "      <td>473159</td>\n",
       "      <td>531461</td>\n",
       "      <td>320291</td>\n",
       "      <td>...</td>\n",
       "      <td>3651000</td>\n",
       "      <td>8175133</td>\n",
       "      <td>8433086</td>\n",
       "      <td>10</td>\n",
       "      <td>2146892</td>\n",
       "      <td>{\"x\": -8223399.012453097, \"y\": 4966718.4366832...</td>\n",
       "      <td>NY</td>\n",
       "      <td>36</td>\n",
       "      <td>261278</td>\n",
       "      <td>3597341</td>\n",
       "    </tr>\n",
       "    <tr>\n",
       "      <th>8</th>\n",
       "      <td>90640</td>\n",
       "      <td>118297</td>\n",
       "      <td>146717</td>\n",
       "      <td>246062</td>\n",
       "      <td>188323</td>\n",
       "      <td>197970</td>\n",
       "      <td>160808</td>\n",
       "      <td>90827</td>\n",
       "      <td>94764</td>\n",
       "      <td>62434</td>\n",
       "      <td>...</td>\n",
       "      <td>4260000</td>\n",
       "      <td>1526006</td>\n",
       "      <td>1551773</td>\n",
       "      <td>10</td>\n",
       "      <td>275200</td>\n",
       "      <td>{\"x\": -8363869.269200069, \"y\": 4867065.3309799...</td>\n",
       "      <td>PA</td>\n",
       "      <td>42</td>\n",
       "      <td>70435</td>\n",
       "      <td>626221</td>\n",
       "    </tr>\n",
       "  </tbody>\n",
       "</table>\n",
       "<p>9 rows × 51 columns</p>\n",
       "</div>"
      ],
      "text/plain": [
       "   AGE_10_14  AGE_15_19  AGE_20_24  AGE_25_34  AGE_35_44  AGE_45_54  \\\n",
       "0     237462     274373     314543     638900     570467     503164   \n",
       "1      75345      90813     127987     230247     183750     171993   \n",
       "2      78234      76976      94880     219848     170106     150317   \n",
       "3     137307     142544     171086     373985     291218     268661   \n",
       "4      97421     102486     107623     197161     175669     174799   \n",
       "5     164466     182933     223027     515551     378139     338737   \n",
       "6     108732     110352     106757     224128     206387     195144   \n",
       "7     468154     535833     642585    1392445    1154687    1107376   \n",
       "8      90640     118297     146717     246062     188323     197970   \n",
       "\n",
       "   AGE_55_64  AGE_5_9  AGE_65_74  AGE_75_84   ...     PLACEFIPS  POP2010  \\\n",
       "0     374391   231528     209059     128659   ...       0644000  3792621   \n",
       "1     131765    75073      72013      46643   ...       0666000  1307402   \n",
       "2     108830    89707      57380      33881   ...       4819000  1197816   \n",
       "3     202641   151041     106310      60257   ...       4835000  2099451   \n",
       "4     133845    99319      74611      45911   ...       4865000  1327407   \n",
       "5     262849   166077     151095      89804   ...       1714000  2695598   \n",
       "6     139018   113260      70456      36981   ...       0455000  1445632   \n",
       "7     890012   473159     531461     320291   ...       3651000  8175133   \n",
       "8     160808    90827      94764      62434   ...       4260000  1526006   \n",
       "\n",
       "   POPULATION  POP_CLASS  RENTER_OCC  \\\n",
       "0     3887115         10      814305   \n",
       "1     1343525         10      249934   \n",
       "2     1254907         10      256177   \n",
       "3     2216413         10      427407   \n",
       "4     1380401         10      208572   \n",
       "5     2737877         10      575998   \n",
       "6     1513274         10      218064   \n",
       "7     8433086         10     2146892   \n",
       "8     1551773         10      275200   \n",
       "\n",
       "                                               SHAPE  ST STFIPS  VACANT  \\\n",
       "0  {\"x\": -13195807.345545301, \"y\": 4052488.805976...  CA     06   95827   \n",
       "1  {\"x\": -13038647.444455143, \"y\": 3877209.499119...  CA     06   32941   \n",
       "2  {\"x\": -10771976.460229648, \"y\": 3868099.451091...  TX     48   58582   \n",
       "3  {\"x\": -10616276.96221088, \"y\": 3477489.7999848...  TX     48  110003   \n",
       "4  {\"x\": -10966982.38876809, \"y\": 3424119.2597500...  TX     48   44604   \n",
       "5  {\"x\": -9761403.70804745, \"y\": 5136934.75558690...  IL     17  148777   \n",
       "6  {\"x\": -12477855.755940389, \"y\": 3971403.536437...  AZ     04   75343   \n",
       "7  {\"x\": -8223399.012453097, \"y\": 4966718.4366832...  NY     36  261278   \n",
       "8  {\"x\": -8363869.269200069, \"y\": 4867065.3309799...  PA     42   70435   \n",
       "\n",
       "     WHITE  \n",
       "0  1888158  \n",
       "1   769971  \n",
       "2   607415  \n",
       "3  1060491  \n",
       "4   963413  \n",
       "5  1212835  \n",
       "6   951958  \n",
       "7  3597341  \n",
       "8   626221  \n",
       "\n",
       "[9 rows x 51 columns]"
      ]
     },
     "execution_count": 29,
     "metadata": {},
     "output_type": "execute_result"
    }
   ],
   "source": [
    "query2 = feature_layer.query(where=\"POP2010 > 1000000\")\n",
    "query2.sdf"
   ]
  },
  {
   "cell_type": "markdown",
   "metadata": {},
   "source": [
    "Accessing the features as a dataframe makes if easier to analyze the data statistically."
   ]
  },
  {
   "cell_type": "markdown",
   "metadata": {},
   "source": [
    "## Accessing Features from query results"
   ]
  },
  {
   "cell_type": "code",
   "execution_count": 30,
   "metadata": {},
   "outputs": [
    {
     "data": {
      "text/plain": [
       "{'x': -118.53995424799996, 'y': 34.17622092200002}"
      ]
     },
     "execution_count": 30,
     "metadata": {},
     "output_type": "execute_result"
    }
   ],
   "source": [
    "query_geographic = feature_layer.query(where='POP2010 > 1000000', out_sr='4326')\n",
    "query_geographic.features[0].geometry"
   ]
  },
  {
   "cell_type": "markdown",
   "metadata": {},
   "source": [
    "We can execute the `query()` method on the first `FeatureLayer` object and get a `FeatureSet`. Let us query and access the first 10 features in this layer"
   ]
  },
  {
   "cell_type": "code",
   "execution_count": 31,
   "metadata": {},
   "outputs": [
    {
     "data": {
      "text/plain": [
       "arcgis.features.feature.FeatureSet"
      ]
     },
     "execution_count": 31,
     "metadata": {},
     "output_type": "execute_result"
    }
   ],
   "source": [
    "major_cities_l1 = major_cities_layers[0]\n",
    "major_cities_l1_fset = major_cities_l1.query(where= 'FID < 11')\n",
    "type(major_cities_l1_fset)"
   ]
  },
  {
   "cell_type": "markdown",
   "metadata": {},
   "source": [
    "Now, accessing the `features` property of the above `FeatureSet` object will provide us the individual point `Features`."
   ]
  },
  {
   "cell_type": "code",
   "execution_count": 32,
   "metadata": {},
   "outputs": [
    {
     "data": {
      "text/plain": [
       "10"
      ]
     },
     "execution_count": 32,
     "metadata": {},
     "output_type": "execute_result"
    }
   ],
   "source": [
    "major_cities_l1_features = major_cities_l1_fset.features\n",
    "len(major_cities_l1_features)"
   ]
  },
  {
   "cell_type": "markdown",
   "metadata": {},
   "source": [
    "<a id=\"feature-properties\"></a>\n",
    "## Accessing Feature geometry and attributes\n",
    "As mentioned earlier, the `Feature` object is a fine grained representation of spatial information. Two important properties of a `Feature` object are its `geometry` and `attributes`:"
   ]
  },
  {
   "cell_type": "markdown",
   "metadata": {},
   "source": [
    "Let us display the geometry and attributes of the first feature"
   ]
  },
  {
   "cell_type": "code",
   "execution_count": 33,
   "metadata": {},
   "outputs": [
    {
     "data": {
      "text/plain": [
       "{'x': -12751215.004681978, 'y': 4180278.406256967}"
      ]
     },
     "execution_count": 33,
     "metadata": {},
     "output_type": "execute_result"
    }
   ],
   "source": [
    "major_cities_l1_features[0].geometry"
   ]
  },
  {
   "cell_type": "code",
   "execution_count": 34,
   "metadata": {},
   "outputs": [
    {
     "data": {
      "text/plain": [
       "{'FID': 1,\n",
       " 'OBJECTID': 1,\n",
       " 'NAME': 'Bullhead City',\n",
       " 'CLASS': 'city',\n",
       " 'ST': 'AZ',\n",
       " 'STFIPS': '04',\n",
       " 'PLACEFIPS': '0408220',\n",
       " 'CAPITAL': ' ',\n",
       " 'POP_CLASS': 6,\n",
       " 'POPULATION': 40346,\n",
       " 'POP2010': 39540,\n",
       " 'WHITE': 32367,\n",
       " 'BLACK': 508,\n",
       " 'AMERI_ES': 450,\n",
       " 'ASIAN': 556,\n",
       " 'HAWN_PI': 59,\n",
       " 'HISPANIC': 9386,\n",
       " 'OTHER': 4426,\n",
       " 'MULT_RACE': 1174,\n",
       " 'MALES': 19535,\n",
       " 'FEMALES': 20005,\n",
       " 'AGE_UNDER5': 2142,\n",
       " 'AGE_5_9': 2067,\n",
       " 'AGE_10_14': 2144,\n",
       " 'AGE_15_19': 2314,\n",
       " 'AGE_20_24': 2002,\n",
       " 'AGE_25_34': 3531,\n",
       " 'AGE_35_44': 3887,\n",
       " 'AGE_45_54': 5643,\n",
       " 'AGE_55_64': 6353,\n",
       " 'AGE_65_74': 5799,\n",
       " 'AGE_75_84': 2850,\n",
       " 'AGE_85_UP': 808,\n",
       " 'MED_AGE': 48.2,\n",
       " 'MED_AGE_M': 47.7,\n",
       " 'MED_AGE_F': 48.6,\n",
       " 'HOUSEHOLDS': 16761,\n",
       " 'AVE_HH_SZ': 2.35,\n",
       " 'HSEHLD_1_M': 3141,\n",
       " 'HSEHLD_1_F': 3013,\n",
       " 'MARHH_CHD': 1988,\n",
       " 'MARHH_NO_C': 5484,\n",
       " 'MHH_CHILD': 614,\n",
       " 'FHH_CHILD': 1301,\n",
       " 'FAMILIES': 10512,\n",
       " 'AVE_FAM_SZ': 2.82,\n",
       " 'HSE_UNITS': 23464,\n",
       " 'VACANT': 6703,\n",
       " 'OWNER_OCC': 10198,\n",
       " 'RENTER_OCC': 6563}"
      ]
     },
     "execution_count": 34,
     "metadata": {},
     "output_type": "execute_result"
    }
   ],
   "source": [
    "major_cities_l1_features[0].attributes"
   ]
  },
  {
   "cell_type": "markdown",
   "metadata": {},
   "source": [
    "<a id=\"features-from-a-feature-collection\"></a>\n",
    "# Using feature collections\n",
    "\n",
    "Similar to feature layers, [feature collections](http://doc.arcgis.com/en/arcgis-online/reference/feature-collections.htm) can also be used to store features. With a feature collection, a service is not created to serve out feature data. Instead it is stored as json data with the item. Feature collections can be added to maps as layers, passed as input to feature analysis tools and queried for feature data.\n",
    "\n",
    "Feature collections are shared in the GIS as items. Feature Collection Items can be searched by specifying 'Feature Collection' as the item_type.\n",
    "\n",
    "Let us search for a feature collection published by Iowa Dept. of Transportation as an example:"
   ]
  },
  {
   "cell_type": "code",
   "execution_count": 35,
   "metadata": {},
   "outputs": [
    {
     "data": {
      "text/html": [
       "<div class=\"item_container\" style=\"height: auto; overflow: hidden; border: 1px solid #cfcfcf; border-radius: 2px; background: #f6fafa; line-height: 1.21429em; padding: 10px;\">\n",
       "                    <div class=\"item_left\" style=\"width: 210px; float: left;\">\n",
       "                       <a href='https://www.arcgis.com/home/item.html?id=8a3118f14fc24bfb93eb769e997597f9' target='_blank'>\n",
       "                        <img src='https://www.arcgis.com/sharing/rest//content/items/8a3118f14fc24bfb93eb769e997597f9/info/thumbnail/Featured-App_Track-a-Plow.png' class=\"itemThumbnail\">\n",
       "                       </a>\n",
       "                    </div>\n",
       "\n",
       "                    <div class=\"item_right\"     style=\"float: none; width: auto; overflow: hidden;\">\n",
       "                        <a href='https://www.arcgis.com/home/item.html?id=8a3118f14fc24bfb93eb769e997597f9' target='_blank'><b>AVL_Direct_FC</b>\n",
       "                        </a>\n",
       "                        <br/>2018-08-08 09:03:04<img src='https://www.arcgis.com/home/js/jsapi/esri/css/images/item_type_icons/features16.png' style=\"vertical-align:middle;\">Feature Collection by IowaDOT_SODA\n",
       "                        <br/>Last Modified: August 08, 2018\n",
       "                        <br/>0 comments, 5,508,621 views\n",
       "                    </div>\n",
       "                </div>\n",
       "                "
      ],
      "text/plain": [
       "<Item title:\"AVL_Direct_FC\" type:Feature Collection owner:IowaDOT_SODA>"
      ]
     },
     "execution_count": 35,
     "metadata": {},
     "output_type": "execute_result"
    }
   ],
   "source": [
    "search_fc = gis.content.search(\"title:AVL_Direct_FC\", item_type='Feature Collection')\n",
    "iowa_fc_item = search_fc[0]\n",
    "iowa_fc_item"
   ]
  },
  {
   "cell_type": "markdown",
   "metadata": {},
   "source": [
    "Accessing the `layers` property on a feature collection item returns a list of `FeatureCollection` objects"
   ]
  },
  {
   "cell_type": "code",
   "execution_count": 36,
   "metadata": {},
   "outputs": [
    {
     "data": {
      "text/plain": [
       "[<FeatureCollection>]"
      ]
     },
     "execution_count": 36,
     "metadata": {},
     "output_type": "execute_result"
    }
   ],
   "source": [
    "iowa_fc_item.layers"
   ]
  },
  {
   "cell_type": "code",
   "execution_count": 37,
   "metadata": {},
   "outputs": [],
   "source": [
    "iowa_fc = iowa_fc_item.layers[0]"
   ]
  },
  {
   "cell_type": "markdown",
   "metadata": {},
   "source": [
    "You can call the `query()` method on a `FeatureCollection` object to get a `FeatureSet`."
   ]
  },
  {
   "cell_type": "code",
   "execution_count": 38,
   "metadata": {},
   "outputs": [],
   "source": [
    "iowa_fset = iowa_fc.query()"
   ]
  },
  {
   "cell_type": "markdown",
   "metadata": {},
   "source": [
    "Once you have a `FeatureSet` object, you can access the `features` property to get a list of `Feature` objects as seen earlier"
   ]
  },
  {
   "cell_type": "code",
   "execution_count": 39,
   "metadata": {},
   "outputs": [
    {
     "data": {
      "text/plain": [
       "{'x': -10617585.164750207,\n",
       " 'y': 5160968.961654072,\n",
       " 'spatialReference': {'wkid': 102100, 'latestWkid': 3857}}"
      ]
     },
     "execution_count": 39,
     "metadata": {},
     "output_type": "execute_result"
    }
   ],
   "source": [
    "iowa_features = iowa_fset.features\n",
    "iowa_features[0].geometry"
   ]
  }
 ],
 "metadata": {
  "anaconda-cloud": {},
  "kernelspec": {
   "display_name": "Python 3",
   "language": "python",
   "name": "python3"
  },
  "language_info": {
   "codemirror_mode": {
    "name": "ipython",
    "version": 3
   },
   "file_extension": ".py",
   "mimetype": "text/x-python",
   "name": "python",
   "nbconvert_exporter": "python",
   "pygments_lexer": "ipython3",
   "version": "3.6.5"
  }
 },
 "nbformat": 4,
 "nbformat_minor": 1
}
