{
 "cells": [
  {
   "cell_type": "markdown",
   "metadata": {
    "collapsed": true
   },
   "source": [
    "# Summarize Data\n",
    "\n",
    "The `features` module packs a set of data summarization tools to calculate total counts, lengths, areas, and basic descriptive statistics of features and their attributes within areas or near other features. You can access these tools using the `summarize_data` sub module."
   ]
  },
  {
   "cell_type": "markdown",
   "metadata": {},
   "source": [
    "## Aggregate points\n",
    "In this example, let us observe how to use `aggregate_points` tool to summarize data from spot measurements by area. To learn more about this tool and the formula it uses, refer to the documentation [here](http://doc.arcgis.com/en/arcgis-online/use-maps/aggregate-points.htm)"
   ]
  },
  {
   "cell_type": "code",
   "execution_count": 8,
   "metadata": {},
   "outputs": [],
   "source": [
    "# connect to GIS\n",
    "from arcgis.gis import GIS\n",
    "gis = GIS(\"portal url\", \"username\", \"password\")"
   ]
  },
  {
   "cell_type": "code",
   "execution_count": 16,
   "metadata": {},
   "outputs": [
    {
     "data": {
      "text/html": [
       "<div class=\"item_container\" style=\"height: auto; overflow: hidden; border: 1px solid #cfcfcf; border-radius: 2px; background: #f6fafa; line-height: 1.21429em; padding: 10px;\">\n",
       "                    <div class=\"item_left\" style=\"width: 210px; float: left;\">\n",
       "                       <a href='https://python.playground.esri.com/portal/home/item.html?id=e3e8c73b04424524adb7216f6433b746' target='_blank'>\n",
       "                        <img src='data:image/png;base64,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' width='200' height='133' class=\"itemThumbnail\">\n",
       "                       </a>\n",
       "                    </div>\n",
       "\n",
       "                    <div class=\"item_right\"     style=\"float: none; width: auto; overflow: hidden;\">\n",
       "                        <a href='https://python.playground.esri.com/portal/home/item.html?id=e3e8c73b04424524adb7216f6433b746' target='_blank'><b>earthquakes_2</b>\n",
       "                        </a>\n",
       "                        <br/>Major earthquake information<img src='https://python.playground.esri.com/portal/home/js/jsapi/esri/css/images/item_type_icons/featureshosted16.png' style=\"vertical-align:middle;\">Feature Layer Collection by arcgis_python\n",
       "                        <br/>Last Modified: May 21, 2018\n",
       "                        <br/>0 comments, 31 views\n",
       "                    </div>\n",
       "                </div>\n",
       "                "
      ],
      "text/plain": [
       "<Item title:\"earthquakes_2\" type:Feature Layer Collection owner:arcgis_python>"
      ]
     },
     "execution_count": 16,
     "metadata": {},
     "output_type": "execute_result"
    }
   ],
   "source": [
    "#search for earthquakes data - point data\n",
    "eq_search = gis.content.search(\"world earthquakes locations\", \"feature layer\", max_items=1)\n",
    "eq_item = eq_search[0]\n",
    "eq_item"
   ]
  },
  {
   "cell_type": "code",
   "execution_count": 15,
   "metadata": {},
   "outputs": [],
   "source": [
    "# search for USA states - area / polygon data\n",
    "states_search = gis.content.search(\"title:'USA States'\", \n",
    "                                   \"feature layer\", max_items=1)\n",
    "states_item = states_search[0]\n",
    "states_item"
   ]
  },
  {
   "cell_type": "markdown",
   "metadata": {},
   "source": [
    "Lets draw the layers on a map and observe how they are distributed"
   ]
  },
  {
   "cell_type": "code",
   "execution_count": null,
   "metadata": {},
   "outputs": [],
   "source": [
    "map1 = gis.map(\"USA\")\n",
    "map1"
   ]
  },
  {
   "cell_type": "markdown",
   "metadata": {},
   "source": [
    "![earthquakes and states](http://esri.github.io/arcgis-python-api/notebooks/nbimages/guide_features_summarize_aggregate_points_01.PNG)"
   ]
  },
  {
   "cell_type": "code",
   "execution_count": 18,
   "metadata": {},
   "outputs": [],
   "source": [
    "map1.add_layer(states_item)"
   ]
  },
  {
   "cell_type": "code",
   "execution_count": 19,
   "metadata": {},
   "outputs": [],
   "source": [
    "map1.add_layer(eq_item)"
   ]
  },
  {
   "cell_type": "markdown",
   "metadata": {},
   "source": [
    "### Aggregate earthquakes by state\n",
    "As you can see, a number of earthquakes fall on the boundary of tectonic plates ([ring of fire](https://en.wikipedia.org/wiki/Ring_of_Fire)). However, there are a few more dispersed into other states. It would be interesting to aggregate all the earthquakes by state and plot that as a chart. \n",
    "\n",
    "The `aggregate_points` tool in the `summarize_data` sub module is a valid candidate for such analyses. The example below shows how to run this tool using ArcGIS API for Python.\n",
    "\n",
    "To start with, let us access the layers in the states and earthquakes items and view their attribute information to understand how the data can be summarized"
   ]
  },
  {
   "cell_type": "code",
   "execution_count": 20,
   "metadata": {},
   "outputs": [],
   "source": [
    "eq_fl = eq_item.layers[0]\n",
    "states_fl = states_item.layers[0]"
   ]
  },
  {
   "cell_type": "markdown",
   "metadata": {},
   "source": [
    "We have accessed the layers in the items as `FeatureLayer` objects. We can query the `fields` property to understand what kind of attribute data is stored in the layers"
   ]
  },
  {
   "cell_type": "code",
   "execution_count": 21,
   "metadata": {},
   "outputs": [
    {
     "name": "stdout",
     "output_type": "stream",
     "text": [
      "objectid\n",
      "datetime\n",
      "latitude\n",
      "longitude\n",
      "depth\n",
      "magnitude\n",
      "magtype\n",
      "nbstations\n",
      "gap\n",
      "distance\n",
      "rms\n",
      "source\n",
      "eventid\n",
      "occurrence_time\n"
     ]
    }
   ],
   "source": [
    "#query the fields in eq_fl layer\n",
    "for field in eq_fl.properties.fields:\n",
    "    print(field['name'])"
   ]
  },
  {
   "cell_type": "code",
   "execution_count": 22,
   "metadata": {},
   "outputs": [
    {
     "name": "stdout",
     "output_type": "stream",
     "text": [
      "FID\tSTATE_NAME\tSTATE_FIPS\tSUB_REGION\tSTATE_ABBR\tPOPULATION\tPOP_SQMI\tPOP2010\tPOP10_SQMI\tWHITE\tBLACK\tAMERI_ES\tASIAN\tHAWN_PI\tHISPANIC\tOTHER\tMULT_RACE\tMALES\tFEMALES\tAGE_UNDER5\tAGE_5_9\tAGE_10_14\tAGE_15_19\tAGE_20_24\tAGE_25_34\tAGE_35_44\tAGE_45_54\tAGE_55_64\tAGE_65_74\tAGE_75_84\tAGE_85_UP\tMED_AGE\tMED_AGE_M\tMED_AGE_F\tHOUSEHOLDS\tAVE_HH_SZ\tHSEHLD_1_M\tHSEHLD_1_F\tMARHH_CHD\tMARHH_NO_C\tMHH_CHILD\tFHH_CHILD\tFAMILIES\tAVE_FAM_SZ\tHSE_UNITS\tVACANT\tOWNER_OCC\tRENTER_OCC\tNO_FARMS12\tAVE_SIZE12\tCROP_ACR12\tAVE_SALE12\tSQMI\tShape__Area\tShape__Length\t"
     ]
    }
   ],
   "source": [
    "# similarly for states data\n",
    "for field in states_fl.properties.fields:\n",
    "    print(field['name'], end=\"\\t\")"
   ]
  },
  {
   "cell_type": "markdown",
   "metadata": {},
   "source": [
    "Let us aggreate the points by state and summarize the `magnitude` field and use `mean` as the summary type."
   ]
  },
  {
   "cell_type": "code",
   "execution_count": 23,
   "metadata": {},
   "outputs": [],
   "source": [
    "from arcgis.features import summarize_data\n",
    "sum_fields = ['magnitude Mean', 'depth Min']\n",
    "eq_summary = summarize_data.aggregate_points(point_layer = eq_fl,\n",
    "                                            polygon_layer = states_fl,\n",
    "                                            keep_boundaries_with_no_points=False,\n",
    "                                            summary_fields=sum_fields)"
   ]
  },
  {
   "cell_type": "markdown",
   "metadata": {},
   "source": [
    "When running the tool above, we did not specify a name for the `output_name` parameter. Hence the analyses results were not stored on the portal, instead stored in the variable `eq_summary`."
   ]
  },
  {
   "cell_type": "code",
   "execution_count": 24,
   "metadata": {},
   "outputs": [
    {
     "data": {
      "text/plain": [
       "{'aggregated_layer': <FeatureCollection>, 'group_summary': <FeatureCollection>}"
      ]
     },
     "execution_count": 24,
     "metadata": {},
     "output_type": "execute_result"
    }
   ],
   "source": [
    "eq_summary"
   ]
  },
  {
   "cell_type": "code",
   "execution_count": 25,
   "metadata": {},
   "outputs": [],
   "source": [
    "# access the aggregation feature colleciton\n",
    "eq_aggregate_fc = eq_summary['aggregated_layer']\n",
    "\n",
    "#query this feature collection to get a data as a feature set\n",
    "eq_aggregate_fset = eq_aggregate_fc.query()"
   ]
  },
  {
   "cell_type": "markdown",
   "metadata": {},
   "source": [
    "`FeatureSet` objects support visualizing attribute information as a pandas dataframe. This is a neat feature since you do not have to iterate through each feature to view their attribute information.\n",
    "\n",
    "Let us view the summary results as a pandas dataframe table. Note, the `aggregate_points` tool appends the polygon layer's original set of fields to the analysis result in order to provide it context"
   ]
  },
  {
   "cell_type": "code",
   "execution_count": 26,
   "metadata": {},
   "outputs": [
    {
     "data": {
      "text/html": [
       "<div>\n",
       "<style scoped>\n",
       "    .dataframe tbody tr th:only-of-type {\n",
       "        vertical-align: middle;\n",
       "    }\n",
       "\n",
       "    .dataframe tbody tr th {\n",
       "        vertical-align: top;\n",
       "    }\n",
       "\n",
       "    .dataframe thead th {\n",
       "        text-align: right;\n",
       "    }\n",
       "</style>\n",
       "<table border=\"1\" class=\"dataframe\">\n",
       "  <thead>\n",
       "    <tr style=\"text-align: right;\">\n",
       "      <th></th>\n",
       "      <th>AGE_10_14</th>\n",
       "      <th>AGE_15_19</th>\n",
       "      <th>AGE_20_24</th>\n",
       "      <th>AGE_25_34</th>\n",
       "      <th>AGE_35_44</th>\n",
       "      <th>AGE_45_54</th>\n",
       "      <th>AGE_55_64</th>\n",
       "      <th>AGE_5_9</th>\n",
       "      <th>AGE_65_74</th>\n",
       "      <th>AGE_75_84</th>\n",
       "      <th>...</th>\n",
       "      <th>STATE_ABBR</th>\n",
       "      <th>STATE_FIPS</th>\n",
       "      <th>STATE_NAME</th>\n",
       "      <th>SUB_REGION</th>\n",
       "      <th>Shape_Area</th>\n",
       "      <th>Shape_Length</th>\n",
       "      <th>Shape__Area</th>\n",
       "      <th>Shape__Length</th>\n",
       "      <th>VACANT</th>\n",
       "      <th>WHITE</th>\n",
       "    </tr>\n",
       "  </thead>\n",
       "  <tbody>\n",
       "    <tr>\n",
       "      <th>0</th>\n",
       "      <td>50816</td>\n",
       "      <td>52141</td>\n",
       "      <td>54419</td>\n",
       "      <td>103125</td>\n",
       "      <td>92974</td>\n",
       "      <td>111026</td>\n",
       "      <td>85909</td>\n",
       "      <td>50887</td>\n",
       "      <td>35350</td>\n",
       "      <td>14877</td>\n",
       "      <td>...</td>\n",
       "      <td>AK</td>\n",
       "      <td>02</td>\n",
       "      <td>Alaska</td>\n",
       "      <td>Pacific</td>\n",
       "      <td>None</td>\n",
       "      <td>None</td>\n",
       "      <td>8.101401e+12</td>\n",
       "      <td>5.924954e+07</td>\n",
       "      <td>48909</td>\n",
       "      <td>473576</td>\n",
       "    </tr>\n",
       "    <tr>\n",
       "      <th>1</th>\n",
       "      <td>2590930</td>\n",
       "      <td>2823940</td>\n",
       "      <td>2765949</td>\n",
       "      <td>5317877</td>\n",
       "      <td>5182710</td>\n",
       "      <td>5252371</td>\n",
       "      <td>4036493</td>\n",
       "      <td>2505839</td>\n",
       "      <td>2275336</td>\n",
       "      <td>1370210</td>\n",
       "      <td>...</td>\n",
       "      <td>CA</td>\n",
       "      <td>06</td>\n",
       "      <td>California</td>\n",
       "      <td>Pacific</td>\n",
       "      <td>None</td>\n",
       "      <td>None</td>\n",
       "      <td>6.479799e+11</td>\n",
       "      <td>5.237952e+06</td>\n",
       "      <td>1102583</td>\n",
       "      <td>21453934</td>\n",
       "    </tr>\n",
       "    <tr>\n",
       "      <th>2</th>\n",
       "      <td>81539</td>\n",
       "      <td>85994</td>\n",
       "      <td>95829</td>\n",
       "      <td>185333</td>\n",
       "      <td>176373</td>\n",
       "      <td>193765</td>\n",
       "      <td>175562</td>\n",
       "      <td>83361</td>\n",
       "      <td>100523</td>\n",
       "      <td>64377</td>\n",
       "      <td>...</td>\n",
       "      <td>HI</td>\n",
       "      <td>15</td>\n",
       "      <td>Hawaii</td>\n",
       "      <td>Pacific</td>\n",
       "      <td>None</td>\n",
       "      <td>None</td>\n",
       "      <td>1.888067e+10</td>\n",
       "      <td>1.370185e+06</td>\n",
       "      <td>64170</td>\n",
       "      <td>336599</td>\n",
       "    </tr>\n",
       "    <tr>\n",
       "      <th>3</th>\n",
       "      <td>116955</td>\n",
       "      <td>115359</td>\n",
       "      <td>108209</td>\n",
       "      <td>208965</td>\n",
       "      <td>191609</td>\n",
       "      <td>208537</td>\n",
       "      <td>180313</td>\n",
       "      <td>121195</td>\n",
       "      <td>109534</td>\n",
       "      <td>59892</td>\n",
       "      <td>...</td>\n",
       "      <td>ID</td>\n",
       "      <td>16</td>\n",
       "      <td>Idaho</td>\n",
       "      <td>Mountain</td>\n",
       "      <td>None</td>\n",
       "      <td>None</td>\n",
       "      <td>4.235214e+11</td>\n",
       "      <td>3.858889e+06</td>\n",
       "      <td>88388</td>\n",
       "      <td>1396487</td>\n",
       "    </tr>\n",
       "    <tr>\n",
       "      <th>4</th>\n",
       "      <td>183173</td>\n",
       "      <td>182600</td>\n",
       "      <td>177509</td>\n",
       "      <td>387286</td>\n",
       "      <td>383043</td>\n",
       "      <td>376527</td>\n",
       "      <td>315499</td>\n",
       "      <td>183077</td>\n",
       "      <td>197781</td>\n",
       "      <td>96391</td>\n",
       "      <td>...</td>\n",
       "      <td>NV</td>\n",
       "      <td>32</td>\n",
       "      <td>Nevada</td>\n",
       "      <td>Mountain</td>\n",
       "      <td>None</td>\n",
       "      <td>None</td>\n",
       "      <td>4.807101e+11</td>\n",
       "      <td>3.025639e+06</td>\n",
       "      <td>167564</td>\n",
       "      <td>1786688</td>\n",
       "    </tr>\n",
       "  </tbody>\n",
       "</table>\n",
       "<p>5 rows × 62 columns</p>\n",
       "</div>"
      ],
      "text/plain": [
       "   AGE_10_14  AGE_15_19  AGE_20_24  AGE_25_34  AGE_35_44  AGE_45_54  \\\n",
       "0      50816      52141      54419     103125      92974     111026   \n",
       "1    2590930    2823940    2765949    5317877    5182710    5252371   \n",
       "2      81539      85994      95829     185333     176373     193765   \n",
       "3     116955     115359     108209     208965     191609     208537   \n",
       "4     183173     182600     177509     387286     383043     376527   \n",
       "\n",
       "   AGE_55_64  AGE_5_9  AGE_65_74  AGE_75_84    ...     STATE_ABBR  STATE_FIPS  \\\n",
       "0      85909    50887      35350      14877    ...             AK          02   \n",
       "1    4036493  2505839    2275336    1370210    ...             CA          06   \n",
       "2     175562    83361     100523      64377    ...             HI          15   \n",
       "3     180313   121195     109534      59892    ...             ID          16   \n",
       "4     315499   183077     197781      96391    ...             NV          32   \n",
       "\n",
       "   STATE_NAME  SUB_REGION  Shape_Area  Shape_Length   Shape__Area  \\\n",
       "0      Alaska     Pacific        None          None  8.101401e+12   \n",
       "1  California     Pacific        None          None  6.479799e+11   \n",
       "2      Hawaii     Pacific        None          None  1.888067e+10   \n",
       "3       Idaho    Mountain        None          None  4.235214e+11   \n",
       "4      Nevada    Mountain        None          None  4.807101e+11   \n",
       "\n",
       "   Shape__Length   VACANT     WHITE  \n",
       "0   5.924954e+07    48909    473576  \n",
       "1   5.237952e+06  1102583  21453934  \n",
       "2   1.370185e+06    64170    336599  \n",
       "3   3.858889e+06    88388   1396487  \n",
       "4   3.025639e+06   167564   1786688  \n",
       "\n",
       "[5 rows x 62 columns]"
      ]
     },
     "execution_count": 26,
     "metadata": {},
     "output_type": "execute_result"
    }
   ],
   "source": [
    "aggregation_df = eq_aggregate_fset.sdf\n",
    "aggregation_df.head()"
   ]
  },
  {
   "cell_type": "markdown",
   "metadata": {},
   "source": [
    "Thus, from our data, of the 50 states, only 23 have had earthquakes. Let us plot a bar chart to view which states had the most earthquakes"
   ]
  },
  {
   "cell_type": "code",
   "execution_count": 29,
   "metadata": {},
   "outputs": [
    {
     "data": {
      "text/plain": [
       "<matplotlib.axes._subplots.AxesSubplot at 0x1e46225f2e8>"
      ]
     },
     "execution_count": 29,
     "metadata": {},
     "output_type": "execute_result"
    },
    {
     "data": {
      "image/png": "[encoded data removed]",
      "text/plain": [
       "<Figure size 432x288 with 1 Axes>"
      ]
     },
     "metadata": {},
     "output_type": "display_data"
    }
   ],
   "source": [
    "%matplotlib inline\n",
    "aggregation_df.plot('STATE_NAME','Point_Count', kind='bar')"
   ]
  },
  {
   "cell_type": "markdown",
   "metadata": {},
   "source": [
    "Clearly, California tops the list with the most number of earthquakes. Let us view what the average intensity and minimum depth is in the plots below:"
   ]
  },
  {
   "cell_type": "code",
   "execution_count": 30,
   "metadata": {},
   "outputs": [
    {
     "data": {
      "text/plain": [
       "array([<matplotlib.axes._subplots.AxesSubplot object at 0x000001E46223C3C8>,\n",
       "       <matplotlib.axes._subplots.AxesSubplot object at 0x000001E46235B518>],\n",
       "      dtype=object)"
      ]
     },
     "execution_count": 30,
     "metadata": {},
     "output_type": "execute_result"
    },
    {
     "data": {
      "image/png": "[encoded data removed]",
      "text/plain": [
       "<Figure size 432x288 with 2 Axes>"
      ]
     },
     "metadata": {},
     "output_type": "display_data"
    }
   ],
   "source": [
    "aggregation_df.plot('STATE_NAME',['MEAN_magnitude', 'MIN_depth'],kind='bar', subplots=True)"
   ]
  }
 ],
 "metadata": {
  "anaconda-cloud": {},
  "kernelspec": {
   "display_name": "Python 3",
   "language": "python",
   "name": "python3"
  },
  "language_info": {
   "codemirror_mode": {
    "name": "ipython",
    "version": 3
   },
   "file_extension": ".py",
   "mimetype": "text/x-python",
   "name": "python",
   "nbconvert_exporter": "python",
   "pygments_lexer": "ipython3",
   "version": "3.6.5"
  }
 },
 "nbformat": 4,
 "nbformat_minor": 1
}
