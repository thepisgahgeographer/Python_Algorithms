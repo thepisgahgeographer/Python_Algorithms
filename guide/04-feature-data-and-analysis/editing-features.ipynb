{
 "cells": [
  {
   "cell_type": "markdown",
   "metadata": {},
   "source": [
    "# Editing Features\n",
    "\n",
    "The ArcGIS API for Python makes programmatic editing of features a breeze. The `edit_features()` method on `FeatureLayer` object can be used for the same. In the example below, we see how to add, update and delete features from a point feature layer"
   ]
  },
  {
   "cell_type": "code",
   "execution_count": null,
   "metadata": {},
   "outputs": [],
   "source": [
    "#connect to GIS\n",
    "from arcgis.gis import GIS\n",
    "from IPython.display import display\n",
    "gis = GIS(\"portal url\", 'username', 'password')"
   ]
  },
  {
   "cell_type": "code",
   "execution_count": null,
   "metadata": {},
   "outputs": [],
   "source": [
    "#search for the feature layer named Ports along west coast\n",
    "search_result = gis.content.search('title:Ports along west coast')\n",
    "search_result[0]"
   ]
  },
  {
   "cell_type": "code",
   "execution_count": null,
   "metadata": {},
   "outputs": [],
   "source": [
    "#access the item's feature layers\n",
    "ports_item = search_result[0]\n",
    "ports_layers = ports_item.layers\n",
    "ports_layers"
   ]
  },
  {
   "cell_type": "markdown",
   "metadata": {},
   "source": [
    "## Query the features\n",
    "Let us query the features on this layer"
   ]
  },
  {
   "cell_type": "code",
   "execution_count": null,
   "metadata": {},
   "outputs": [],
   "source": [
    "#query all the features and display it on a map\n",
    "ports_fset = ports_layers[0].query() #an empty query string will return all \n",
    "                                        #the features or the first 1000 which ever is smaller"
   ]
  },
  {
   "cell_type": "markdown",
   "metadata": {},
   "source": [
    "The `sdf` property of `FeatureSet` class is a powerful way to visualize all the features as a pandas dataframe table."
   ]
  },
  {
   "cell_type": "code",
   "execution_count": null,
   "metadata": {},
   "outputs": [],
   "source": [
    "ports_fset.sdf"
   ]
  },
  {
   "cell_type": "markdown",
   "metadata": {},
   "source": [
    "## Check if the layer can be edited\n",
    "To enable a feature layer to be edited, the `edit` capability needs to be turned on. This can be verified by accessing the `capabilities` property on the `FeatureLayer` object:"
   ]
  },
  {
   "cell_type": "code",
   "execution_count": null,
   "metadata": {},
   "outputs": [],
   "source": [
    "ports_flayer = ports_layers[0]\n",
    "ports_flayer.properties.capabilities"
   ]
  },
  {
   "cell_type": "markdown",
   "metadata": {},
   "source": [
    "## Editing features\n",
    "\n",
    "The feature layer does have all editing, updating and deleting capabilities turned on, thus it is ready for edit operations.\n",
    "\n",
    "### Updating features\n",
    "From the dataframe above, we notice the short_form field of San Francisco port has a typo. We can update this by calling the `edit_features()` method on the `ports_flayer` `FeatureLayer` object. The `edit_features()` method accepts a `Feature` object with correct parameters set."
   ]
  },
  {
   "cell_type": "code",
   "execution_count": null,
   "metadata": {},
   "outputs": [],
   "source": [
    "ports_features = ports_fset.features\n",
    "\n",
    "# select San Francisco feature\n",
    "sfo_feature = [f for f in ports_features if f.attributes['port_name']=='SAN FRANCISCO'][0]\n",
    "sfo_feature.attributes"
   ]
  },
  {
   "cell_type": "markdown",
   "metadata": {},
   "source": [
    "As we can see above, the `short_form` attribute should be changed to `SFO`. Let us edit that and store it as a new `Feature` object"
   ]
  },
  {
   "cell_type": "code",
   "execution_count": null,
   "metadata": {},
   "outputs": [],
   "source": [
    "sfo_edit = sfo_feature\n",
    "sfo_edit.attributes['short_form'] = 'SFO'"
   ]
  },
  {
   "cell_type": "code",
   "execution_count": null,
   "metadata": {},
   "outputs": [],
   "source": [
    "display(sfo_edit)"
   ]
  },
  {
   "cell_type": "markdown",
   "metadata": {},
   "source": [
    "Now let us send this feature object to the `edit_features()` method and edit the original feature layer"
   ]
  },
  {
   "cell_type": "code",
   "execution_count": null,
   "metadata": {},
   "outputs": [],
   "source": [
    "update_result = ports_flayer.edit_features(updates=[sfo_edit])\n",
    "update_result"
   ]
  },
  {
   "cell_type": "markdown",
   "metadata": {},
   "source": [
    "### Adding features\n",
    "From the data frame, we also notice that 'Los Angeles', an important port is missing. We can add this to the original layer by calling the `edit_features()` method and passing a dictionary representation of the feature"
   ]
  },
  {
   "cell_type": "code",
   "execution_count": null,
   "metadata": {},
   "outputs": [],
   "source": [
    "# construct a Feature object for Los Angeles.\n",
    "la_dict = {\"attributes\": \n",
    "           {\"latitude\": 33.75,\n",
    "            \"longitude\": -118.25,\n",
    "            \"country\": \"US\",\n",
    "            \"harborsize\": \"L\",\n",
    "            \"label_position\": \"SW\",\n",
    "            \"port_name\": \"LOS ANGELES\",\n",
    "            \"short_form\": \"LAX\"}, \n",
    "           \"geometry\": \n",
    "           {\"x\": -13044788.958999995, \"y\": 3857756.351200014}}"
   ]
  },
  {
   "cell_type": "code",
   "execution_count": null,
   "metadata": {},
   "outputs": [],
   "source": [
    "add_result = ports_flayer.edit_features(adds = [la_dict])"
   ]
  },
  {
   "cell_type": "code",
   "execution_count": null,
   "metadata": {},
   "outputs": [],
   "source": [
    "add_result"
   ]
  },
  {
   "cell_type": "markdown",
   "metadata": {},
   "source": [
    "### Deleting features\n",
    "From the data frame, we notice 'Redlands', a land locked city is wrongly added as a port. We can remove it by calling the `edit_features()` method and passing the object id of the feature we want to be remove to the `deletes` parameter."
   ]
  },
  {
   "cell_type": "code",
   "execution_count": null,
   "metadata": {},
   "outputs": [],
   "source": [
    "# find object id for Redlands\n",
    "Redlands_feature = [f for f in ports_features if f.attributes['port_name'] == 'REDLANDS'][0]\n",
    "Redlands_objid = Redlands_feature.get_value('objectid')\n",
    "Redlands_objid"
   ]
  },
  {
   "cell_type": "code",
   "execution_count": null,
   "metadata": {},
   "outputs": [],
   "source": [
    "type(Redlands_objid)"
   ]
  },
  {
   "cell_type": "code",
   "execution_count": null,
   "metadata": {},
   "outputs": [],
   "source": [
    "# pass the object id as a string to the delete parameter\n",
    "delete_result = ports_flayer.edit_features(deletes=str(Redlands_objid))\n",
    "delete_result"
   ]
  },
  {
   "cell_type": "markdown",
   "metadata": {},
   "source": [
    "## Check results of edit operations\n",
    "We have successfully added, removed and edited features. Let us query the layer once again and display the resutls as a dataframe and verify them."
   ]
  },
  {
   "cell_type": "code",
   "execution_count": null,
   "metadata": {},
   "outputs": [],
   "source": [
    "ports_fset_edited = ports_flayer.query()\n",
    "ports_fset_edited.sdf"
   ]
  },
  {
   "cell_type": "markdown",
   "metadata": {},
   "source": [
    "Thus, we no longer see 'Redlands' which we deleted. We see a new objectid of 23 corresponding to Los Angeles that we added. Also the short_form of San Francisco is corrected to 'SFO'.\n",
    "\n",
    "The edits we performed on the features are persisted in the feature layer and will reflect in all clients accessing it."
   ]
  }
 ],
 "metadata": {
  "anaconda-cloud": {},
  "kernelspec": {
   "display_name": "Python 3",
   "language": "python",
   "name": "python3"
  },
  "language_info": {
   "codemirror_mode": {
    "name": "ipython",
    "version": 3
   },
   "file_extension": ".py",
   "mimetype": "text/x-python",
   "name": "python",
   "nbconvert_exporter": "python",
   "pygments_lexer": "ipython3",
   "version": "3.6.5"
  }
 },
 "nbformat": 4,
 "nbformat_minor": 1
}
